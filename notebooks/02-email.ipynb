{
 "cells": [
  {
   "cell_type": "markdown",
   "metadata": {
    "slideshow": {
     "slide_type": "slide"
    }
   },
   "source": [
    "# Email Data\n",
    "----"
   ]
  },
  {
   "cell_type": "markdown",
   "metadata": {
    "slideshow": {
     "slide_type": "slide"
    }
   },
   "source": [
    "## Understanding Email Data in the Context of Insider Threat\n",
    "**What are the features/properties of Email data that will inform modeling for unsual behaviour?**"
   ]
  },
  {
   "cell_type": "markdown",
   "metadata": {},
   "source": [
    "<img src=\"email-insider.jpg\" alt=\"Email\" width=\"25%\" />\n",
    "<figcaption>Image Credit: es.123rf.com.</figcaption>"
   ]
  },
  {
   "cell_type": "markdown",
   "metadata": {},
   "source": [
    "### Initial thoughts"
   ]
  },
  {
   "cell_type": "markdown",
   "metadata": {},
   "source": [
    "* Proportion of emails to outside is probaby small compared to inside traffic (how small is this?)\n",
    "\n",
    "* In addition to unusual traffic, we should also look at unusual send time. However, CERT suggests most IP is leaked during normal work hours.\n",
    "\n",
    "* Can we obtain a list of competitor accounts from organization?\n",
    "\n",
    "* Sending to a new non-org account, even for first time, is interesting."
   ]
  },
  {
   "cell_type": "markdown",
   "metadata": {},
   "source": [
    "First, let's set up our working environment including required libraries."
   ]
  },
  {
   "cell_type": "code",
   "execution_count": 54,
   "metadata": {
    "slideshow": {
     "slide_type": "subslide"
    }
   },
   "outputs": [],
   "source": [
    "# %load eda.py\n",
    "%matplotlib inline\n",
    "%config InlineBackend.figure_format = 'retina'\n",
    "import os\n",
    "import numpy as np\n",
    "import pandas as pd\n",
    "import dask.dataframe as dd\n",
    "import pickle\n",
    "import seaborn as sns             # for static plots\n",
    "import matplotlib.pyplot as plt\n",
    "from bqplot import *              # for interactive plots\n",
    "from ipywidgets import interact, interactive, fixed, interact_manual\n",
    "import ipywidgets as widgets\n",
    "fig_layout = widgets.Layout(width = \"100%\", height = \"600px\")\n",
    "sns.set_context('notebook', font_scale = 1.1)\n",
    "np.random.seed(12345)\n",
    "rc = {'xtick.labelsize': 40, 'ytick.labelsize': 40, 'axes.labelsize': 40, 'font.size': 40,\n",
    "      'lines.linewidth': 4.0, 'lines.markersize': 40, 'font.family': \"serif\", 'font.serif': \"cm\",\n",
    "      'savefig.dpi': 200, 'text.usetex': False, 'legend.fontsize': 40.0, 'axes.titlesize': 40, \n",
    "      \"figure.figsize\": [24, 16]}\n",
    "sns.set(rc = rc)\n",
    "sns.set_style(\"ticks\")\n",
    "from IPython.core.interactiveshell import InteractiveShell\n",
    "InteractiveShell.ast_node_interactivity = \"all\"\n",
    "from warnings import filterwarnings\n",
    "filterwarnings(\"ignore\")"
   ]
  },
  {
   "cell_type": "markdown",
   "metadata": {
    "slideshow": {
     "slide_type": "slide"
    }
   },
   "source": [
    "### Import the standardized data\n",
    "Import the standardized data and peform sanity checks to verify its consistency with the Haystax's core-data dictionary including:\n",
    "* required columns, and \n",
    "* correct data types."
   ]
  },
  {
   "cell_type": "code",
   "execution_count": 2,
   "metadata": {},
   "outputs": [],
   "source": [
    "# First, specify data source here\n",
    "hard_disk = \"/opt/usb/\"\n",
    "folder = \"cert/standardized/email\"\n",
    "file_type = \"*.parquet\" # may include csv, hdf, json, text, etc\n",
    "data_path = os.path.join(hard_disk, folder, file_type)"
   ]
  },
  {
   "cell_type": "code",
   "execution_count": 3,
   "metadata": {
    "slideshow": {
     "slide_type": "subslide"
    }
   },
   "outputs": [],
   "source": [
    "def import_data (path):\n",
    "    \"\"\"Import data from the source into a distributed dask dataframe.  \n",
    "    Then check whether data is standardized to Haystax's core-data-dictionary.\n",
    "    Then check whether the data types are correct i.e categorical, int, datetime, string \n",
    "    \"\"\"\n",
    "    try:\n",
    "        ddf = dd.read_parquet(path)\n",
    "    except IOError:\n",
    "        print(\"Cannot find this data source: \"+hard_disk+folder)\n",
    "        print(\"Contact David Jones for the correct data source\")\n",
    "        print(\"Quiting!\")\n",
    "        quit()\n",
    "\n",
    "\n",
    "    # Check if data is standardized to Haystax's core data dictionary    \n",
    "    required_columns = [\"record_id\", \"sender_employee_id\", \"sender_username\",\n",
    "                        \"subject\", \"timestamp\", \"number_of_attachments\", \n",
    "                        \"attachment_size\", \"email_text\", \"file_date\"]\n",
    "    try:\n",
    "        if not (ddf.columns == required_columns).all():\n",
    "            raise ValueError\n",
    "    except:\n",
    "        print(\"The columns in the data are not standardized.\")\n",
    "        print(\"Quiting!\")\n",
    "        print(\"Contact David Jones for Haystax's standard-core-data dictionary\")\n",
    "        quit() \n",
    "        \n",
    "    \n",
    "\n",
    "     \n",
    "        #     # Check if the columns are of the right data type i.e categorical, datetime, int, or string    \n",
    "#     required_data_types = [\"category\", \"category\", \"category\",\n",
    "#                         \"str\", \"datetime64[ns]\", \"int64\", \n",
    "#                         \"float\", \"str\", \"datetime64[ns]\"]\n",
    "    \n",
    "#     data_types = [ddf.record_id.dtype == 'category', \n",
    "#                   ddf.sender_employee_id.dtype == 'category',\n",
    "#                   ddf.sender_username.dtype == 'category',\n",
    "#                   ddf.subject.dtype == 'str',\n",
    "#                   ddf.timestamp.dtype == 'datetime64[ns]',\n",
    "#                   ddf.number_of_attachments.dtype == 'int64',\n",
    "#                   ddf.attachment_size.dtype == 'float',\n",
    "#                   ddf.email_text.dtype == 'str',\n",
    "#                   ddf.file_date.dtype == 'datetime64[ns]']\n",
    "#     data_types = [True, True, True, False, True, False, False, False, False]\n",
    "    \n",
    "#     try:\n",
    "#         if not (data_types == required_columns).all():\n",
    "#             raise ValueError\n",
    "#     except:\n",
    "#         print(\"The columns in the data are not of the correct data type.\")\n",
    "#         print(\"Quiting!\")\n",
    "#         print(\"Contact David Jones for Haystax's standard-core-data dictionary\")\n",
    "#         quit() \n",
    "\n",
    "    return ddf"
   ]
  },
  {
   "cell_type": "code",
   "execution_count": 4,
   "metadata": {},
   "outputs": [],
   "source": [
    "ddf = import_data(path = data_path)\n",
    "ddf.head().info()\n",
    "ddf.columns"
   ]
  },
  {
   "cell_type": "code",
   "execution_count": 128,
   "metadata": {
    "scrolled": true
   },
   "outputs": [
    {
     "name": "stdout",
     "output_type": "stream",
     "text": [
      "<class 'pandas.core.frame.DataFrame'>\n",
      "RangeIndex: 87291 entries, 0 to 87290\n",
      "Data columns (total 9 columns):\n",
      "record_id                87291 non-null category\n",
      "sender_employee_id       87291 non-null category\n",
      "sender_username          87291 non-null category\n",
      "subject                  87291 non-null object\n",
      "timestamp                87291 non-null datetime64[ns]\n",
      "number_of_attachments    20066 non-null object\n",
      "attachment_size          87291 non-null int64\n",
      "email_text               87291 non-null object\n",
      "file_date                87291 non-null object\n",
      "dtypes: category(3), datetime64[ns](1), int64(1), object(4)\n",
      "memory usage: 409.1+ MB\n"
     ]
    }
   ],
   "source": [
    "df = ddf.get_partition(n = 10).compute()\n",
    "df.info()"
   ]
  },
  {
   "cell_type": "code",
   "execution_count": 129,
   "metadata": {},
   "outputs": [],
   "source": [
    "# df.to_csv(os.path.join(hard_disk, folder, \"email_filtered.csv\"))\n",
    "ddf.npartitions\n",
    "ddf.divisions"
   ]
  },
  {
   "cell_type": "markdown",
   "metadata": {},
   "source": [
    "## What is the email attachment size?"
   ]
  },
  {
   "cell_type": "markdown",
   "metadata": {
    "extensions": {
     "jupyter_dashboards": {
      "version": 1,
      "views": {
       "grid_default": {
        "col": 8,
        "height": 4,
        "hidden": false,
        "row": 119,
        "width": 4
       },
       "report_default": {}
      }
     }
    }
   },
   "source": [
    "Let's visualize this data using `bqplot`."
   ]
  },
  {
   "cell_type": "code",
   "execution_count": 115,
   "metadata": {
    "scrolled": true
   },
   "outputs": [
    {
     "data": {
      "text/html": [
       "<div>\n",
       "<style scoped>\n",
       "    .dataframe tbody tr th:only-of-type {\n",
       "        vertical-align: middle;\n",
       "    }\n",
       "\n",
       "    .dataframe tbody tr th {\n",
       "        vertical-align: top;\n",
       "    }\n",
       "\n",
       "    .dataframe thead th {\n",
       "        text-align: right;\n",
       "    }\n",
       "</style>\n",
       "<table border=\"1\" class=\"dataframe\">\n",
       "  <thead>\n",
       "    <tr style=\"text-align: right;\">\n",
       "      <th></th>\n",
       "      <th>timestamp</th>\n",
       "      <th>attachment_size</th>\n",
       "    </tr>\n",
       "  </thead>\n",
       "  <tbody>\n",
       "    <tr>\n",
       "      <th>0</th>\n",
       "      <td>2010-02-09</td>\n",
       "      <td>12.347690</td>\n",
       "    </tr>\n",
       "    <tr>\n",
       "      <th>1</th>\n",
       "      <td>2010-02-10</td>\n",
       "      <td>15.199721</td>\n",
       "    </tr>\n",
       "    <tr>\n",
       "      <th>2</th>\n",
       "      <td>2010-02-11</td>\n",
       "      <td>18.015744</td>\n",
       "    </tr>\n",
       "    <tr>\n",
       "      <th>3</th>\n",
       "      <td>2010-02-12</td>\n",
       "      <td>15.658219</td>\n",
       "    </tr>\n",
       "  </tbody>\n",
       "</table>\n",
       "</div>"
      ],
      "text/plain": [
       "   timestamp  attachment_size\n",
       "0 2010-02-09        12.347690\n",
       "1 2010-02-10        15.199721\n",
       "2 2010-02-11        18.015744\n",
       "3 2010-02-12        15.658219"
      ]
     },
     "execution_count": 115,
     "metadata": {},
     "output_type": "execute_result"
    },
    {
     "name": "stdout",
     "output_type": "stream",
     "text": [
      "<class 'pandas.core.frame.DataFrame'>\n",
      "RangeIndex: 4 entries, 0 to 3\n",
      "Data columns (total 2 columns):\n",
      "timestamp          4 non-null datetime64[ns]\n",
      "attachment_size    4 non-null float64\n",
      "dtypes: datetime64[ns](1), float64(1)\n",
      "memory usage: 144.0 bytes\n"
     ]
    }
   ],
   "source": [
    "df_insider = df[df[\"sender_employee_id\"].isin([\"CDE1846\", \"HDB1666\", \"LIM1718\"])]\n",
    "per_month = df_insider.resample(rule = \"1d\", on = \"timestamp\").sum().reset_index()\n",
    "per_month[\"timestamp\"] = pd.to_datetime(emails_per_month[\"timestamp\"], format = \"%Y-%m-%d\")\n",
    "per_month.attachment_size = emails_per_month.attachment_size\n",
    "\n",
    "per_month[\"timestamp\"] = (emails_per_month[\"timestamp\"]\n",
    "                          .apply(lambda x: x.strftime('%Y-%m-%d'))\n",
    "                          .astype(\"datetime64[ns]\")\n",
    "                         )\n",
    "per_month.head()\n",
    "per_month.info()"
   ]
  },
  {
   "cell_type": "code",
   "execution_count": 1,
   "metadata": {},
   "outputs": [
    {
     "ename": "NameError",
     "evalue": "name 'DateScale' is not defined",
     "output_type": "error",
     "traceback": [
      "\u001b[0;31m---------------------------------------------------------------------------\u001b[0m",
      "\u001b[0;31mNameError\u001b[0m                                 Traceback (most recent call last)",
      "\u001b[0;32m<ipython-input-1-d8a2708ac98d>\u001b[0m in \u001b[0;36m<module>\u001b[0;34m()\u001b[0m\n\u001b[1;32m      1\u001b[0m \u001b[0mdate_fmt\u001b[0m \u001b[0;34m=\u001b[0m \u001b[0;34m\"%m-%d-%Y\"\u001b[0m\u001b[0;34m\u001b[0m\u001b[0m\n\u001b[0;32m----> 2\u001b[0;31m \u001b[0mxs\u001b[0m \u001b[0;34m=\u001b[0m \u001b[0mDateScale\u001b[0m\u001b[0;34m(\u001b[0m\u001b[0mdate_format\u001b[0m \u001b[0;34m=\u001b[0m \u001b[0mdate_fmt\u001b[0m\u001b[0;34m)\u001b[0m\u001b[0;34m\u001b[0m\u001b[0m\n\u001b[0m\u001b[1;32m      3\u001b[0m \u001b[0mys\u001b[0m \u001b[0;34m=\u001b[0m \u001b[0mLinearScale\u001b[0m\u001b[0;34m(\u001b[0m\u001b[0;34m)\u001b[0m\u001b[0;34m\u001b[0m\u001b[0m\n\u001b[1;32m      4\u001b[0m \u001b[0mx\u001b[0m \u001b[0;34m=\u001b[0m \u001b[0mper_month\u001b[0m\u001b[0;34m.\u001b[0m\u001b[0mtimestamp\u001b[0m\u001b[0;34m\u001b[0m\u001b[0m\n\u001b[1;32m      5\u001b[0m \u001b[0my\u001b[0m \u001b[0;34m=\u001b[0m \u001b[0mper_month\u001b[0m\u001b[0;34m.\u001b[0m\u001b[0mattachment_size\u001b[0m\u001b[0;34m\u001b[0m\u001b[0m\n",
      "\u001b[0;31mNameError\u001b[0m: name 'DateScale' is not defined"
     ]
    }
   ],
   "source": [
    "date_fmt = \"%m-%d-%Y\"\n",
    "xs = DateScale(date_format = date_fmt)\n",
    "ys = LinearScale()\n",
    "x = per_month.timestamp\n",
    "y = per_month.attachment_size\n",
    "\n",
    "bar_chart = Bars(x = x, y = y, \n",
    "                 scales = {'x': xs, 'y': ys}, \n",
    "                 colors = [\"blue\"],\n",
    "                 display_legend = True, \n",
    "                 labels = [\"Email\"]\n",
    "                )\n",
    "\n",
    "tt = Tooltip(fields = [\"x\", \"y\"], \n",
    "             formats = [\"\", \"0.2f\"], \n",
    "             labels = [\"Date\", \"Email Size\"]\n",
    "            )\n",
    "\n",
    "bar_chart.tooltip = tt\n",
    "bar_chart.selected_style = {\"fill\" : \"red\"}\n",
    "bar_chart.interactions = {\n",
    "    'legend_hover': 'highlight_axes',\n",
    "    'hover': 'tooltip', \n",
    "    'click': 'select',\n",
    "}\n",
    "\n",
    "x_ax = Axis(scale=xs, label='Days of the Year', grid_lines='solid')\n",
    "y_ax = Axis(scale=ys, orientation='vertical', tick_format='0.2f', \n",
    "            label='Number of Emails', grid_lines='solid')\n",
    "\n",
    "\n",
    "panzoom = PanZoom(scales={'x': [xs], 'y': [ys]})\n",
    "\n",
    "fig1 = Figure(marks=[bar_chart], \n",
    "              axes=[x_ax, y_ax], \n",
    "              animation_duration=5000, \n",
    "              layout = fig_layout, \n",
    "              background_style={'fill': 'aliceblue'}, \n",
    "              title = \"Number of Emails sent Daily\", \n",
    "              legend_location = \"top-right\"\n",
    "             )\n",
    "    \n",
    "\n",
    "widgets.VBox([fig1])"
   ]
  },
  {
   "cell_type": "markdown",
   "metadata": {
    "extensions": {
     "jupyter_dashboards": {
      "version": 1,
      "views": {
       "grid_default": {
        "col": 0,
        "height": 4,
        "hidden": false,
        "row": 135,
        "width": 12
       },
       "report_default": {}
      }
     }
    }
   },
   "source": [
    "Now let's look at the case where the insider sent email IP from their employee account to their home account. Visualizing this data shows some interesting trends towards the end of the analysis period. The attachment size increases drastically in March and April of 2011."
   ]
  },
  {
   "cell_type": "code",
   "execution_count": 132,
   "metadata": {
    "extensions": {
     "jupyter_dashboards": {
      "version": 1,
      "views": {
       "grid_default": {
        "hidden": true
       },
       "report_default": {}
      }
     }
    }
   },
   "outputs": [],
   "source": [
    "df_insider_non_org = df_insider[~df_insider['to'].str.contains('dtaa.com')]\n",
    "df_insider_ewing = df_insider_non_org[df_insider_non_org['to'] == 'Ewing_Carlos@comcast.net']\n",
    "df1 = df_insider_ewing.resample('1d', on='timestamp').sum().reset_index()"
   ]
  },
  {
   "cell_type": "code",
   "execution_count": null,
   "metadata": {
    "extensions": {
     "jupyter_dashboards": {
      "version": 1,
      "views": {
       "grid_default": {
        "hidden": true
       },
       "report_default": {}
      }
     }
    }
   },
   "outputs": [],
   "source": [
    "df[\"ds\"] = df[\"ds\"].apply(lambda x: x.strftime('%Y-%m')).astype(str)"
   ]
  },
  {
   "cell_type": "code",
   "execution_count": null,
   "metadata": {
    "extensions": {
     "jupyter_dashboards": {
      "version": 1,
      "views": {
       "grid_default": {
        "col": 0,
        "height": 9,
        "hidden": false,
        "row": 139,
        "width": 4
       },
       "report_default": {}
      }
     }
    }
   },
   "outputs": [],
   "source": [
    "fig, ax = plt.subplots()\n",
    "sns.barplot(data = df, x = \"ds\", y = \"y\", color = \"blue\", saturation = .5)\n",
    "ax.set_xticklabels(labels = df.ds, rotation = 45)\n",
    "ax.set_xlabel('Time')\n",
    "ax.set_ylabel('Total size of emails in GB');"
   ]
  },
  {
   "cell_type": "code",
   "execution_count": null,
   "metadata": {},
   "outputs": [],
   "source": [
    "xs = LinearScale()\n",
    "ys = LinearScale()\n",
    "x = df.index\n",
    "y = df.attachment_size/1e6\n",
    "\n",
    "tt = Tooltip(fields = [\"index\", \"name\"], formats = [\"\", \"0.2f\"], labels = [\"User ID\", \"Email Size\"])\n",
    "\n",
    "scatter_chart = Scatter(x=x, y=y, scales={'x': xs, 'y': ys}, colors=['red'], \n",
    "            tooltip = tt, display_legend = False, labels = [\"email\"], interactions = {\"hover\" : \"tooltip\"})\n",
    "\n",
    "x_ax = Axis(scale=xs, label='x', grid_lines='solid')\n",
    "y_ax = Axis(scale=ys, orientation='vertical', tick_format='0.2f', \n",
    "            label='Email attachment size (GB)', grid_lines='solid')\n",
    "\n",
    "# panzoom = PanZoom(scales={'x': [xs], 'y': [ys]})\n",
    "Figure(marks=[scatter_chart], axes=[x_ax, y_ax], animation_duration=1000, \n",
    "      title = \"Email attachment size\")"
   ]
  },
  {
   "cell_type": "markdown",
   "metadata": {},
   "source": [
    "## What is the email frequency?\n"
   ]
  },
  {
   "cell_type": "code",
   "execution_count": null,
   "metadata": {},
   "outputs": [],
   "source": [
    "xs = DateScale()\n",
    "ys = LinearScale()\n",
    "x = emails_per_month.timestamp\n",
    "y = emails_per_month.attachment_size/1e6\n",
    "\n",
    "bar_chart = Bars(x=x, y=y, scales={'x': xs, 'y': ys}, colors=['red'], \n",
    "            tooltip = tt, display_legend = False, labels = [\"email\"], interactions = {\"hover\" : \"tooltip\"})\n",
    "\n",
    "x_ax = Axis(scale=xs, label='Months of the Year', tick_format='%b-%d', grid_lines='solid')\n",
    "y_ax = Axis(scale=ys, orientation='vertical', tick_format='0.2f', \n",
    "            label='Number of Emails', grid_lines='solid')\n",
    "\n",
    "# tt = Tooltip(fields = [\"index\", \"name\"], formats = [\"\", \"0.2f\"], labels = [\"User ID\", \"Email Size\"])\n",
    "# panzoom = PanZoom(scales={'x': [xs], 'y': [ys]})\n",
    "\n",
    "Figure(marks=[bar_chart], axes=[x_ax, y_ax], animation_duration=1000, \n",
    "      title = \"Number of Emails sent Monthly\")"
   ]
  }
 ],
 "metadata": {
  "kernelspec": {
   "display_name": "Python 3",
   "language": "python",
   "name": "python3"
  },
  "language_info": {
   "codemirror_mode": {
    "name": "ipython",
    "version": 3
   },
   "file_extension": ".py",
   "mimetype": "text/x-python",
   "name": "python",
   "nbconvert_exporter": "python",
   "pygments_lexer": "ipython3",
   "version": "3.6.3"
  },
  "toc": {
   "nav_menu": {},
   "number_sections": true,
   "sideBar": true,
   "skip_h1_title": false,
   "title_cell": "Table of Contents",
   "title_sidebar": "Contents",
   "toc_cell": false,
   "toc_position": {
    "height": "calc(100% - 180px)",
    "left": "10px",
    "top": "150px",
    "width": "165px"
   },
   "toc_section_display": true,
   "toc_window_display": true
  },
  "widgets": {
   "application/vnd.jupyter.widget-state+json": {
    "state": {
     "0044a33ffc1f4847a641d4755150f67a": {
      "model_module": "bqplot",
      "model_module_version": "^0.3.6",
      "model_name": "FigureModel",
      "state": {
       "_dom_classes": [],
       "animation_duration": 1000,
       "axes": [
        "IPY_MODEL_d2cbb578693b465eb8fa65c0147a763a",
        "IPY_MODEL_b6deec1d216d4864b72c837cc80533f5"
       ],
       "background_style": {
        "fill": "blueviolet"
       },
       "layout": "IPY_MODEL_cef53def6f6243ba9c3e1d89d68543aa",
       "marks": [
        "IPY_MODEL_9c9c990c5d674bc289d64095fb53f503"
       ],
       "max_aspect_ratio": 6,
       "scale_x": "IPY_MODEL_7033b2f41cc7435cb4b29440d3b8f7ec",
       "scale_y": "IPY_MODEL_7972b0e935df4ee59d6b4bb55ee4569f",
       "title": "Number of Emails sent Daily"
      }
     },
     "0052884b7ce149378954670321d85374": {
      "model_module": "bqplot",
      "model_module_version": "^0.3.6",
      "model_name": "FigureModel",
      "state": {
       "_dom_classes": [],
       "animation_duration": 1000,
       "axes": [
        "IPY_MODEL_1c5bcd7ae9ea4a5ba01d2c663cd7f1bf",
        "IPY_MODEL_0a4890b724664b5391334c4678c59c4b"
       ],
       "layout": "IPY_MODEL_c5a92e6cc4b44c30ba8c617734d368b3",
       "marks": [
        "IPY_MODEL_622ae4bde80e4502be74746137552a6f"
       ],
       "max_aspect_ratio": 6,
       "scale_x": "IPY_MODEL_23257e201e004cab879a296d04128b3a",
       "scale_y": "IPY_MODEL_d457189ae9264be7be43d0e50fde0f5a",
       "title": "Number of Emails sent Daily"
      }
     },
     "00c37235ce704e93b0d1428f76e7dcf2": {
      "model_module": "bqplot",
      "model_module_version": "^0.3.6",
      "model_name": "BarsModel",
      "state": {
       "color": {
        "type": null,
        "values": null
       },
       "colors": [
        "blue"
       ],
       "interactions": {
        "click": "select",
        "hover": "tooltip",
        "legend_hover": "highlight_axes"
       },
       "labels": [
        "Email"
       ],
       "scales": {
        "x": "IPY_MODEL_fafb622c8c4748898883a87606291133",
        "y": "IPY_MODEL_07cbb73d850a47a8a3332d3152393b5c"
       },
       "selected": [
        0
       ],
       "selected_style": {
        "fill": "red"
       },
       "tooltip": "IPY_MODEL_10d8e61d2cce4c148a22563577a63517",
       "x": {
        "type": "date",
        "values": [
         "2010-02-09T00:00:00.000000",
         "2010-02-10T00:00:00.000000",
         "2010-02-11T00:00:00.000000",
         "2010-02-12T00:00:00.000000"
        ]
       },
       "y": {
        "type": "float",
        "values": [
         12.34769,
         5.936973,
         2.56502,
         0.979065
        ]
       }
      }
     },
     "0105344681374441b095a5a6b851efbc": {
      "model_module": "bqplot",
      "model_module_version": "^0.3.6",
      "model_name": "PanZoomModel",
      "state": {
       "scales": {
        "x": [
         "IPY_MODEL_c07496180bf74b6eba46c49cdcf13019"
        ],
        "y": [
         "IPY_MODEL_604f828f8e694c8d8c03be4b1ba34c50"
        ]
       }
      }
     },
     "016be72110a949519c8cd01f400d7ac9": {
      "model_module": "bqplot",
      "model_module_version": "^0.3.6",
      "model_name": "DateScaleModel",
      "state": {}
     },
     "01a0381494274630874359f9d427f156": {
      "model_module": "@jupyter-widgets/controls",
      "model_module_version": "1.2.0",
      "model_name": "VBoxModel",
      "state": {
       "children": [
        "IPY_MODEL_7eaa357bd0414f0c85f47c9e07db31b7"
       ],
       "layout": "IPY_MODEL_b3ab705431204bf8add0a8968e498519"
      }
     },
     "020b1c1e21be4c63ad50006c63bdbf42": {
      "model_module": "bqplot",
      "model_module_version": "^0.3.6",
      "model_name": "AxisModel",
      "state": {
       "label": "Days of the Year",
       "scale": "IPY_MODEL_cd20f8ed7a784c5cba0f27d6082860ba",
       "side": "bottom",
       "tick_format": "%Y-%m-%d",
       "tick_values": {
        "type": null,
        "values": null
       }
      }
     },
     "02144f8e8e634dd1a101c076816f59c8": {
      "model_module": "bqplot",
      "model_module_version": "^0.3.6",
      "model_name": "DateScaleModel",
      "state": {}
     },
     "0260c0cb810c4fd8b6c26b5a9e4a85ee": {
      "model_module": "bqplot",
      "model_module_version": "^0.3.6",
      "model_name": "PanZoomModel",
      "state": {
       "scales": {
        "x": [
         "IPY_MODEL_963a6cf5b7694526b816c8714630c813"
        ],
        "y": [
         "IPY_MODEL_f28d42952d244766af1004ad08379f10"
        ]
       }
      }
     },
     "02b0407a3e0f4311a5df0b8f47b59e5f": {
      "model_module": "@jupyter-widgets/controls",
      "model_module_version": "1.2.0",
      "model_name": "VBoxModel",
      "state": {
       "children": [
        "IPY_MODEL_fb5bee4be58249dc957ee46b672bc73a"
       ],
       "layout": "IPY_MODEL_4993aca3157742dfa9fa9077764638e6"
      }
     },
     "0305d33faff54d98b4c3feebeec623f4": {
      "model_module": "bqplot",
      "model_module_version": "^0.3.6",
      "model_name": "TooltipModel",
      "state": {
       "fields": [
        "x",
        "y"
       ],
       "formats": [
        "",
        "0.2f"
       ],
       "labels": [
        "Date",
        "Email Size"
       ],
       "layout": "IPY_MODEL_f2b6e8c514dd444ab1b189bde618b18b"
      }
     },
     "035b7f15fccd454f9f6adc6113e32758": {
      "model_module": "bqplot",
      "model_module_version": "^0.3.6",
      "model_name": "BarsModel",
      "state": {
       "color": {
        "type": null,
        "values": null
       },
       "colors": [
        "blue"
       ],
       "interactions": {
        "click": "select",
        "hover": "tooltip",
        "legend_hover": "highlight_axes"
       },
       "labels": [
        "Email"
       ],
       "scales": {
        "x": "IPY_MODEL_841a9c8d63634cf18e03ad00a58498a5",
        "y": "IPY_MODEL_d87a63f8d9fd40e99c3c7cabf7690a8a"
       },
       "selected": [
        0
       ],
       "selected_style": {
        "fill": "red"
       },
       "tooltip": "IPY_MODEL_099bc3ba0a274c7abb17e3000ba86299",
       "x": {
        "type": "date",
        "values": [
         "2010-02-09T00:00:00.000000",
         "2010-02-10T00:00:00.000000",
         "2010-02-11T00:00:00.000000",
         "2010-02-12T00:00:00.000000"
        ]
       },
       "y": {
        "type": "float",
        "values": [
         12.34769,
         5.936973,
         2.56502,
         0.979065
        ]
       }
      }
     },
     "03b511eed15148c5aede48f03ca49908": {
      "model_module": "bqplot",
      "model_module_version": "^0.3.6",
      "model_name": "LinearScaleModel",
      "state": {
       "stabilized": false
      }
     },
     "03e0094f73514071aaf6c50b0636d8a0": {
      "model_module": "bqplot",
      "model_module_version": "^0.3.6",
      "model_name": "BarsModel",
      "state": {
       "color": {
        "type": null,
        "values": null
       },
       "colors": [
        "blue"
       ],
       "interactions": {
        "click": "select",
        "hover": "tooltip",
        "legend_hover": "highlight_axes"
       },
       "labels": [
        "Email"
       ],
       "padding": 0.5,
       "scales": {
        "x": "IPY_MODEL_21c78d54fdce4ebba15dbac7086a59e5",
        "y": "IPY_MODEL_582ba2652e8a4933aa90340993a2a718"
       },
       "selected": [],
       "selected_style": {
        "fill": "red"
       },
       "tooltip": "IPY_MODEL_a98bfb5a54854b0daf17add5f08bffc4",
       "x": {
        "type": "date",
        "values": [
         "2010-02-09T00:00:00.000000",
         "2010-02-10T00:00:00.000000",
         "2010-02-11T00:00:00.000000",
         "2010-02-12T00:00:00.000000"
        ]
       },
       "y": {
        "type": "float",
        "values": [
         12.34769,
         5.936973,
         2.56502,
         0.979065
        ]
       }
      }
     },
     "040e867042cd40c69262897582895aaf": {
      "model_module": "bqplot",
      "model_module_version": "^0.3.6",
      "model_name": "TooltipModel",
      "state": {
       "fields": [
        "x",
        "y"
       ],
       "formats": [
        "",
        "0.2f"
       ],
       "labels": [
        "Date",
        "Email Size"
       ],
       "layout": "IPY_MODEL_e0168791528b49f2a8d61f42e8eb39b0"
      }
     },
     "0425f05281c24447a13f6b3e357d5713": {
      "model_module": "bqplot",
      "model_module_version": "^0.3.6",
      "model_name": "AxisModel",
      "state": {
       "label": "Number of Emails",
       "orientation": "vertical",
       "scale": "IPY_MODEL_c835913bc53140bdba727043bc630aa4",
       "side": "left",
       "tick_format": "0.2f",
       "tick_values": {
        "type": null,
        "values": null
       }
      }
     },
     "046b1f39a3f747a9abd5c825155890dc": {
      "model_module": "bqplot",
      "model_module_version": "^0.3.6",
      "model_name": "PanZoomModel",
      "state": {
       "scales": {
        "x": [
         "IPY_MODEL_122c63334dd040d4a5f5e4fa7fad119a"
        ],
        "y": [
         "IPY_MODEL_74ca02c32b8b45e382fefc82e891f429"
        ]
       }
      }
     },
     "046fe4e96bde4d60a3d8651cc6360a89": {
      "model_module": "@jupyter-widgets/controls",
      "model_module_version": "1.2.0",
      "model_name": "VBoxModel",
      "state": {
       "children": [
        "IPY_MODEL_1a3ebe89aa1f463eb7f312662291a4f8"
       ],
       "layout": "IPY_MODEL_ec951bd8c8c2403eb112842885a5219f"
      }
     },
     "04721345e24b4cd98be1834c314b4a2b": {
      "model_module": "@jupyter-widgets/base",
      "model_module_version": "1.0.0",
      "model_name": "LayoutModel",
      "state": {}
     },
     "049222c77f394901b253679cff90cbca": {
      "model_module": "bqplot",
      "model_module_version": "^0.3.6",
      "model_name": "LinearScaleModel",
      "state": {
       "stabilized": false
      }
     },
     "04b6c9ca372f4456a6a612fd461ad853": {
      "model_module": "@jupyter-widgets/base",
      "model_module_version": "1.0.0",
      "model_name": "LayoutModel",
      "state": {}
     },
     "04bc62ede98649feba73c625023d65b6": {
      "model_module": "bqplot",
      "model_module_version": "^0.3.6",
      "model_name": "AxisModel",
      "state": {
       "label": "Number of Emails",
       "orientation": "vertical",
       "scale": "IPY_MODEL_47b2007de7354e57adb33f04989305ce",
       "side": "left",
       "tick_format": "0.2f",
       "tick_values": {
        "type": null,
        "values": null
       }
      }
     },
     "050c41e1a6ae4efda3a9d32250d66d84": {
      "model_module": "@jupyter-widgets/base",
      "model_module_version": "1.0.0",
      "model_name": "LayoutModel",
      "state": {}
     },
     "056abe0f8edc4730a699272c830d0157": {
      "model_module": "bqplot",
      "model_module_version": "^0.3.6",
      "model_name": "LinearScaleModel",
      "state": {
       "allow_padding": false,
       "max": 1,
       "min": 0,
       "stabilized": false
      }
     },
     "05d790bdd37e46ccae3ab0fe7dcad0d1": {
      "model_module": "bqplot",
      "model_module_version": "^0.3.6",
      "model_name": "AxisModel",
      "state": {
       "label": "Number of Emails",
       "orientation": "vertical",
       "scale": "IPY_MODEL_9c02563a1f7e439ba5601357d9287fe0",
       "side": "left",
       "tick_format": "0.2f",
       "tick_values": {
        "type": null,
        "values": null
       }
      }
     },
     "0608fc5cc34240e398cc3fce57517d02": {
      "model_module": "bqplot",
      "model_module_version": "^0.3.6",
      "model_name": "DateScaleModel",
      "state": {}
     },
     "0647a27b0a0641f3bd639a051674cf0e": {
      "model_module": "bqplot",
      "model_module_version": "^0.3.6",
      "model_name": "BarsModel",
      "state": {
       "color": {
        "type": null,
        "values": null
       },
       "colors": [
        "blue"
       ],
       "interactions": {
        "click": "select",
        "hover": "tooltip",
        "legend_hover": "highlight_axes"
       },
       "labels": [
        "Email"
       ],
       "scales": {
        "x": "IPY_MODEL_2d281f8a509046b18087e46812ec5098",
        "y": "IPY_MODEL_26fdd78661b04544ad5f62053cae485c"
       },
       "selected": [],
       "selected_style": {
        "fill": "red"
       },
       "tooltip": "IPY_MODEL_f7cfbfd41813489a99b96e9ef85cbe9c",
       "x": {
        "type": "date",
        "values": [
         "2010-02-09T00:00:00.000000",
         "2010-02-10T00:00:00.000000",
         "2010-02-11T00:00:00.000000",
         "2010-02-12T00:00:00.000000"
        ]
       },
       "y": {
        "type": "float",
        "values": [
         12.34769,
         5.936973,
         2.56502,
         0.979065
        ]
       }
      }
     },
     "06749e2c31b5451dbda945367fd6db1e": {
      "model_module": "@jupyter-widgets/base",
      "model_module_version": "1.0.0",
      "model_name": "LayoutModel",
      "state": {}
     },
     "06a44b4f88a94718b3544e01a2e622e7": {
      "model_module": "bqplot",
      "model_module_version": "^0.3.6",
      "model_name": "LinearScaleModel",
      "state": {
       "allow_padding": false,
       "max": 1,
       "min": 0,
       "stabilized": false
      }
     },
     "06c1ee66c0f4449587914011b978db23": {
      "model_module": "@jupyter-widgets/base",
      "model_module_version": "1.0.0",
      "model_name": "LayoutModel",
      "state": {}
     },
     "073864753f464b19b7bd9e38f1eafb0b": {
      "model_module": "bqplot",
      "model_module_version": "^0.3.6",
      "model_name": "PanZoomModel",
      "state": {
       "scales": {
        "x": [
         "IPY_MODEL_2123781f604c441797dcdcf2aa6b6044"
        ],
        "y": [
         "IPY_MODEL_9ac1acfa2d494f4c976c2ef1347f8535"
        ]
       }
      }
     },
     "07b8638d391b4e85bb4b3fcabdc91ec2": {
      "model_module": "bqplot",
      "model_module_version": "^0.3.6",
      "model_name": "LinearScaleModel",
      "state": {
       "stabilized": false
      }
     },
     "07cbb73d850a47a8a3332d3152393b5c": {
      "model_module": "bqplot",
      "model_module_version": "^0.3.6",
      "model_name": "LinearScaleModel",
      "state": {
       "stabilized": false
      }
     },
     "07d3df3c16c741f9b3539ef5c232bcea": {
      "model_module": "bqplot",
      "model_module_version": "^0.3.6",
      "model_name": "DateScaleModel",
      "state": {}
     },
     "080a5efbd5124979932d27c05102b7fa": {
      "model_module": "bqplot",
      "model_module_version": "^0.3.6",
      "model_name": "AxisModel",
      "state": {
       "label": "Days of the Year",
       "scale": "IPY_MODEL_643fb801a272470f820365b83a459f14",
       "side": "bottom",
       "tick_format": "%Y-%m-%d",
       "tick_values": {
        "type": null,
        "values": null
       }
      }
     },
     "085e11aa231b485793787f53de03d444": {
      "model_module": "bqplot",
      "model_module_version": "^0.3.6",
      "model_name": "FigureModel",
      "state": {
       "_dom_classes": [],
       "animation_duration": 5000,
       "axes": [
        "IPY_MODEL_998cecb737a8445bbb6ac765055d9552",
        "IPY_MODEL_379dea10cd2f4763b34d47bd3d73987e"
       ],
       "background_style": {
        "fill": "aliceblue"
       },
       "layout": "IPY_MODEL_cef53def6f6243ba9c3e1d89d68543aa",
       "marks": [
        "IPY_MODEL_30d89dc51eff40f1b61c0d7b39e0da0a"
       ],
       "max_aspect_ratio": 6,
       "scale_x": "IPY_MODEL_b1f15be09e6d43c6929868d4063b2c7f",
       "scale_y": "IPY_MODEL_4aaeb0dd01c3410c993cea9abbe78d47",
       "title": "Number of Emails sent Daily"
      }
     },
     "085fda78430641f9a1bc69f0cc89031d": {
      "model_module": "@jupyter-widgets/base",
      "model_module_version": "1.0.0",
      "model_name": "LayoutModel",
      "state": {}
     },
     "086ae3bfee8e4242aeeff49ad9b5d6a3": {
      "model_module": "bqplot",
      "model_module_version": "^0.3.6",
      "model_name": "LinearScaleModel",
      "state": {
       "allow_padding": false,
       "max": 1,
       "min": 0,
       "stabilized": false
      }
     },
     "08cf3ddad1c84ac6bd03a35a6d974454": {
      "model_module": "bqplot",
      "model_module_version": "^0.3.6",
      "model_name": "DateScaleModel",
      "state": {}
     },
     "092e7e94efbe4da0b7cf73920edaebaa": {
      "model_module": "bqplot",
      "model_module_version": "^0.3.6",
      "model_name": "DateScaleModel",
      "state": {}
     },
     "099bc3ba0a274c7abb17e3000ba86299": {
      "model_module": "bqplot",
      "model_module_version": "^0.3.6",
      "model_name": "TooltipModel",
      "state": {
       "fields": [
        "x",
        "y"
       ],
       "formats": [
        "",
        "0.2f"
       ],
       "labels": [
        "Date",
        "Email Size"
       ],
       "layout": "IPY_MODEL_6cce5c223a7e4e278246cbf07ad0dfdc"
      }
     },
     "09afb80265ad4733b5489024f7c96e41": {
      "model_module": "@jupyter-widgets/base",
      "model_module_version": "1.0.0",
      "model_name": "LayoutModel",
      "state": {
       "min_width": "125px"
      }
     },
     "0a2901022c10469ea8fa4dd34bf5be7d": {
      "model_module": "@jupyter-widgets/base",
      "model_module_version": "1.0.0",
      "model_name": "LayoutModel",
      "state": {
       "min_width": "125px"
      }
     },
     "0a4890b724664b5391334c4678c59c4b": {
      "model_module": "bqplot",
      "model_module_version": "^0.3.6",
      "model_name": "AxisModel",
      "state": {
       "label": "Number of Emails",
       "orientation": "vertical",
       "scale": "IPY_MODEL_881cee07476d4af69613825c468f63d8",
       "side": "left",
       "tick_format": "0.2f",
       "tick_values": {
        "type": null,
        "values": null
       }
      }
     },
     "0a5cca3028234a25a59653348d290ab5": {
      "model_module": "@jupyter-widgets/controls",
      "model_module_version": "1.2.0",
      "model_name": "VBoxModel",
      "state": {
       "children": [
        "IPY_MODEL_3a3e67bd2c0c4be18044644006cdf7a1"
       ],
       "layout": "IPY_MODEL_c721b6bc3bb94d1b96fa73cbabdd6c40"
      }
     },
     "0aa786b4f879491fad67680ce7e41c86": {
      "model_module": "bqplot",
      "model_module_version": "^0.3.6",
      "model_name": "LinearScaleModel",
      "state": {
       "allow_padding": false,
       "max": 1,
       "min": 0,
       "stabilized": false
      }
     },
     "0ad3fb2fa3bf4e8eabe4f5864dc06556": {
      "model_module": "bqplot",
      "model_module_version": "^0.3.6",
      "model_name": "LinearScaleModel",
      "state": {
       "allow_padding": false,
       "max": 1,
       "min": 0,
       "stabilized": false
      }
     },
     "0be3d67b6b83428ebe6a4b8eb6623618": {
      "model_module": "bqplot",
      "model_module_version": "^0.3.6",
      "model_name": "PanZoomModel",
      "state": {
       "scales": {
        "x": [
         "IPY_MODEL_303563a2592f4db5b78e173341fc1205"
        ],
        "y": [
         "IPY_MODEL_e676814d6e9e4cfaaec719be18cd265f"
        ]
       }
      }
     },
     "0c22d5f4e8e94d65b07de06e292969a8": {
      "model_module": "@jupyter-widgets/base",
      "model_module_version": "1.0.0",
      "model_name": "LayoutModel",
      "state": {}
     },
     "0cae4bf672fd415a8b5e9cddee928f43": {
      "model_module": "bqplot",
      "model_module_version": "^0.3.6",
      "model_name": "AxisModel",
      "state": {
       "label": "Number of Emails",
       "orientation": "vertical",
       "scale": "IPY_MODEL_69c5516e6e2e40ceb0970a81d3df1ea4",
       "side": "left",
       "tick_format": "0.2f",
       "tick_values": {
        "type": null,
        "values": null
       }
      }
     },
     "0d13a56cee2c4f32a4200ed0a9f0dbe9": {
      "model_module": "bqplot",
      "model_module_version": "^0.3.6",
      "model_name": "LinearScaleModel",
      "state": {
       "allow_padding": false,
       "max": 1,
       "min": 0,
       "stabilized": false
      }
     },
     "0d1e03d7bb1f49f9a4dde5e114361675": {
      "model_module": "@jupyter-widgets/controls",
      "model_module_version": "1.2.0",
      "model_name": "VBoxModel",
      "state": {
       "children": [
        "IPY_MODEL_0052884b7ce149378954670321d85374"
       ],
       "layout": "IPY_MODEL_d212421ba5b041aa9f10970ae7468df6"
      }
     },
     "0d29b322010e44f0b881c1d70252109a": {
      "model_module": "@jupyter-widgets/base",
      "model_module_version": "1.0.0",
      "model_name": "LayoutModel",
      "state": {
       "height": "100%",
       "width": "100%"
      }
     },
     "0d5f819958ae44268f0a9b0ef18f752b": {
      "model_module": "bqplot",
      "model_module_version": "^0.3.6",
      "model_name": "TooltipModel",
      "state": {
       "fields": [
        "x",
        "y"
       ],
       "formats": [
        "",
        "0.2f"
       ],
       "labels": [
        "Date",
        "Email Size"
       ],
       "layout": "IPY_MODEL_3d9e4dca12384beaa10c5e05c09cd111"
      }
     },
     "0db5346c93ed4fcaadd8bcc9b07a8244": {
      "model_module": "bqplot",
      "model_module_version": "^0.3.6",
      "model_name": "LinearScaleModel",
      "state": {
       "stabilized": false
      }
     },
     "0e3c972bc858448482dd8ecf12ef3035": {
      "model_module": "bqplot",
      "model_module_version": "^0.3.6",
      "model_name": "AxisModel",
      "state": {
       "label": "Number of Emails",
       "orientation": "vertical",
       "scale": "IPY_MODEL_7cea1827a668409d972d8253475fff5b",
       "side": "left",
       "tick_format": "0.2f",
       "tick_values": {
        "type": null,
        "values": null
       }
      }
     },
     "0e74cdb43d47449c895337382e24a359": {
      "model_module": "bqplot",
      "model_module_version": "^0.3.6",
      "model_name": "LinearScaleModel",
      "state": {
       "allow_padding": false,
       "max": 1,
       "min": 0,
       "stabilized": false
      }
     },
     "0ea3a23acabf4f72a0ca3136af431a7c": {
      "model_module": "@jupyter-widgets/controls",
      "model_module_version": "1.2.0",
      "model_name": "VBoxModel",
      "state": {
       "children": [
        "IPY_MODEL_5b37bb7c7aa145fa88e255ccd020c9b0"
       ],
       "layout": "IPY_MODEL_6aa39220fc62479c9c19639242639f84"
      }
     },
     "0ed016488da7420f95955daea9221c48": {
      "model_module": "bqplot",
      "model_module_version": "^0.3.6",
      "model_name": "TooltipModel",
      "state": {
       "fields": [
        "x",
        "y"
       ],
       "formats": [
        "",
        "0.2f"
       ],
       "labels": [
        "Date",
        "Email Size"
       ],
       "layout": "IPY_MODEL_81d9b01304744c17affc2acac6f91291"
      }
     },
     "0eea9e849f0b4c0188cdd9c1b29d19af": {
      "model_module": "@jupyter-widgets/controls",
      "model_module_version": "1.2.0",
      "model_name": "VBoxModel",
      "state": {
       "children": [
        "IPY_MODEL_b1784a02dfa14bd0b522940ee18e78d9"
       ],
       "layout": "IPY_MODEL_06749e2c31b5451dbda945367fd6db1e"
      }
     },
     "0f1bf1ec0968440181d8939afa47bba0": {
      "model_module": "bqplot",
      "model_module_version": "^0.3.6",
      "model_name": "LinearScaleModel",
      "state": {
       "allow_padding": false,
       "max": 1,
       "min": 0,
       "stabilized": false
      }
     },
     "103bf058402f4734a7d65230c25f17cc": {
      "model_module": "bqplot",
      "model_module_version": "^0.3.6",
      "model_name": "LinearScaleModel",
      "state": {
       "allow_padding": false,
       "max": 1,
       "min": 0,
       "stabilized": false
      }
     },
     "1057f4f48d434172a7f31cf2b9a61172": {
      "model_module": "bqplot",
      "model_module_version": "^0.3.6",
      "model_name": "LinearScaleModel",
      "state": {
       "allow_padding": false,
       "max": 1,
       "min": 0,
       "stabilized": false
      }
     },
     "10d8e61d2cce4c148a22563577a63517": {
      "model_module": "bqplot",
      "model_module_version": "^0.3.6",
      "model_name": "TooltipModel",
      "state": {
       "fields": [
        "x",
        "y"
       ],
       "formats": [
        "",
        "0.2f"
       ],
       "labels": [
        "Date",
        "Email Size"
       ],
       "layout": "IPY_MODEL_50f0f34063ec4c6d8a92d1c03eac64a3"
      }
     },
     "1182bd4ed9204e82b60d8d92cd0117df": {
      "model_module": "bqplot",
      "model_module_version": "^0.3.6",
      "model_name": "AxisModel",
      "state": {
       "label": "Number of Emails",
       "orientation": "vertical",
       "scale": "IPY_MODEL_0db5346c93ed4fcaadd8bcc9b07a8244",
       "side": "left",
       "tick_format": "0.2f",
       "tick_values": {
        "type": null,
        "values": null
       }
      }
     },
     "11c664364f0b451a9643005c859b9838": {
      "model_module": "bqplot",
      "model_module_version": "^0.3.6",
      "model_name": "DateScaleModel",
      "state": {}
     },
     "1225a0f5a50d4bfea0a9b18b371ba26f": {
      "model_module": "bqplot",
      "model_module_version": "^0.3.6",
      "model_name": "LinearScaleModel",
      "state": {
       "allow_padding": false,
       "max": 1,
       "min": 0,
       "stabilized": false
      }
     },
     "122c63334dd040d4a5f5e4fa7fad119a": {
      "model_module": "bqplot",
      "model_module_version": "^0.3.6",
      "model_name": "DateScaleModel",
      "state": {}
     },
     "122f022b160a469b8a844daca0f22702": {
      "model_module": "bqplot",
      "model_module_version": "^0.3.6",
      "model_name": "BarsModel",
      "state": {
       "color": {
        "type": null,
        "values": null
       },
       "colors": [
        "blue"
       ],
       "interactions": {
        "click": "select",
        "hover": "tooltip",
        "legend_hover": "highlight_axes"
       },
       "labels": [
        "Email"
       ],
       "scales": {
        "x": "IPY_MODEL_948fc86e10614a788dbeccc7d1d10b88",
        "y": "IPY_MODEL_c1d3f01142ac42e1831f72414d74f2a7"
       },
       "selected": [],
       "tooltip": "IPY_MODEL_32e6ef2ab24a40e6a5d6ba527b777eae",
       "x": {
        "type": "date",
        "values": [
         "2010-02-09T00:00:00.000000",
         "2010-02-10T00:00:00.000000",
         "2010-02-11T00:00:00.000000",
         "2010-02-12T00:00:00.000000"
        ]
       },
       "y": {
        "type": "float",
        "values": [
         12.34769,
         5.936973,
         2.56502,
         0.979065
        ]
       }
      }
     },
     "123629ec4fbf42909b0514bc907dff9f": {
      "model_module": "bqplot",
      "model_module_version": "^0.3.6",
      "model_name": "AxisModel",
      "state": {
       "label": "Number of Emails",
       "orientation": "vertical",
       "scale": "IPY_MODEL_c46a5902844c4067aa935739f8107ae6",
       "side": "left",
       "tick_format": "0.2f",
       "tick_values": {
        "type": null,
        "values": null
       }
      }
     },
     "125388cdef1a493aa75f3e4bae6efe36": {
      "model_module": "@jupyter-widgets/base",
      "model_module_version": "1.0.0",
      "model_name": "LayoutModel",
      "state": {}
     },
     "1286b9fa78914484b4c54e84c9e38198": {
      "model_module": "bqplot",
      "model_module_version": "^0.3.6",
      "model_name": "LinearScaleModel",
      "state": {
       "allow_padding": false,
       "max": 1,
       "min": 0,
       "stabilized": false
      }
     },
     "12ab3a5bdfa249c98871cd51ab1c95f1": {
      "model_module": "bqplot",
      "model_module_version": "^0.3.6",
      "model_name": "PanZoomModel",
      "state": {
       "scales": {
        "x": [
         "IPY_MODEL_07d3df3c16c741f9b3539ef5c232bcea"
        ],
        "y": [
         "IPY_MODEL_42e2882bb58842d9ba901c011d0fba66"
        ]
       }
      }
     },
     "12cd164ee924451198918b0d8eca0b75": {
      "model_module": "@jupyter-widgets/base",
      "model_module_version": "1.0.0",
      "model_name": "LayoutModel",
      "state": {}
     },
     "14c23314483b430688364f53b96f37fd": {
      "model_module": "@jupyter-widgets/base",
      "model_module_version": "1.0.0",
      "model_name": "LayoutModel",
      "state": {}
     },
     "154814496e934c84a283f6e7b0c6df86": {
      "model_module": "bqplot",
      "model_module_version": "^0.3.6",
      "model_name": "LinearScaleModel",
      "state": {
       "allow_padding": false,
       "max": 1,
       "min": 0,
       "stabilized": false
      }
     },
     "15687ff5ccf349cd96bb2bd86e24fe44": {
      "model_module": "bqplot",
      "model_module_version": "^0.3.6",
      "model_name": "LinearScaleModel",
      "state": {
       "allow_padding": false,
       "max": 1,
       "min": 0,
       "stabilized": false
      }
     },
     "15d196ac448c46278885e769618010e1": {
      "model_module": "bqplot",
      "model_module_version": "^0.3.6",
      "model_name": "PanZoomModel",
      "state": {
       "scales": {
        "x": [
         "IPY_MODEL_33138ce7df4446e687e4ce4c859d0722"
        ],
        "y": [
         "IPY_MODEL_cf707c6368d14e238c92cbc74ff22a89"
        ]
       }
      }
     },
     "161f96117b8e4f81842400fc0fe1aa91": {
      "model_module": "@jupyter-widgets/base",
      "model_module_version": "1.0.0",
      "model_name": "LayoutModel",
      "state": {}
     },
     "161f99af2e5141bd9f83a2343f9293b3": {
      "model_module": "bqplot",
      "model_module_version": "^0.3.6",
      "model_name": "LinearScaleModel",
      "state": {
       "stabilized": false
      }
     },
     "1715e7b0456d447aa28400609802510f": {
      "model_module": "@jupyter-widgets/controls",
      "model_module_version": "1.2.0",
      "model_name": "VBoxModel",
      "state": {
       "children": [
        "IPY_MODEL_867c74e4471e495d8bb73d49b4740eab"
       ],
       "layout": "IPY_MODEL_642d7e90b48a4babbd5a00ce755e4a4c"
      }
     },
     "17592c0a005140b99e24c3113a4033ff": {
      "model_module": "bqplot",
      "model_module_version": "^0.3.6",
      "model_name": "BarsModel",
      "state": {
       "color": {
        "type": null,
        "values": null
       },
       "colors": [
        "blue"
       ],
       "interactions": {
        "click": "select",
        "hover": "tooltip",
        "legend_hover": "highlight_axes"
       },
       "labels": [
        "Email"
       ],
       "padding": 0.2,
       "scales": {
        "x": "IPY_MODEL_5dc7aab61b7d4b54b5bc77f31e9df51c",
        "y": "IPY_MODEL_c835913bc53140bdba727043bc630aa4"
       },
       "selected": [],
       "selected_style": {
        "fill": "red"
       },
       "tooltip": "IPY_MODEL_4eca2970fc1a4f478ba70d6a2dc7b8bb",
       "x": {
        "type": "date",
        "values": [
         "2010-02-09T00:00:00.000000",
         "2010-02-10T00:00:00.000000",
         "2010-02-11T00:00:00.000000",
         "2010-02-12T00:00:00.000000"
        ]
       },
       "y": {
        "type": "float",
        "values": [
         12.34769,
         5.936973,
         2.56502,
         0.979065
        ]
       }
      }
     },
     "176fb6358cb4493997c586f2fddeeb66": {
      "model_module": "@jupyter-widgets/base",
      "model_module_version": "1.0.0",
      "model_name": "LayoutModel",
      "state": {
       "height": "50%",
       "width": "75%"
      }
     },
     "178cf4ee10e0474b816ad18da7558802": {
      "model_module": "bqplot",
      "model_module_version": "^0.3.6",
      "model_name": "DateScaleModel",
      "state": {}
     },
     "17b50b0948504cfebd06b8cb272d0f6c": {
      "model_module": "bqplot",
      "model_module_version": "^0.3.6",
      "model_name": "FigureModel",
      "state": {
       "_dom_classes": [],
       "animation_duration": 1000,
       "axes": [
        "IPY_MODEL_8a226e495c9449718ae7405254eea415",
        "IPY_MODEL_b1c86acd829947738b2a3d36ce76c941"
       ],
       "background_style": {
        "fill": "lightslategrey"
       },
       "layout": "IPY_MODEL_cef53def6f6243ba9c3e1d89d68543aa",
       "marks": [
        "IPY_MODEL_a3fdb27ab1f14e80a14e398122716b9a"
       ],
       "max_aspect_ratio": 6,
       "scale_x": "IPY_MODEL_7a838375289544cab8c59af3f0ea19d2",
       "scale_y": "IPY_MODEL_eaee506d8ea242368908fa2c633302d2",
       "title": "Number of Emails sent Daily"
      }
     },
     "17e8af7ec3704064a8013b735fc1c71e": {
      "model_module": "@jupyter-widgets/base",
      "model_module_version": "1.0.0",
      "model_name": "LayoutModel",
      "state": {}
     },
     "1853686d019b4179a5aa1a045471fe52": {
      "model_module": "bqplot",
      "model_module_version": "^0.3.6",
      "model_name": "BarsModel",
      "state": {
       "color": {
        "type": null,
        "values": null
       },
       "colors": [
        "blue"
       ],
       "interactions": {
        "click": "select",
        "hover": "tooltip",
        "legend_hover": "highlight_axes"
       },
       "labels": [
        "Email"
       ],
       "scales": {
        "x": "IPY_MODEL_092e7e94efbe4da0b7cf73920edaebaa",
        "y": "IPY_MODEL_6be7ad7df617421d842ca23f409362a1"
       },
       "selected": [
        1
       ],
       "tooltip": "IPY_MODEL_d1ab963dea104a57bd6a195fa4137f10",
       "x": {
        "type": "date",
        "values": [
         "2010-02-09T00:00:00.000000",
         "2010-02-10T00:00:00.000000",
         "2010-02-11T00:00:00.000000",
         "2010-02-12T00:00:00.000000"
        ]
       },
       "y": {
        "type": "float",
        "values": [
         12.34769,
         5.936973,
         2.56502,
         0.979065
        ]
       }
      }
     },
     "188cfe678bb9476eae78f2e5c18e6e31": {
      "model_module": "@jupyter-widgets/base",
      "model_module_version": "1.0.0",
      "model_name": "LayoutModel",
      "state": {}
     },
     "1890f641a5c44de7b70740db256476be": {
      "model_module": "bqplot",
      "model_module_version": "^0.3.6",
      "model_name": "AxisModel",
      "state": {
       "label": "Number of Emails",
       "orientation": "vertical",
       "scale": "IPY_MODEL_6be7ad7df617421d842ca23f409362a1",
       "side": "left",
       "tick_format": "0.2f",
       "tick_values": {
        "type": null,
        "values": null
       }
      }
     },
     "18977159d2a54d859f592471834a122a": {
      "model_module": "bqplot",
      "model_module_version": "^0.3.6",
      "model_name": "LinearScaleModel",
      "state": {
       "stabilized": false
      }
     },
     "18c57a12d2fa4e82b65c19c6434be3be": {
      "model_module": "bqplot",
      "model_module_version": "^0.3.6",
      "model_name": "LinearScaleModel",
      "state": {
       "allow_padding": false,
       "max": 1,
       "min": 0,
       "stabilized": false
      }
     },
     "192bbdba52f44bf58268fa99add79385": {
      "model_module": "bqplot",
      "model_module_version": "^0.3.6",
      "model_name": "AxisModel",
      "state": {
       "label": "Days of the Year",
       "scale": "IPY_MODEL_a597271cc56d47e7b2a400406ed12f12",
       "side": "bottom",
       "tick_format": "%Y-%m-%d",
       "tick_values": {
        "type": null,
        "values": null
       }
      }
     },
     "19d11f7931af442fa795594ba086d2c1": {
      "model_module": "@jupyter-widgets/controls",
      "model_module_version": "1.2.0",
      "model_name": "VBoxModel",
      "state": {
       "children": [
        "IPY_MODEL_4fe370f355834c948d42743ba6aeb861"
       ],
       "layout": "IPY_MODEL_55dc6032d7a34042b32d518152b31dfd"
      }
     },
     "19d495f6dc35487fb1e2e346dbb3b0cc": {
      "model_module": "@jupyter-widgets/base",
      "model_module_version": "1.0.0",
      "model_name": "LayoutModel",
      "state": {}
     },
     "19e06f062b3b40bb83db7f94b4e1d3b8": {
      "model_module": "@jupyter-widgets/controls",
      "model_module_version": "1.2.0",
      "model_name": "VBoxModel",
      "state": {
       "children": [
        "IPY_MODEL_ec0e0cc58104409ebecf4ef2532f864d"
       ],
       "layout": "IPY_MODEL_32998d91864643d0a1a7d17c7711ab1c"
      }
     },
     "1a3ebe89aa1f463eb7f312662291a4f8": {
      "model_module": "bqplot",
      "model_module_version": "^0.3.6",
      "model_name": "FigureModel",
      "state": {
       "_dom_classes": [],
       "animation_duration": 1000,
       "axes": [
        "IPY_MODEL_d831706189754af08f1220294609da45",
        "IPY_MODEL_0e3c972bc858448482dd8ecf12ef3035"
       ],
       "background_style": {
        "fill": "aliceblue"
       },
       "layout": "IPY_MODEL_cef53def6f6243ba9c3e1d89d68543aa",
       "marks": [
        "IPY_MODEL_8f23c103ac5a4da8bd207d66f9a28904"
       ],
       "max_aspect_ratio": 6,
       "scale_x": "IPY_MODEL_06a44b4f88a94718b3544e01a2e622e7",
       "scale_y": "IPY_MODEL_f90542dc823d4f3cbdf2eac33fa12806",
       "title": "Number of Emails sent Daily"
      }
     },
     "1af742ee9f364193aa3918de5880ec1c": {
      "model_module": "@jupyter-widgets/controls",
      "model_module_version": "1.2.0",
      "model_name": "VBoxModel",
      "state": {
       "children": [
        "IPY_MODEL_7ecf77ffc0f549f3841bcc5626ce2d35"
       ],
       "layout": "IPY_MODEL_050c41e1a6ae4efda3a9d32250d66d84"
      }
     },
     "1b89801c56804148b6ba1ee8ebaee8cd": {
      "model_module": "bqplot",
      "model_module_version": "^0.3.6",
      "model_name": "LinearScaleModel",
      "state": {
       "allow_padding": false,
       "max": 1,
       "min": 0,
       "stabilized": false
      }
     },
     "1bf9ac63971f4fc3800a52dc5ca0cf05": {
      "model_module": "@jupyter-widgets/base",
      "model_module_version": "1.0.0",
      "model_name": "LayoutModel",
      "state": {
       "height": "50px",
       "width": "75px"
      }
     },
     "1c5bcd7ae9ea4a5ba01d2c663cd7f1bf": {
      "model_module": "bqplot",
      "model_module_version": "^0.3.6",
      "model_name": "AxisModel",
      "state": {
       "label": "Days of the Year",
       "scale": "IPY_MODEL_586f79e630a745e8891dc16af227f4b2",
       "side": "bottom",
       "tick_values": {
        "type": null,
        "values": null
       }
      }
     },
     "1c60b486292b47228e79f0f252a95ba1": {
      "model_module": "bqplot",
      "model_module_version": "^0.3.6",
      "model_name": "FigureModel",
      "state": {
       "_dom_classes": [],
       "animation_duration": 1000,
       "axes": [
        "IPY_MODEL_eba2ff49a8574fb08da4501f971be535",
        "IPY_MODEL_0cae4bf672fd415a8b5e9cddee928f43"
       ],
       "layout": "IPY_MODEL_176fb6358cb4493997c586f2fddeeb66",
       "marks": [
        "IPY_MODEL_8ce5b086ee6c43718572ddb5623dd3b0"
       ],
       "max_aspect_ratio": 6,
       "scale_x": "IPY_MODEL_430e841a7ec9438f821b0066ec790213",
       "scale_y": "IPY_MODEL_81d24fda816041b991e8d4869f587d9c",
       "title": "Number of Emails sent Daily"
      }
     },
     "1cd31471873145038fae198970d0a430": {
      "model_module": "bqplot",
      "model_module_version": "^0.3.6",
      "model_name": "BarsModel",
      "state": {
       "color": {
        "type": null,
        "values": null
       },
       "colors": [
        "blue"
       ],
       "interactions": {
        "click": "select",
        "hover": "tooltip",
        "legend_hover": "highlight_axes"
       },
       "labels": [
        "Email"
       ],
       "scales": {
        "x": "IPY_MODEL_e1aa282bca9845b7ac4915a3547e333d",
        "y": "IPY_MODEL_6eaf458ac2e44d48ba74bf953f0bf343"
       },
       "selected": [],
       "selected_style": {
        "fill": "red"
       },
       "tooltip": "IPY_MODEL_3290e01bbff14cbbbea319370a81864f",
       "x": {
        "type": "date",
        "values": [
         "2010-02-09T00:00:00.000000",
         "2010-02-10T00:00:00.000000",
         "2010-02-11T00:00:00.000000",
         "2010-02-12T00:00:00.000000"
        ]
       },
       "y": {
        "type": "float",
        "values": [
         12.34769,
         5.936973,
         2.56502,
         0.979065
        ]
       }
      }
     },
     "1cddd0f2d159476287b5075c33734944": {
      "model_module": "bqplot",
      "model_module_version": "^0.3.6",
      "model_name": "FigureModel",
      "state": {
       "_dom_classes": [],
       "animation_duration": 1000,
       "axes": [
        "IPY_MODEL_60cc6778c8a94508b45bd9c7a90b22d4",
        "IPY_MODEL_a8188519f0dd4c9a96bc6bcbed284e26"
       ],
       "interaction": "IPY_MODEL_320acdb41ba34dd09855952afb01a675",
       "layout": "IPY_MODEL_906ebc6fa0334e8b9f36a13e222c3fc6",
       "marks": [
        "IPY_MODEL_38ce0bb6ddc040b0afd5d5b56237ce3f"
       ],
       "max_aspect_ratio": 6,
       "scale_x": "IPY_MODEL_18c57a12d2fa4e82b65c19c6434be3be",
       "scale_y": "IPY_MODEL_f4f02fe5bc0a40f7bc33d209a6e9c023",
       "title": "Number of Emails sent Daily"
      }
     },
     "1ce7fa7d96b541e19923ff269c2b58e4": {
      "model_module": "bqplot",
      "model_module_version": "^0.3.6",
      "model_name": "DateScaleModel",
      "state": {}
     },
     "1d02c4e40b5a45b99d199d8746c25e4c": {
      "model_module": "bqplot",
      "model_module_version": "^0.3.6",
      "model_name": "DateScaleModel",
      "state": {}
     },
     "1d828c00de81404cb1913f54cbf7ac4d": {
      "model_module": "bqplot",
      "model_module_version": "^0.3.6",
      "model_name": "LinearScaleModel",
      "state": {
       "allow_padding": false,
       "max": 1,
       "min": 0,
       "stabilized": false
      }
     },
     "1d82a8d1238d45b282c3d1567c7c60f8": {
      "model_module": "bqplot",
      "model_module_version": "^0.3.6",
      "model_name": "AxisModel",
      "state": {
       "label": "Number of Emails",
       "orientation": "vertical",
       "scale": "IPY_MODEL_3b432f5ca75d4096978d3814442f0670",
       "side": "left",
       "tick_format": "0.2f",
       "tick_values": {
        "type": null,
        "values": null
       }
      }
     },
     "1da62181f2cb433f8ae0fb19383a484a": {
      "model_module": "bqplot",
      "model_module_version": "^0.3.6",
      "model_name": "LinearScaleModel",
      "state": {
       "allow_padding": false,
       "max": 1,
       "min": 0,
       "stabilized": false
      }
     },
     "1e3b6f09c13743fbb8eacf0949390728": {
      "model_module": "bqplot",
      "model_module_version": "^0.3.6",
      "model_name": "FigureModel",
      "state": {
       "_dom_classes": [],
       "animation_duration": 1000,
       "axes": [
        "IPY_MODEL_7054d1bd946e4193ae2abfbb95863b79",
        "IPY_MODEL_fbc0ad32684d48c9aa4cce2eff7089e2"
       ],
       "background_style": {
        "fill": "skyblue"
       },
       "layout": "IPY_MODEL_cef53def6f6243ba9c3e1d89d68543aa",
       "marks": [
        "IPY_MODEL_2fdd2c2265844cf48a37c0b5ccef67d2"
       ],
       "max_aspect_ratio": 6,
       "scale_x": "IPY_MODEL_5689ebc4e6f948e4ab580713b50fa166",
       "scale_y": "IPY_MODEL_82245958141b42f2b60fee244210ed08",
       "title": "Number of Emails sent Daily"
      }
     },
     "1e4d0ec00eb84e32ad0d828197108bd1": {
      "model_module": "@jupyter-widgets/base",
      "model_module_version": "1.0.0",
      "model_name": "LayoutModel",
      "state": {}
     },
     "1f18c202d4444c279c8637f476f13bc2": {
      "model_module": "bqplot",
      "model_module_version": "^0.3.6",
      "model_name": "AxisModel",
      "state": {
       "label": "Number of Emails",
       "orientation": "vertical",
       "scale": "IPY_MODEL_c29cd9e8d0fa455183718d1ae15ce4f9",
       "side": "left",
       "tick_format": "0.2f",
       "tick_values": {
        "type": null,
        "values": null
       }
      }
     },
     "1fa1e46ad7694ec7992fc03cc460cd0c": {
      "model_module": "bqplot",
      "model_module_version": "^0.3.6",
      "model_name": "PanZoomModel",
      "state": {
       "scales": {
        "x": [
         "IPY_MODEL_3e3da0d8677a43b0ad19912f0f8f4316"
        ],
        "y": [
         "IPY_MODEL_03b511eed15148c5aede48f03ca49908"
        ]
       }
      }
     },
     "1fa635e4dd5a4b0fba4d8382535cc696": {
      "model_module": "@jupyter-widgets/base",
      "model_module_version": "1.0.0",
      "model_name": "LayoutModel",
      "state": {}
     },
     "1fb9f6883e1643e59a195107aa4b6ae9": {
      "model_module": "bqplot",
      "model_module_version": "^0.3.6",
      "model_name": "BarsModel",
      "state": {
       "color": {
        "type": null,
        "values": null
       },
       "colors": [
        "blue"
       ],
       "labels": [
        "email"
       ],
       "scales": {
        "x": "IPY_MODEL_aad756c404f94375b7bc38230f565212",
        "y": "IPY_MODEL_7d6fb5ae655342f49c7672a562e2833d"
       },
       "selected": [],
       "tooltip": "IPY_MODEL_d124e6fb508d4b1581f2fcb7a038a9f6",
       "x": {
        "type": "object",
        "values": [
         "2010-02-09",
         "2010-02-10",
         "2010-02-11",
         "2010-02-12"
        ]
       },
       "y": {
        "type": "float",
        "values": [
         12.34769,
         5.936973,
         2.56502,
         0.979065
        ]
       }
      }
     },
     "20a4698eb51a462a82bfedd53ac22af6": {
      "model_module": "@jupyter-widgets/base",
      "model_module_version": "1.0.0",
      "model_name": "LayoutModel",
      "state": {}
     },
     "2123781f604c441797dcdcf2aa6b6044": {
      "model_module": "bqplot",
      "model_module_version": "^0.3.6",
      "model_name": "DateScaleModel",
      "state": {}
     },
     "21652a57efce4fadac8b8666758704b1": {
      "model_module": "bqplot",
      "model_module_version": "^0.3.6",
      "model_name": "BarsModel",
      "state": {
       "color": {
        "type": null,
        "values": null
       },
       "colors": [
        "blue"
       ],
       "labels": [
        "Email"
       ],
       "scales": {
        "x": "IPY_MODEL_f20d93f7857f4461964fd088c69949b1",
        "y": "IPY_MODEL_8af6d5c6adeb4cf8b12126384f20c1f3"
       },
       "selected": [],
       "tooltip": "IPY_MODEL_66a1a23b58614520bdc80520a7c515ef",
       "x": {
        "type": "date",
        "values": [
         "2010-02-09T00:00:00.000000",
         "2010-02-10T00:00:00.000000",
         "2010-02-11T00:00:00.000000",
         "2010-02-12T00:00:00.000000"
        ]
       },
       "y": {
        "type": "float",
        "values": [
         12.34769,
         5.936973,
         2.56502,
         0.979065
        ]
       }
      }
     },
     "21c78d54fdce4ebba15dbac7086a59e5": {
      "model_module": "bqplot",
      "model_module_version": "^0.3.6",
      "model_name": "DateScaleModel",
      "state": {}
     },
     "22f9aa2da3b24ff0876f8d42d0c7405b": {
      "model_module": "@jupyter-widgets/base",
      "model_module_version": "1.0.0",
      "model_name": "LayoutModel",
      "state": {}
     },
     "23257e201e004cab879a296d04128b3a": {
      "model_module": "bqplot",
      "model_module_version": "^0.3.6",
      "model_name": "LinearScaleModel",
      "state": {
       "allow_padding": false,
       "max": 1,
       "min": 0,
       "stabilized": false
      }
     },
     "232e9019d9be4f599a051355836ce114": {
      "model_module": "@jupyter-widgets/base",
      "model_module_version": "1.0.0",
      "model_name": "LayoutModel",
      "state": {}
     },
     "237147a7603e4d1dbbb73b0caca222b8": {
      "model_module": "@jupyter-widgets/controls",
      "model_module_version": "1.2.0",
      "model_name": "VBoxModel",
      "state": {
       "children": [
        "IPY_MODEL_a46dc10489f647fdbeb5a9d3f1c43da2"
       ],
       "layout": "IPY_MODEL_4c21c3c58bb14a229d6fe34012be96be"
      }
     },
     "23752d25d5654f59b344e1d918756bab": {
      "model_module": "@jupyter-widgets/base",
      "model_module_version": "1.0.0",
      "model_name": "LayoutModel",
      "state": {}
     },
     "23b943ff0a06432cb372a1f978615e11": {
      "model_module": "@jupyter-widgets/base",
      "model_module_version": "1.0.0",
      "model_name": "LayoutModel",
      "state": {
       "min_width": "125px"
      }
     },
     "24d327e064c74e0bb094c5f0848333f2": {
      "model_module": "bqplot",
      "model_module_version": "^0.3.6",
      "model_name": "LinearScaleModel",
      "state": {
       "allow_padding": false,
       "max": 1,
       "min": 0,
       "stabilized": false
      }
     },
     "24eade70691c42fab2a0e71dbeeb27d8": {
      "model_module": "bqplot",
      "model_module_version": "^0.3.6",
      "model_name": "DateScaleModel",
      "state": {}
     },
     "2553ec083df44f47939b0d6e6c28bc60": {
      "model_module": "bqplot",
      "model_module_version": "^0.3.6",
      "model_name": "AxisModel",
      "state": {
       "label": "Days of the Year",
       "scale": "IPY_MODEL_b95677c30aea4506a826404791eba6c4",
       "side": "bottom",
       "tick_values": {
        "type": null,
        "values": null
       }
      }
     },
     "25606ce003964d3da4284c82996232ea": {
      "model_module": "bqplot",
      "model_module_version": "^0.3.6",
      "model_name": "LinearScaleModel",
      "state": {
       "stabilized": false
      }
     },
     "257c02a6681145d0be356935c1b4a05f": {
      "model_module": "bqplot",
      "model_module_version": "^0.3.6",
      "model_name": "LinearScaleModel",
      "state": {
       "stabilized": false
      }
     },
     "257cd73354ea42f7bcf2d41f32bdf594": {
      "model_module": "bqplot",
      "model_module_version": "^0.3.6",
      "model_name": "BarsModel",
      "state": {
       "color": {
        "type": null,
        "values": null
       },
       "colors": [
        "orange"
       ],
       "interactions": {
        "click": "select",
        "hover": "tooltip",
        "legend_hover": "highlight_axes"
       },
       "labels": [
        "Email"
       ],
       "scales": {
        "x": "IPY_MODEL_f7ed0e1482b14fa28fd05c7435b40e25",
        "y": "IPY_MODEL_e27ccb83b443492bbb02d7891c1174ac"
       },
       "selected": [
        0
       ],
       "selected_style": {
        "fill": "red"
       },
       "tooltip": "IPY_MODEL_bd8dbe61a1454054a4a9b9cc17e8d704",
       "x": {
        "type": "date",
        "values": [
         "2010-02-09T00:00:00.000000",
         "2010-02-10T00:00:00.000000",
         "2010-02-11T00:00:00.000000",
         "2010-02-12T00:00:00.000000"
        ]
       },
       "y": {
        "type": "float",
        "values": [
         12.34769,
         5.936973,
         2.56502,
         0.979065
        ]
       }
      }
     },
     "25b15dd576f34cb7b56f6ca6724787e6": {
      "model_module": "bqplot",
      "model_module_version": "^0.3.6",
      "model_name": "BarsModel",
      "state": {
       "color": {
        "type": null,
        "values": null
       },
       "colors": [
        "blue"
       ],
       "interactions": {
        "click": "select",
        "hover": "tooltip",
        "legend_hover": "highlight_axes"
       },
       "labels": [
        "Email"
       ],
       "scales": {
        "x": "IPY_MODEL_9028db8a1b2d4430848f7f31614e8fb2",
        "y": "IPY_MODEL_18977159d2a54d859f592471834a122a"
       },
       "selected": [],
       "selected_style": {
        "fill": "red"
       },
       "tooltip": "IPY_MODEL_379d464daedb436dac41d2cc6ffb21d4",
       "x": {
        "type": "date",
        "values": [
         "2010-02-09T00:00:00.000000",
         "2010-02-10T00:00:00.000000",
         "2010-02-11T00:00:00.000000",
         "2010-02-12T00:00:00.000000"
        ]
       },
       "y": {
        "type": "float",
        "values": [
         12.34769,
         5.936973,
         2.56502,
         0.979065
        ]
       }
      }
     },
     "25ef0faef71b43d185faa773cc80a8cb": {
      "model_module": "@jupyter-widgets/base",
      "model_module_version": "1.0.0",
      "model_name": "LayoutModel",
      "state": {}
     },
     "2637cae2d63d4783a7d9d6ee559f5407": {
      "model_module": "@jupyter-widgets/base",
      "model_module_version": "1.0.0",
      "model_name": "LayoutModel",
      "state": {}
     },
     "264ed34c71db48648e0f0078df3588ef": {
      "model_module": "bqplot",
      "model_module_version": "^0.3.6",
      "model_name": "TooltipModel",
      "state": {
       "fields": [
        "x",
        "y"
       ],
       "formats": [
        "",
        "0.2f"
       ],
       "labels": [
        "Date",
        "Email Size"
       ],
       "layout": "IPY_MODEL_88a1ceb3c98547ba802718dd8aebf634"
      }
     },
     "2674ed7e07134aa39a11096aa6163432": {
      "model_module": "bqplot",
      "model_module_version": "^0.3.6",
      "model_name": "LinearScaleModel",
      "state": {
       "allow_padding": false,
       "max": 1,
       "min": 0,
       "stabilized": false
      }
     },
     "26f4448fd1714578b923a8207d5cf323": {
      "model_module": "bqplot",
      "model_module_version": "^0.3.6",
      "model_name": "LinearScaleModel",
      "state": {
       "allow_padding": false,
       "max": 1,
       "min": 0,
       "stabilized": false
      }
     },
     "26fdd78661b04544ad5f62053cae485c": {
      "model_module": "bqplot",
      "model_module_version": "^0.3.6",
      "model_name": "LinearScaleModel",
      "state": {
       "stabilized": false
      }
     },
     "26fe67a90a18465e9d25a3eb7678b7d9": {
      "model_module": "bqplot",
      "model_module_version": "^0.3.6",
      "model_name": "LinearScaleModel",
      "state": {
       "allow_padding": false,
       "max": 1,
       "min": 0,
       "stabilized": false
      }
     },
     "278bf41ed10d46378a6d37ea62664e0b": {
      "model_module": "bqplot",
      "model_module_version": "^0.3.6",
      "model_name": "FigureModel",
      "state": {
       "_dom_classes": [],
       "animation_duration": 1000,
       "axes": [
        "IPY_MODEL_3393a626f57641699963c6d17d229378",
        "IPY_MODEL_e1457b071ad14cb7b7fd85f0565bbd21"
       ],
       "interaction": "IPY_MODEL_046b1f39a3f747a9abd5c825155890dc",
       "layout": "IPY_MODEL_0a2901022c10469ea8fa4dd34bf5be7d",
       "marks": [
        "IPY_MODEL_c934ef9d7bae40f7b8b0f0c25b547167"
       ],
       "max_aspect_ratio": 6,
       "scale_x": "IPY_MODEL_c61d0e4146344bf6b6a68c6d0d5915a2",
       "scale_y": "IPY_MODEL_664c5f9b5c82430ebe72ae3ab9e4e7a8",
       "title": "Number of Emails sent Daily"
      }
     },
     "27913d416eb34f6ab4e15bdb2df622fa": {
      "model_module": "bqplot",
      "model_module_version": "^0.3.6",
      "model_name": "BarsModel",
      "state": {
       "color": {
        "type": null,
        "values": null
       },
       "colors": [
        "blue"
       ],
       "interactions": {
        "click": "select",
        "hover": "tooltip",
        "legend_hover": "highlight_axes"
       },
       "labels": [
        "Email"
       ],
       "scales": {
        "x": "IPY_MODEL_2d692d2acaa84cb0ae251891f55b2ee5",
        "y": "IPY_MODEL_2e54bac63fc640a7ae61252afac7c754"
       },
       "selected": [],
       "selected_style": {
        "fill": "red"
       },
       "tooltip": "IPY_MODEL_e973b0502dbe46939eb0e09fe9be8e66",
       "x": {
        "type": "date",
        "values": [
         "2010-02-09T00:00:00.000000",
         "2010-02-10T00:00:00.000000",
         "2010-02-11T00:00:00.000000",
         "2010-02-12T00:00:00.000000"
        ]
       },
       "y": {
        "type": "float",
        "values": [
         12.34769,
         5.936973,
         2.56502,
         0.979065
        ]
       }
      }
     },
     "28e8da686ae4446a86dd64cdfb9ba483": {
      "model_module": "bqplot",
      "model_module_version": "^0.3.6",
      "model_name": "BarsModel",
      "state": {
       "color": {
        "type": null,
        "values": null
       },
       "colors": [
        "blue"
       ],
       "interactions": {
        "click": "select",
        "hover": "tooltip",
        "legend_hover": "highlight_axes"
       },
       "labels": [
        "Email"
       ],
       "scales": {
        "x": "IPY_MODEL_e2b468c8085b4e139da7f443e05e40e8",
        "y": "IPY_MODEL_3cef738971de4976a328043527b970e2"
       },
       "selected": [],
       "selected_style": {
        "fill": "red"
       },
       "tooltip": "IPY_MODEL_264ed34c71db48648e0f0078df3588ef",
       "x": {
        "type": "date",
        "values": [
         "2010-02-09T00:00:00.000000",
         "2010-02-10T00:00:00.000000",
         "2010-02-11T00:00:00.000000",
         "2010-02-12T00:00:00.000000"
        ]
       },
       "y": {
        "type": "float",
        "values": [
         12.34769,
         5.936973,
         2.56502,
         0.979065
        ]
       }
      }
     },
     "29f0852bd47e4b27bca170685f6b4001": {
      "model_module": "@jupyter-widgets/base",
      "model_module_version": "1.0.0",
      "model_name": "LayoutModel",
      "state": {}
     },
     "2ae1adc489994905a6a2dae9b5577bc9": {
      "model_module": "bqplot",
      "model_module_version": "^0.3.6",
      "model_name": "LinearScaleModel",
      "state": {
       "stabilized": false
      }
     },
     "2b35c594091143d890512a7bb91a3075": {
      "model_module": "bqplot",
      "model_module_version": "^0.3.6",
      "model_name": "AxisModel",
      "state": {
       "label": "Number of Emails",
       "orientation": "vertical",
       "scale": "IPY_MODEL_349f45bc462c41f5871ce823f35c6a85",
       "side": "left",
       "tick_format": "0.2f",
       "tick_values": {
        "type": null,
        "values": null
       }
      }
     },
     "2b361d6d071a440c89649d647fe779ca": {
      "model_module": "bqplot",
      "model_module_version": "^0.3.6",
      "model_name": "LinearScaleModel",
      "state": {
       "allow_padding": false,
       "max": 1,
       "min": 0,
       "stabilized": false
      }
     },
     "2b3ccf0b6ca84ee98c49eecf26d9a3be": {
      "model_module": "bqplot",
      "model_module_version": "^0.3.6",
      "model_name": "DateScaleModel",
      "state": {}
     },
     "2b4019e853f14b1c9c8143a18b763665": {
      "model_module": "bqplot",
      "model_module_version": "^0.3.6",
      "model_name": "AxisModel",
      "state": {
       "label": "Days of the Year",
       "scale": "IPY_MODEL_a8f6c967ba214893a43485ba49411f81",
       "side": "bottom",
       "tick_values": {
        "type": null,
        "values": null
       }
      }
     },
     "2baa07a1e55345c1be9ac88993104d54": {
      "model_module": "bqplot",
      "model_module_version": "^0.3.6",
      "model_name": "LinearScaleModel",
      "state": {
       "allow_padding": false,
       "max": 1,
       "min": 0,
       "stabilized": false
      }
     },
     "2bd1231697b94d51975960f36a59744b": {
      "model_module": "bqplot",
      "model_module_version": "^0.3.6",
      "model_name": "PanZoomModel",
      "state": {
       "scales": {
        "x": [
         "IPY_MODEL_a8f6c967ba214893a43485ba49411f81"
        ],
        "y": [
         "IPY_MODEL_7c6f48a5f7de45cf98ce080e2b404a9b"
        ]
       }
      }
     },
     "2c704e5ff0d94d95a337006c89be4915": {
      "model_module": "bqplot",
      "model_module_version": "^0.3.6",
      "model_name": "LinearScaleModel",
      "state": {
       "allow_padding": false,
       "max": 1,
       "min": 0,
       "stabilized": false
      }
     },
     "2cc204c2aee6494c94a56716b320067a": {
      "model_module": "bqplot",
      "model_module_version": "^0.3.6",
      "model_name": "TooltipModel",
      "state": {
       "fields": [
        "x",
        "y"
       ],
       "formats": [
        "",
        "0.2f"
       ],
       "labels": [
        "Date",
        "Email Size"
       ],
       "layout": "IPY_MODEL_12cd164ee924451198918b0d8eca0b75"
      }
     },
     "2cd591f5379840af95ebe0d0a2b65f7e": {
      "model_module": "@jupyter-widgets/base",
      "model_module_version": "1.0.0",
      "model_name": "LayoutModel",
      "state": {}
     },
     "2cdaef979d08446897e689098bca88bd": {
      "model_module": "bqplot",
      "model_module_version": "^0.3.6",
      "model_name": "FigureModel",
      "state": {
       "_dom_classes": [],
       "animation_duration": 1000,
       "axes": [
        "IPY_MODEL_a74e47929a8140bcbc8135ffea429e1b",
        "IPY_MODEL_593d67102b2b463ba90aea4b21192851"
       ],
       "background_style": {
        "fill": "lightblueviolet"
       },
       "layout": "IPY_MODEL_cef53def6f6243ba9c3e1d89d68543aa",
       "marks": [
        "IPY_MODEL_f06a985cd98d4ac39c4b7cff5f8d6773"
       ],
       "max_aspect_ratio": 6,
       "scale_x": "IPY_MODEL_41980a024da34d83b0a2c324552a641a",
       "scale_y": "IPY_MODEL_15687ff5ccf349cd96bb2bd86e24fe44",
       "title": "Number of Emails sent Daily"
      }
     },
     "2d281f8a509046b18087e46812ec5098": {
      "model_module": "bqplot",
      "model_module_version": "^0.3.6",
      "model_name": "DateScaleModel",
      "state": {}
     },
     "2d692d2acaa84cb0ae251891f55b2ee5": {
      "model_module": "bqplot",
      "model_module_version": "^0.3.6",
      "model_name": "DateScaleModel",
      "state": {}
     },
     "2d8e5084dbc3407c84826db78fb175c5": {
      "model_module": "bqplot",
      "model_module_version": "^0.3.6",
      "model_name": "BarsModel",
      "state": {
       "color": {
        "type": null,
        "values": null
       },
       "colors": [
        "blue"
       ],
       "interactions": {
        "click": "select",
        "hover": "tooltip",
        "legend_hover": "highlight_axes"
       },
       "labels": [
        "Email"
       ],
       "scales": {
        "x": "IPY_MODEL_1d02c4e40b5a45b99d199d8746c25e4c",
        "y": "IPY_MODEL_07b8638d391b4e85bb4b3fcabdc91ec2"
       },
       "selected": [
        0
       ],
       "tooltip": "IPY_MODEL_79f6bab98e4f4362b6940ce5213a14e9",
       "x": {
        "type": "date",
        "values": [
         "2010-02-09T00:00:00.000000",
         "2010-02-10T00:00:00.000000",
         "2010-02-11T00:00:00.000000",
         "2010-02-12T00:00:00.000000"
        ]
       },
       "y": {
        "type": "float",
        "values": [
         12.34769,
         5.936973,
         2.56502,
         0.979065
        ]
       }
      }
     },
     "2e54bac63fc640a7ae61252afac7c754": {
      "model_module": "bqplot",
      "model_module_version": "^0.3.6",
      "model_name": "LinearScaleModel",
      "state": {
       "stabilized": false
      }
     },
     "2e5a4c61f5f3407bb8b06bbd8f9a7509": {
      "model_module": "bqplot",
      "model_module_version": "^0.3.6",
      "model_name": "DateScaleModel",
      "state": {}
     },
     "2e9922bfe4cd465e8d62dbd733009100": {
      "model_module": "bqplot",
      "model_module_version": "^0.3.6",
      "model_name": "LinearScaleModel",
      "state": {
       "allow_padding": false,
       "max": 1,
       "min": 0,
       "stabilized": false
      }
     },
     "2eb54b278b22457e8ae5776d75cdf7f3": {
      "model_module": "bqplot",
      "model_module_version": "^0.3.6",
      "model_name": "BarsModel",
      "state": {
       "color": {
        "type": null,
        "values": null
       },
       "colors": [
        "blue"
       ],
       "interactions": {
        "click": "select",
        "hover": "tooltip",
        "legend_hover": "highlight_axes"
       },
       "labels": [
        "Email"
       ],
       "scales": {
        "x": "IPY_MODEL_963a6cf5b7694526b816c8714630c813",
        "y": "IPY_MODEL_f28d42952d244766af1004ad08379f10"
       },
       "selected": [],
       "tooltip": "IPY_MODEL_7c7d6fa143bb4a7e888a6e76121ff7e4",
       "x": {
        "type": "date",
        "values": [
         "2010-02-09T00:00:00.000000",
         "2010-02-10T00:00:00.000000",
         "2010-02-11T00:00:00.000000",
         "2010-02-12T00:00:00.000000"
        ]
       },
       "y": {
        "type": "float",
        "values": [
         12.34769,
         5.936973,
         2.56502,
         0.979065
        ]
       }
      }
     },
     "2eca4d1b9dd14de898401cae8eacd10d": {
      "model_module": "bqplot",
      "model_module_version": "^0.3.6",
      "model_name": "AxisModel",
      "state": {
       "label": "Number of Emails",
       "orientation": "vertical",
       "scale": "IPY_MODEL_759311fbb4664c69b9f92ef37a5e4a12",
       "side": "left",
       "tick_format": "0.2f",
       "tick_values": {
        "type": null,
        "values": null
       }
      }
     },
     "2ef7becbe1d940eb82f0fb7041bd7a99": {
      "model_module": "@jupyter-widgets/controls",
      "model_module_version": "1.2.0",
      "model_name": "VBoxModel",
      "state": {
       "children": [
        "IPY_MODEL_33fd72ac803347e38bb92ccaff1e42dd"
       ],
       "layout": "IPY_MODEL_6f9daf2c96ee4fcc9def0d2600344743"
      }
     },
     "2efbc71d090b41819ad7bf5c8e402fd3": {
      "model_module": "bqplot",
      "model_module_version": "^0.3.6",
      "model_name": "LinearScaleModel",
      "state": {
       "allow_padding": false,
       "max": 1,
       "min": 0,
       "stabilized": false
      }
     },
     "2f47d5a6ddf141b59c3ab11da0524213": {
      "model_module": "@jupyter-widgets/base",
      "model_module_version": "1.0.0",
      "model_name": "LayoutModel",
      "state": {}
     },
     "2fdd2c2265844cf48a37c0b5ccef67d2": {
      "model_module": "bqplot",
      "model_module_version": "^0.3.6",
      "model_name": "BarsModel",
      "state": {
       "color": {
        "type": null,
        "values": null
       },
       "colors": [
        "blue"
       ],
       "interactions": {
        "click": "select",
        "hover": "tooltip",
        "legend_hover": "highlight_axes"
       },
       "labels": [
        "Email"
       ],
       "scales": {
        "x": "IPY_MODEL_303563a2592f4db5b78e173341fc1205",
        "y": "IPY_MODEL_e676814d6e9e4cfaaec719be18cd265f"
       },
       "selected": [],
       "selected_style": {
        "fill": "red"
       },
       "tooltip": "IPY_MODEL_fbd0ade4fe224ed1acb11699a75ef71c",
       "x": {
        "type": "date",
        "values": [
         "2010-02-09T00:00:00.000000",
         "2010-02-10T00:00:00.000000",
         "2010-02-11T00:00:00.000000",
         "2010-02-12T00:00:00.000000"
        ]
       },
       "y": {
        "type": "float",
        "values": [
         12.34769,
         5.936973,
         2.56502,
         0.979065
        ]
       }
      }
     },
     "303563a2592f4db5b78e173341fc1205": {
      "model_module": "bqplot",
      "model_module_version": "^0.3.6",
      "model_name": "DateScaleModel",
      "state": {}
     },
     "30d89dc51eff40f1b61c0d7b39e0da0a": {
      "model_module": "bqplot",
      "model_module_version": "^0.3.6",
      "model_name": "BarsModel",
      "state": {
       "color": {
        "type": null,
        "values": null
       },
       "colors": [
        "blue"
       ],
       "interactions": {
        "click": "select",
        "hover": "tooltip",
        "legend_hover": "highlight_axes"
       },
       "labels": [
        "Email"
       ],
       "scales": {
        "x": "IPY_MODEL_42fa09b8daeb4d66a6fa862e48f7f993",
        "y": "IPY_MODEL_7c0ac7eb7c5d48a2a96c6df2640d5ee9"
       },
       "selected": [
        1
       ],
       "selected_style": {
        "fill": "red"
       },
       "tooltip": "IPY_MODEL_040e867042cd40c69262897582895aaf",
       "x": {
        "type": "date",
        "values": [
         "2010-02-09T00:00:00.000000",
         "2010-02-10T00:00:00.000000",
         "2010-02-11T00:00:00.000000",
         "2010-02-12T00:00:00.000000"
        ]
       },
       "y": {
        "type": "float",
        "values": [
         12.34769,
         15.199721,
         18.015744,
         15.658219
        ]
       }
      }
     },
     "30f7f5d00e8a4d8c8261c1649d666c8b": {
      "model_module": "bqplot",
      "model_module_version": "^0.3.6",
      "model_name": "AxisModel",
      "state": {
       "label": "Number of Emails",
       "orientation": "vertical",
       "scale": "IPY_MODEL_7c6f48a5f7de45cf98ce080e2b404a9b",
       "side": "left",
       "tick_format": "0.2f",
       "tick_values": {
        "type": null,
        "values": null
       }
      }
     },
     "313e23665e9e470581ef9d28fc013812": {
      "model_module": "@jupyter-widgets/base",
      "model_module_version": "1.0.0",
      "model_name": "LayoutModel",
      "state": {}
     },
     "318dd30eaaad4848a45db37bf3cac61a": {
      "model_module": "bqplot",
      "model_module_version": "^0.3.6",
      "model_name": "DateScaleModel",
      "state": {}
     },
     "31b3f2f479a547139c4dd8278cb0058a": {
      "model_module": "bqplot",
      "model_module_version": "^0.3.6",
      "model_name": "FigureModel",
      "state": {
       "_dom_classes": [],
       "animation_duration": 1000,
       "axes": [
        "IPY_MODEL_6c0b8f336ecc466eaee92c586b34c25f",
        "IPY_MODEL_f0313d19d28040ac9fa86fc0e6d62d3a"
       ],
       "background_style": {
        "fill": "aliceblue"
       },
       "layout": "IPY_MODEL_cef53def6f6243ba9c3e1d89d68543aa",
       "marks": [
        "IPY_MODEL_035b7f15fccd454f9f6adc6113e32758"
       ],
       "max_aspect_ratio": 6,
       "scale_x": "IPY_MODEL_6aeaa7c5287d4a73b034e46550cc5060",
       "scale_y": "IPY_MODEL_2efbc71d090b41819ad7bf5c8e402fd3",
       "title": "Number of Emails sent Daily"
      }
     },
     "31fdbb2dc4784425a0a5cd86a7d65692": {
      "model_module": "bqplot",
      "model_module_version": "^0.3.6",
      "model_name": "PanZoomModel",
      "state": {
       "scales": {
        "x": [
         "IPY_MODEL_c104cabfa4164a75bbe0e99720695afb"
        ],
        "y": [
         "IPY_MODEL_e6587057b58941b19a62374d51a50f1b"
        ]
       }
      }
     },
     "320acdb41ba34dd09855952afb01a675": {
      "model_module": "bqplot",
      "model_module_version": "^0.3.6",
      "model_name": "PanZoomModel",
      "state": {
       "scales": {
        "x": [
         "IPY_MODEL_a53726c6bd684a539cbf8128494b9ec5"
        ],
        "y": [
         "IPY_MODEL_69a86e544ba843f5b41ae43760fe829b"
        ]
       }
      }
     },
     "32464973696a4cf19740699fb8215a6a": {
      "model_module": "bqplot",
      "model_module_version": "^0.3.6",
      "model_name": "LinearScaleModel",
      "state": {
       "stabilized": false
      }
     },
     "3290e01bbff14cbbbea319370a81864f": {
      "model_module": "bqplot",
      "model_module_version": "^0.3.6",
      "model_name": "TooltipModel",
      "state": {
       "fields": [
        "x",
        "y"
       ],
       "formats": [
        "",
        "0.2f"
       ],
       "labels": [
        "Date",
        "Email Size"
       ],
       "layout": "IPY_MODEL_b2f1f31f22b3481fbbcd34e1be1493de"
      }
     },
     "32998d91864643d0a1a7d17c7711ab1c": {
      "model_module": "@jupyter-widgets/base",
      "model_module_version": "1.0.0",
      "model_name": "LayoutModel",
      "state": {}
     },
     "32e6ef2ab24a40e6a5d6ba527b777eae": {
      "model_module": "bqplot",
      "model_module_version": "^0.3.6",
      "model_name": "TooltipModel",
      "state": {
       "fields": [
        "x",
        "y"
       ],
       "formats": [
        "",
        "0.2f"
       ],
       "labels": [
        "Date",
        "Email Size"
       ],
       "layout": "IPY_MODEL_6c66fca04c8540f5a5134589db978215"
      }
     },
     "32efebd4bd3b49209a3d47679f69db4d": {
      "model_module": "bqplot",
      "model_module_version": "^0.3.6",
      "model_name": "AxisModel",
      "state": {
       "label": "Number of Emails",
       "orientation": "vertical",
       "scale": "IPY_MODEL_03b511eed15148c5aede48f03ca49908",
       "side": "left",
       "tick_format": "0.2f",
       "tick_values": {
        "type": null,
        "values": null
       }
      }
     },
     "3305ed9cf69e4d7ca988ba2eef530b0b": {
      "model_module": "bqplot",
      "model_module_version": "^0.3.6",
      "model_name": "PanZoomModel",
      "state": {
       "scales": {
        "x": [
         "IPY_MODEL_318dd30eaaad4848a45db37bf3cac61a"
        ],
        "y": [
         "IPY_MODEL_c741a8dd0dab44c6a3260579ae275b5c"
        ]
       }
      }
     },
     "33138ce7df4446e687e4ce4c859d0722": {
      "model_module": "bqplot",
      "model_module_version": "^0.3.6",
      "model_name": "DateScaleModel",
      "state": {}
     },
     "3320dc06d3ef4cc99cf8c292d3f6d9fe": {
      "model_module": "bqplot",
      "model_module_version": "^0.3.6",
      "model_name": "BarsModel",
      "state": {
       "color": {
        "type": null,
        "values": null
       },
       "colors": [
        "blue"
       ],
       "interactions": {
        "click": "select",
        "hover": "tooltip",
        "legend_hover": "highlight_axes"
       },
       "labels": [
        "Email"
       ],
       "scales": {
        "x": "IPY_MODEL_4b8cd7dd4714421badaa7f38f215dec3",
        "y": "IPY_MODEL_71aa5ae2471d40de8c1a8e5b0ffd337d"
       },
       "selected": [],
       "selected_style": {
        "fill": "red"
       },
       "tooltip": "IPY_MODEL_0d5f819958ae44268f0a9b0ef18f752b",
       "x": {
        "type": "date",
        "values": [
         "2010-02-09T00:00:00.000000",
         "2010-02-10T00:00:00.000000",
         "2010-02-11T00:00:00.000000",
         "2010-02-12T00:00:00.000000"
        ]
       },
       "y": {
        "type": "float",
        "values": [
         12.34769,
         5.936973,
         2.56502,
         0.979065
        ]
       }
      }
     },
     "335828ebd4a747868796c0993f8b0fcf": {
      "model_module": "bqplot",
      "model_module_version": "^0.3.6",
      "model_name": "TooltipModel",
      "state": {
       "fields": [
        "x",
        "y"
       ],
       "formats": [
        "",
        "0.2f"
       ],
       "labels": [
        "Date",
        "Email Size"
       ],
       "layout": "IPY_MODEL_0c22d5f4e8e94d65b07de06e292969a8"
      }
     },
     "3393a626f57641699963c6d17d229378": {
      "model_module": "bqplot",
      "model_module_version": "^0.3.6",
      "model_name": "AxisModel",
      "state": {
       "label": "Days of the Year",
       "scale": "IPY_MODEL_122c63334dd040d4a5f5e4fa7fad119a",
       "side": "bottom",
       "tick_format": "%Y-%m-%d",
       "tick_values": {
        "type": null,
        "values": null
       }
      }
     },
     "33fd72ac803347e38bb92ccaff1e42dd": {
      "model_module": "bqplot",
      "model_module_version": "^0.3.6",
      "model_name": "FigureModel",
      "state": {
       "_dom_classes": [],
       "animation_duration": 5000,
       "axes": [
        "IPY_MODEL_536059f7f20d443eaf4df88407ef3096",
        "IPY_MODEL_6eaab6136e7c4fb1bb9cee4396e09dfb"
       ],
       "background_style": {
        "fill": "aliceblue"
       },
       "layout": "IPY_MODEL_cef53def6f6243ba9c3e1d89d68543aa",
       "marks": [
        "IPY_MODEL_257cd73354ea42f7bcf2d41f32bdf594"
       ],
       "max_aspect_ratio": 6,
       "scale_x": "IPY_MODEL_6db931d1b4014f93a136ef1b7ee12a99",
       "scale_y": "IPY_MODEL_0aa786b4f879491fad67680ce7e41c86",
       "title": "Number of Emails sent Daily"
      }
     },
     "341a41512db2499d8f006bb7f0df85e1": {
      "model_module": "bqplot",
      "model_module_version": "^0.3.6",
      "model_name": "PanZoomModel",
      "state": {
       "scales": {
        "x": [
         "IPY_MODEL_e0110221b9844b6cb2c546d73eb5e465"
        ],
        "y": [
         "IPY_MODEL_f5b78380c7cc4ec2910cd25681ab45bc"
        ]
       }
      }
     },
     "342c52afe2a646489110258b1027f277": {
      "model_module": "@jupyter-widgets/base",
      "model_module_version": "1.0.0",
      "model_name": "LayoutModel",
      "state": {}
     },
     "345e4f018b214257be61ad4881ec4ab7": {
      "model_module": "bqplot",
      "model_module_version": "^0.3.6",
      "model_name": "BarsModel",
      "state": {
       "color": {
        "type": null,
        "values": null
       },
       "colors": [
        "blue"
       ],
       "interactions": {
        "click": "select",
        "hover": "tooltip",
        "legend_hover": "highlight_axes"
       },
       "labels": [
        "Email"
       ],
       "scales": {
        "x": "IPY_MODEL_178cf4ee10e0474b816ad18da7558802",
        "y": "IPY_MODEL_b35fe9f3a38b42c5a786a083fdf8549c"
       },
       "selected": [],
       "tooltip": "IPY_MODEL_e281c0dbed9c45d1b0258f739c9d2234",
       "x": {
        "type": "date",
        "values": [
         "2010-02-09T00:00:00.000000",
         "2010-02-10T00:00:00.000000",
         "2010-02-11T00:00:00.000000",
         "2010-02-12T00:00:00.000000"
        ]
       },
       "y": {
        "type": "float",
        "values": [
         12.34769,
         5.936973,
         2.56502,
         0.979065
        ]
       }
      }
     },
     "349f45bc462c41f5871ce823f35c6a85": {
      "model_module": "bqplot",
      "model_module_version": "^0.3.6",
      "model_name": "LinearScaleModel",
      "state": {
       "stabilized": false
      }
     },
     "35726950cf2a4b49a8fe73dbed9c3811": {
      "model_module": "@jupyter-widgets/controls",
      "model_module_version": "1.2.0",
      "model_name": "VBoxModel",
      "state": {
       "children": [
        "IPY_MODEL_fc6d8c0c908c4da18adba56a7188ed80"
       ],
       "layout": "IPY_MODEL_86f8509d7fa947d68cd7cd68ed28776f"
      }
     },
     "360ed94f2d804863b541e7cfd525a928": {
      "model_module": "bqplot",
      "model_module_version": "^0.3.6",
      "model_name": "FigureModel",
      "state": {
       "_dom_classes": [],
       "animation_duration": 1000,
       "axes": [
        "IPY_MODEL_c27bccfc4d9249d5ac0acdc4478de3d2",
        "IPY_MODEL_da110db696864e1795f91cc407234026"
       ],
       "layout": "IPY_MODEL_3a53b60b57de4239bc9df6f006d787ff",
       "marks": [
        "IPY_MODEL_345e4f018b214257be61ad4881ec4ab7"
       ],
       "max_aspect_ratio": 6,
       "scale_x": "IPY_MODEL_a2805964dba84c94af76b2abfac0531e",
       "scale_y": "IPY_MODEL_103bf058402f4734a7d65230c25f17cc",
       "title": "Number of Emails sent Daily"
      }
     },
     "3673ea6dacc24a0aa07299a8e120d531": {
      "model_module": "bqplot",
      "model_module_version": "^0.3.6",
      "model_name": "LinearScaleModel",
      "state": {
       "stabilized": false
      }
     },
     "368a82f4b527445994e036295c4ea9a7": {
      "model_module": "bqplot",
      "model_module_version": "^0.3.6",
      "model_name": "AxisModel",
      "state": {
       "label": "Number of Emails",
       "orientation": "vertical",
       "scale": "IPY_MODEL_a32f14b3c92441548d254e893d8e7c7d",
       "side": "left",
       "tick_format": "0.2f",
       "tick_values": {
        "type": null,
        "values": null
       }
      }
     },
     "36ef6170a5ef440e99fb19c74cd79576": {
      "model_module": "bqplot",
      "model_module_version": "^0.3.6",
      "model_name": "LinearScaleModel",
      "state": {
       "stabilized": false
      }
     },
     "37384e98dd69474398fbcd611154d8e5": {
      "model_module": "bqplot",
      "model_module_version": "^0.3.6",
      "model_name": "PanZoomModel",
      "state": {
       "scales": {
        "x": [
         "IPY_MODEL_f6c412090edb4aecb2efceae5ca95ed4"
        ],
        "y": [
         "IPY_MODEL_8101bc04dbbe4a7ab267e3107a79e541"
        ]
       }
      }
     },
     "379d464daedb436dac41d2cc6ffb21d4": {
      "model_module": "bqplot",
      "model_module_version": "^0.3.6",
      "model_name": "TooltipModel",
      "state": {
       "fields": [
        "x",
        "y"
       ],
       "formats": [
        "",
        "0.2f"
       ],
       "labels": [
        "Date",
        "Email Size"
       ],
       "layout": "IPY_MODEL_161f96117b8e4f81842400fc0fe1aa91"
      }
     },
     "379dea10cd2f4763b34d47bd3d73987e": {
      "model_module": "bqplot",
      "model_module_version": "^0.3.6",
      "model_name": "AxisModel",
      "state": {
       "label": "Number of Emails",
       "orientation": "vertical",
       "scale": "IPY_MODEL_7c0ac7eb7c5d48a2a96c6df2640d5ee9",
       "side": "left",
       "tick_format": "0.2f",
       "tick_values": {
        "type": null,
        "values": null
       }
      }
     },
     "37bd235f141640aa9253b14bafd466a9": {
      "model_module": "@jupyter-widgets/base",
      "model_module_version": "1.0.0",
      "model_name": "LayoutModel",
      "state": {}
     },
     "37cd1d3b32a24e23b46450b5e1d80290": {
      "model_module": "@jupyter-widgets/controls",
      "model_module_version": "1.2.0",
      "model_name": "VBoxModel",
      "state": {
       "children": [
        "IPY_MODEL_4b69f14ba8454e84a0c1ab21965e7e54"
       ],
       "layout": "IPY_MODEL_fd4127c058d646de80e238f749fe799b"
      }
     },
     "3864f2c430744d4982b1f5c928a367a2": {
      "model_module": "bqplot",
      "model_module_version": "^0.3.6",
      "model_name": "PanZoomModel",
      "state": {
       "scales": {
        "x": [
         "IPY_MODEL_829753ec36b04c7db7c4849753ed20d7"
        ],
        "y": [
         "IPY_MODEL_5ec90142e2a14025b434ab8d971d0bd8"
        ]
       }
      }
     },
     "38aa010bfa4448908266e912c2762c1b": {
      "model_module": "@jupyter-widgets/controls",
      "model_module_version": "1.2.0",
      "model_name": "VBoxModel",
      "state": {
       "children": [
        "IPY_MODEL_495017759eab48d593fa4de011537ce4"
       ],
       "layout": "IPY_MODEL_f1f0740fad434af293cadeadc3097af9"
      }
     },
     "38ce0bb6ddc040b0afd5d5b56237ce3f": {
      "model_module": "bqplot",
      "model_module_version": "^0.3.6",
      "model_name": "BarsModel",
      "state": {
       "color": {
        "type": null,
        "values": null
       },
       "colors": [
        "blue"
       ],
       "interactions": {
        "click": "select",
        "hover": "tooltip",
        "legend_hover": "highlight_axes"
       },
       "labels": [
        "Email"
       ],
       "scales": {
        "x": "IPY_MODEL_a53726c6bd684a539cbf8128494b9ec5",
        "y": "IPY_MODEL_69a86e544ba843f5b41ae43760fe829b"
       },
       "selected": [],
       "tooltip": "IPY_MODEL_76074f4c99ac4eae8c37b0c17527bb9a",
       "x": {
        "type": "date",
        "values": [
         "2010-02-09T00:00:00.000000",
         "2010-02-10T00:00:00.000000",
         "2010-02-11T00:00:00.000000",
         "2010-02-12T00:00:00.000000"
        ]
       },
       "y": {
        "type": "float",
        "values": [
         12.34769,
         5.936973,
         2.56502,
         0.979065
        ]
       }
      }
     },
     "393f8632f8424353866b15e6aa3b796d": {
      "model_module": "bqplot",
      "model_module_version": "^0.3.6",
      "model_name": "TooltipModel",
      "state": {
       "fields": [
        "x",
        "y"
       ],
       "formats": [
        "",
        "0.2f"
       ],
       "labels": [
        "Date",
        "Email Size"
       ],
       "layout": "IPY_MODEL_d3c9031c3a9c4bd68a83aa2ab8a9d60e"
      }
     },
     "3948cf058bfd4f109e30eecd65e15895": {
      "model_module": "bqplot",
      "model_module_version": "^0.3.6",
      "model_name": "BarsModel",
      "state": {
       "color": {
        "type": null,
        "values": null
       },
       "colors": [
        "blue"
       ],
       "labels": [
        "Email"
       ],
       "scales": {
        "x": "IPY_MODEL_cd20f8ed7a784c5cba0f27d6082860ba",
        "y": "IPY_MODEL_4c66d36964b4408788d6323ddaed4325"
       },
       "selected": [],
       "tooltip": "IPY_MODEL_7e018d75664d420d8b1f33c1413093b1",
       "x": {
        "type": "object",
        "values": [
         "2010-02-09",
         "2010-02-10",
         "2010-02-11",
         "2010-02-12"
        ]
       },
       "y": {
        "type": "float",
        "values": [
         12.34769,
         5.936973,
         2.56502,
         0.979065
        ]
       }
      }
     },
     "398afbd4cd1e48259d016a3ceab1bc17": {
      "model_module": "bqplot",
      "model_module_version": "^0.3.6",
      "model_name": "PanZoomModel",
      "state": {
       "scales": {
        "x": [
         "IPY_MODEL_42fa09b8daeb4d66a6fa862e48f7f993"
        ],
        "y": [
         "IPY_MODEL_7c0ac7eb7c5d48a2a96c6df2640d5ee9"
        ]
       }
      }
     },
     "39d3cdd317b44fac9fed7523b11f79e6": {
      "model_module": "bqplot",
      "model_module_version": "^0.3.6",
      "model_name": "TooltipModel",
      "state": {
       "fields": [
        "x",
        "y"
       ],
       "formats": [
        "",
        "0.2f"
       ],
       "labels": [
        "User ID",
        "Email Size"
       ],
       "layout": "IPY_MODEL_d10924ac19da4ddfbb5a9166b088308f"
      }
     },
     "39f988011cfc4ceb978dc7a8a39ea873": {
      "model_module": "bqplot",
      "model_module_version": "^0.3.6",
      "model_name": "AxisModel",
      "state": {
       "label": "Number of Emails",
       "orientation": "vertical",
       "scale": "IPY_MODEL_5ec90142e2a14025b434ab8d971d0bd8",
       "side": "left",
       "tick_format": "0.2f",
       "tick_values": {
        "type": null,
        "values": null
       }
      }
     },
     "3a3e67bd2c0c4be18044644006cdf7a1": {
      "model_module": "bqplot",
      "model_module_version": "^0.3.6",
      "model_name": "FigureModel",
      "state": {
       "_dom_classes": [],
       "animation_duration": 5000,
       "axes": [
        "IPY_MODEL_9902090806d24a3c81506c0565dce342",
        "IPY_MODEL_2b35c594091143d890512a7bb91a3075"
       ],
       "background_style": {
        "fill": "aliceblue"
       },
       "layout": "IPY_MODEL_cef53def6f6243ba9c3e1d89d68543aa",
       "marks": [
        "IPY_MODEL_5dafb438d38049ce9751d816a228725e"
       ],
       "max_aspect_ratio": 6,
       "scale_x": "IPY_MODEL_f099450ab2d442c8a2c817280b3533b1",
       "scale_y": "IPY_MODEL_1286b9fa78914484b4c54e84c9e38198",
       "title": "Number of Emails sent Daily"
      }
     },
     "3a415bd400574d21b733960fec7d4725": {
      "model_module": "@jupyter-widgets/base",
      "model_module_version": "1.0.0",
      "model_name": "LayoutModel",
      "state": {}
     },
     "3a53b60b57de4239bc9df6f006d787ff": {
      "model_module": "@jupyter-widgets/base",
      "model_module_version": "1.0.0",
      "model_name": "LayoutModel",
      "state": {
       "min_width": "125px"
      }
     },
     "3a974a827ad5491aa30290b05c27ed6d": {
      "model_module": "bqplot",
      "model_module_version": "^0.3.6",
      "model_name": "LinearScaleModel",
      "state": {
       "allow_padding": false,
       "max": 1,
       "min": 0,
       "stabilized": false
      }
     },
     "3ad45964d5ee4088adf884ffb66fcf4a": {
      "model_module": "bqplot",
      "model_module_version": "^0.3.6",
      "model_name": "PanZoomModel",
      "state": {
       "scales": {
        "x": [
         "IPY_MODEL_11c664364f0b451a9643005c859b9838"
        ],
        "y": [
         "IPY_MODEL_9335e64acd6a4a81953f597b8fb3aa70"
        ]
       }
      }
     },
     "3b432f5ca75d4096978d3814442f0670": {
      "model_module": "bqplot",
      "model_module_version": "^0.3.6",
      "model_name": "LinearScaleModel",
      "state": {
       "stabilized": false
      }
     },
     "3cbbdca4541f4708b753818e3ee68980": {
      "model_module": "bqplot",
      "model_module_version": "^0.3.6",
      "model_name": "PanZoomModel",
      "state": {
       "scales": {
        "x": [
         "IPY_MODEL_f7ed0e1482b14fa28fd05c7435b40e25"
        ],
        "y": [
         "IPY_MODEL_e27ccb83b443492bbb02d7891c1174ac"
        ]
       }
      }
     },
     "3cef738971de4976a328043527b970e2": {
      "model_module": "bqplot",
      "model_module_version": "^0.3.6",
      "model_name": "LinearScaleModel",
      "state": {
       "stabilized": false
      }
     },
     "3d01c9696db0488ea55613e08d39916c": {
      "model_module": "bqplot",
      "model_module_version": "^0.3.6",
      "model_name": "DateScaleModel",
      "state": {}
     },
     "3d038edc7592444d9c7482bdd43e1a33": {
      "model_module": "bqplot",
      "model_module_version": "^0.3.6",
      "model_name": "TooltipModel",
      "state": {
       "fields": [
        "x",
        "y"
       ],
       "formats": [
        "",
        "0.2f"
       ],
       "labels": [
        "Date",
        "Email Size"
       ],
       "layout": "IPY_MODEL_4c6b3a87abc942efa3849e3ecc603ecc"
      }
     },
     "3d0f52299b8d4dc1b2f4957b633a070c": {
      "model_module": "@jupyter-widgets/base",
      "model_module_version": "1.0.0",
      "model_name": "LayoutModel",
      "state": {}
     },
     "3d9e4dca12384beaa10c5e05c09cd111": {
      "model_module": "@jupyter-widgets/base",
      "model_module_version": "1.0.0",
      "model_name": "LayoutModel",
      "state": {}
     },
     "3e3da0d8677a43b0ad19912f0f8f4316": {
      "model_module": "bqplot",
      "model_module_version": "^0.3.6",
      "model_name": "DateScaleModel",
      "state": {}
     },
     "3f19a7ff93f84ecdb4f2a65e518dc327": {
      "model_module": "@jupyter-widgets/base",
      "model_module_version": "1.0.0",
      "model_name": "LayoutModel",
      "state": {}
     },
     "3f59c483aca54ebbbaeb2c5238615d47": {
      "model_module": "bqplot",
      "model_module_version": "^0.3.6",
      "model_name": "TooltipModel",
      "state": {
       "fields": [
        "x",
        "y"
       ],
       "formats": [
        "",
        "0.2f"
       ],
       "labels": [
        "Date",
        "Email Size"
       ],
       "layout": "IPY_MODEL_5bc7c1bc1a2f457fa7707493be78d152"
      }
     },
     "3f86bfce725f440bb222dcc70440768f": {
      "model_module": "bqplot",
      "model_module_version": "^0.3.6",
      "model_name": "PanZoomModel",
      "state": {
       "scales": {
        "x": [
         "IPY_MODEL_948fc86e10614a788dbeccc7d1d10b88"
        ],
        "y": [
         "IPY_MODEL_c1d3f01142ac42e1831f72414d74f2a7"
        ]
       }
      }
     },
     "41194544588f4c4aad5da3bc28113726": {
      "model_module": "bqplot",
      "model_module_version": "^0.3.6",
      "model_name": "AxisModel",
      "state": {
       "label": "Days of the Year",
       "scale": "IPY_MODEL_f688399db4ed48baa5c59dae50047397",
       "side": "bottom",
       "tick_format": "%Y-%m-%d",
       "tick_values": {
        "type": null,
        "values": null
       }
      }
     },
     "41289ab7b7b149d487703db4bddb1a3e": {
      "model_module": "bqplot",
      "model_module_version": "^0.3.6",
      "model_name": "BarsModel",
      "state": {
       "color": {
        "type": null,
        "values": null
       },
       "colors": [
        "blue"
       ],
       "interactions": {
        "click": "select",
        "hover": "tooltip",
        "legend_hover": "highlight_axes"
       },
       "labels": [
        "Email"
       ],
       "scales": {
        "x": "IPY_MODEL_f37f0acf56ce4465a2af19d741594739",
        "y": "IPY_MODEL_0db5346c93ed4fcaadd8bcc9b07a8244"
       },
       "selected": [],
       "selected_style": {
        "fill": "red"
       },
       "tooltip": "IPY_MODEL_91d4546a3d7744c1803f7bfefce1d8c0",
       "x": {
        "type": "date",
        "values": [
         "2010-02-09T00:00:00.000000",
         "2010-02-10T00:00:00.000000",
         "2010-02-11T00:00:00.000000",
         "2010-02-12T00:00:00.000000"
        ]
       },
       "y": {
        "type": "float",
        "values": [
         12.34769,
         5.936973,
         2.56502,
         0.979065
        ]
       }
      }
     },
     "417257b198c94745b8bd471d52c17a73": {
      "model_module": "bqplot",
      "model_module_version": "^0.3.6",
      "model_name": "FigureModel",
      "state": {
       "_dom_classes": [],
       "animation_duration": 1000,
       "axes": [
        "IPY_MODEL_f6f188a4b28041e1895777957a91cfb9",
        "IPY_MODEL_5983250982b147118b3cb6233cb1c8a5"
       ],
       "layout": "IPY_MODEL_0d29b322010e44f0b881c1d70252109a",
       "marks": [
        "IPY_MODEL_d3a548b2d45540649e9e4c4e0ab18c04"
       ],
       "max_aspect_ratio": 6,
       "scale_x": "IPY_MODEL_df605b6da3a748ccaf64b5fd402f8681",
       "scale_y": "IPY_MODEL_db6de78624724c02ab40cc21650446c1",
       "title": "Number of Emails sent Daily"
      }
     },
     "41980a024da34d83b0a2c324552a641a": {
      "model_module": "bqplot",
      "model_module_version": "^0.3.6",
      "model_name": "LinearScaleModel",
      "state": {
       "allow_padding": false,
       "max": 1,
       "min": 0,
       "stabilized": false
      }
     },
     "41b31123f9aa41b591680413bd29ad41": {
      "model_module": "bqplot",
      "model_module_version": "^0.3.6",
      "model_name": "PanZoomModel",
      "state": {
       "scales": {
        "x": [
         "IPY_MODEL_a039be3364894427bcd777eb16d7f8a0"
        ],
        "y": [
         "IPY_MODEL_d6cb954f87dc46189683686a3b1f69b4"
        ]
       }
      }
     },
     "41fac9cbea624379887bd2f4d3e99f44": {
      "model_module": "bqplot",
      "model_module_version": "^0.3.6",
      "model_name": "AxisModel",
      "state": {
       "label": "Number of Emails",
       "orientation": "vertical",
       "scale": "IPY_MODEL_582ba2652e8a4933aa90340993a2a718",
       "side": "left",
       "tick_format": "0.2f",
       "tick_values": {
        "type": null,
        "values": null
       }
      }
     },
     "42386072f35249a28ba43022908d17c3": {
      "model_module": "@jupyter-widgets/base",
      "model_module_version": "1.0.0",
      "model_name": "LayoutModel",
      "state": {
       "height": "228",
       "width": "304"
      }
     },
     "425a3885a3b64a66b14a5170c7fb4e4f": {
      "model_module": "bqplot",
      "model_module_version": "^0.3.6",
      "model_name": "AxisModel",
      "state": {
       "label": "Number of Emails",
       "orientation": "vertical",
       "scale": "IPY_MODEL_4c66d36964b4408788d6323ddaed4325",
       "side": "left",
       "tick_format": "0.2f",
       "tick_values": {
        "type": null,
        "values": null
       }
      }
     },
     "42885b82587c4cdcb609497caba017c3": {
      "model_module": "bqplot",
      "model_module_version": "^0.3.6",
      "model_name": "AxisModel",
      "state": {
       "label": "Number of Emails",
       "orientation": "vertical",
       "scale": "IPY_MODEL_d14ee27c47e448de96022a2ca199335e",
       "side": "left",
       "tick_format": "0.2f",
       "tick_values": {
        "type": null,
        "values": null
       }
      }
     },
     "42e2882bb58842d9ba901c011d0fba66": {
      "model_module": "bqplot",
      "model_module_version": "^0.3.6",
      "model_name": "LinearScaleModel",
      "state": {
       "stabilized": false
      }
     },
     "42ee3e7beea94917b4a0bcd0f44c1de8": {
      "model_module": "bqplot",
      "model_module_version": "^0.3.6",
      "model_name": "AxisModel",
      "state": {
       "label": "Days of the Year",
       "scale": "IPY_MODEL_a039be3364894427bcd777eb16d7f8a0",
       "side": "bottom",
       "tick_values": {
        "type": null,
        "values": null
       }
      }
     },
     "42fa09b8daeb4d66a6fa862e48f7f993": {
      "model_module": "bqplot",
      "model_module_version": "^0.3.6",
      "model_name": "DateScaleModel",
      "state": {}
     },
     "430e841a7ec9438f821b0066ec790213": {
      "model_module": "bqplot",
      "model_module_version": "^0.3.6",
      "model_name": "LinearScaleModel",
      "state": {
       "allow_padding": false,
       "max": 1,
       "min": 0,
       "stabilized": false
      }
     },
     "447ebe664c144107998d9526f293c5ab": {
      "model_module": "bqplot",
      "model_module_version": "^0.3.6",
      "model_name": "BarsModel",
      "state": {
       "color": {
        "type": null,
        "values": null
       },
       "colors": [
        "blue"
       ],
       "labels": [
        "email"
       ],
       "scales": {
        "x": "IPY_MODEL_c07496180bf74b6eba46c49cdcf13019",
        "y": "IPY_MODEL_604f828f8e694c8d8c03be4b1ba34c50"
       },
       "selected": [],
       "tooltip": "IPY_MODEL_e3b471d916f94bb79a634d53ce746c98",
       "x": {
        "type": "object",
        "values": [
         "2010-02-09",
         "2010-02-10",
         "2010-02-11",
         "2010-02-12"
        ]
       },
       "y": {
        "type": "float",
        "values": [
         12.34769,
         5.936973,
         2.56502,
         0.979065
        ]
       }
      }
     },
     "452758fad2ab484bb99388afdca1a869": {
      "model_module": "@jupyter-widgets/base",
      "model_module_version": "1.0.0",
      "model_name": "LayoutModel",
      "state": {}
     },
     "45baa1e766694045b60e9d9a3bd93d14": {
      "model_module": "bqplot",
      "model_module_version": "^0.3.6",
      "model_name": "AxisModel",
      "state": {
       "label": "Days of the Year",
       "scale": "IPY_MODEL_db645cb3f41f4cacab1edb345af08aba",
       "side": "bottom",
       "tick_values": {
        "type": null,
        "values": null
       }
      }
     },
     "45c9cb5bbc3d4141967daa70077d2d24": {
      "model_module": "@jupyter-widgets/base",
      "model_module_version": "1.0.0",
      "model_name": "LayoutModel",
      "state": {}
     },
     "45f3bfe78e3f4a6aa9e95a18f32b125a": {
      "model_module": "bqplot",
      "model_module_version": "^0.3.6",
      "model_name": "AxisModel",
      "state": {
       "label": "Number of Emails",
       "orientation": "vertical",
       "scale": "IPY_MODEL_cf707c6368d14e238c92cbc74ff22a89",
       "side": "left",
       "tick_format": "0.2f",
       "tick_values": {
        "type": null,
        "values": null
       }
      }
     },
     "45fbf92598c946ed8fbb01bd491ffbc3": {
      "model_module": "bqplot",
      "model_module_version": "^0.3.6",
      "model_name": "AxisModel",
      "state": {
       "label": "Days of the Year",
       "scale": "IPY_MODEL_f6c412090edb4aecb2efceae5ca95ed4",
       "side": "bottom",
       "tick_format": "%Y-%m-%d",
       "tick_values": {
        "type": null,
        "values": null
       }
      }
     },
     "463e839b9a7243aea6f95bd8794fe92c": {
      "model_module": "bqplot",
      "model_module_version": "^0.3.6",
      "model_name": "AxisModel",
      "state": {
       "label": "Days of the Year",
       "scale": "IPY_MODEL_87c3ab5873c3455a9d21cc0627ed6942",
       "side": "bottom",
       "tick_format": "%Y-%m-%d",
       "tick_values": {
        "type": null,
        "values": null
       }
      }
     },
     "47b2007de7354e57adb33f04989305ce": {
      "model_module": "bqplot",
      "model_module_version": "^0.3.6",
      "model_name": "LinearScaleModel",
      "state": {
       "stabilized": false
      }
     },
     "47b8d15ce370486f9222eaf2889f915a": {
      "model_module": "bqplot",
      "model_module_version": "^0.3.6",
      "model_name": "TooltipModel",
      "state": {
       "fields": [
        "x",
        "y"
       ],
       "formats": [
        "",
        "0.2f"
       ],
       "labels": [
        "Date",
        "Email Size"
       ],
       "layout": "IPY_MODEL_19d495f6dc35487fb1e2e346dbb3b0cc"
      }
     },
     "47eb1a1571e647c0bccb5fd31acd172a": {
      "model_module": "bqplot",
      "model_module_version": "^0.3.6",
      "model_name": "FigureModel",
      "state": {
       "_dom_classes": [],
       "animation_duration": 1000,
       "axes": [
        "IPY_MODEL_b2996321a54e477aac49d8820037bf7e",
        "IPY_MODEL_1d82a8d1238d45b282c3d1567c7c60f8"
       ],
       "layout": "IPY_MODEL_cef53def6f6243ba9c3e1d89d68543aa",
       "marks": [
        "IPY_MODEL_caa5b6fcdfd0446981bb21bfb3071304"
       ],
       "max_aspect_ratio": 6,
       "scale_x": "IPY_MODEL_2baa07a1e55345c1be9ac88993104d54",
       "scale_y": "IPY_MODEL_ba31defe9f90448bad701ff906ed10d4",
       "title": "Number of Emails sent Daily"
      }
     },
     "48205606994341f1b6502f84ee5bff15": {
      "model_module": "bqplot",
      "model_module_version": "^0.3.6",
      "model_name": "AxisModel",
      "state": {
       "label": "Number of Emails",
       "orientation": "vertical",
       "scale": "IPY_MODEL_71aa5ae2471d40de8c1a8e5b0ffd337d",
       "side": "left",
       "tick_format": "0.2f",
       "tick_values": {
        "type": null,
        "values": null
       }
      }
     },
     "491eb4b3d537415dbc097253106ad7c1": {
      "model_module": "bqplot",
      "model_module_version": "^0.3.6",
      "model_name": "AxisModel",
      "state": {
       "label": "Days of the Year",
       "orientation": "vertical",
       "scale": "IPY_MODEL_948fc86e10614a788dbeccc7d1d10b88",
       "side": "left",
       "tick_format": "%Y-%m-%d",
       "tick_values": {
        "type": null,
        "values": null
       }
      }
     },
     "495017759eab48d593fa4de011537ce4": {
      "model_module": "bqplot",
      "model_module_version": "^0.3.6",
      "model_name": "FigureModel",
      "state": {
       "_dom_classes": [],
       "animation_duration": 1000,
       "axes": [
        "IPY_MODEL_9a522f6d267f455c8de11e6506692636",
        "IPY_MODEL_45f3bfe78e3f4a6aa9e95a18f32b125a"
       ],
       "layout": "IPY_MODEL_e2ad6f17b4ac40e9a1e4c92c79930490",
       "marks": [
        "IPY_MODEL_a65bce1da8a44772a6368da9efdefdeb"
       ],
       "max_aspect_ratio": 6,
       "scale_x": "IPY_MODEL_685b4f3cb5b445a0ba688fab52faea2b",
       "scale_y": "IPY_MODEL_6ff16a5645b540fab70324b07566776d",
       "title": "Number of Emails sent Daily"
      }
     },
     "4964e502b16741fb937ae56a88369b58": {
      "model_module": "bqplot",
      "model_module_version": "^0.3.6",
      "model_name": "PanZoomModel",
      "state": {
       "scales": {
        "x": [
         "IPY_MODEL_02144f8e8e634dd1a101c076816f59c8"
        ],
        "y": [
         "IPY_MODEL_25606ce003964d3da4284c82996232ea"
        ]
       }
      }
     },
     "496f4f1e61644b6d94ef47a21020761c": {
      "model_module": "bqplot",
      "model_module_version": "^0.3.6",
      "model_name": "LinearScaleModel",
      "state": {
       "allow_padding": false,
       "max": 1,
       "min": 0,
       "stabilized": false
      }
     },
     "498e0877da9e434f95eda640af4d94e8": {
      "model_module": "bqplot",
      "model_module_version": "^0.3.6",
      "model_name": "PanZoomModel",
      "state": {
       "scales": {
        "x": [
         "IPY_MODEL_9df560b96b3c42c7a195b6115848a0b3"
        ],
        "y": [
         "IPY_MODEL_c29cd9e8d0fa455183718d1ae15ce4f9"
        ]
       }
      }
     },
     "4993aca3157742dfa9fa9077764638e6": {
      "model_module": "@jupyter-widgets/base",
      "model_module_version": "1.0.0",
      "model_name": "LayoutModel",
      "state": {}
     },
     "49c8a88fdaab4a56ac91698651f43f64": {
      "model_module": "bqplot",
      "model_module_version": "^0.3.6",
      "model_name": "FigureModel",
      "state": {
       "_dom_classes": [],
       "animation_duration": 1000,
       "axes": [
        "IPY_MODEL_f9aaa3e81df54c3fa856193457d03350",
        "IPY_MODEL_42885b82587c4cdcb609497caba017c3"
       ],
       "background_style": {
        "fill": "aliceblue"
       },
       "layout": "IPY_MODEL_cef53def6f6243ba9c3e1d89d68543aa",
       "marks": [
        "IPY_MODEL_83336fe5273b466992178560389c2364"
       ],
       "max_aspect_ratio": 6,
       "scale_x": "IPY_MODEL_9eee0169c86a4c5b944526a32f0239f4",
       "scale_y": "IPY_MODEL_9dcdc3ca5b434075bf2585bdf6b1a69f",
       "title": "Number of Emails sent Daily"
      }
     },
     "49e00ca6d54742bd86284b37d1be4fe6": {
      "model_module": "bqplot",
      "model_module_version": "^0.3.6",
      "model_name": "FigureModel",
      "state": {
       "_dom_classes": [],
       "animation_duration": 1000,
       "axes": [
        "IPY_MODEL_d4c8c49954c6417b931ef30f03eb8178",
        "IPY_MODEL_eadbd8575f1244cfb36c2ce7c2fb0520"
       ],
       "background_style": {
        "fill": "mediumpurple"
       },
       "layout": "IPY_MODEL_cef53def6f6243ba9c3e1d89d68543aa",
       "marks": [
        "IPY_MODEL_77690dbdc781429fbcdcb31c0850b719"
       ],
       "max_aspect_ratio": 6,
       "scale_x": "IPY_MODEL_0f1bf1ec0968440181d8939afa47bba0",
       "scale_y": "IPY_MODEL_54e08648588c4853bae6551c2f8abb0d",
       "title": "Number of Emails sent Daily"
      }
     },
     "4a10de8575754660b481337da241eed9": {
      "model_module": "bqplot",
      "model_module_version": "^0.3.6",
      "model_name": "AxisModel",
      "state": {
       "label": "Days of the Year",
       "scale": "IPY_MODEL_02144f8e8e634dd1a101c076816f59c8",
       "side": "bottom",
       "tick_values": {
        "type": null,
        "values": null
       }
      }
     },
     "4aaeb0dd01c3410c993cea9abbe78d47": {
      "model_module": "bqplot",
      "model_module_version": "^0.3.6",
      "model_name": "LinearScaleModel",
      "state": {
       "allow_padding": false,
       "max": 1,
       "min": 0,
       "stabilized": false
      }
     },
     "4b551fd776ed4cc4b4be1a8a63287049": {
      "model_module": "bqplot",
      "model_module_version": "^0.3.6",
      "model_name": "LinearScaleModel",
      "state": {
       "allow_padding": false,
       "max": 1,
       "min": 0,
       "stabilized": false
      }
     },
     "4b69f14ba8454e84a0c1ab21965e7e54": {
      "model_module": "bqplot",
      "model_module_version": "^0.3.6",
      "model_name": "FigureModel",
      "state": {
       "_dom_classes": [],
       "animation_duration": 1000,
       "axes": [
        "IPY_MODEL_2b4019e853f14b1c9c8143a18b763665",
        "IPY_MODEL_30f7f5d00e8a4d8c8261c1649d666c8b"
       ],
       "background_style": {
        "fill": "white"
       },
       "layout": "IPY_MODEL_cef53def6f6243ba9c3e1d89d68543aa",
       "marks": [
        "IPY_MODEL_ea50393db3c04be0aaac77edba5bf3b4"
       ],
       "max_aspect_ratio": 6,
       "scale_x": "IPY_MODEL_83b021eda282433e9132be8d136ec685",
       "scale_y": "IPY_MODEL_b0a3866cf9ea4e5d82b1e996162e6d47",
       "title": "Number of Emails sent Daily"
      }
     },
     "4b8cd7dd4714421badaa7f38f215dec3": {
      "model_module": "bqplot",
      "model_module_version": "^0.3.6",
      "model_name": "DateScaleModel",
      "state": {}
     },
     "4bdb63bf583143198805704258dd201b": {
      "model_module": "bqplot",
      "model_module_version": "^0.3.6",
      "model_name": "PanZoomModel",
      "state": {
       "scales": {
        "x": [
         "IPY_MODEL_8540f5a4c6124e9db7219fd4395c6d1c"
        ],
        "y": [
         "IPY_MODEL_3673ea6dacc24a0aa07299a8e120d531"
        ]
       }
      }
     },
     "4c21c3c58bb14a229d6fe34012be96be": {
      "model_module": "@jupyter-widgets/base",
      "model_module_version": "1.0.0",
      "model_name": "LayoutModel",
      "state": {}
     },
     "4c562d319d97407181a766928c9c689b": {
      "model_module": "bqplot",
      "model_module_version": "^0.3.6",
      "model_name": "FigureModel",
      "state": {
       "_dom_classes": [],
       "animation_duration": 1000,
       "axes": [
        "IPY_MODEL_a23fe23655b54f5bb7671330c0ff3ff5",
        "IPY_MODEL_80785264f7c64c4096c89d31287a0fce"
       ],
       "layout": "IPY_MODEL_bcdeeb9ccf57411b912c88a0dcb96dde",
       "marks": [
        "IPY_MODEL_82acf7e246864c16b70337bcebe0644e"
       ],
       "max_aspect_ratio": 6,
       "scale_x": "IPY_MODEL_52d80620f99c4bec97292c1f1c1a6f2a",
       "scale_y": "IPY_MODEL_7af755b4a59b4a4fa0aac8dd396abaee",
       "title": "Number of Emails sent Daily"
      }
     },
     "4c6159c1abb1431c8e97c8b546937f57": {
      "model_module": "bqplot",
      "model_module_version": "^0.3.6",
      "model_name": "AxisModel",
      "state": {
       "label": "Days of the Year",
       "scale": "IPY_MODEL_bbbf8e6ef80e406d96378f3230c80183",
       "side": "bottom",
       "tick_format": "%Y-%m-%d",
       "tick_values": {
        "type": null,
        "values": null
       }
      }
     },
     "4c66d36964b4408788d6323ddaed4325": {
      "model_module": "bqplot",
      "model_module_version": "^0.3.6",
      "model_name": "LinearScaleModel",
      "state": {
       "stabilized": false
      }
     },
     "4c6b3a87abc942efa3849e3ecc603ecc": {
      "model_module": "@jupyter-widgets/base",
      "model_module_version": "1.0.0",
      "model_name": "LayoutModel",
      "state": {}
     },
     "4dc7e1297fb1470485acda46d1adcf50": {
      "model_module": "bqplot",
      "model_module_version": "^0.3.6",
      "model_name": "TooltipModel",
      "state": {
       "fields": [
        "x",
        "y"
       ],
       "formats": [
        "",
        "0.2f"
       ],
       "labels": [
        "Date",
        "Email Size"
       ],
       "layout": "IPY_MODEL_3f19a7ff93f84ecdb4f2a65e518dc327"
      }
     },
     "4de2b35b99a044b0a05b97b4366f54ff": {
      "model_module": "@jupyter-widgets/controls",
      "model_module_version": "1.2.0",
      "model_name": "VBoxModel",
      "state": {
       "children": [
        "IPY_MODEL_417257b198c94745b8bd471d52c17a73"
       ],
       "layout": "IPY_MODEL_45c9cb5bbc3d4141967daa70077d2d24"
      }
     },
     "4e2bcea68b9f4d28bf0fd5f161922312": {
      "model_module": "@jupyter-widgets/base",
      "model_module_version": "1.0.0",
      "model_name": "LayoutModel",
      "state": {}
     },
     "4e835d73d9e7424c95cc71b340c33f04": {
      "model_module": "@jupyter-widgets/base",
      "model_module_version": "1.0.0",
      "model_name": "LayoutModel",
      "state": {}
     },
     "4ec142b93f9a430dbfe0ef44fa46fd10": {
      "model_module": "bqplot",
      "model_module_version": "^0.3.6",
      "model_name": "AxisModel",
      "state": {
       "label": "Days of the Year",
       "scale": "IPY_MODEL_a7ef6f74c5b04e20aeb440cefe08d46d",
       "side": "bottom",
       "tick_values": {
        "type": null,
        "values": null
       }
      }
     },
     "4eca2970fc1a4f478ba70d6a2dc7b8bb": {
      "model_module": "bqplot",
      "model_module_version": "^0.3.6",
      "model_name": "TooltipModel",
      "state": {
       "fields": [
        "x",
        "y"
       ],
       "formats": [
        "",
        "0.2f"
       ],
       "labels": [
        "Date",
        "Email Size"
       ],
       "layout": "IPY_MODEL_666d1471ae174391b6aee9f73ecb5815"
      }
     },
     "4f1f16f90304443f8f6091d6fcc90850": {
      "model_module": "@jupyter-widgets/controls",
      "model_module_version": "1.2.0",
      "model_name": "VBoxModel",
      "state": {
       "children": [
        "IPY_MODEL_d9aa80f4a358492bb2044085c6573ad2"
       ],
       "layout": "IPY_MODEL_3d0f52299b8d4dc1b2f4957b633a070c"
      }
     },
     "4f44a4d0b2b04d53bd617411baa4e919": {
      "model_module": "bqplot",
      "model_module_version": "^0.3.6",
      "model_name": "DateScaleModel",
      "state": {}
     },
     "4f70a809b7f64658aae7a1c68c3dba72": {
      "model_module": "bqplot",
      "model_module_version": "^0.3.6",
      "model_name": "AxisModel",
      "state": {
       "label": "Days of the Year",
       "scale": "IPY_MODEL_e1aa282bca9845b7ac4915a3547e333d",
       "side": "bottom",
       "tick_values": {
        "type": null,
        "values": null
       }
      }
     },
     "4f92642813834c5ea37e99100cb7a1df": {
      "model_module": "bqplot",
      "model_module_version": "^0.3.6",
      "model_name": "FigureModel",
      "state": {
       "_dom_classes": [],
       "animation_duration": 1000,
       "axes": [
        "IPY_MODEL_42ee3e7beea94917b4a0bcd0f44c1de8",
        "IPY_MODEL_60412c53412441db9b69ec817f88e4ab"
       ],
       "layout": "IPY_MODEL_42386072f35249a28ba43022908d17c3",
       "marks": [
        "IPY_MODEL_a2b3ba977da74c1b906d2d5237b2b2b8"
       ],
       "max_aspect_ratio": 6,
       "scale_x": "IPY_MODEL_0ad3fb2fa3bf4e8eabe4f5864dc06556",
       "scale_y": "IPY_MODEL_603f7e85b4414989bcbd812e3802ebcb",
       "title": "Number of Emails sent Daily"
      }
     },
     "4fe370f355834c948d42743ba6aeb861": {
      "model_module": "bqplot",
      "model_module_version": "^0.3.6",
      "model_name": "FigureModel",
      "state": {
       "_dom_classes": [],
       "animation_duration": 1000,
       "axes": [
        "IPY_MODEL_6932a57e319841efa53e3c2e83af5449",
        "IPY_MODEL_7f9d4390cef4458f828faf2a8dce12d0"
       ],
       "layout": "IPY_MODEL_de06ecf734ab4b6289d74f87f22c2d44",
       "marks": [
        "IPY_MODEL_9be651cc0a8942feb5e96b9b21be8c57"
       ],
       "max_aspect_ratio": 6,
       "scale_x": "IPY_MODEL_cbd8ce64760c46a98560b3c715b34d8c",
       "scale_y": "IPY_MODEL_7d82b6e0dab547c9b3acfc411065a9c0",
       "title": "Number of Emails sent Daily"
      }
     },
     "50f0f34063ec4c6d8a92d1c03eac64a3": {
      "model_module": "@jupyter-widgets/base",
      "model_module_version": "1.0.0",
      "model_name": "LayoutModel",
      "state": {}
     },
     "5247c7e05cbe44609985a736d415334c": {
      "model_module": "@jupyter-widgets/controls",
      "model_module_version": "1.2.0",
      "model_name": "VBoxModel",
      "state": {
       "children": [
        "IPY_MODEL_d60a2f9288244a9db151c486aaa42031"
       ],
       "layout": "IPY_MODEL_9f50f686972b4e488734fc9ce969f42e"
      }
     },
     "52b43d19106e4119a86db18cfd691dbb": {
      "model_module": "bqplot",
      "model_module_version": "^0.3.6",
      "model_name": "BarsModel",
      "state": {
       "color": {
        "type": null,
        "values": null
       },
       "colors": [
        "blue"
       ],
       "interactions": {
        "click": "select",
        "hover": "tooltip",
        "legend_hover": "highlight_axes"
       },
       "labels": [
        "Email"
       ],
       "scales": {
        "x": "IPY_MODEL_b95677c30aea4506a826404791eba6c4",
        "y": "IPY_MODEL_7ea1c24fada54db084201ef9fccc4931"
       },
       "selected": [],
       "selected_style": {
        "fill": "red"
       },
       "tooltip": "IPY_MODEL_7045b0dc99704e1381be3e704ef0e26f",
       "x": {
        "type": "date",
        "values": [
         "2010-02-09T00:00:00.000000",
         "2010-02-10T00:00:00.000000",
         "2010-02-11T00:00:00.000000",
         "2010-02-12T00:00:00.000000"
        ]
       },
       "y": {
        "type": "float",
        "values": [
         12.34769,
         5.936973,
         2.56502,
         0.979065
        ]
       }
      }
     },
     "52d80620f99c4bec97292c1f1c1a6f2a": {
      "model_module": "bqplot",
      "model_module_version": "^0.3.6",
      "model_name": "LinearScaleModel",
      "state": {
       "allow_padding": false,
       "max": 1,
       "min": 0,
       "stabilized": false
      }
     },
     "52e94c02c3ea4f35bd7cc59d642617ae": {
      "model_module": "bqplot",
      "model_module_version": "^0.3.6",
      "model_name": "BarsModel",
      "state": {
       "color": {
        "type": null,
        "values": null
       },
       "colors": [
        "blue"
       ],
       "interactions": {
        "click": "select",
        "hover": "tooltip",
        "legend_hover": "highlight_axes"
       },
       "labels": [
        "Email"
       ],
       "scales": {
        "x": "IPY_MODEL_11c664364f0b451a9643005c859b9838",
        "y": "IPY_MODEL_9335e64acd6a4a81953f597b8fb3aa70"
       },
       "selected": [],
       "tooltip": "IPY_MODEL_da2109ec002144e08ab5f186f1acc104",
       "x": {
        "type": "date",
        "values": [
         "2010-02-09T00:00:00.000000",
         "2010-02-10T00:00:00.000000",
         "2010-02-11T00:00:00.000000",
         "2010-02-12T00:00:00.000000"
        ]
       },
       "y": {
        "type": "float",
        "values": [
         12.34769,
         5.936973,
         2.56502,
         0.979065
        ]
       }
      }
     },
     "536059f7f20d443eaf4df88407ef3096": {
      "model_module": "bqplot",
      "model_module_version": "^0.3.6",
      "model_name": "AxisModel",
      "state": {
       "label": "Days of the Year",
       "scale": "IPY_MODEL_f7ed0e1482b14fa28fd05c7435b40e25",
       "side": "bottom",
       "tick_values": {
        "type": null,
        "values": null
       }
      }
     },
     "53bc0bef2883423f97150cbaf41a8892": {
      "model_module": "bqplot",
      "model_module_version": "^0.3.6",
      "model_name": "BarsModel",
      "state": {
       "color": {
        "type": null,
        "values": null
       },
       "colors": [
        "blue"
       ],
       "interactions": {
        "click": "select",
        "hover": "tooltip",
        "legend_hover": "highlight_axes"
       },
       "labels": [
        "Email"
       ],
       "scales": {
        "x": "IPY_MODEL_2e5a4c61f5f3407bb8b06bbd8f9a7509",
        "y": "IPY_MODEL_bd49c10f0f07426c8f5e9dd60b8a07fe"
       },
       "selected": [],
       "tooltip": "IPY_MODEL_b54429353200498da64d2172631aed53",
       "x": {
        "type": "date",
        "values": [
         "2010-02-09T00:00:00.000000",
         "2010-02-10T00:00:00.000000",
         "2010-02-11T00:00:00.000000",
         "2010-02-12T00:00:00.000000"
        ]
       },
       "y": {
        "type": "float",
        "values": [
         12.34769,
         5.936973,
         2.56502,
         0.979065
        ]
       }
      }
     },
     "53c76f86d5ff4106b33b477cf77163fd": {
      "model_module": "bqplot",
      "model_module_version": "^0.3.6",
      "model_name": "FigureModel",
      "state": {
       "_dom_classes": [],
       "animation_duration": 1000,
       "axes": [
        "IPY_MODEL_4c6159c1abb1431c8e97c8b546937f57",
        "IPY_MODEL_123629ec4fbf42909b0514bc907dff9f"
       ],
       "layout": "IPY_MODEL_626e931d3437480e96984f97c374a085",
       "marks": [
        "IPY_MODEL_90b68716d82e40659df433ddecd35f97"
       ],
       "max_aspect_ratio": 6,
       "scale_x": "IPY_MODEL_fe38bc6a66fe42c98acb4f19d0fba459",
       "scale_y": "IPY_MODEL_76e8fae12f464291b2ec3b44328b859f",
       "title": "Number of Emails sent Daily"
      }
     },
     "53cf5c5e9341465ebe2066634511c2db": {
      "model_module": "bqplot",
      "model_module_version": "^0.3.6",
      "model_name": "DateScaleModel",
      "state": {}
     },
     "546935f790d94ac2913c06b7b8236d14": {
      "model_module": "@jupyter-widgets/base",
      "model_module_version": "1.0.0",
      "model_name": "LayoutModel",
      "state": {}
     },
     "54cb6d0d2ed045cc83eecf03b61883c8": {
      "model_module": "bqplot",
      "model_module_version": "^0.3.6",
      "model_name": "AxisModel",
      "state": {
       "label": "Number of Emails",
       "orientation": "vertical",
       "scale": "IPY_MODEL_bd49c10f0f07426c8f5e9dd60b8a07fe",
       "side": "left",
       "tick_format": "0.2f",
       "tick_values": {
        "type": null,
        "values": null
       }
      }
     },
     "54e08648588c4853bae6551c2f8abb0d": {
      "model_module": "bqplot",
      "model_module_version": "^0.3.6",
      "model_name": "LinearScaleModel",
      "state": {
       "allow_padding": false,
       "max": 1,
       "min": 0,
       "stabilized": false
      }
     },
     "55dc6032d7a34042b32d518152b31dfd": {
      "model_module": "@jupyter-widgets/base",
      "model_module_version": "1.0.0",
      "model_name": "LayoutModel",
      "state": {}
     },
     "5689ebc4e6f948e4ab580713b50fa166": {
      "model_module": "bqplot",
      "model_module_version": "^0.3.6",
      "model_name": "LinearScaleModel",
      "state": {
       "allow_padding": false,
       "max": 1,
       "min": 0,
       "stabilized": false
      }
     },
     "56d026ae903442f686987327d36304e3": {
      "model_module": "bqplot",
      "model_module_version": "^0.3.6",
      "model_name": "AxisModel",
      "state": {
       "label": "Days of the Year",
       "scale": "IPY_MODEL_11c664364f0b451a9643005c859b9838",
       "side": "bottom",
       "tick_values": {
        "type": null,
        "values": null
       }
      }
     },
     "57dcb33858a64e2185e03e3efdcf38ba": {
      "model_module": "bqplot",
      "model_module_version": "^0.3.6",
      "model_name": "TooltipModel",
      "state": {
       "fields": [
        "x",
        "y"
       ],
       "formats": [
        "",
        "0.2f"
       ],
       "labels": [
        "Date",
        "Email Size"
       ],
       "layout": "IPY_MODEL_f241c3a0f6a04daeb0a5f149734bf5fe"
      }
     },
     "58019f8beef34c01a535efdc94a2cfa4": {
      "model_module": "bqplot",
      "model_module_version": "^0.3.6",
      "model_name": "AxisModel",
      "state": {
       "label": "Days of the Year",
       "scale": "IPY_MODEL_963a6cf5b7694526b816c8714630c813",
       "side": "bottom",
       "tick_values": {
        "type": null,
        "values": null
       }
      }
     },
     "582ba2652e8a4933aa90340993a2a718": {
      "model_module": "bqplot",
      "model_module_version": "^0.3.6",
      "model_name": "LinearScaleModel",
      "state": {
       "stabilized": false
      }
     },
     "586f79e630a745e8891dc16af227f4b2": {
      "model_module": "bqplot",
      "model_module_version": "^0.3.6",
      "model_name": "DateScaleModel",
      "state": {}
     },
     "588e7e1546ee49d1a5e29192e661ba7b": {
      "model_module": "bqplot",
      "model_module_version": "^0.3.6",
      "model_name": "AxisModel",
      "state": {
       "label": "Number of Emails",
       "orientation": "vertical",
       "scale": "IPY_MODEL_26fdd78661b04544ad5f62053cae485c",
       "side": "left",
       "tick_format": "0.2f",
       "tick_values": {
        "type": null,
        "values": null
       }
      }
     },
     "58b2012a3b0741778e04df76284e451e": {
      "model_module": "bqplot",
      "model_module_version": "^0.3.6",
      "model_name": "LinearScaleModel",
      "state": {
       "allow_padding": false,
       "max": 1,
       "min": 0,
       "stabilized": false
      }
     },
     "593d67102b2b463ba90aea4b21192851": {
      "model_module": "bqplot",
      "model_module_version": "^0.3.6",
      "model_name": "AxisModel",
      "state": {
       "label": "Number of Emails",
       "orientation": "vertical",
       "scale": "IPY_MODEL_2ae1adc489994905a6a2dae9b5577bc9",
       "side": "left",
       "tick_format": "0.2f",
       "tick_values": {
        "type": null,
        "values": null
       }
      }
     },
     "5983250982b147118b3cb6233cb1c8a5": {
      "model_module": "bqplot",
      "model_module_version": "^0.3.6",
      "model_name": "AxisModel",
      "state": {
       "label": "Number of Emails",
       "orientation": "vertical",
       "scale": "IPY_MODEL_161f99af2e5141bd9f83a2343f9293b3",
       "side": "left",
       "tick_format": "0.2f",
       "tick_values": {
        "type": null,
        "values": null
       }
      }
     },
     "5986b9b20f304539aaee7ed527a59505": {
      "model_module": "bqplot",
      "model_module_version": "^0.3.6",
      "model_name": "AxisModel",
      "state": {
       "label": "Days of the Year",
       "scale": "IPY_MODEL_9df560b96b3c42c7a195b6115848a0b3",
       "side": "bottom",
       "tick_values": {
        "type": null,
        "values": null
       }
      }
     },
     "59a279d074d0464c853f9d62d9fe4a62": {
      "model_module": "bqplot",
      "model_module_version": "^0.3.6",
      "model_name": "FigureModel",
      "state": {
       "_dom_classes": [],
       "animation_duration": 1000,
       "axes": [
        "IPY_MODEL_6e7662abe7f34804b4649da5f652568c",
        "IPY_MODEL_d9a52dce18f0452fbbc2ba1c3f3454e3"
       ],
       "layout": "IPY_MODEL_c65d48cb41a24fbb985ef4bf10fcb236",
       "marks": [
        "IPY_MODEL_1fb9f6883e1643e59a195107aa4b6ae9"
       ],
       "max_aspect_ratio": 6,
       "scale_x": "IPY_MODEL_5af6c31db44d41959812aa306d903ac7",
       "scale_y": "IPY_MODEL_629c44aed5b24ee6adc19975e9962f2f",
       "title": "Number of Emails sent Daily"
      }
     },
     "5a6c8ec923ee473b9d53ffbc048543aa": {
      "model_module": "bqplot",
      "model_module_version": "^0.3.6",
      "model_name": "LinearScaleModel",
      "state": {
       "allow_padding": false,
       "max": 1,
       "min": 0,
       "stabilized": false
      }
     },
     "5a9a5f2e4d2344b4817f4df42befa20c": {
      "model_module": "@jupyter-widgets/controls",
      "model_module_version": "1.2.0",
      "model_name": "VBoxModel",
      "state": {
       "children": [
        "IPY_MODEL_89bd58dc0bcd4437b791c31de14f14a4"
       ],
       "layout": "IPY_MODEL_14c23314483b430688364f53b96f37fd"
      }
     },
     "5ad516f07f0e464eb70900c4bc520234": {
      "model_module": "bqplot",
      "model_module_version": "^0.3.6",
      "model_name": "AxisModel",
      "state": {
       "label": "Number of Emails",
       "orientation": "vertical",
       "scale": "IPY_MODEL_e6587057b58941b19a62374d51a50f1b",
       "side": "left",
       "tick_format": "0.2f",
       "tick_values": {
        "type": null,
        "values": null
       }
      }
     },
     "5af6c31db44d41959812aa306d903ac7": {
      "model_module": "bqplot",
      "model_module_version": "^0.3.6",
      "model_name": "LinearScaleModel",
      "state": {
       "allow_padding": false,
       "max": 1,
       "min": 0,
       "stabilized": false
      }
     },
     "5af7324b845248dbb9ed8514cf98c6a4": {
      "model_module": "bqplot",
      "model_module_version": "^0.3.6",
      "model_name": "LinearScaleModel",
      "state": {
       "stabilized": false
      }
     },
     "5b37bb7c7aa145fa88e255ccd020c9b0": {
      "model_module": "bqplot",
      "model_module_version": "^0.3.6",
      "model_name": "FigureModel",
      "state": {
       "_dom_classes": [],
       "animation_duration": 1000,
       "axes": [
        "IPY_MODEL_6ca837e8f77749a6a1bacc621007f6fa",
        "IPY_MODEL_acc09973998a40c2a70b7c5c83cc0ebf"
       ],
       "interaction": "IPY_MODEL_6637d556d9ab43cf88bd0d77a5889fe8",
       "layout": "IPY_MODEL_09afb80265ad4733b5489024f7c96e41",
       "marks": [
        "IPY_MODEL_97e830586ef1458cac807b757134518d"
       ],
       "max_aspect_ratio": 6,
       "scale_x": "IPY_MODEL_d60e654ead5c456987f883969bc43cb7",
       "scale_y": "IPY_MODEL_24d327e064c74e0bb094c5f0848333f2",
       "title": "Number of Emails sent Daily"
      }
     },
     "5bc7c1bc1a2f457fa7707493be78d152": {
      "model_module": "@jupyter-widgets/base",
      "model_module_version": "1.0.0",
      "model_name": "LayoutModel",
      "state": {}
     },
     "5bcaa37f8eea4d4d9558c24a3f02f197": {
      "model_module": "bqplot",
      "model_module_version": "^0.3.6",
      "model_name": "TooltipModel",
      "state": {
       "fields": [
        "x",
        "y"
       ],
       "formats": [
        "",
        "0.2f"
       ],
       "labels": [
        "Date",
        "Email Size"
       ],
       "layout": "IPY_MODEL_25ef0faef71b43d185faa773cc80a8cb"
      }
     },
     "5c100f7dd36d44e59e05cd9ebbf20419": {
      "model_module": "@jupyter-widgets/base",
      "model_module_version": "1.0.0",
      "model_name": "LayoutModel",
      "state": {
       "height": "100%",
       "width": "75%"
      }
     },
     "5c613de42b5e42f9b5d6d649142d3676": {
      "model_module": "bqplot",
      "model_module_version": "^0.3.6",
      "model_name": "BarsModel",
      "state": {
       "color": {
        "type": null,
        "values": null
       },
       "colors": [
        "blue"
       ],
       "interactions": {
        "click": "select",
        "hover": "tooltip",
        "legend_hover": "highlight_axes"
       },
       "labels": [
        "Email"
       ],
       "scales": {
        "x": "IPY_MODEL_24eade70691c42fab2a0e71dbeeb27d8",
        "y": "IPY_MODEL_f0feba4495b5436db0075a75b60102b3"
       },
       "selected": [],
       "selected_style": {
        "fill": "red"
       },
       "tooltip": "IPY_MODEL_eb88a8f686f1429ea75eefd7bdc2a7a3",
       "x": {
        "type": "date",
        "values": [
         "2010-02-09T00:00:00.000000",
         "2010-02-10T00:00:00.000000",
         "2010-02-11T00:00:00.000000",
         "2010-02-12T00:00:00.000000"
        ]
       },
       "y": {
        "type": "float",
        "values": [
         12.34769,
         5.936973,
         2.56502,
         0.979065
        ]
       }
      }
     },
     "5cd76e46fac847448a6916b4c809c881": {
      "model_module": "bqplot",
      "model_module_version": "^0.3.6",
      "model_name": "FigureModel",
      "state": {
       "_dom_classes": [],
       "animation_duration": 1000,
       "axes": [
        "IPY_MODEL_83e71f16c67f45aeadb878645db761e2",
        "IPY_MODEL_04bc62ede98649feba73c625023d65b6"
       ],
       "interaction": "IPY_MODEL_73823f17a90545abb617fe5617f65004",
       "layout": "IPY_MODEL_7365178f95f049708c1e235dbecbac87",
       "marks": [
        "IPY_MODEL_73a93da19fa64a0c88cbff027f577023"
       ],
       "max_aspect_ratio": 6,
       "scale_x": "IPY_MODEL_5f378b9ee96145d3933f7d0e07b1c529",
       "scale_y": "IPY_MODEL_90c8e1d5928e46cba3e314e65e776dbc",
       "title": "Number of Emails sent Daily"
      }
     },
     "5d67983d860341429d2307bc8654c66b": {
      "model_module": "bqplot",
      "model_module_version": "^0.3.6",
      "model_name": "FigureModel",
      "state": {
       "_dom_classes": [],
       "animation_duration": 1000,
       "axes": [
        "IPY_MODEL_96e89d1c8922482bac5616d9c8f88920",
        "IPY_MODEL_0425f05281c24447a13f6b3e357d5713"
       ],
       "background_style": {
        "fill": "aliceblue"
       },
       "layout": "IPY_MODEL_cef53def6f6243ba9c3e1d89d68543aa",
       "marks": [
        "IPY_MODEL_17592c0a005140b99e24c3113a4033ff"
       ],
       "max_aspect_ratio": 6,
       "scale_x": "IPY_MODEL_cd0e372238eb4c598dc2066955d3b35c",
       "scale_y": "IPY_MODEL_1057f4f48d434172a7f31cf2b9a61172",
       "title": "Number of Emails sent Daily"
      }
     },
     "5dafb438d38049ce9751d816a228725e": {
      "model_module": "bqplot",
      "model_module_version": "^0.3.6",
      "model_name": "BarsModel",
      "state": {
       "color": {
        "type": null,
        "values": null
       },
       "colors": [
        "blue"
       ],
       "interactions": {
        "click": "select",
        "hover": "tooltip",
        "legend_hover": "highlight_axes"
       },
       "labels": [
        "Email"
       ],
       "scales": {
        "x": "IPY_MODEL_3d01c9696db0488ea55613e08d39916c",
        "y": "IPY_MODEL_349f45bc462c41f5871ce823f35c6a85"
       },
       "selected": [],
       "selected_style": {
        "fill": "red"
       },
       "tooltip": "IPY_MODEL_393f8632f8424353866b15e6aa3b796d",
       "x": {
        "type": "date",
        "values": [
         "2010-02-09T00:00:00.000000",
         "2010-02-10T00:00:00.000000",
         "2010-02-11T00:00:00.000000",
         "2010-02-12T00:00:00.000000"
        ]
       },
       "y": {
        "type": "float",
        "values": [
         1.234769e-05,
         1.5199721e-05,
         1.8015744e-05,
         1.5658219e-05
        ]
       }
      }
     },
     "5db51f19bee641f3bdc4d4d2838317b3": {
      "model_module": "bqplot",
      "model_module_version": "^0.3.6",
      "model_name": "DateScaleModel",
      "state": {}
     },
     "5dc7aab61b7d4b54b5bc77f31e9df51c": {
      "model_module": "bqplot",
      "model_module_version": "^0.3.6",
      "model_name": "DateScaleModel",
      "state": {}
     },
     "5ddb4fedcc894e3d98b83909bbdd6399": {
      "model_module": "bqplot",
      "model_module_version": "^0.3.6",
      "model_name": "LinearScaleModel",
      "state": {
       "allow_padding": false,
       "max": 1,
       "min": 0,
       "stabilized": false
      }
     },
     "5ddd9d808e094af69be2ebb55c260b1a": {
      "model_module": "bqplot",
      "model_module_version": "^0.3.6",
      "model_name": "TooltipModel",
      "state": {
       "fields": [
        "x",
        "y"
       ],
       "formats": [
        "",
        "0.2f"
       ],
       "labels": [
        "Date",
        "Email Size"
       ],
       "layout": "IPY_MODEL_732f3673588140849b6e61f4406cb523"
      }
     },
     "5debb3afd63a4995bb817571d24f1db0": {
      "model_module": "bqplot",
      "model_module_version": "^0.3.6",
      "model_name": "BarsModel",
      "state": {
       "color": {
        "type": null,
        "values": null
       },
       "colors": [
        "blue"
       ],
       "interactions": {
        "click": "select",
        "hover": "tooltip",
        "legend_hover": "highlight_axes"
       },
       "labels": [
        "Email"
       ],
       "scales": {
        "x": "IPY_MODEL_8540f5a4c6124e9db7219fd4395c6d1c",
        "y": "IPY_MODEL_3673ea6dacc24a0aa07299a8e120d531"
       },
       "selected": [],
       "selected_style": {
        "fill": "red"
       },
       "tooltip": "IPY_MODEL_0305d33faff54d98b4c3feebeec623f4",
       "x": {
        "type": "date",
        "values": [
         "2010-02-09T00:00:00.000000",
         "2010-02-10T00:00:00.000000",
         "2010-02-11T00:00:00.000000",
         "2010-02-12T00:00:00.000000"
        ]
       },
       "y": {
        "type": "float",
        "values": [
         12.34769,
         5.936973,
         2.56502,
         0.979065
        ]
       }
      }
     },
     "5df2fe3cb8e848fa904a0b5c75720786": {
      "model_module": "bqplot",
      "model_module_version": "^0.3.6",
      "model_name": "PanZoomModel",
      "state": {
       "scales": {
        "x": [
         "IPY_MODEL_e793404442144c90868d4097a742620f"
        ],
        "y": [
         "IPY_MODEL_049222c77f394901b253679cff90cbca"
        ]
       }
      }
     },
     "5e09a164ca01488eb5833943a325065e": {
      "model_module": "bqplot",
      "model_module_version": "^0.3.6",
      "model_name": "LinearScaleModel",
      "state": {
       "allow_padding": false,
       "max": 1,
       "min": 0,
       "stabilized": false
      }
     },
     "5e4a14e1c75d479d9ba1776969d9a5b3": {
      "model_module": "bqplot",
      "model_module_version": "^0.3.6",
      "model_name": "AxisModel",
      "state": {
       "label": "Days of the Year",
       "scale": "IPY_MODEL_2b3ccf0b6ca84ee98c49eecf26d9a3be",
       "side": "bottom",
       "tick_values": {
        "type": null,
        "values": null
       }
      }
     },
     "5ec90142e2a14025b434ab8d971d0bd8": {
      "model_module": "bqplot",
      "model_module_version": "^0.3.6",
      "model_name": "LinearScaleModel",
      "state": {
       "stabilized": false
      }
     },
     "5ed20928560a4692b9085bd4df7e87b5": {
      "model_module": "bqplot",
      "model_module_version": "^0.3.6",
      "model_name": "AxisModel",
      "state": {
       "label": "Number of Emails",
       "orientation": "vertical",
       "scale": "IPY_MODEL_78db53bb41a740949345d4e66ebbc0a7",
       "side": "left",
       "tick_format": "0.2f",
       "tick_values": {
        "type": null,
        "values": null
       }
      }
     },
     "5edbdc37258a426d87596333d8a3272d": {
      "model_module": "@jupyter-widgets/base",
      "model_module_version": "1.0.0",
      "model_name": "LayoutModel",
      "state": {}
     },
     "5f378b9ee96145d3933f7d0e07b1c529": {
      "model_module": "bqplot",
      "model_module_version": "^0.3.6",
      "model_name": "LinearScaleModel",
      "state": {
       "allow_padding": false,
       "max": 1,
       "min": 0,
       "stabilized": false
      }
     },
     "600560f44e2c49138e6a07c40540725d": {
      "model_module": "bqplot",
      "model_module_version": "^0.3.6",
      "model_name": "FigureModel",
      "state": {
       "_dom_classes": [],
       "animation_duration": 1000,
       "axes": [
        "IPY_MODEL_020b1c1e21be4c63ad50006c63bdbf42",
        "IPY_MODEL_425a3885a3b64a66b14a5170c7fb4e4f"
       ],
       "layout": "IPY_MODEL_63d6c7b6a99f4e568a6d2cdb466af0e9",
       "marks": [
        "IPY_MODEL_3948cf058bfd4f109e30eecd65e15895"
       ],
       "max_aspect_ratio": 6,
       "scale_x": "IPY_MODEL_98865d1a4d6a40438c5a0d4d1b8af9a7",
       "scale_y": "IPY_MODEL_c4d18cd095594bfba15cee8a88192467",
       "title": "Number of Emails sent Daily"
      }
     },
     "603f7e85b4414989bcbd812e3802ebcb": {
      "model_module": "bqplot",
      "model_module_version": "^0.3.6",
      "model_name": "LinearScaleModel",
      "state": {
       "allow_padding": false,
       "max": 1,
       "min": 0,
       "stabilized": false
      }
     },
     "60412c53412441db9b69ec817f88e4ab": {
      "model_module": "bqplot",
      "model_module_version": "^0.3.6",
      "model_name": "AxisModel",
      "state": {
       "label": "Number of Emails",
       "orientation": "vertical",
       "scale": "IPY_MODEL_d6cb954f87dc46189683686a3b1f69b4",
       "side": "left",
       "tick_format": "0.2f",
       "tick_values": {
        "type": null,
        "values": null
       }
      }
     },
     "604f828f8e694c8d8c03be4b1ba34c50": {
      "model_module": "bqplot",
      "model_module_version": "^0.3.6",
      "model_name": "LinearScaleModel",
      "state": {
       "stabilized": false
      }
     },
     "60858575c674445d8926d732e7f5c998": {
      "model_module": "bqplot",
      "model_module_version": "^0.3.6",
      "model_name": "FigureModel",
      "state": {
       "_dom_classes": [],
       "animation_duration": 1000,
       "axes": [
        "IPY_MODEL_4f70a809b7f64658aae7a1c68c3dba72",
        "IPY_MODEL_70cb42504eb94b76a8206eca3d609d29"
       ],
       "background_style": {
        "fill": "aliceblue"
       },
       "layout": "IPY_MODEL_cef53def6f6243ba9c3e1d89d68543aa",
       "marks": [
        "IPY_MODEL_1cd31471873145038fae198970d0a430"
       ],
       "max_aspect_ratio": 6,
       "scale_x": "IPY_MODEL_496f4f1e61644b6d94ef47a21020761c",
       "scale_y": "IPY_MODEL_26fe67a90a18465e9d25a3eb7678b7d9",
       "title": "Number of Emails sent Daily"
      }
     },
     "60882ac6e5ba42798a044674c5c0907a": {
      "model_module": "bqplot",
      "model_module_version": "^0.3.6",
      "model_name": "DateScaleModel",
      "state": {}
     },
     "60cc6778c8a94508b45bd9c7a90b22d4": {
      "model_module": "bqplot",
      "model_module_version": "^0.3.6",
      "model_name": "AxisModel",
      "state": {
       "label": "Days of the Year",
       "scale": "IPY_MODEL_a53726c6bd684a539cbf8128494b9ec5",
       "side": "bottom",
       "tick_format": "%Y-%m-%d",
       "tick_values": {
        "type": null,
        "values": null
       }
      }
     },
     "60e0b20ee0c24366bfc75f90ba995363": {
      "model_module": "bqplot",
      "model_module_version": "^0.3.6",
      "model_name": "PanZoomModel",
      "state": {
       "scales": {
        "x": [
         "IPY_MODEL_2b3ccf0b6ca84ee98c49eecf26d9a3be"
        ],
        "y": [
         "IPY_MODEL_a32f14b3c92441548d254e893d8e7c7d"
        ]
       }
      }
     },
     "618dc68417a24adfbb7aeb65f9e04837": {
      "model_module": "bqplot",
      "model_module_version": "^0.3.6",
      "model_name": "FigureModel",
      "state": {
       "_dom_classes": [],
       "animation_duration": 1000,
       "axes": [
        "IPY_MODEL_f8b126f978804c76a472f72256b0c786",
        "IPY_MODEL_32efebd4bd3b49209a3d47679f69db4d"
       ],
       "layout": "IPY_MODEL_73a6539a770846a8bd665c15a35e862a",
       "marks": [
        "IPY_MODEL_cc832a58c1044f848442a164d667607d"
       ],
       "max_aspect_ratio": 6,
       "scale_x": "IPY_MODEL_1225a0f5a50d4bfea0a9b18b371ba26f",
       "scale_y": "IPY_MODEL_58b2012a3b0741778e04df76284e451e",
       "title": "Number of Emails sent Monthly"
      }
     },
     "622ae4bde80e4502be74746137552a6f": {
      "model_module": "bqplot",
      "model_module_version": "^0.3.6",
      "model_name": "BarsModel",
      "state": {
       "color": {
        "type": null,
        "values": null
       },
       "colors": [
        "blue"
       ],
       "interactions": {
        "click": "select",
        "hover": "tooltip",
        "legend_hover": "highlight_axes"
       },
       "labels": [
        "Email"
       ],
       "scales": {
        "x": "IPY_MODEL_586f79e630a745e8891dc16af227f4b2",
        "y": "IPY_MODEL_881cee07476d4af69613825c468f63d8"
       },
       "selected": [],
       "tooltip": "IPY_MODEL_d0bbc9f22ea64be9ba3843a81e27354f",
       "x": {
        "type": "date",
        "values": [
         "2010-02-09T00:00:00.000000",
         "2010-02-10T00:00:00.000000",
         "2010-02-11T00:00:00.000000",
         "2010-02-12T00:00:00.000000"
        ]
       },
       "y": {
        "type": "float",
        "values": [
         12.34769,
         5.936973,
         2.56502,
         0.979065
        ]
       }
      }
     },
     "622c31808b8e49729f30fa7111005631": {
      "model_module": "@jupyter-widgets/base",
      "model_module_version": "1.0.0",
      "model_name": "LayoutModel",
      "state": {
       "height": "450",
       "width": "600"
      }
     },
     "626e931d3437480e96984f97c374a085": {
      "model_module": "@jupyter-widgets/base",
      "model_module_version": "1.0.0",
      "model_name": "LayoutModel",
      "state": {
       "min_width": "125px"
      }
     },
     "629c44aed5b24ee6adc19975e9962f2f": {
      "model_module": "bqplot",
      "model_module_version": "^0.3.6",
      "model_name": "LinearScaleModel",
      "state": {
       "allow_padding": false,
       "max": 1,
       "min": 0,
       "stabilized": false
      }
     },
     "62e1f776d5ab4e279079fcf2452c86c7": {
      "model_module": "@jupyter-widgets/base",
      "model_module_version": "1.0.0",
      "model_name": "LayoutModel",
      "state": {}
     },
     "63158ed2177e41ef9be269b08d453a78": {
      "model_module": "bqplot",
      "model_module_version": "^0.3.6",
      "model_name": "AxisModel",
      "state": {
       "label": "Number of Emails",
       "orientation": "vertical",
       "scale": "IPY_MODEL_07b8638d391b4e85bb4b3fcabdc91ec2",
       "side": "left",
       "tick_format": "0.2f",
       "tick_values": {
        "type": null,
        "values": null
       }
      }
     },
     "63d6c7b6a99f4e568a6d2cdb466af0e9": {
      "model_module": "@jupyter-widgets/base",
      "model_module_version": "1.0.0",
      "model_name": "LayoutModel",
      "state": {
       "min_width": "125px"
      }
     },
     "642d7e90b48a4babbd5a00ce755e4a4c": {
      "model_module": "@jupyter-widgets/base",
      "model_module_version": "1.0.0",
      "model_name": "LayoutModel",
      "state": {}
     },
     "6430b8176e6147f09678f7ff0ff524c8": {
      "model_module": "bqplot",
      "model_module_version": "^0.3.6",
      "model_name": "PanZoomModel",
      "state": {
       "scales": {
        "x": [
         "IPY_MODEL_97719c73c19e4767a3f09de9cb4a4372"
        ],
        "y": [
         "IPY_MODEL_32464973696a4cf19740699fb8215a6a"
        ]
       }
      }
     },
     "643f6d812d2f4302917f0c25c0c5c0b6": {
      "model_module": "bqplot",
      "model_module_version": "^0.3.6",
      "model_name": "LinearScaleModel",
      "state": {
       "allow_padding": false,
       "max": 1,
       "min": 0,
       "stabilized": false
      }
     },
     "643fb801a272470f820365b83a459f14": {
      "model_module": "bqplot",
      "model_module_version": "^0.3.6",
      "model_name": "DateScaleModel",
      "state": {}
     },
     "64973d43cc004e6c94586284ab2dbd02": {
      "model_module": "bqplot",
      "model_module_version": "^0.3.6",
      "model_name": "AxisModel",
      "state": {
       "label": "Days of the Year",
       "scale": "IPY_MODEL_9d7b95f811cf4cc097417f04ad4505d5",
       "side": "bottom",
       "tick_values": {
        "type": null,
        "values": null
       }
      }
     },
     "650acf7765a24dc9b33b905d477a84ab": {
      "model_module": "@jupyter-widgets/controls",
      "model_module_version": "1.2.0",
      "model_name": "VBoxModel",
      "state": {
       "children": [
        "IPY_MODEL_0044a33ffc1f4847a641d4755150f67a"
       ],
       "layout": "IPY_MODEL_76fe4566dd60436791687738a7587d08"
      }
     },
     "6586541303ca4b61a84a67657a49cf6d": {
      "model_module": "@jupyter-widgets/base",
      "model_module_version": "1.0.0",
      "model_name": "LayoutModel",
      "state": {
       "min_width": "125px"
      }
     },
     "65feec5e223e4c19a188adbaec269c09": {
      "model_module": "@jupyter-widgets/controls",
      "model_module_version": "1.2.0",
      "model_name": "VBoxModel",
      "state": {
       "children": [
        "IPY_MODEL_47eb1a1571e647c0bccb5fd31acd172a"
       ],
       "layout": "IPY_MODEL_b6c477031b9a4deeb8330e876c2c401f"
      }
     },
     "6637d556d9ab43cf88bd0d77a5889fe8": {
      "model_module": "bqplot",
      "model_module_version": "^0.3.6",
      "model_name": "PanZoomModel",
      "state": {
       "scales": {
        "x": [
         "IPY_MODEL_9c86f965c9f4452eaf0dadeb3b0f6783"
        ],
        "y": [
         "IPY_MODEL_945af01951b543aabb9b13c160e7e612"
        ]
       }
      }
     },
     "6645148651ab4647a7bd46272c30bd8d": {
      "model_module": "@jupyter-widgets/base",
      "model_module_version": "1.0.0",
      "model_name": "LayoutModel",
      "state": {}
     },
     "664c5f9b5c82430ebe72ae3ab9e4e7a8": {
      "model_module": "bqplot",
      "model_module_version": "^0.3.6",
      "model_name": "LinearScaleModel",
      "state": {
       "allow_padding": false,
       "max": 1,
       "min": 0,
       "stabilized": false
      }
     },
     "666d1471ae174391b6aee9f73ecb5815": {
      "model_module": "@jupyter-widgets/base",
      "model_module_version": "1.0.0",
      "model_name": "LayoutModel",
      "state": {}
     },
     "667d1ecd11464edfb8bd1155d6a21535": {
      "model_module": "@jupyter-widgets/controls",
      "model_module_version": "1.2.0",
      "model_name": "VBoxModel",
      "state": {
       "children": [
        "IPY_MODEL_c38b6d3011a24218936f754625b2e869"
       ],
       "layout": "IPY_MODEL_04b6c9ca372f4456a6a612fd461ad853"
      }
     },
     "66827252273d43c3b2683110070ced4e": {
      "model_module": "bqplot",
      "model_module_version": "^0.3.6",
      "model_name": "TooltipModel",
      "state": {
       "fields": [
        "x",
        "y"
       ],
       "formats": [
        "",
        "0.2f"
       ],
       "labels": [
        "User ID",
        "Email Size"
       ],
       "layout": "IPY_MODEL_740db348cdf94c48bd5bd3d897951397"
      }
     },
     "66a1a23b58614520bdc80520a7c515ef": {
      "model_module": "bqplot",
      "model_module_version": "^0.3.6",
      "model_name": "TooltipModel",
      "state": {
       "fields": [
        "x",
        "y"
       ],
       "formats": [
        "",
        "0.2f"
       ],
       "labels": [
        "Date",
        "Email Size"
       ],
       "layout": "IPY_MODEL_be320893295642158a188d75a3837d32"
      }
     },
     "66e356693c6a42b5b4b5d3bc0484e0cb": {
      "model_module": "bqplot",
      "model_module_version": "^0.3.6",
      "model_name": "FigureModel",
      "state": {
       "_dom_classes": [],
       "animation_duration": 1000,
       "axes": [
        "IPY_MODEL_6de06dde7bbb4d71a7f5988e54a9da1e",
        "IPY_MODEL_ad5fe28a9a434f75ba4172943f7c2373"
       ],
       "background_style": {
        "fill": "white"
       },
       "layout": "IPY_MODEL_cef53def6f6243ba9c3e1d89d68543aa",
       "marks": [
        "IPY_MODEL_5debb3afd63a4995bb817571d24f1db0"
       ],
       "max_aspect_ratio": 6,
       "scale_x": "IPY_MODEL_d204dd77311b400a8392cede6f8790cf",
       "scale_y": "IPY_MODEL_ab44694d439446e19974f5c8a7ebae3f",
       "title": "Number of Emails sent Daily"
      }
     },
     "6722ba750937446f97a8541aaa32389d": {
      "model_module": "@jupyter-widgets/base",
      "model_module_version": "1.0.0",
      "model_name": "LayoutModel",
      "state": {
       "min_width": "125px"
      }
     },
     "673ddd1ad007498e9a2b36725d5c3e66": {
      "model_module": "bqplot",
      "model_module_version": "^0.3.6",
      "model_name": "PanZoomModel",
      "state": {
       "scales": {
        "x": [
         "IPY_MODEL_bbbf8e6ef80e406d96378f3230c80183"
        ],
        "y": [
         "IPY_MODEL_c46a5902844c4067aa935739f8107ae6"
        ]
       }
      }
     },
     "67477fd7c0504bf3ae459ca89fc55e91": {
      "model_module": "bqplot",
      "model_module_version": "^0.3.6",
      "model_name": "TooltipModel",
      "state": {
       "fields": [
        "x",
        "y"
       ],
       "formats": [
        "",
        "0.2f"
       ],
       "labels": [
        "Date",
        "Email Size"
       ],
       "layout": "IPY_MODEL_4e835d73d9e7424c95cc71b340c33f04"
      }
     },
     "677889cb8ae3485d91427849d2134f99": {
      "model_module": "@jupyter-widgets/base",
      "model_module_version": "1.0.0",
      "model_name": "LayoutModel",
      "state": {}
     },
     "67d57d2b0bad4cebb21963f6ba12232e": {
      "model_module": "bqplot",
      "model_module_version": "^0.3.6",
      "model_name": "PanZoomModel",
      "state": {
       "scales": {
        "x": [
         "IPY_MODEL_2d281f8a509046b18087e46812ec5098"
        ],
        "y": [
         "IPY_MODEL_26fdd78661b04544ad5f62053cae485c"
        ]
       }
      }
     },
     "68558898c5194304be6f8916248ea741": {
      "model_module": "@jupyter-widgets/controls",
      "model_module_version": "1.2.0",
      "model_name": "VBoxModel",
      "state": {
       "children": [
        "IPY_MODEL_a035caba34774dbd9995920d246e6d48"
       ],
       "layout": "IPY_MODEL_c008b8a449774da0836c79ac3ab7c02f"
      }
     },
     "685b4f3cb5b445a0ba688fab52faea2b": {
      "model_module": "bqplot",
      "model_module_version": "^0.3.6",
      "model_name": "LinearScaleModel",
      "state": {
       "allow_padding": false,
       "max": 1,
       "min": 0,
       "stabilized": false
      }
     },
     "68aae5f86caa46c386d9265d04a7a476": {
      "model_module": "bqplot",
      "model_module_version": "^0.3.6",
      "model_name": "TooltipModel",
      "state": {
       "fields": [
        "index",
        "name"
       ],
       "formats": [
        "",
        "0.2f"
       ],
       "labels": [
        "User ID",
        "Email Size"
       ],
       "layout": "IPY_MODEL_f710db71cbb34bfc91c0fc6fc923aa9d"
      }
     },
     "68c8b08d7b894b64942787963bdec835": {
      "model_module": "@jupyter-widgets/base",
      "model_module_version": "1.0.0",
      "model_name": "LayoutModel",
      "state": {
       "min_width": "125px"
      }
     },
     "68f7e668ade54cc6aa8e2950dddea416": {
      "model_module": "bqplot",
      "model_module_version": "^0.3.6",
      "model_name": "AxisModel",
      "state": {
       "label": "Number of Emails",
       "orientation": "vertical",
       "scale": "IPY_MODEL_9ac1acfa2d494f4c976c2ef1347f8535",
       "side": "left",
       "tick_format": "0.2f",
       "tick_values": {
        "type": null,
        "values": null
       }
      }
     },
     "6932a57e319841efa53e3c2e83af5449": {
      "model_module": "bqplot",
      "model_module_version": "^0.3.6",
      "model_name": "AxisModel",
      "state": {
       "label": "Days of the Year",
       "scale": "IPY_MODEL_5db51f19bee641f3bdc4d4d2838317b3",
       "side": "bottom",
       "tick_values": {
        "type": null,
        "values": null
       }
      }
     },
     "69a86e544ba843f5b41ae43760fe829b": {
      "model_module": "bqplot",
      "model_module_version": "^0.3.6",
      "model_name": "LinearScaleModel",
      "state": {
       "stabilized": false
      }
     },
     "69c5516e6e2e40ceb0970a81d3df1ea4": {
      "model_module": "bqplot",
      "model_module_version": "^0.3.6",
      "model_name": "LinearScaleModel",
      "state": {
       "stabilized": false
      }
     },
     "69eaee9080c945c09ef04d0ed06ed6de": {
      "model_module": "@jupyter-widgets/base",
      "model_module_version": "1.0.0",
      "model_name": "LayoutModel",
      "state": {}
     },
     "6aa39220fc62479c9c19639242639f84": {
      "model_module": "@jupyter-widgets/base",
      "model_module_version": "1.0.0",
      "model_name": "LayoutModel",
      "state": {}
     },
     "6add11e7e7034eae8a524c832523ec6b": {
      "model_module": "bqplot",
      "model_module_version": "^0.3.6",
      "model_name": "PanZoomModel",
      "state": {
       "scales": {
        "x": [
         "IPY_MODEL_092e7e94efbe4da0b7cf73920edaebaa"
        ],
        "y": [
         "IPY_MODEL_6be7ad7df617421d842ca23f409362a1"
        ]
       }
      }
     },
     "6aeaa7c5287d4a73b034e46550cc5060": {
      "model_module": "bqplot",
      "model_module_version": "^0.3.6",
      "model_name": "LinearScaleModel",
      "state": {
       "allow_padding": false,
       "max": 1,
       "min": 0,
       "stabilized": false
      }
     },
     "6afab39dd4cb4b579f83a8a830edef33": {
      "model_module": "bqplot",
      "model_module_version": "^0.3.6",
      "model_name": "LinearScaleModel",
      "state": {
       "allow_padding": false,
       "max": 1,
       "min": 0,
       "stabilized": false
      }
     },
     "6be7ad7df617421d842ca23f409362a1": {
      "model_module": "bqplot",
      "model_module_version": "^0.3.6",
      "model_name": "LinearScaleModel",
      "state": {
       "stabilized": false
      }
     },
     "6c0b8f336ecc466eaee92c586b34c25f": {
      "model_module": "bqplot",
      "model_module_version": "^0.3.6",
      "model_name": "AxisModel",
      "state": {
       "label": "Days of the Year",
       "scale": "IPY_MODEL_841a9c8d63634cf18e03ad00a58498a5",
       "side": "bottom",
       "tick_values": {
        "type": null,
        "values": null
       }
      }
     },
     "6c1e93439a3d4584b0987dc085a86512": {
      "model_module": "@jupyter-widgets/controls",
      "model_module_version": "1.2.0",
      "model_name": "VBoxModel",
      "state": {
       "children": [
        "IPY_MODEL_1cddd0f2d159476287b5075c33734944"
       ],
       "layout": "IPY_MODEL_ced543179d8145e8a0e2362c9b89f230"
      }
     },
     "6c66fca04c8540f5a5134589db978215": {
      "model_module": "@jupyter-widgets/base",
      "model_module_version": "1.0.0",
      "model_name": "LayoutModel",
      "state": {}
     },
     "6ca837e8f77749a6a1bacc621007f6fa": {
      "model_module": "bqplot",
      "model_module_version": "^0.3.6",
      "model_name": "AxisModel",
      "state": {
       "label": "Days of the Year",
       "scale": "IPY_MODEL_9c86f965c9f4452eaf0dadeb3b0f6783",
       "side": "bottom",
       "tick_format": "%Y-%m-%d",
       "tick_values": {
        "type": null,
        "values": null
       }
      }
     },
     "6cce5c223a7e4e278246cbf07ad0dfdc": {
      "model_module": "@jupyter-widgets/base",
      "model_module_version": "1.0.0",
      "model_name": "LayoutModel",
      "state": {}
     },
     "6d3c38eafe2e4aca96e973082f34360f": {
      "model_module": "bqplot",
      "model_module_version": "^0.3.6",
      "model_name": "PanZoomModel",
      "state": {
       "scales": {
        "x": [
         "IPY_MODEL_cba1f905058a4a37a69049c1bf6dc242"
        ],
        "y": [
         "IPY_MODEL_161f99af2e5141bd9f83a2343f9293b3"
        ]
       }
      }
     },
     "6d437d880d89482bbefaf46912c957b2": {
      "model_module": "bqplot",
      "model_module_version": "^0.3.6",
      "model_name": "FigureModel",
      "state": {
       "_dom_classes": [],
       "animation_duration": 1000,
       "axes": [
        "IPY_MODEL_7597549666324f8986f3a09aebf88f74",
        "IPY_MODEL_41fac9cbea624379887bd2f4d3e99f44"
       ],
       "background_style": {
        "fill": "aliceblue"
       },
       "layout": "IPY_MODEL_cef53def6f6243ba9c3e1d89d68543aa",
       "marks": [
        "IPY_MODEL_03e0094f73514071aaf6c50b0636d8a0"
       ],
       "max_aspect_ratio": 6,
       "scale_x": "IPY_MODEL_ea1aa8d6d86b487894049183e07b3831",
       "scale_y": "IPY_MODEL_c605cc86f24746ddb21882644adb91fb",
       "title": "Number of Emails sent Daily"
      }
     },
     "6db931d1b4014f93a136ef1b7ee12a99": {
      "model_module": "bqplot",
      "model_module_version": "^0.3.6",
      "model_name": "LinearScaleModel",
      "state": {
       "allow_padding": false,
       "max": 1,
       "min": 0,
       "stabilized": false
      }
     },
     "6de06dde7bbb4d71a7f5988e54a9da1e": {
      "model_module": "bqplot",
      "model_module_version": "^0.3.6",
      "model_name": "AxisModel",
      "state": {
       "label": "Days of the Year",
       "scale": "IPY_MODEL_8540f5a4c6124e9db7219fd4395c6d1c",
       "side": "bottom",
       "tick_values": {
        "type": null,
        "values": null
       }
      }
     },
     "6e20a3cef6ce4f3e8da0cf1c4db98837": {
      "model_module": "bqplot",
      "model_module_version": "^0.3.6",
      "model_name": "LinearScaleModel",
      "state": {
       "allow_padding": false,
       "max": 1,
       "min": 0,
       "stabilized": false
      }
     },
     "6e7662abe7f34804b4649da5f652568c": {
      "model_module": "bqplot",
      "model_module_version": "^0.3.6",
      "model_name": "AxisModel",
      "state": {
       "label": "Days of the Year",
       "scale": "IPY_MODEL_aad756c404f94375b7bc38230f565212",
       "side": "bottom",
       "tick_format": "%Y-%m-%d",
       "tick_values": {
        "type": null,
        "values": null
       }
      }
     },
     "6e8f221ed2e74184ac25aece12f0b9d5": {
      "model_module": "bqplot",
      "model_module_version": "^0.3.6",
      "model_name": "AxisModel",
      "state": {
       "label": "Days of the Year",
       "scale": "IPY_MODEL_2d281f8a509046b18087e46812ec5098",
       "side": "bottom",
       "tick_values": {
        "type": null,
        "values": null
       }
      }
     },
     "6eaab6136e7c4fb1bb9cee4396e09dfb": {
      "model_module": "bqplot",
      "model_module_version": "^0.3.6",
      "model_name": "AxisModel",
      "state": {
       "label": "Number of Emails",
       "orientation": "vertical",
       "scale": "IPY_MODEL_e27ccb83b443492bbb02d7891c1174ac",
       "side": "left",
       "tick_format": "0.2f",
       "tick_values": {
        "type": null,
        "values": null
       }
      }
     },
     "6eaf458ac2e44d48ba74bf953f0bf343": {
      "model_module": "bqplot",
      "model_module_version": "^0.3.6",
      "model_name": "LinearScaleModel",
      "state": {
       "stabilized": false
      }
     },
     "6f98b4683c994e598845998c7fd82367": {
      "model_module": "bqplot",
      "model_module_version": "^0.3.6",
      "model_name": "TooltipModel",
      "state": {
       "fields": [
        "x",
        "y"
       ],
       "formats": [
        "",
        "0.2f"
       ],
       "labels": [
        "Date",
        "Email Size"
       ],
       "layout": "IPY_MODEL_fe39f7c6f1444d0b8f36f2b5bf60cf43"
      }
     },
     "6f9daf2c96ee4fcc9def0d2600344743": {
      "model_module": "@jupyter-widgets/base",
      "model_module_version": "1.0.0",
      "model_name": "LayoutModel",
      "state": {}
     },
     "6fc128dd59eb42149bac569cb4f898db": {
      "model_module": "bqplot",
      "model_module_version": "^0.3.6",
      "model_name": "BarsModel",
      "state": {
       "color": {
        "type": null,
        "values": null
       },
       "colors": [
        "blue"
       ],
       "interactions": {
        "click": "select",
        "hover": "tooltip",
        "legend_hover": "highlight_axes"
       },
       "labels": [
        "Email"
       ],
       "scales": {
        "x": "IPY_MODEL_e0110221b9844b6cb2c546d73eb5e465",
        "y": "IPY_MODEL_f5b78380c7cc4ec2910cd25681ab45bc"
       },
       "selected": [],
       "tooltip": "IPY_MODEL_e544744703b94e6fbdbc49d0637630d6",
       "x": {
        "type": "date",
        "values": [
         "2010-02-09T00:00:00.000000",
         "2010-02-10T00:00:00.000000",
         "2010-02-11T00:00:00.000000",
         "2010-02-12T00:00:00.000000"
        ]
       },
       "y": {
        "type": "float",
        "values": [
         12.34769,
         5.936973,
         2.56502,
         0.979065
        ]
       }
      }
     },
     "6ff16a5645b540fab70324b07566776d": {
      "model_module": "bqplot",
      "model_module_version": "^0.3.6",
      "model_name": "LinearScaleModel",
      "state": {
       "allow_padding": false,
       "max": 1,
       "min": 0,
       "stabilized": false
      }
     },
     "7033b2f41cc7435cb4b29440d3b8f7ec": {
      "model_module": "bqplot",
      "model_module_version": "^0.3.6",
      "model_name": "LinearScaleModel",
      "state": {
       "allow_padding": false,
       "max": 1,
       "min": 0,
       "stabilized": false
      }
     },
     "7045b0dc99704e1381be3e704ef0e26f": {
      "model_module": "bqplot",
      "model_module_version": "^0.3.6",
      "model_name": "TooltipModel",
      "state": {
       "fields": [
        "x",
        "y"
       ],
       "formats": [
        "",
        "0.2f"
       ],
       "labels": [
        "Date",
        "Email Size"
       ],
       "layout": "IPY_MODEL_a33db4020721460eb0364cd7e84eb4b3"
      }
     },
     "7054d1bd946e4193ae2abfbb95863b79": {
      "model_module": "bqplot",
      "model_module_version": "^0.3.6",
      "model_name": "AxisModel",
      "state": {
       "label": "Days of the Year",
       "scale": "IPY_MODEL_303563a2592f4db5b78e173341fc1205",
       "side": "bottom",
       "tick_values": {
        "type": null,
        "values": null
       }
      }
     },
     "70c036f3aab148f68bdefdb8f15ae880": {
      "model_module": "bqplot",
      "model_module_version": "^0.3.6",
      "model_name": "TooltipModel",
      "state": {
       "fields": [
        "x",
        "y"
       ],
       "formats": [
        "",
        "0.2f"
       ],
       "labels": [
        "Date",
        "Email Size"
       ],
       "layout": "IPY_MODEL_ef90dc44a59346d6bc0b0edd605450bf"
      }
     },
     "70cb42504eb94b76a8206eca3d609d29": {
      "model_module": "bqplot",
      "model_module_version": "^0.3.6",
      "model_name": "AxisModel",
      "state": {
       "label": "Number of Emails",
       "orientation": "vertical",
       "scale": "IPY_MODEL_6eaf458ac2e44d48ba74bf953f0bf343",
       "side": "left",
       "tick_format": "0.2f",
       "tick_values": {
        "type": null,
        "values": null
       }
      }
     },
     "7180c03005e24e9fb8da8502d7cd8978": {
      "model_module": "bqplot",
      "model_module_version": "^0.3.6",
      "model_name": "LinearScaleModel",
      "state": {
       "allow_padding": false,
       "max": 1,
       "min": 0,
       "stabilized": false
      }
     },
     "71aa5ae2471d40de8c1a8e5b0ffd337d": {
      "model_module": "bqplot",
      "model_module_version": "^0.3.6",
      "model_name": "LinearScaleModel",
      "state": {
       "stabilized": false
      }
     },
     "71c9174c99bb424b9f53e72405674b9e": {
      "model_module": "bqplot",
      "model_module_version": "^0.3.6",
      "model_name": "AxisModel",
      "state": {
       "label": "Number of Emails",
       "orientation": "vertical",
       "scale": "IPY_MODEL_257c02a6681145d0be356935c1b4a05f",
       "side": "left",
       "tick_format": "0.2f",
       "tick_values": {
        "type": null,
        "values": null
       }
      }
     },
     "7225349861904241bbc92f11bb37780d": {
      "model_module": "bqplot",
      "model_module_version": "^0.3.6",
      "model_name": "LinearScaleModel",
      "state": {
       "allow_padding": false,
       "max": 1,
       "min": 0,
       "stabilized": false
      }
     },
     "72a44dcf45e9456280a45629243a9716": {
      "model_module": "bqplot",
      "model_module_version": "^0.3.6",
      "model_name": "LinearScaleModel",
      "state": {
       "allow_padding": false,
       "max": 1,
       "min": 0,
       "stabilized": false
      }
     },
     "72c36c0e61de4f328a957951c56d4c9b": {
      "model_module": "@jupyter-widgets/base",
      "model_module_version": "1.0.0",
      "model_name": "LayoutModel",
      "state": {
       "width": "100%"
      }
     },
     "7323b4e6aef84828af24935aecc7a0de": {
      "model_module": "@jupyter-widgets/base",
      "model_module_version": "1.0.0",
      "model_name": "LayoutModel",
      "state": {}
     },
     "732f3673588140849b6e61f4406cb523": {
      "model_module": "@jupyter-widgets/base",
      "model_module_version": "1.0.0",
      "model_name": "LayoutModel",
      "state": {}
     },
     "7365178f95f049708c1e235dbecbac87": {
      "model_module": "@jupyter-widgets/base",
      "model_module_version": "1.0.0",
      "model_name": "LayoutModel",
      "state": {
       "min_width": "125px"
      }
     },
     "73823f17a90545abb617fe5617f65004": {
      "model_module": "bqplot",
      "model_module_version": "^0.3.6",
      "model_name": "PanZoomModel",
      "state": {
       "scales": {
        "x": [
         "IPY_MODEL_1ce7fa7d96b541e19923ff269c2b58e4"
        ],
        "y": [
         "IPY_MODEL_47b2007de7354e57adb33f04989305ce"
        ]
       }
      }
     },
     "73a6539a770846a8bd665c15a35e862a": {
      "model_module": "@jupyter-widgets/base",
      "model_module_version": "1.0.0",
      "model_name": "LayoutModel",
      "state": {
       "min_width": "125px"
      }
     },
     "73a93da19fa64a0c88cbff027f577023": {
      "model_module": "bqplot",
      "model_module_version": "^0.3.6",
      "model_name": "BarsModel",
      "state": {
       "color": {
        "type": null,
        "values": null
       },
       "colors": [
        "blue"
       ],
       "interactions": {
        "click": "select",
        "hover": "tooltip",
        "legend_hover": "highlight_axes"
       },
       "labels": [
        "Email"
       ],
       "scales": {
        "x": "IPY_MODEL_1ce7fa7d96b541e19923ff269c2b58e4",
        "y": "IPY_MODEL_47b2007de7354e57adb33f04989305ce"
       },
       "selected": [],
       "tooltip": "IPY_MODEL_66827252273d43c3b2683110070ced4e",
       "x": {
        "type": "object",
        "values": [
         "2010-02-09",
         "2010-02-10",
         "2010-02-11",
         "2010-02-12"
        ]
       },
       "y": {
        "type": "float",
        "values": [
         12.34769,
         5.936973,
         2.56502,
         0.979065
        ]
       }
      }
     },
     "73af96c2c93c49f5abebd948f41ce237": {
      "model_module": "@jupyter-widgets/base",
      "model_module_version": "1.0.0",
      "model_name": "LayoutModel",
      "state": {}
     },
     "740db348cdf94c48bd5bd3d897951397": {
      "model_module": "@jupyter-widgets/base",
      "model_module_version": "1.0.0",
      "model_name": "LayoutModel",
      "state": {}
     },
     "74ca02c32b8b45e382fefc82e891f429": {
      "model_module": "bqplot",
      "model_module_version": "^0.3.6",
      "model_name": "LinearScaleModel",
      "state": {
       "stabilized": false
      }
     },
     "74cfa3fadc534781bbbbebdebc1186c1": {
      "model_module": "@jupyter-widgets/base",
      "model_module_version": "1.0.0",
      "model_name": "LayoutModel",
      "state": {}
     },
     "752fccde8b8c49d7acf9bcc68fb65a58": {
      "model_module": "bqplot",
      "model_module_version": "^0.3.6",
      "model_name": "TooltipModel",
      "state": {
       "fields": [
        "x",
        "y"
       ],
       "formats": [
        "",
        "0.2f"
       ],
       "labels": [
        "Date",
        "Email Size"
       ],
       "layout": "IPY_MODEL_b7b9eb34dc9e401f9925ce8ab51dcc58"
      }
     },
     "756cd828770c4f9ba0b1603951a85763": {
      "model_module": "bqplot",
      "model_module_version": "^0.3.6",
      "model_name": "LinearScaleModel",
      "state": {
       "stabilized": false
      }
     },
     "759311fbb4664c69b9f92ef37a5e4a12": {
      "model_module": "bqplot",
      "model_module_version": "^0.3.6",
      "model_name": "LinearScaleModel",
      "state": {
       "stabilized": false
      }
     },
     "7597549666324f8986f3a09aebf88f74": {
      "model_module": "bqplot",
      "model_module_version": "^0.3.6",
      "model_name": "AxisModel",
      "state": {
       "label": "Days of the Year",
       "scale": "IPY_MODEL_21c78d54fdce4ebba15dbac7086a59e5",
       "side": "bottom",
       "tick_values": {
        "type": null,
        "values": null
       }
      }
     },
     "75d807a25fcb4b2a86af149b50fe5b56": {
      "model_module": "bqplot",
      "model_module_version": "^0.3.6",
      "model_name": "LinearScaleModel",
      "state": {
       "allow_padding": false,
       "max": 1,
       "min": 0,
       "stabilized": false
      }
     },
     "76074f4c99ac4eae8c37b0c17527bb9a": {
      "model_module": "bqplot",
      "model_module_version": "^0.3.6",
      "model_name": "TooltipModel",
      "state": {
       "fields": [
        "x",
        "y"
       ],
       "formats": [
        "",
        "0.2f"
       ],
       "labels": [
        "User ID",
        "Email Size"
       ],
       "layout": "IPY_MODEL_b2f4ff6c43764fb68d912091bc64382e"
      }
     },
     "761deaee06324f9eb574b1678d936cc2": {
      "model_module": "bqplot",
      "model_module_version": "^0.3.6",
      "model_name": "AxisModel",
      "state": {
       "label": "Days of the Year",
       "scale": "IPY_MODEL_fafb622c8c4748898883a87606291133",
       "side": "bottom",
       "tick_values": {
        "type": null,
        "values": null
       }
      }
     },
     "76dbc8cbf09a439591eb9767be2c0b04": {
      "model_module": "bqplot",
      "model_module_version": "^0.3.6",
      "model_name": "LinearScaleModel",
      "state": {
       "allow_padding": false,
       "max": 1,
       "min": 0,
       "stabilized": false
      }
     },
     "76e8d479617c45b7a86e44e935747945": {
      "model_module": "bqplot",
      "model_module_version": "^0.3.6",
      "model_name": "PanZoomModel",
      "state": {
       "scales": {
        "x": [
         "IPY_MODEL_fafb622c8c4748898883a87606291133"
        ],
        "y": [
         "IPY_MODEL_07cbb73d850a47a8a3332d3152393b5c"
        ]
       }
      }
     },
     "76e8fae12f464291b2ec3b44328b859f": {
      "model_module": "bqplot",
      "model_module_version": "^0.3.6",
      "model_name": "LinearScaleModel",
      "state": {
       "allow_padding": false,
       "max": 1,
       "min": 0,
       "stabilized": false
      }
     },
     "76fe4566dd60436791687738a7587d08": {
      "model_module": "@jupyter-widgets/base",
      "model_module_version": "1.0.0",
      "model_name": "LayoutModel",
      "state": {}
     },
     "770707b473f643bba151cb2bc35db710": {
      "model_module": "bqplot",
      "model_module_version": "^0.3.6",
      "model_name": "TooltipModel",
      "state": {
       "fields": [
        "x",
        "y"
       ],
       "formats": [
        "",
        "0.2f"
       ],
       "labels": [
        "Date",
        "Email Size"
       ],
       "layout": "IPY_MODEL_9c78d8c6c5b3474fbf74af594cb65bb4"
      }
     },
     "770aedc2330e4be38b9d58fcadf79318": {
      "model_module": "@jupyter-widgets/base",
      "model_module_version": "1.0.0",
      "model_name": "LayoutModel",
      "state": {}
     },
     "77667d7917d14f3db3a7e7782bf529ca": {
      "model_module": "bqplot",
      "model_module_version": "^0.3.6",
      "model_name": "PanZoomModel",
      "state": {
       "scales": {
        "x": [
         "IPY_MODEL_53cf5c5e9341465ebe2066634511c2db"
        ],
        "y": [
         "IPY_MODEL_7cea1827a668409d972d8253475fff5b"
        ]
       }
      }
     },
     "77678a18a5d84149a76c4d71132acd72": {
      "model_module": "bqplot",
      "model_module_version": "^0.3.6",
      "model_name": "LinearScaleModel",
      "state": {
       "allow_padding": false,
       "max": 1,
       "min": 0,
       "stabilized": false
      }
     },
     "77690dbdc781429fbcdcb31c0850b719": {
      "model_module": "bqplot",
      "model_module_version": "^0.3.6",
      "model_name": "BarsModel",
      "state": {
       "color": {
        "type": null,
        "values": null
       },
       "colors": [
        "blue"
       ],
       "interactions": {
        "click": "select",
        "hover": "tooltip",
        "legend_hover": "highlight_axes"
       },
       "labels": [
        "Email"
       ],
       "scales": {
        "x": "IPY_MODEL_e793404442144c90868d4097a742620f",
        "y": "IPY_MODEL_049222c77f394901b253679cff90cbca"
       },
       "selected": [],
       "selected_style": {
        "fill": "red"
       },
       "tooltip": "IPY_MODEL_770707b473f643bba151cb2bc35db710",
       "x": {
        "type": "date",
        "values": [
         "2010-02-09T00:00:00.000000",
         "2010-02-10T00:00:00.000000",
         "2010-02-11T00:00:00.000000",
         "2010-02-12T00:00:00.000000"
        ]
       },
       "y": {
        "type": "float",
        "values": [
         12.34769,
         5.936973,
         2.56502,
         0.979065
        ]
       }
      }
     },
     "77d6b83b33074e70be3e0886c090b42e": {
      "model_module": "bqplot",
      "model_module_version": "^0.3.6",
      "model_name": "LinearScaleModel",
      "state": {
       "allow_padding": false,
       "max": 1,
       "min": 0,
       "stabilized": false
      }
     },
     "77d98a3dca2942e092a6a02e900e9a27": {
      "model_module": "@jupyter-widgets/base",
      "model_module_version": "1.0.0",
      "model_name": "LayoutModel",
      "state": {}
     },
     "7863a3735098448390ac88b9702eafc8": {
      "model_module": "bqplot",
      "model_module_version": "^0.3.6",
      "model_name": "FigureModel",
      "state": {
       "_dom_classes": [],
       "animation_duration": 1000,
       "axes": [
        "IPY_MODEL_463e839b9a7243aea6f95bd8794fe92c",
        "IPY_MODEL_5ed20928560a4692b9085bd4df7e87b5"
       ],
       "layout": "IPY_MODEL_a66b51f11e2c4e8e818c6f87093b8909",
       "marks": [
        "IPY_MODEL_e4752e6a887f4b6c8410c01802fe1c76"
       ],
       "max_aspect_ratio": 6,
       "scale_x": "IPY_MODEL_3a974a827ad5491aa30290b05c27ed6d",
       "scale_y": "IPY_MODEL_1b89801c56804148b6ba1ee8ebaee8cd",
       "title": "Number of Emails sent Monthly"
      }
     },
     "787f6ee1f66543b3958df6d6453a99e3": {
      "model_module": "bqplot",
      "model_module_version": "^0.3.6",
      "model_name": "PanZoomModel",
      "state": {
       "scales": {
        "x": [
         "IPY_MODEL_24eade70691c42fab2a0e71dbeeb27d8"
        ],
        "y": [
         "IPY_MODEL_f0feba4495b5436db0075a75b60102b3"
        ]
       }
      }
     },
     "78db53bb41a740949345d4e66ebbc0a7": {
      "model_module": "bqplot",
      "model_module_version": "^0.3.6",
      "model_name": "LinearScaleModel",
      "state": {
       "stabilized": false
      }
     },
     "7972b0e935df4ee59d6b4bb55ee4569f": {
      "model_module": "bqplot",
      "model_module_version": "^0.3.6",
      "model_name": "LinearScaleModel",
      "state": {
       "allow_padding": false,
       "max": 1,
       "min": 0,
       "stabilized": false
      }
     },
     "79f6bab98e4f4362b6940ce5213a14e9": {
      "model_module": "bqplot",
      "model_module_version": "^0.3.6",
      "model_name": "TooltipModel",
      "state": {
       "fields": [
        "x",
        "y"
       ],
       "formats": [
        "",
        "0.2f"
       ],
       "labels": [
        "Date",
        "Email Size"
       ],
       "layout": "IPY_MODEL_3a415bd400574d21b733960fec7d4725"
      }
     },
     "7a838375289544cab8c59af3f0ea19d2": {
      "model_module": "bqplot",
      "model_module_version": "^0.3.6",
      "model_name": "LinearScaleModel",
      "state": {
       "allow_padding": false,
       "max": 1,
       "min": 0,
       "stabilized": false
      }
     },
     "7a86610dca8b4344b5bfeb4e8b314fea": {
      "model_module": "bqplot",
      "model_module_version": "^0.3.6",
      "model_name": "PanZoomModel",
      "state": {
       "scales": {
        "x": [
         "IPY_MODEL_80a6aaa80e0d4f42b1748329a97e270d"
        ],
        "y": [
         "IPY_MODEL_eeedeb541178452a930a683f230321e0"
        ]
       }
      }
     },
     "7af755b4a59b4a4fa0aac8dd396abaee": {
      "model_module": "bqplot",
      "model_module_version": "^0.3.6",
      "model_name": "LinearScaleModel",
      "state": {
       "allow_padding": false,
       "max": 1,
       "min": 0,
       "stabilized": false
      }
     },
     "7b0108e79d8c4f71bd8f538070bc93fe": {
      "model_module": "@jupyter-widgets/controls",
      "model_module_version": "1.2.0",
      "model_name": "VBoxModel",
      "state": {
       "children": [
        "IPY_MODEL_8459c924a3524d74aeb3f8eeb798f3d1"
       ],
       "layout": "IPY_MODEL_085fda78430641f9a1bc69f0cc89031d"
      }
     },
     "7bfceda60c66476586329a51ceaf0de9": {
      "model_module": "@jupyter-widgets/base",
      "model_module_version": "1.0.0",
      "model_name": "LayoutModel",
      "state": {}
     },
     "7c0ac7eb7c5d48a2a96c6df2640d5ee9": {
      "model_module": "bqplot",
      "model_module_version": "^0.3.6",
      "model_name": "LinearScaleModel",
      "state": {
       "stabilized": false
      }
     },
     "7c67bf01d8d44858865bb8e1abb654a2": {
      "model_module": "bqplot",
      "model_module_version": "^0.3.6",
      "model_name": "TooltipModel",
      "state": {
       "fields": [
        "x",
        "y"
       ],
       "formats": [
        "",
        "0.2f"
       ],
       "labels": [
        "Date",
        "Email Size"
       ],
       "layout": "IPY_MODEL_74cfa3fadc534781bbbbebdebc1186c1"
      }
     },
     "7c6f48a5f7de45cf98ce080e2b404a9b": {
      "model_module": "bqplot",
      "model_module_version": "^0.3.6",
      "model_name": "LinearScaleModel",
      "state": {
       "stabilized": false
      }
     },
     "7c73b5efaf4945a1b3b90feabe02f6e9": {
      "model_module": "@jupyter-widgets/controls",
      "model_module_version": "1.2.0",
      "model_name": "VBoxModel",
      "state": {
       "children": [
        "IPY_MODEL_1c60b486292b47228e79f0f252a95ba1"
       ],
       "layout": "IPY_MODEL_77d98a3dca2942e092a6a02e900e9a27"
      }
     },
     "7c7cc66b5e5b4b398739ea07b925baad": {
      "model_module": "bqplot",
      "model_module_version": "^0.3.6",
      "model_name": "FigureModel",
      "state": {
       "_dom_classes": [],
       "animation_duration": 1000,
       "axes": [
        "IPY_MODEL_58019f8beef34c01a535efdc94a2cfa4",
        "IPY_MODEL_d41ab4ad57dc462cb1d1c8930bf609fd"
       ],
       "layout": "IPY_MODEL_6586541303ca4b61a84a67657a49cf6d",
       "marks": [
        "IPY_MODEL_2eb54b278b22457e8ae5776d75cdf7f3"
       ],
       "max_aspect_ratio": 6,
       "scale_x": "IPY_MODEL_b765a1d800fe4848ae0e3a47173d850a",
       "scale_y": "IPY_MODEL_ed6cffcae19d48afb56587376c073e6e",
       "title": "Number of Emails sent Daily"
      }
     },
     "7c7d6fa143bb4a7e888a6e76121ff7e4": {
      "model_module": "bqplot",
      "model_module_version": "^0.3.6",
      "model_name": "TooltipModel",
      "state": {
       "fields": [
        "x",
        "y"
       ],
       "formats": [
        "",
        "0.2f"
       ],
       "labels": [
        "Date",
        "Email Size"
       ],
       "layout": "IPY_MODEL_342c52afe2a646489110258b1027f277"
      }
     },
     "7cea1827a668409d972d8253475fff5b": {
      "model_module": "bqplot",
      "model_module_version": "^0.3.6",
      "model_name": "LinearScaleModel",
      "state": {
       "stabilized": false
      }
     },
     "7d6fb5ae655342f49c7672a562e2833d": {
      "model_module": "bqplot",
      "model_module_version": "^0.3.6",
      "model_name": "LinearScaleModel",
      "state": {
       "stabilized": false
      }
     },
     "7d772d7966b4456abd9a3ae305ecd7cd": {
      "model_module": "bqplot",
      "model_module_version": "^0.3.6",
      "model_name": "TooltipModel",
      "state": {
       "fields": [
        "x",
        "y"
       ],
       "formats": [
        "",
        "0.2f"
       ],
       "labels": [
        "Date",
        "Email Size"
       ],
       "layout": "IPY_MODEL_e7648c2e1fa84322b63b02ae8f822ee8"
      }
     },
     "7d7970b74e4a4e70b32b8535e96682fd": {
      "model_module": "@jupyter-widgets/controls",
      "model_module_version": "1.2.0",
      "model_name": "VBoxModel",
      "state": {
       "children": [
        "IPY_MODEL_4f92642813834c5ea37e99100cb7a1df"
       ],
       "layout": "IPY_MODEL_edf01b2a5a964e7789f5c06a3dd055b5"
      }
     },
     "7d82b6e0dab547c9b3acfc411065a9c0": {
      "model_module": "bqplot",
      "model_module_version": "^0.3.6",
      "model_name": "LinearScaleModel",
      "state": {
       "allow_padding": false,
       "max": 1,
       "min": 0,
       "stabilized": false
      }
     },
     "7dcc87405d1e43aca9c394cb09008965": {
      "model_module": "@jupyter-widgets/controls",
      "model_module_version": "1.2.0",
      "model_name": "VBoxModel",
      "state": {
       "children": [
        "IPY_MODEL_360ed94f2d804863b541e7cfd525a928"
       ],
       "layout": "IPY_MODEL_677889cb8ae3485d91427849d2134f99"
      }
     },
     "7e018d75664d420d8b1f33c1413093b1": {
      "model_module": "bqplot",
      "model_module_version": "^0.3.6",
      "model_name": "TooltipModel",
      "state": {
       "fields": [
        "index",
        "name"
       ],
       "formats": [
        "",
        "0.2f"
       ],
       "labels": [
        "User ID",
        "Email Size"
       ],
       "layout": "IPY_MODEL_eedc914386964475bd3f219fdb6813ba"
      }
     },
     "7e07a9ba7473455c80a85a4759a988e1": {
      "model_module": "bqplot",
      "model_module_version": "^0.3.6",
      "model_name": "AxisModel",
      "state": {
       "label": "Number of Emails",
       "orientation": "vertical",
       "scale": "IPY_MODEL_42e2882bb58842d9ba901c011d0fba66",
       "side": "left",
       "tick_format": "0.2f",
       "tick_values": {
        "type": null,
        "values": null
       }
      }
     },
     "7e12e59ac6ab47efb851722cd61c52dd": {
      "model_module": "bqplot",
      "model_module_version": "^0.3.6",
      "model_name": "LinearScaleModel",
      "state": {
       "allow_padding": false,
       "max": 1,
       "min": 0,
       "stabilized": false
      }
     },
     "7e2e6370b9eb43789ec50558c1f49208": {
      "model_module": "@jupyter-widgets/base",
      "model_module_version": "1.0.0",
      "model_name": "LayoutModel",
      "state": {}
     },
     "7e9cfa0eedca4d1782b10c3da92cdd8c": {
      "model_module": "bqplot",
      "model_module_version": "^0.3.6",
      "model_name": "FigureModel",
      "state": {
       "_dom_classes": [],
       "animation_duration": 1000,
       "axes": [
        "IPY_MODEL_beb92c6b268845b6868369459a2f82f1",
        "IPY_MODEL_48205606994341f1b6502f84ee5bff15"
       ],
       "background_style": {
        "fill": "darkgrid"
       },
       "layout": "IPY_MODEL_cef53def6f6243ba9c3e1d89d68543aa",
       "marks": [
        "IPY_MODEL_3320dc06d3ef4cc99cf8c292d3f6d9fe"
       ],
       "max_aspect_ratio": 6,
       "scale_x": "IPY_MODEL_6e20a3cef6ce4f3e8da0cf1c4db98837",
       "scale_y": "IPY_MODEL_b75db9916e754a19820f8337a4631948",
       "title": "Number of Emails sent Daily"
      }
     },
     "7ea1c24fada54db084201ef9fccc4931": {
      "model_module": "bqplot",
      "model_module_version": "^0.3.6",
      "model_name": "LinearScaleModel",
      "state": {
       "stabilized": false
      }
     },
     "7eaa357bd0414f0c85f47c9e07db31b7": {
      "model_module": "bqplot",
      "model_module_version": "^0.3.6",
      "model_name": "FigureModel",
      "state": {
       "_dom_classes": [],
       "animation_duration": 1000,
       "axes": [
        "IPY_MODEL_2553ec083df44f47939b0d6e6c28bc60",
        "IPY_MODEL_ce8749723127407ca3046e693472fdea"
       ],
       "background_style": {
        "fill": "aliceblue"
       },
       "layout": "IPY_MODEL_cef53def6f6243ba9c3e1d89d68543aa",
       "marks": [
        "IPY_MODEL_52b43d19106e4119a86db18cfd691dbb"
       ],
       "max_aspect_ratio": 6,
       "scale_x": "IPY_MODEL_e15216919669413a9d89a522b9ee1262",
       "scale_y": "IPY_MODEL_72a44dcf45e9456280a45629243a9716",
       "title": "Number of Emails sent Daily"
      }
     },
     "7ecf77ffc0f549f3841bcc5626ce2d35": {
      "model_module": "bqplot",
      "model_module_version": "^0.3.6",
      "model_name": "FigureModel",
      "state": {
       "_dom_classes": [],
       "animation_duration": 5000,
       "axes": [
        "IPY_MODEL_761deaee06324f9eb574b1678d936cc2",
        "IPY_MODEL_82f2e01f581c48ec851293e981c6652b"
       ],
       "background_style": {
        "fill": "aliceblue"
       },
       "layout": "IPY_MODEL_cef53def6f6243ba9c3e1d89d68543aa",
       "marks": [
        "IPY_MODEL_00c37235ce704e93b0d1428f76e7dcf2"
       ],
       "max_aspect_ratio": 6,
       "scale_x": "IPY_MODEL_d5285ac80b9a4eb2a5e86f7b42738dcd",
       "scale_y": "IPY_MODEL_086ae3bfee8e4242aeeff49ad9b5d6a3",
       "title": "Number of Emails sent Daily"
      }
     },
     "7f0f3cd6a9744141a0942c0f6f49ce98": {
      "model_module": "bqplot",
      "model_module_version": "^0.3.6",
      "model_name": "PanZoomModel",
      "state": {
       "scales": {
        "x": [
         "IPY_MODEL_0608fc5cc34240e398cc3fce57517d02"
        ],
        "y": [
         "IPY_MODEL_2ae1adc489994905a6a2dae9b5577bc9"
        ]
       }
      }
     },
     "7f9d4390cef4458f828faf2a8dce12d0": {
      "model_module": "bqplot",
      "model_module_version": "^0.3.6",
      "model_name": "AxisModel",
      "state": {
       "label": "Number of Emails",
       "orientation": "vertical",
       "scale": "IPY_MODEL_a87e634893954b50b4388ee37070b441",
       "side": "left",
       "tick_format": "0.2f",
       "tick_values": {
        "type": null,
        "values": null
       }
      }
     },
     "80785264f7c64c4096c89d31287a0fce": {
      "model_module": "bqplot",
      "model_module_version": "^0.3.6",
      "model_name": "AxisModel",
      "state": {
       "label": "Number of Emails",
       "orientation": "vertical",
       "scale": "IPY_MODEL_eeedeb541178452a930a683f230321e0",
       "side": "left",
       "tick_format": "0.2f",
       "tick_values": {
        "type": null,
        "values": null
       }
      }
     },
     "80a6aaa80e0d4f42b1748329a97e270d": {
      "model_module": "bqplot",
      "model_module_version": "^0.3.6",
      "model_name": "DateScaleModel",
      "state": {}
     },
     "8101bc04dbbe4a7ab267e3107a79e541": {
      "model_module": "bqplot",
      "model_module_version": "^0.3.6",
      "model_name": "LinearScaleModel",
      "state": {
       "stabilized": false
      }
     },
     "812234b395724a48941b112862d87542": {
      "model_module": "bqplot",
      "model_module_version": "^0.3.6",
      "model_name": "AxisModel",
      "state": {
       "label": "Days of the Year",
       "scale": "IPY_MODEL_2123781f604c441797dcdcf2aa6b6044",
       "side": "bottom",
       "tick_values": {
        "type": null,
        "values": null
       }
      }
     },
     "81d24fda816041b991e8d4869f587d9c": {
      "model_module": "bqplot",
      "model_module_version": "^0.3.6",
      "model_name": "LinearScaleModel",
      "state": {
       "allow_padding": false,
       "max": 1,
       "min": 0,
       "stabilized": false
      }
     },
     "81d9b01304744c17affc2acac6f91291": {
      "model_module": "@jupyter-widgets/base",
      "model_module_version": "1.0.0",
      "model_name": "LayoutModel",
      "state": {}
     },
     "82245958141b42f2b60fee244210ed08": {
      "model_module": "bqplot",
      "model_module_version": "^0.3.6",
      "model_name": "LinearScaleModel",
      "state": {
       "allow_padding": false,
       "max": 1,
       "min": 0,
       "stabilized": false
      }
     },
     "825d18b8997e4202af00e3684a193ca9": {
      "model_module": "bqplot",
      "model_module_version": "^0.3.6",
      "model_name": "LinearScaleModel",
      "state": {
       "allow_padding": false,
       "max": 1,
       "min": 0,
       "stabilized": false
      }
     },
     "829753ec36b04c7db7c4849753ed20d7": {
      "model_module": "bqplot",
      "model_module_version": "^0.3.6",
      "model_name": "DateScaleModel",
      "state": {}
     },
     "82acf7e246864c16b70337bcebe0644e": {
      "model_module": "bqplot",
      "model_module_version": "^0.3.6",
      "model_name": "BarsModel",
      "state": {
       "color": {
        "type": null,
        "values": null
       },
       "colors": [
        "blue"
       ],
       "interactions": {
        "click": "select",
        "hover": "tooltip",
        "legend_hover": "highlight_axes"
       },
       "labels": [
        "Email"
       ],
       "scales": {
        "x": "IPY_MODEL_80a6aaa80e0d4f42b1748329a97e270d",
        "y": "IPY_MODEL_eeedeb541178452a930a683f230321e0"
       },
       "selected": [],
       "tooltip": "IPY_MODEL_752fccde8b8c49d7acf9bcc68fb65a58",
       "x": {
        "type": "date",
        "values": [
         "2010-02-09T00:00:00.000000",
         "2010-02-10T00:00:00.000000",
         "2010-02-11T00:00:00.000000",
         "2010-02-12T00:00:00.000000"
        ]
       },
       "y": {
        "type": "float",
        "values": [
         12.34769,
         5.936973,
         2.56502,
         0.979065
        ]
       }
      }
     },
     "82f2e01f581c48ec851293e981c6652b": {
      "model_module": "bqplot",
      "model_module_version": "^0.3.6",
      "model_name": "AxisModel",
      "state": {
       "label": "Number of Emails",
       "orientation": "vertical",
       "scale": "IPY_MODEL_07cbb73d850a47a8a3332d3152393b5c",
       "side": "left",
       "tick_format": "0.2f",
       "tick_values": {
        "type": null,
        "values": null
       }
      }
     },
     "83336fe5273b466992178560389c2364": {
      "model_module": "bqplot",
      "model_module_version": "^0.3.6",
      "model_name": "BarsModel",
      "state": {
       "color": {
        "type": null,
        "values": null
       },
       "colors": [
        "lightblue"
       ],
       "interactions": {
        "click": "select",
        "hover": "tooltip",
        "legend_hover": "highlight_axes"
       },
       "labels": [
        "Email"
       ],
       "scales": {
        "x": "IPY_MODEL_08cf3ddad1c84ac6bd03a35a6d974454",
        "y": "IPY_MODEL_d14ee27c47e448de96022a2ca199335e"
       },
       "selected": [],
       "selected_style": {
        "fill": "red"
       },
       "tooltip": "IPY_MODEL_67477fd7c0504bf3ae459ca89fc55e91",
       "x": {
        "type": "date",
        "values": [
         "2010-02-09T00:00:00.000000",
         "2010-02-10T00:00:00.000000",
         "2010-02-11T00:00:00.000000",
         "2010-02-12T00:00:00.000000"
        ]
       },
       "y": {
        "type": "float",
        "values": [
         12.34769,
         5.936973,
         2.56502,
         0.979065
        ]
       }
      }
     },
     "838892913e8c45b092174bb0c4d82727": {
      "model_module": "bqplot",
      "model_module_version": "^0.3.6",
      "model_name": "LinearScaleModel",
      "state": {
       "allow_padding": false,
       "max": 1,
       "min": 0,
       "stabilized": false
      }
     },
     "83b021eda282433e9132be8d136ec685": {
      "model_module": "bqplot",
      "model_module_version": "^0.3.6",
      "model_name": "LinearScaleModel",
      "state": {
       "allow_padding": false,
       "max": 1,
       "min": 0,
       "stabilized": false
      }
     },
     "83e71f16c67f45aeadb878645db761e2": {
      "model_module": "bqplot",
      "model_module_version": "^0.3.6",
      "model_name": "AxisModel",
      "state": {
       "label": "Days of the Year",
       "scale": "IPY_MODEL_1ce7fa7d96b541e19923ff269c2b58e4",
       "side": "bottom",
       "tick_format": "%Y-%m-%d",
       "tick_values": {
        "type": null,
        "values": null
       }
      }
     },
     "841a9c8d63634cf18e03ad00a58498a5": {
      "model_module": "bqplot",
      "model_module_version": "^0.3.6",
      "model_name": "DateScaleModel",
      "state": {}
     },
     "8459c924a3524d74aeb3f8eeb798f3d1": {
      "model_module": "bqplot",
      "model_module_version": "^0.3.6",
      "model_name": "FigureModel",
      "state": {
       "_dom_classes": [],
       "animation_duration": 1000,
       "axes": [
        "IPY_MODEL_ade6056a928c445a967d73374361d5c1",
        "IPY_MODEL_39f988011cfc4ceb978dc7a8a39ea873"
       ],
       "layout": "IPY_MODEL_622c31808b8e49729f30fa7111005631",
       "marks": [
        "IPY_MODEL_b363eb06514e4defa2fec5bc22770c3e"
       ],
       "max_aspect_ratio": 6,
       "scale_x": "IPY_MODEL_6afab39dd4cb4b579f83a8a830edef33",
       "scale_y": "IPY_MODEL_2c704e5ff0d94d95a337006c89be4915",
       "title": "Number of Emails sent Daily"
      }
     },
     "84945f3f20cd4371951441117270c91d": {
      "model_module": "bqplot",
      "model_module_version": "^0.3.6",
      "model_name": "AxisModel",
      "state": {
       "label": "Days of the Year",
       "scale": "IPY_MODEL_60882ac6e5ba42798a044674c5c0907a",
       "side": "bottom",
       "tick_values": {
        "type": null,
        "values": null
       }
      }
     },
     "853356dbc8c94a48a542174b8634b25e": {
      "model_module": "@jupyter-widgets/base",
      "model_module_version": "1.0.0",
      "model_name": "LayoutModel",
      "state": {}
     },
     "8540f5a4c6124e9db7219fd4395c6d1c": {
      "model_module": "bqplot",
      "model_module_version": "^0.3.6",
      "model_name": "DateScaleModel",
      "state": {}
     },
     "85dea02800c04e78a81f91177e61321d": {
      "model_module": "@jupyter-widgets/base",
      "model_module_version": "1.0.0",
      "model_name": "LayoutModel",
      "state": {}
     },
     "867c74e4471e495d8bb73d49b4740eab": {
      "model_module": "bqplot",
      "model_module_version": "^0.3.6",
      "model_name": "FigureModel",
      "state": {
       "_dom_classes": [],
       "animation_duration": 1000,
       "axes": [
        "IPY_MODEL_45fbf92598c946ed8fbb01bd491ffbc3",
        "IPY_MODEL_cbd54ff74ef8436bb8e2ba607cd9e6be"
       ],
       "layout": "IPY_MODEL_23b943ff0a06432cb372a1f978615e11",
       "marks": [
        "IPY_MODEL_8f9f02095d5349dab835d72d3112cb88"
       ],
       "max_aspect_ratio": 6,
       "scale_x": "IPY_MODEL_d928c3920cea4d618fc60ebb7efbe532",
       "scale_y": "IPY_MODEL_d109f63aaa124e0080c4924af7a3f2e4",
       "title": "Number of Emails sent Daily"
      }
     },
     "86f8509d7fa947d68cd7cd68ed28776f": {
      "model_module": "@jupyter-widgets/base",
      "model_module_version": "1.0.0",
      "model_name": "LayoutModel",
      "state": {}
     },
     "87c3ab5873c3455a9d21cc0627ed6942": {
      "model_module": "bqplot",
      "model_module_version": "^0.3.6",
      "model_name": "DateScaleModel",
      "state": {}
     },
     "881cee07476d4af69613825c468f63d8": {
      "model_module": "bqplot",
      "model_module_version": "^0.3.6",
      "model_name": "LinearScaleModel",
      "state": {
       "stabilized": false
      }
     },
     "8831db777ee14b3192183c79c9fc0dc9": {
      "model_module": "@jupyter-widgets/base",
      "model_module_version": "1.0.0",
      "model_name": "LayoutModel",
      "state": {}
     },
     "886f411f302d4f9db21e45ae128a7298": {
      "model_module": "@jupyter-widgets/controls",
      "model_module_version": "1.2.0",
      "model_name": "VBoxModel",
      "state": {
       "children": [
        "IPY_MODEL_7c7cc66b5e5b4b398739ea07b925baad"
       ],
       "layout": "IPY_MODEL_17e8af7ec3704064a8013b735fc1c71e"
      }
     },
     "88a1ceb3c98547ba802718dd8aebf634": {
      "model_module": "@jupyter-widgets/base",
      "model_module_version": "1.0.0",
      "model_name": "LayoutModel",
      "state": {}
     },
     "88de33c9209e4a88bc40056e456b3d24": {
      "model_module": "bqplot",
      "model_module_version": "^0.3.6",
      "model_name": "TooltipModel",
      "state": {
       "fields": [
        "x",
        "y"
       ],
       "formats": [
        "",
        "0.2f"
       ],
       "labels": [
        "Date",
        "Email Size"
       ],
       "layout": "IPY_MODEL_2637cae2d63d4783a7d9d6ee559f5407"
      }
     },
     "898e4f78f9124d1cbed307c06cdc3edd": {
      "model_module": "bqplot",
      "model_module_version": "^0.3.6",
      "model_name": "PanZoomModel",
      "state": {
       "scales": {
        "x": [
         "IPY_MODEL_2e5a4c61f5f3407bb8b06bbd8f9a7509"
        ],
        "y": [
         "IPY_MODEL_bd49c10f0f07426c8f5e9dd60b8a07fe"
        ]
       }
      }
     },
     "89bd58dc0bcd4437b791c31de14f14a4": {
      "model_module": "bqplot",
      "model_module_version": "^0.3.6",
      "model_name": "FigureModel",
      "state": {
       "_dom_classes": [],
       "animation_duration": 1000,
       "axes": [
        "IPY_MODEL_f6e1b46dd1aa4bea8849d56e64322a70",
        "IPY_MODEL_c8da02d32d864d8887087882155b7893"
       ],
       "background_style": {
        "fill": "lightviolet"
       },
       "layout": "IPY_MODEL_cef53def6f6243ba9c3e1d89d68543aa",
       "marks": [
        "IPY_MODEL_5c613de42b5e42f9b5d6d649142d3676"
       ],
       "max_aspect_ratio": 6,
       "scale_x": "IPY_MODEL_ca4b3deeb3df43918f9c0036daae5adf",
       "scale_y": "IPY_MODEL_c0338c3ddee04ad6961a0255ed56901a",
       "title": "Number of Emails sent Daily"
      }
     },
     "8a226e495c9449718ae7405254eea415": {
      "model_module": "bqplot",
      "model_module_version": "^0.3.6",
      "model_name": "AxisModel",
      "state": {
       "label": "Days of the Year",
       "scale": "IPY_MODEL_97719c73c19e4767a3f09de9cb4a4372",
       "side": "bottom",
       "tick_values": {
        "type": null,
        "values": null
       }
      }
     },
     "8adf5be63b0f465c8ae3f455a15062fa": {
      "model_module": "bqplot",
      "model_module_version": "^0.3.6",
      "model_name": "TooltipModel",
      "state": {
       "fields": [
        "x",
        "y"
       ],
       "formats": [
        "",
        "0.2f"
       ],
       "labels": [
        "Date",
        "Email Size"
       ],
       "layout": "IPY_MODEL_e94433b990644077832e54ff75e0928b"
      }
     },
     "8af6d5c6adeb4cf8b12126384f20c1f3": {
      "model_module": "bqplot",
      "model_module_version": "^0.3.6",
      "model_name": "LinearScaleModel",
      "state": {
       "stabilized": false
      }
     },
     "8ce5b086ee6c43718572ddb5623dd3b0": {
      "model_module": "bqplot",
      "model_module_version": "^0.3.6",
      "model_name": "BarsModel",
      "state": {
       "color": {
        "type": null,
        "values": null
       },
       "colors": [
        "blue"
       ],
       "interactions": {
        "click": "select",
        "hover": "tooltip",
        "legend_hover": "highlight_axes"
       },
       "labels": [
        "Email"
       ],
       "scales": {
        "x": "IPY_MODEL_4f44a4d0b2b04d53bd617411baa4e919",
        "y": "IPY_MODEL_69c5516e6e2e40ceb0970a81d3df1ea4"
       },
       "selected": [],
       "tooltip": "IPY_MODEL_3d038edc7592444d9c7482bdd43e1a33",
       "x": {
        "type": "date",
        "values": [
         "2010-02-09T00:00:00.000000",
         "2010-02-10T00:00:00.000000",
         "2010-02-11T00:00:00.000000",
         "2010-02-12T00:00:00.000000"
        ]
       },
       "y": {
        "type": "float",
        "values": [
         12.34769,
         5.936973,
         2.56502,
         0.979065
        ]
       }
      }
     },
     "8cecc560a7e5437d9179a622cee07c7b": {
      "model_module": "bqplot",
      "model_module_version": "^0.3.6",
      "model_name": "LinearScaleModel",
      "state": {
       "allow_padding": false,
       "max": 1,
       "min": 0,
       "stabilized": false
      }
     },
     "8dc288063b884c76a9c675f3db2c6a12": {
      "model_module": "@jupyter-widgets/base",
      "model_module_version": "1.0.0",
      "model_name": "LayoutModel",
      "state": {}
     },
     "8e15b20b675d4f389c8df93954ca89a1": {
      "model_module": "bqplot",
      "model_module_version": "^0.3.6",
      "model_name": "PanZoomModel",
      "state": {
       "scales": {
        "x": [
         "IPY_MODEL_87c3ab5873c3455a9d21cc0627ed6942"
        ],
        "y": [
         "IPY_MODEL_78db53bb41a740949345d4e66ebbc0a7"
        ]
       }
      }
     },
     "8e35cc363f2148e989ddea13268f75a8": {
      "model_module": "bqplot",
      "model_module_version": "^0.3.6",
      "model_name": "AxisModel",
      "state": {
       "label": "Days of the Year",
       "scale": "IPY_MODEL_2e5a4c61f5f3407bb8b06bbd8f9a7509",
       "side": "bottom",
       "tick_values": {
        "type": null,
        "values": null
       }
      }
     },
     "8e94843ea3384eceae3f21ebe6caf2b7": {
      "model_module": "bqplot",
      "model_module_version": "^0.3.6",
      "model_name": "FigureModel",
      "state": {
       "_dom_classes": [],
       "animation_duration": 5000,
       "axes": [
        "IPY_MODEL_812234b395724a48941b112862d87542",
        "IPY_MODEL_68f7e668ade54cc6aa8e2950dddea416"
       ],
       "background_style": {
        "fill": "aliceblue"
       },
       "layout": "IPY_MODEL_cef53def6f6243ba9c3e1d89d68543aa",
       "marks": [
        "IPY_MODEL_f20e7fc2b3f1422e908371be474bcb0a"
       ],
       "max_aspect_ratio": 6,
       "scale_x": "IPY_MODEL_056abe0f8edc4730a699272c830d0157",
       "scale_y": "IPY_MODEL_b154295b08094f88905da7a543b7c028",
       "title": "Number of Emails sent Daily"
      }
     },
     "8ec1c6c31cbf438fa95028d2210a278e": {
      "model_module": "bqplot",
      "model_module_version": "^0.3.6",
      "model_name": "AxisModel",
      "state": {
       "label": "Number of Emails",
       "orientation": "vertical",
       "scale": "IPY_MODEL_604f828f8e694c8d8c03be4b1ba34c50",
       "side": "left",
       "tick_format": "0.2f",
       "tick_values": {
        "type": null,
        "values": null
       }
      }
     },
     "8f23c103ac5a4da8bd207d66f9a28904": {
      "model_module": "bqplot",
      "model_module_version": "^0.3.6",
      "model_name": "BarsModel",
      "state": {
       "color": {
        "type": null,
        "values": null
       },
       "colors": [
        "blue"
       ],
       "interactions": {
        "click": "select",
        "hover": "tooltip",
        "legend_hover": "highlight_axes"
       },
       "labels": [
        "Email"
       ],
       "scales": {
        "x": "IPY_MODEL_53cf5c5e9341465ebe2066634511c2db",
        "y": "IPY_MODEL_7cea1827a668409d972d8253475fff5b"
       },
       "selected": [],
       "selected_style": {
        "fill": "red"
       },
       "tooltip": "IPY_MODEL_70c036f3aab148f68bdefdb8f15ae880",
       "x": {
        "type": "date",
        "values": [
         "2010-02-09T00:00:00.000000",
         "2010-02-10T00:00:00.000000",
         "2010-02-11T00:00:00.000000",
         "2010-02-12T00:00:00.000000"
        ]
       },
       "y": {
        "type": "float",
        "values": [
         12.34769,
         5.936973,
         2.56502,
         0.979065
        ]
       }
      }
     },
     "8f9f02095d5349dab835d72d3112cb88": {
      "model_module": "bqplot",
      "model_module_version": "^0.3.6",
      "model_name": "BarsModel",
      "state": {
       "color": {
        "type": null,
        "values": null
       },
       "colors": [
        "blue"
       ],
       "interactions": {
        "click": "select",
        "hover": "tooltip",
        "legend_hover": "highlight_axes"
       },
       "labels": [
        "Email"
       ],
       "scales": {
        "x": "IPY_MODEL_f6c412090edb4aecb2efceae5ca95ed4",
        "y": "IPY_MODEL_8101bc04dbbe4a7ab267e3107a79e541"
       },
       "selected": [
        0
       ],
       "tooltip": "IPY_MODEL_b893ea509c0a4498bc4f5a47a708537d",
       "x": {
        "type": "date",
        "values": [
         "2010-02-09T00:00:00.000000",
         "2010-02-10T00:00:00.000000",
         "2010-02-11T00:00:00.000000",
         "2010-02-12T00:00:00.000000"
        ]
       },
       "y": {
        "type": "float",
        "values": [
         12.34769,
         5.936973,
         2.56502,
         0.979065
        ]
       }
      }
     },
     "9028db8a1b2d4430848f7f31614e8fb2": {
      "model_module": "bqplot",
      "model_module_version": "^0.3.6",
      "model_name": "DateScaleModel",
      "state": {}
     },
     "906ebc6fa0334e8b9f36a13e222c3fc6": {
      "model_module": "@jupyter-widgets/base",
      "model_module_version": "1.0.0",
      "model_name": "LayoutModel",
      "state": {
       "min_width": "125px"
      }
     },
     "90b68716d82e40659df433ddecd35f97": {
      "model_module": "bqplot",
      "model_module_version": "^0.3.6",
      "model_name": "BarsModel",
      "state": {
       "color": {
        "type": null,
        "values": null
       },
       "colors": [
        "blue"
       ],
       "interactions": {
        "click": "select",
        "hover": "tooltip",
        "legend_hover": "highlight_axes"
       },
       "labels": [
        "Email"
       ],
       "scales": {
        "x": "IPY_MODEL_bbbf8e6ef80e406d96378f3230c80183",
        "y": "IPY_MODEL_c46a5902844c4067aa935739f8107ae6"
       },
       "selected": [],
       "tooltip": "IPY_MODEL_7d772d7966b4456abd9a3ae305ecd7cd",
       "x": {
        "type": "date",
        "values": [
         "2010-02-09T00:00:00.000000",
         "2010-02-10T00:00:00.000000",
         "2010-02-11T00:00:00.000000",
         "2010-02-12T00:00:00.000000"
        ]
       },
       "y": {
        "type": "float",
        "values": [
         12.34769,
         5.936973,
         2.56502,
         0.979065
        ]
       }
      }
     },
     "90c8e1d5928e46cba3e314e65e776dbc": {
      "model_module": "bqplot",
      "model_module_version": "^0.3.6",
      "model_name": "LinearScaleModel",
      "state": {
       "allow_padding": false,
       "max": 1,
       "min": 0,
       "stabilized": false
      }
     },
     "91d4546a3d7744c1803f7bfefce1d8c0": {
      "model_module": "bqplot",
      "model_module_version": "^0.3.6",
      "model_name": "TooltipModel",
      "state": {
       "fields": [
        "x",
        "y"
       ],
       "formats": [
        "",
        "0.2f"
       ],
       "labels": [
        "Date",
        "Email Size"
       ],
       "layout": "IPY_MODEL_232e9019d9be4f599a051355836ce114"
      }
     },
     "928855be5e7b4ecb99a91c2281853656": {
      "model_module": "@jupyter-widgets/controls",
      "model_module_version": "1.2.0",
      "model_name": "VBoxModel",
      "state": {
       "children": [
        "IPY_MODEL_49c8a88fdaab4a56ac91698651f43f64"
       ],
       "layout": "IPY_MODEL_d89ea98e4c134c05ac6b16b9277e79b7"
      }
     },
     "92c81d6e76854c919a066cd1fefebfe5": {
      "model_module": "@jupyter-widgets/base",
      "model_module_version": "1.0.0",
      "model_name": "LayoutModel",
      "state": {}
     },
     "92cce8425d5344b98bb2d574956e7782": {
      "model_module": "bqplot",
      "model_module_version": "^0.3.6",
      "model_name": "PanZoomModel",
      "state": {
       "scales": {
        "x": [
         "IPY_MODEL_643fb801a272470f820365b83a459f14"
        ],
        "y": [
         "IPY_MODEL_9c02563a1f7e439ba5601357d9287fe0"
        ]
       }
      }
     },
     "930c5316be1d471988ce032b04779339": {
      "model_module": "bqplot",
      "model_module_version": "^0.3.6",
      "model_name": "LinearScaleModel",
      "state": {
       "allow_padding": false,
       "max": 1,
       "min": 0,
       "stabilized": false
      }
     },
     "9335e64acd6a4a81953f597b8fb3aa70": {
      "model_module": "bqplot",
      "model_module_version": "^0.3.6",
      "model_name": "LinearScaleModel",
      "state": {
       "stabilized": false
      }
     },
     "937dbedbe67a4f9eb30e311e06ba525a": {
      "model_module": "bqplot",
      "model_module_version": "^0.3.6",
      "model_name": "LinearScaleModel",
      "state": {
       "allow_padding": false,
       "max": 1,
       "min": 0,
       "stabilized": false
      }
     },
     "9399cc99f2474cf6b5556c6a1014f6f5": {
      "model_module": "@jupyter-widgets/base",
      "model_module_version": "1.0.0",
      "model_name": "LayoutModel",
      "state": {}
     },
     "945af01951b543aabb9b13c160e7e612": {
      "model_module": "bqplot",
      "model_module_version": "^0.3.6",
      "model_name": "LinearScaleModel",
      "state": {
       "max": 16.581568744038243,
       "min": -3.373216991174962,
       "stabilized": false
      }
     },
     "94687182bc7842aa94a2044aeb90996f": {
      "model_module": "@jupyter-widgets/controls",
      "model_module_version": "1.2.0",
      "model_name": "VBoxModel",
      "state": {
       "children": [
        "IPY_MODEL_2cdaef979d08446897e689098bca88bd"
       ],
       "layout": "IPY_MODEL_69eaee9080c945c09ef04d0ed06ed6de"
      }
     },
     "948fc86e10614a788dbeccc7d1d10b88": {
      "model_module": "bqplot",
      "model_module_version": "^0.3.6",
      "model_name": "DateScaleModel",
      "state": {}
     },
     "94b6c12505754e5788b7f0d277f7b4b0": {
      "model_module": "bqplot",
      "model_module_version": "^0.3.6",
      "model_name": "LinearScaleModel",
      "state": {
       "allow_padding": false,
       "max": 1,
       "min": 0,
       "stabilized": false
      }
     },
     "952fed2473e94a8f97192fa0dfb1c460": {
      "model_module": "bqplot",
      "model_module_version": "^0.3.6",
      "model_name": "FigureModel",
      "state": {
       "_dom_classes": [],
       "animation_duration": 1000,
       "axes": [
        "IPY_MODEL_c82095bd5451416e8b3a3ce1c99fd3ca",
        "IPY_MODEL_8ec1c6c31cbf438fa95028d2210a278e"
       ],
       "layout": "IPY_MODEL_ab538287512740b190ba3bb05da81b28",
       "marks": [
        "IPY_MODEL_447ebe664c144107998d9526f293c5ab"
       ],
       "max_aspect_ratio": 6,
       "scale_x": "IPY_MODEL_daac864638db4432bde65f0f86c79c80",
       "scale_y": "IPY_MODEL_d5753112a3534b518454c029524068d6",
       "title": "Number of Emails sent Monthly"
      }
     },
     "95d8c9679adf458187deb088b8aa3c57": {
      "model_module": "@jupyter-widgets/base",
      "model_module_version": "1.0.0",
      "model_name": "LayoutModel",
      "state": {}
     },
     "962e69c903c4444bb2550b4d4ec2606c": {
      "model_module": "@jupyter-widgets/controls",
      "model_module_version": "1.2.0",
      "model_name": "VBoxModel",
      "state": {
       "children": [
        "IPY_MODEL_278bf41ed10d46378a6d37ea62664e0b"
       ],
       "layout": "IPY_MODEL_125388cdef1a493aa75f3e4bae6efe36"
      }
     },
     "963a6cf5b7694526b816c8714630c813": {
      "model_module": "bqplot",
      "model_module_version": "^0.3.6",
      "model_name": "DateScaleModel",
      "state": {}
     },
     "963d6fa7ab324300b1d502bd5b30f1be": {
      "model_module": "@jupyter-widgets/controls",
      "model_module_version": "1.2.0",
      "model_name": "VBoxModel",
      "state": {
       "children": [
        "IPY_MODEL_49e00ca6d54742bd86284b37d1be4fe6"
       ],
       "layout": "IPY_MODEL_7e2e6370b9eb43789ec50558c1f49208"
      }
     },
     "968bf562c0074f9391eeec3c5559f32f": {
      "model_module": "@jupyter-widgets/controls",
      "model_module_version": "1.2.0",
      "model_name": "VBoxModel",
      "state": {
       "children": [
        "IPY_MODEL_4c562d319d97407181a766928c9c689b"
       ],
       "layout": "IPY_MODEL_9399cc99f2474cf6b5556c6a1014f6f5"
      }
     },
     "96e89d1c8922482bac5616d9c8f88920": {
      "model_module": "bqplot",
      "model_module_version": "^0.3.6",
      "model_name": "AxisModel",
      "state": {
       "label": "Days of the Year",
       "scale": "IPY_MODEL_5dc7aab61b7d4b54b5bc77f31e9df51c",
       "side": "bottom",
       "tick_values": {
        "type": null,
        "values": null
       }
      }
     },
     "97719c73c19e4767a3f09de9cb4a4372": {
      "model_module": "bqplot",
      "model_module_version": "^0.3.6",
      "model_name": "DateScaleModel",
      "state": {}
     },
     "97e826747d4e4ccc84164e0102c22ae2": {
      "model_module": "bqplot",
      "model_module_version": "^0.3.6",
      "model_name": "LinearScaleModel",
      "state": {
       "allow_padding": false,
       "max": 1,
       "min": 0,
       "stabilized": false
      }
     },
     "97e830586ef1458cac807b757134518d": {
      "model_module": "bqplot",
      "model_module_version": "^0.3.6",
      "model_name": "BarsModel",
      "state": {
       "color": {
        "type": null,
        "values": null
       },
       "colors": [
        "blue"
       ],
       "interactions": {
        "click": "select",
        "hover": "tooltip",
        "legend_hover": "highlight_axes"
       },
       "labels": [
        "Email"
       ],
       "scales": {
        "x": "IPY_MODEL_9c86f965c9f4452eaf0dadeb3b0f6783",
        "y": "IPY_MODEL_945af01951b543aabb9b13c160e7e612"
       },
       "selected": [],
       "tooltip": "IPY_MODEL_39d3cdd317b44fac9fed7523b11f79e6",
       "x": {
        "type": "date",
        "values": [
         "2010-02-09T00:00:00.000000",
         "2010-02-10T00:00:00.000000",
         "2010-02-11T00:00:00.000000",
         "2010-02-12T00:00:00.000000"
        ]
       },
       "y": {
        "type": "float",
        "values": [
         12.34769,
         5.936973,
         2.56502,
         0.979065
        ]
       }
      }
     },
     "98865d1a4d6a40438c5a0d4d1b8af9a7": {
      "model_module": "bqplot",
      "model_module_version": "^0.3.6",
      "model_name": "LinearScaleModel",
      "state": {
       "allow_padding": false,
       "max": 1,
       "min": 0,
       "stabilized": false
      }
     },
     "98e5ba5e6e3b4955bbbafd665593d446": {
      "model_module": "bqplot",
      "model_module_version": "^0.3.6",
      "model_name": "PanZoomModel",
      "state": {
       "scales": {
        "x": [
         "IPY_MODEL_178cf4ee10e0474b816ad18da7558802"
        ],
        "y": [
         "IPY_MODEL_b35fe9f3a38b42c5a786a083fdf8549c"
        ]
       }
      }
     },
     "9902090806d24a3c81506c0565dce342": {
      "model_module": "bqplot",
      "model_module_version": "^0.3.6",
      "model_name": "AxisModel",
      "state": {
       "label": "Days of the Year",
       "scale": "IPY_MODEL_3d01c9696db0488ea55613e08d39916c",
       "side": "bottom",
       "tick_values": {
        "type": null,
        "values": null
       }
      }
     },
     "992640145ef74c65a70c9b54fd246de9": {
      "model_module": "@jupyter-widgets/base",
      "model_module_version": "1.0.0",
      "model_name": "LayoutModel",
      "state": {}
     },
     "9974e5a53bbc435aa3bad926cdbb9f7c": {
      "model_module": "@jupyter-widgets/base",
      "model_module_version": "1.0.0",
      "model_name": "LayoutModel",
      "state": {}
     },
     "998cecb737a8445bbb6ac765055d9552": {
      "model_module": "bqplot",
      "model_module_version": "^0.3.6",
      "model_name": "AxisModel",
      "state": {
       "label": "Days of the Year",
       "scale": "IPY_MODEL_42fa09b8daeb4d66a6fa862e48f7f993",
       "side": "bottom",
       "tick_values": {
        "type": null,
        "values": null
       }
      }
     },
     "99a762d8ae454db7912e84510876dba4": {
      "model_module": "bqplot",
      "model_module_version": "^0.3.6",
      "model_name": "PanZoomModel",
      "state": {
       "scales": {
        "x": [
         "IPY_MODEL_f37f0acf56ce4465a2af19d741594739"
        ],
        "y": [
         "IPY_MODEL_0db5346c93ed4fcaadd8bcc9b07a8244"
        ]
       }
      }
     },
     "99e20f9816f94989806dfe44e9b85359": {
      "model_module": "bqplot",
      "model_module_version": "^0.3.6",
      "model_name": "PanZoomModel",
      "state": {
       "scales": {
        "x": [
         "IPY_MODEL_eff1f1d577884c6b971140035c914b2e"
        ],
        "y": [
         "IPY_MODEL_fe1b95024095437ebcd4331b7a99eca3"
        ]
       }
      }
     },
     "9a4f6651435f4f73860aa6953ccdd643": {
      "model_module": "@jupyter-widgets/base",
      "model_module_version": "1.0.0",
      "model_name": "LayoutModel",
      "state": {}
     },
     "9a522f6d267f455c8de11e6506692636": {
      "model_module": "bqplot",
      "model_module_version": "^0.3.6",
      "model_name": "AxisModel",
      "state": {
       "label": "Days of the Year",
       "scale": "IPY_MODEL_33138ce7df4446e687e4ce4c859d0722",
       "side": "bottom",
       "tick_format": "%Y-%m-%d",
       "tick_values": {
        "type": null,
        "values": null
       }
      }
     },
     "9a942944cf3c43e2aac6e70020e02cfc": {
      "model_module": "bqplot",
      "model_module_version": "^0.3.6",
      "model_name": "PanZoomModel",
      "state": {
       "scales": {
        "x": [
         "IPY_MODEL_aad756c404f94375b7bc38230f565212"
        ],
        "y": [
         "IPY_MODEL_7d6fb5ae655342f49c7672a562e2833d"
        ]
       }
      }
     },
     "9ac1acfa2d494f4c976c2ef1347f8535": {
      "model_module": "bqplot",
      "model_module_version": "^0.3.6",
      "model_name": "LinearScaleModel",
      "state": {
       "stabilized": false
      }
     },
     "9ad16b1410994bb6a60d5973eb18cb4f": {
      "model_module": "bqplot",
      "model_module_version": "^0.3.6",
      "model_name": "AxisModel",
      "state": {
       "label": "Days of the Year",
       "scale": "IPY_MODEL_1d02c4e40b5a45b99d199d8746c25e4c",
       "side": "bottom",
       "tick_values": {
        "type": null,
        "values": null
       }
      }
     },
     "9be651cc0a8942feb5e96b9b21be8c57": {
      "model_module": "bqplot",
      "model_module_version": "^0.3.6",
      "model_name": "BarsModel",
      "state": {
       "color": {
        "type": null,
        "values": null
       },
       "colors": [
        "blue"
       ],
       "interactions": {
        "click": "select",
        "hover": "tooltip",
        "legend_hover": "highlight_axes"
       },
       "labels": [
        "Email"
       ],
       "scales": {
        "x": "IPY_MODEL_5db51f19bee641f3bdc4d4d2838317b3",
        "y": "IPY_MODEL_a87e634893954b50b4388ee37070b441"
       },
       "selected": [],
       "tooltip": "IPY_MODEL_8adf5be63b0f465c8ae3f455a15062fa",
       "x": {
        "type": "date",
        "values": [
         "2010-02-09T00:00:00.000000",
         "2010-02-10T00:00:00.000000",
         "2010-02-11T00:00:00.000000",
         "2010-02-12T00:00:00.000000"
        ]
       },
       "y": {
        "type": "float",
        "values": [
         12.34769,
         5.936973,
         2.56502,
         0.979065
        ]
       }
      }
     },
     "9c02563a1f7e439ba5601357d9287fe0": {
      "model_module": "bqplot",
      "model_module_version": "^0.3.6",
      "model_name": "LinearScaleModel",
      "state": {
       "stabilized": false
      }
     },
     "9c78d8c6c5b3474fbf74af594cb65bb4": {
      "model_module": "@jupyter-widgets/base",
      "model_module_version": "1.0.0",
      "model_name": "LayoutModel",
      "state": {}
     },
     "9c86f965c9f4452eaf0dadeb3b0f6783": {
      "model_module": "bqplot",
      "model_module_version": "^0.3.6",
      "model_name": "DateScaleModel",
      "state": {
       "max": "2010-02-13T06:40:15.711000",
       "min": "2010-02-08T11:12:55.286000"
      }
     },
     "9c9c990c5d674bc289d64095fb53f503": {
      "model_module": "bqplot",
      "model_module_version": "^0.3.6",
      "model_name": "BarsModel",
      "state": {
       "color": {
        "type": null,
        "values": null
       },
       "colors": [
        "blue"
       ],
       "interactions": {
        "click": "select",
        "hover": "tooltip",
        "legend_hover": "highlight_axes"
       },
       "labels": [
        "Email"
       ],
       "scales": {
        "x": "IPY_MODEL_eff1f1d577884c6b971140035c914b2e",
        "y": "IPY_MODEL_fe1b95024095437ebcd4331b7a99eca3"
       },
       "selected": [],
       "selected_style": {
        "fill": "red"
       },
       "tooltip": "IPY_MODEL_f39010eb5a7e4015bf6dbce4f1afbd03",
       "x": {
        "type": "date",
        "values": [
         "2010-02-09T00:00:00.000000",
         "2010-02-10T00:00:00.000000",
         "2010-02-11T00:00:00.000000",
         "2010-02-12T00:00:00.000000"
        ]
       },
       "y": {
        "type": "float",
        "values": [
         12.34769,
         5.936973,
         2.56502,
         0.979065
        ]
       }
      }
     },
     "9cf5da754965441fa9d617301d16dc27": {
      "model_module": "@jupyter-widgets/base",
      "model_module_version": "1.0.0",
      "model_name": "LayoutModel",
      "state": {
       "min_width": "125px"
      }
     },
     "9d7b95f811cf4cc097417f04ad4505d5": {
      "model_module": "bqplot",
      "model_module_version": "^0.3.6",
      "model_name": "DateScaleModel",
      "state": {}
     },
     "9dcdc3ca5b434075bf2585bdf6b1a69f": {
      "model_module": "bqplot",
      "model_module_version": "^0.3.6",
      "model_name": "LinearScaleModel",
      "state": {
       "allow_padding": false,
       "max": 1,
       "min": 0,
       "stabilized": false
      }
     },
     "9df560b96b3c42c7a195b6115848a0b3": {
      "model_module": "bqplot",
      "model_module_version": "^0.3.6",
      "model_name": "DateScaleModel",
      "state": {}
     },
     "9e11241208ca4acab6b9c088776292a1": {
      "model_module": "@jupyter-widgets/base",
      "model_module_version": "1.0.0",
      "model_name": "LayoutModel",
      "state": {}
     },
     "9e2d32fa237c41eab7b1ef6f1aa2adfc": {
      "model_module": "bqplot",
      "model_module_version": "^0.3.6",
      "model_name": "PanZoomModel",
      "state": {
       "scales": {
        "x": [
         "IPY_MODEL_841a9c8d63634cf18e03ad00a58498a5"
        ],
        "y": [
         "IPY_MODEL_d87a63f8d9fd40e99c3c7cabf7690a8a"
        ]
       }
      }
     },
     "9e75e00b56de4a8d8a34560f83b600f8": {
      "model_module": "bqplot",
      "model_module_version": "^0.3.6",
      "model_name": "FigureModel",
      "state": {
       "_dom_classes": [],
       "animation_duration": 1000,
       "axes": [
        "IPY_MODEL_080a5efbd5124979932d27c05102b7fa",
        "IPY_MODEL_05d790bdd37e46ccae3ab0fe7dcad0d1"
       ],
       "layout": "IPY_MODEL_6722ba750937446f97a8541aaa32389d",
       "marks": [
        "IPY_MODEL_a29bc9c86cf94605bbe32b6f15048cce"
       ],
       "max_aspect_ratio": 6,
       "scale_x": "IPY_MODEL_5ddb4fedcc894e3d98b83909bbdd6399",
       "scale_y": "IPY_MODEL_26f4448fd1714578b923a8207d5cf323",
       "title": "Number of Emails sent Daily"
      }
     },
     "9eee0169c86a4c5b944526a32f0239f4": {
      "model_module": "bqplot",
      "model_module_version": "^0.3.6",
      "model_name": "LinearScaleModel",
      "state": {
       "allow_padding": false,
       "max": 1,
       "min": 0,
       "stabilized": false
      }
     },
     "9f50f686972b4e488734fc9ce969f42e": {
      "model_module": "@jupyter-widgets/base",
      "model_module_version": "1.0.0",
      "model_name": "LayoutModel",
      "state": {}
     },
     "9f5dbdadf8ce4c359e06ae259638f42d": {
      "model_module": "bqplot",
      "model_module_version": "^0.3.6",
      "model_name": "AxisModel",
      "state": {
       "label": "Days of the Year",
       "scale": "IPY_MODEL_318dd30eaaad4848a45db37bf3cac61a",
       "side": "bottom",
       "tick_format": "%Y-%m-%d",
       "tick_values": {
        "type": null,
        "values": null
       }
      }
     },
     "a035caba34774dbd9995920d246e6d48": {
      "model_module": "bqplot",
      "model_module_version": "^0.3.6",
      "model_name": "FigureModel",
      "state": {
       "_dom_classes": [],
       "animation_duration": 1000,
       "axes": [
        "IPY_MODEL_64973d43cc004e6c94586284ab2dbd02",
        "IPY_MODEL_c0333e9c5b8143d2b1fe4137ed9e01f3"
       ],
       "background_style": {
        "fill": "black"
       },
       "layout": "IPY_MODEL_cef53def6f6243ba9c3e1d89d68543aa",
       "marks": [
        "IPY_MODEL_cc1938172aca4f30b53943d2b438ab19"
       ],
       "max_aspect_ratio": 6,
       "scale_x": "IPY_MODEL_1da62181f2cb433f8ae0fb19383a484a",
       "scale_y": "IPY_MODEL_c943b6b047bd4a2ebfc01faf0789294d",
       "title": "Number of Emails sent Daily"
      }
     },
     "a039be3364894427bcd777eb16d7f8a0": {
      "model_module": "bqplot",
      "model_module_version": "^0.3.6",
      "model_name": "DateScaleModel",
      "state": {}
     },
     "a13f08e60c414bb3bee9dbbbeffd9bc7": {
      "model_module": "bqplot",
      "model_module_version": "^0.3.6",
      "model_name": "TooltipModel",
      "state": {
       "fields": [
        "x",
        "y"
       ],
       "formats": [
        "",
        "0.2f"
       ],
       "labels": [
        "Date",
        "Email Size"
       ],
       "layout": "IPY_MODEL_a178561a863449afb825c813bf1591ec"
      }
     },
     "a15bba71400846bbb97546c49f42c352": {
      "model_module": "bqplot",
      "model_module_version": "^0.3.6",
      "model_name": "AxisModel",
      "state": {
       "label": "Number of Emails",
       "orientation": "vertical",
       "scale": "IPY_MODEL_c1d3f01142ac42e1831f72414d74f2a7",
       "side": "left",
       "tick_format": "0.2f",
       "tick_values": {
        "type": null,
        "values": null
       }
      }
     },
     "a178561a863449afb825c813bf1591ec": {
      "model_module": "@jupyter-widgets/base",
      "model_module_version": "1.0.0",
      "model_name": "LayoutModel",
      "state": {}
     },
     "a23fe23655b54f5bb7671330c0ff3ff5": {
      "model_module": "bqplot",
      "model_module_version": "^0.3.6",
      "model_name": "AxisModel",
      "state": {
       "label": "Days of the Year",
       "scale": "IPY_MODEL_80a6aaa80e0d4f42b1748329a97e270d",
       "side": "bottom",
       "tick_values": {
        "type": null,
        "values": null
       }
      }
     },
     "a248ced56c514e449e9f344799ca2de5": {
      "model_module": "bqplot",
      "model_module_version": "^0.3.6",
      "model_name": "PanZoomModel",
      "state": {
       "scales": {
        "x": [
         "IPY_MODEL_016be72110a949519c8cd01f400d7ac9"
        ],
        "y": [
         "IPY_MODEL_3b432f5ca75d4096978d3814442f0670"
        ]
       }
      }
     },
     "a277f0bfdaa34ad4ac2192d60851f70e": {
      "model_module": "bqplot",
      "model_module_version": "^0.3.6",
      "model_name": "LinearScaleModel",
      "state": {
       "allow_padding": false,
       "max": 1,
       "min": 0,
       "stabilized": false
      }
     },
     "a2805964dba84c94af76b2abfac0531e": {
      "model_module": "bqplot",
      "model_module_version": "^0.3.6",
      "model_name": "LinearScaleModel",
      "state": {
       "allow_padding": false,
       "max": 1,
       "min": 0,
       "stabilized": false
      }
     },
     "a29bc9c86cf94605bbe32b6f15048cce": {
      "model_module": "bqplot",
      "model_module_version": "^0.3.6",
      "model_name": "BarsModel",
      "state": {
       "color": {
        "type": null,
        "values": null
       },
       "colors": [
        "blue"
       ],
       "labels": [
        "email"
       ],
       "scales": {
        "x": "IPY_MODEL_643fb801a272470f820365b83a459f14",
        "y": "IPY_MODEL_9c02563a1f7e439ba5601357d9287fe0"
       },
       "selected": [],
       "tooltip": "IPY_MODEL_e461ef003efd4227bcf03faef32b66e5",
       "x": {
        "type": "object",
        "values": [
         "2010-02-09",
         "2010-02-10",
         "2010-02-11",
         "2010-02-12"
        ]
       },
       "y": {
        "type": "float",
        "values": [
         12.34769,
         5.936973,
         2.56502,
         0.979065
        ]
       }
      }
     },
     "a2a98f0f38ab4f18bf762fedcad65301": {
      "model_module": "bqplot",
      "model_module_version": "^0.3.6",
      "model_name": "FigureModel",
      "state": {
       "_dom_classes": [],
       "animation_duration": 1000,
       "axes": [
        "IPY_MODEL_9ad16b1410994bb6a60d5973eb18cb4f",
        "IPY_MODEL_63158ed2177e41ef9be269b08d453a78"
       ],
       "layout": "IPY_MODEL_cef53def6f6243ba9c3e1d89d68543aa",
       "marks": [
        "IPY_MODEL_2d8e5084dbc3407c84826db78fb175c5"
       ],
       "max_aspect_ratio": 6,
       "scale_x": "IPY_MODEL_2674ed7e07134aa39a11096aa6163432",
       "scale_y": "IPY_MODEL_5e09a164ca01488eb5833943a325065e",
       "title": "Number of Emails sent Daily"
      }
     },
     "a2b3ba977da74c1b906d2d5237b2b2b8": {
      "model_module": "bqplot",
      "model_module_version": "^0.3.6",
      "model_name": "BarsModel",
      "state": {
       "color": {
        "type": null,
        "values": null
       },
       "colors": [
        "blue"
       ],
       "interactions": {
        "click": "select",
        "hover": "tooltip",
        "legend_hover": "highlight_axes"
       },
       "labels": [
        "Email"
       ],
       "scales": {
        "x": "IPY_MODEL_a039be3364894427bcd777eb16d7f8a0",
        "y": "IPY_MODEL_d6cb954f87dc46189683686a3b1f69b4"
       },
       "selected": [],
       "tooltip": "IPY_MODEL_3f59c483aca54ebbbaeb2c5238615d47",
       "x": {
        "type": "date",
        "values": [
         "2010-02-09T00:00:00.000000",
         "2010-02-10T00:00:00.000000",
         "2010-02-11T00:00:00.000000",
         "2010-02-12T00:00:00.000000"
        ]
       },
       "y": {
        "type": "float",
        "values": [
         12.34769,
         5.936973,
         2.56502,
         0.979065
        ]
       }
      }
     },
     "a32f14b3c92441548d254e893d8e7c7d": {
      "model_module": "bqplot",
      "model_module_version": "^0.3.6",
      "model_name": "LinearScaleModel",
      "state": {
       "stabilized": false
      }
     },
     "a33db4020721460eb0364cd7e84eb4b3": {
      "model_module": "@jupyter-widgets/base",
      "model_module_version": "1.0.0",
      "model_name": "LayoutModel",
      "state": {}
     },
     "a3d493a53b9044b090983044a01e227b": {
      "model_module": "@jupyter-widgets/base",
      "model_module_version": "1.0.0",
      "model_name": "LayoutModel",
      "state": {}
     },
     "a3fdb27ab1f14e80a14e398122716b9a": {
      "model_module": "bqplot",
      "model_module_version": "^0.3.6",
      "model_name": "BarsModel",
      "state": {
       "color": {
        "type": null,
        "values": null
       },
       "colors": [
        "blue"
       ],
       "interactions": {
        "click": "select",
        "hover": "tooltip",
        "legend_hover": "highlight_axes"
       },
       "labels": [
        "Email"
       ],
       "scales": {
        "x": "IPY_MODEL_97719c73c19e4767a3f09de9cb4a4372",
        "y": "IPY_MODEL_32464973696a4cf19740699fb8215a6a"
       },
       "selected": [],
       "selected_style": {
        "fill": "red"
       },
       "tooltip": "IPY_MODEL_47b8d15ce370486f9222eaf2889f915a",
       "x": {
        "type": "date",
        "values": [
         "2010-02-09T00:00:00.000000",
         "2010-02-10T00:00:00.000000",
         "2010-02-11T00:00:00.000000",
         "2010-02-12T00:00:00.000000"
        ]
       },
       "y": {
        "type": "float",
        "values": [
         12.34769,
         5.936973,
         2.56502,
         0.979065
        ]
       }
      }
     },
     "a46dc10489f647fdbeb5a9d3f1c43da2": {
      "model_module": "bqplot",
      "model_module_version": "^0.3.6",
      "model_name": "FigureModel",
      "state": {
       "_dom_classes": [],
       "animation_duration": 1000,
       "axes": [
        "IPY_MODEL_cc9f3e59b51247719576674e30d9c3ec",
        "IPY_MODEL_af9d3575c77b4395aea1b28786e219cb"
       ],
       "layout": "IPY_MODEL_daf4ecfdc0fa4c39a14168c22c4cd9d3",
       "marks": [
        "IPY_MODEL_6fc128dd59eb42149bac569cb4f898db"
       ],
       "max_aspect_ratio": 6,
       "scale_x": "IPY_MODEL_2b361d6d071a440c89649d647fe779ca",
       "scale_y": "IPY_MODEL_930c5316be1d471988ce032b04779339",
       "title": "Number of Emails sent Daily"
      }
     },
     "a53726c6bd684a539cbf8128494b9ec5": {
      "model_module": "bqplot",
      "model_module_version": "^0.3.6",
      "model_name": "DateScaleModel",
      "state": {}
     },
     "a597271cc56d47e7b2a400406ed12f12": {
      "model_module": "bqplot",
      "model_module_version": "^0.3.6",
      "model_name": "DateScaleModel",
      "state": {}
     },
     "a5bb66ead9184bf6a9544fa26b02cead": {
      "model_module": "@jupyter-widgets/controls",
      "model_module_version": "1.2.0",
      "model_name": "VBoxModel",
      "state": {
       "children": [
        "IPY_MODEL_085e11aa231b485793787f53de03d444"
       ],
       "layout": "IPY_MODEL_6645148651ab4647a7bd46272c30bd8d"
      }
     },
     "a65bce1da8a44772a6368da9efdefdeb": {
      "model_module": "bqplot",
      "model_module_version": "^0.3.6",
      "model_name": "BarsModel",
      "state": {
       "color": {
        "type": null,
        "values": null
       },
       "colors": [
        "blue"
       ],
       "interactions": {
        "click": "select",
        "hover": "tooltip",
        "legend_hover": "highlight_axes"
       },
       "labels": [
        "Email"
       ],
       "scales": {
        "x": "IPY_MODEL_33138ce7df4446e687e4ce4c859d0722",
        "y": "IPY_MODEL_cf707c6368d14e238c92cbc74ff22a89"
       },
       "selected": [],
       "tooltip": "IPY_MODEL_a73f818e07154918aa5472ad4a7e902b",
       "x": {
        "type": "date",
        "values": [
         "2010-02-09T00:00:00.000000",
         "2010-02-10T00:00:00.000000",
         "2010-02-11T00:00:00.000000",
         "2010-02-12T00:00:00.000000"
        ]
       },
       "y": {
        "type": "float",
        "values": [
         12.34769,
         5.936973,
         2.56502,
         0.979065
        ]
       }
      }
     },
     "a66b51f11e2c4e8e818c6f87093b8909": {
      "model_module": "@jupyter-widgets/base",
      "model_module_version": "1.0.0",
      "model_name": "LayoutModel",
      "state": {
       "min_width": "125px"
      }
     },
     "a6bbe369adac4cdc9f8bf595b041284c": {
      "model_module": "bqplot",
      "model_module_version": "^0.3.6",
      "model_name": "TooltipModel",
      "state": {
       "fields": [
        "index",
        "name"
       ],
       "formats": [
        "",
        "0.2f"
       ],
       "labels": [
        "User ID",
        "Email Size"
       ],
       "layout": "IPY_MODEL_cec00addc5be4450b34679f9d555a64a"
      }
     },
     "a6e49377dbed401b8570810a15bd942b": {
      "model_module": "bqplot",
      "model_module_version": "^0.3.6",
      "model_name": "LinearScaleModel",
      "state": {
       "allow_padding": false,
       "max": 1,
       "min": 0,
       "stabilized": false
      }
     },
     "a6f8c79b396d4947b6cddc555a5a8df7": {
      "model_module": "bqplot",
      "model_module_version": "^0.3.6",
      "model_name": "LinearScaleModel",
      "state": {
       "allow_padding": false,
       "max": 1,
       "min": 0,
       "stabilized": false
      }
     },
     "a73f818e07154918aa5472ad4a7e902b": {
      "model_module": "bqplot",
      "model_module_version": "^0.3.6",
      "model_name": "TooltipModel",
      "state": {
       "fields": [
        "x",
        "y"
       ],
       "formats": [
        "",
        "0.2f"
       ],
       "labels": [
        "Date",
        "Email Size"
       ],
       "layout": "IPY_MODEL_9974e5a53bbc435aa3bad926cdbb9f7c"
      }
     },
     "a74e47929a8140bcbc8135ffea429e1b": {
      "model_module": "bqplot",
      "model_module_version": "^0.3.6",
      "model_name": "AxisModel",
      "state": {
       "label": "Days of the Year",
       "scale": "IPY_MODEL_0608fc5cc34240e398cc3fce57517d02",
       "side": "bottom",
       "tick_values": {
        "type": null,
        "values": null
       }
      }
     },
     "a7ddf3fd86e3408cb2a9781039058016": {
      "model_module": "bqplot",
      "model_module_version": "^0.3.6",
      "model_name": "PanZoomModel",
      "state": {
       "scales": {
        "x": [
         "IPY_MODEL_e1aa282bca9845b7ac4915a3547e333d"
        ],
        "y": [
         "IPY_MODEL_6eaf458ac2e44d48ba74bf953f0bf343"
        ]
       }
      }
     },
     "a7e69f7ab1ce49329df639a7303c4c26": {
      "model_module": "bqplot",
      "model_module_version": "^0.3.6",
      "model_name": "TooltipModel",
      "state": {
       "fields": [
        "x",
        "y"
       ],
       "formats": [
        "",
        "0.2f"
       ],
       "labels": [
        "Date",
        "Email Size"
       ],
       "layout": "IPY_MODEL_22f9aa2da3b24ff0876f8d42d0c7405b"
      }
     },
     "a7edaea3ca6c404b967d854153cff493": {
      "model_module": "bqplot",
      "model_module_version": "^0.3.6",
      "model_name": "PanZoomModel",
      "state": {
       "scales": {
        "x": [
         "IPY_MODEL_a7ef6f74c5b04e20aeb440cefe08d46d"
        ],
        "y": [
         "IPY_MODEL_756cd828770c4f9ba0b1603951a85763"
        ]
       }
      }
     },
     "a7ef6f74c5b04e20aeb440cefe08d46d": {
      "model_module": "bqplot",
      "model_module_version": "^0.3.6",
      "model_name": "DateScaleModel",
      "state": {}
     },
     "a8188519f0dd4c9a96bc6bcbed284e26": {
      "model_module": "bqplot",
      "model_module_version": "^0.3.6",
      "model_name": "AxisModel",
      "state": {
       "label": "Number of Emails",
       "orientation": "vertical",
       "scale": "IPY_MODEL_69a86e544ba843f5b41ae43760fe829b",
       "side": "left",
       "tick_format": "0.2f",
       "tick_values": {
        "type": null,
        "values": null
       }
      }
     },
     "a864eb977dce414b8aaf8c55188add09": {
      "model_module": "@jupyter-widgets/base",
      "model_module_version": "1.0.0",
      "model_name": "LayoutModel",
      "state": {}
     },
     "a87e634893954b50b4388ee37070b441": {
      "model_module": "bqplot",
      "model_module_version": "^0.3.6",
      "model_name": "LinearScaleModel",
      "state": {
       "stabilized": false
      }
     },
     "a8f6c967ba214893a43485ba49411f81": {
      "model_module": "bqplot",
      "model_module_version": "^0.3.6",
      "model_name": "DateScaleModel",
      "state": {}
     },
     "a98bfb5a54854b0daf17add5f08bffc4": {
      "model_module": "bqplot",
      "model_module_version": "^0.3.6",
      "model_name": "TooltipModel",
      "state": {
       "fields": [
        "x",
        "y"
       ],
       "formats": [
        "",
        "0.2f"
       ],
       "labels": [
        "Date",
        "Email Size"
       ],
       "layout": "IPY_MODEL_8831db777ee14b3192183c79c9fc0dc9"
      }
     },
     "aa43be62e7164eca84e9414e49350803": {
      "model_module": "@jupyter-widgets/base",
      "model_module_version": "1.0.0",
      "model_name": "LayoutModel",
      "state": {}
     },
     "aa7d7f85153146dea7cd1b76ee36cf0e": {
      "model_module": "@jupyter-widgets/controls",
      "model_module_version": "1.2.0",
      "model_name": "VBoxModel",
      "state": {
       "children": [
        "IPY_MODEL_d11e552e0cb64a3fa186d475a7a0f7f2"
       ],
       "layout": "IPY_MODEL_546935f790d94ac2913c06b7b8236d14"
      }
     },
     "aaa70999e91c4ed9bcaa2ff4d41d6ef7": {
      "model_module": "@jupyter-widgets/base",
      "model_module_version": "1.0.0",
      "model_name": "LayoutModel",
      "state": {
       "min_width": "125px"
      }
     },
     "aad756c404f94375b7bc38230f565212": {
      "model_module": "bqplot",
      "model_module_version": "^0.3.6",
      "model_name": "DateScaleModel",
      "state": {}
     },
     "ab25e4de2b124357a5676ee3e374bb7a": {
      "model_module": "bqplot",
      "model_module_version": "^0.3.6",
      "model_name": "PanZoomModel",
      "state": {
       "scales": {
        "x": [
         "IPY_MODEL_db645cb3f41f4cacab1edb345af08aba"
        ],
        "y": [
         "IPY_MODEL_257c02a6681145d0be356935c1b4a05f"
        ]
       }
      }
     },
     "ab44694d439446e19974f5c8a7ebae3f": {
      "model_module": "bqplot",
      "model_module_version": "^0.3.6",
      "model_name": "LinearScaleModel",
      "state": {
       "allow_padding": false,
       "max": 1,
       "min": 0,
       "stabilized": false
      }
     },
     "ab538287512740b190ba3bb05da81b28": {
      "model_module": "@jupyter-widgets/base",
      "model_module_version": "1.0.0",
      "model_name": "LayoutModel",
      "state": {
       "min_width": "125px"
      }
     },
     "ab8b37ab91084933b45c6f6b87a43982": {
      "model_module": "@jupyter-widgets/controls",
      "model_module_version": "1.2.0",
      "model_name": "VBoxModel",
      "state": {
       "children": [
        "IPY_MODEL_60858575c674445d8926d732e7f5c998"
       ],
       "layout": "IPY_MODEL_b37155bd77334c4cbb12b2df5ecc4b8e"
      }
     },
     "aba3550b47dd4fa3b2b8a930b7bdb6fa": {
      "model_module": "@jupyter-widgets/controls",
      "model_module_version": "1.2.0",
      "model_name": "VBoxModel",
      "state": {
       "children": [
        "IPY_MODEL_1e3b6f09c13743fbb8eacf0949390728"
       ],
       "layout": "IPY_MODEL_7323b4e6aef84828af24935aecc7a0de"
      }
     },
     "ac2d4fe712e6404882465e60ba84aed7": {
      "model_module": "@jupyter-widgets/controls",
      "model_module_version": "1.2.0",
      "model_name": "VBoxModel",
      "state": {
       "children": [
        "IPY_MODEL_c71d5874fb644d59997e5cdbc6ed034f"
       ],
       "layout": "IPY_MODEL_92c81d6e76854c919a066cd1fefebfe5"
      }
     },
     "ac56ba71d9664c0f90dd85e71f9cac3b": {
      "model_module": "bqplot",
      "model_module_version": "^0.3.6",
      "model_name": "TooltipModel",
      "state": {
       "fields": [
        "x",
        "y"
       ],
       "formats": [
        "",
        "0.2f"
       ],
       "labels": [
        "Date",
        "Email Size"
       ],
       "layout": "IPY_MODEL_1fa635e4dd5a4b0fba4d8382535cc696"
      }
     },
     "acc09973998a40c2a70b7c5c83cc0ebf": {
      "model_module": "bqplot",
      "model_module_version": "^0.3.6",
      "model_name": "AxisModel",
      "state": {
       "label": "Number of Emails",
       "orientation": "vertical",
       "scale": "IPY_MODEL_945af01951b543aabb9b13c160e7e612",
       "side": "left",
       "tick_format": "0.2f",
       "tick_values": {
        "type": null,
        "values": null
       }
      }
     },
     "ad462672fc674316ad790fb1d348a485": {
      "model_module": "bqplot",
      "model_module_version": "^0.3.6",
      "model_name": "PanZoomModel",
      "state": {
       "scales": {
        "x": [
         "IPY_MODEL_f688399db4ed48baa5c59dae50047397"
        ],
        "y": [
         "IPY_MODEL_36ef6170a5ef440e99fb19c74cd79576"
        ]
       }
      }
     },
     "ad5fe28a9a434f75ba4172943f7c2373": {
      "model_module": "bqplot",
      "model_module_version": "^0.3.6",
      "model_name": "AxisModel",
      "state": {
       "label": "Number of Emails",
       "orientation": "vertical",
       "scale": "IPY_MODEL_3673ea6dacc24a0aa07299a8e120d531",
       "side": "left",
       "tick_format": "0.2f",
       "tick_values": {
        "type": null,
        "values": null
       }
      }
     },
     "ade6056a928c445a967d73374361d5c1": {
      "model_module": "bqplot",
      "model_module_version": "^0.3.6",
      "model_name": "AxisModel",
      "state": {
       "label": "Days of the Year",
       "scale": "IPY_MODEL_829753ec36b04c7db7c4849753ed20d7",
       "side": "bottom",
       "tick_values": {
        "type": null,
        "values": null
       }
      }
     },
     "ae68fb3b673e43fda2f0acb76c0c9bdf": {
      "model_module": "bqplot",
      "model_module_version": "^0.3.6",
      "model_name": "FigureModel",
      "state": {
       "_dom_classes": [],
       "animation_duration": 1000,
       "axes": [
        "IPY_MODEL_41194544588f4c4aad5da3bc28113726",
        "IPY_MODEL_ea735ed49bfe4dce897a36c5ccf109b0"
       ],
       "layout": "IPY_MODEL_68c8b08d7b894b64942787963bdec835",
       "marks": [
        "IPY_MODEL_df4b0ace0dee43bb8891eec1305e6581"
       ],
       "max_aspect_ratio": 6,
       "scale_x": "IPY_MODEL_838892913e8c45b092174bb0c4d82727",
       "scale_y": "IPY_MODEL_77678a18a5d84149a76c4d71132acd72",
       "title": "Number of Emails sent Daily"
      }
     },
     "aede28e074ea4e0e892163e1a9d13822": {
      "model_module": "bqplot",
      "model_module_version": "^0.3.6",
      "model_name": "AxisModel",
      "state": {
       "label": "Days of the Year",
       "scale": "IPY_MODEL_07d3df3c16c741f9b3539ef5c232bcea",
       "side": "bottom",
       "tick_values": {
        "type": null,
        "values": null
       }
      }
     },
     "af9d3575c77b4395aea1b28786e219cb": {
      "model_module": "bqplot",
      "model_module_version": "^0.3.6",
      "model_name": "AxisModel",
      "state": {
       "label": "Number of Emails",
       "orientation": "vertical",
       "scale": "IPY_MODEL_f5b78380c7cc4ec2910cd25681ab45bc",
       "side": "left",
       "tick_format": "0.2f",
       "tick_values": {
        "type": null,
        "values": null
       }
      }
     },
     "b07b2d0c27ab492c9872d209b3706eb2": {
      "model_module": "@jupyter-widgets/controls",
      "model_module_version": "1.2.0",
      "model_name": "VBoxModel",
      "state": {
       "children": [
        "IPY_MODEL_c6825c9dffd145b098af2f1641f51348"
       ],
       "layout": "IPY_MODEL_c028f6ef4fa740d1a50325658919533a"
      }
     },
     "b0a3866cf9ea4e5d82b1e996162e6d47": {
      "model_module": "bqplot",
      "model_module_version": "^0.3.6",
      "model_name": "LinearScaleModel",
      "state": {
       "allow_padding": false,
       "max": 1,
       "min": 0,
       "stabilized": false
      }
     },
     "b14c13aa77454ab692fd09a7b20fc507": {
      "model_module": "bqplot",
      "model_module_version": "^0.3.6",
      "model_name": "FigureModel",
      "state": {
       "_dom_classes": [],
       "animation_duration": 1000,
       "axes": [
        "IPY_MODEL_192bbdba52f44bf58268fa99add79385",
        "IPY_MODEL_2eca4d1b9dd14de898401cae8eacd10d"
       ],
       "layout": "IPY_MODEL_9cf5da754965441fa9d617301d16dc27",
       "marks": [
        "IPY_MODEL_c80002cfad1042b497ed943e1c6ed6d9"
       ],
       "max_aspect_ratio": 6,
       "scale_x": "IPY_MODEL_a6e49377dbed401b8570810a15bd942b",
       "scale_y": "IPY_MODEL_643f6d812d2f4302917f0c25c0c5c0b6",
       "title": "Number of Emails sent Daily"
      }
     },
     "b154295b08094f88905da7a543b7c028": {
      "model_module": "bqplot",
      "model_module_version": "^0.3.6",
      "model_name": "LinearScaleModel",
      "state": {
       "allow_padding": false,
       "max": 1,
       "min": 0,
       "stabilized": false
      }
     },
     "b1784a02dfa14bd0b522940ee18e78d9": {
      "model_module": "bqplot",
      "model_module_version": "^0.3.6",
      "model_name": "FigureModel",
      "state": {
       "_dom_classes": [],
       "animation_duration": 1000,
       "axes": [
        "IPY_MODEL_5986b9b20f304539aaee7ed527a59505",
        "IPY_MODEL_1f18c202d4444c279c8637f476f13bc2"
       ],
       "background_style": {
        "fill": "darkgrid"
       },
       "layout": "IPY_MODEL_cef53def6f6243ba9c3e1d89d68543aa",
       "marks": [
        "IPY_MODEL_ea5dac3b96e342d5b73f565640664089"
       ],
       "max_aspect_ratio": 6,
       "scale_x": "IPY_MODEL_75d807a25fcb4b2a86af149b50fe5b56",
       "scale_y": "IPY_MODEL_7225349861904241bbc92f11bb37780d",
       "title": "Number of Emails sent Daily"
      }
     },
     "b1c86acd829947738b2a3d36ce76c941": {
      "model_module": "bqplot",
      "model_module_version": "^0.3.6",
      "model_name": "AxisModel",
      "state": {
       "label": "Number of Emails",
       "orientation": "vertical",
       "scale": "IPY_MODEL_32464973696a4cf19740699fb8215a6a",
       "side": "left",
       "tick_format": "0.2f",
       "tick_values": {
        "type": null,
        "values": null
       }
      }
     },
     "b1f15be09e6d43c6929868d4063b2c7f": {
      "model_module": "bqplot",
      "model_module_version": "^0.3.6",
      "model_name": "LinearScaleModel",
      "state": {
       "allow_padding": false,
       "max": 1,
       "min": 0,
       "stabilized": false
      }
     },
     "b25908cc785e408087f3eba99d0a9666": {
      "model_module": "bqplot",
      "model_module_version": "^0.3.6",
      "model_name": "AxisModel",
      "state": {
       "label": "Number of Emails",
       "orientation": "vertical",
       "scale": "IPY_MODEL_756cd828770c4f9ba0b1603951a85763",
       "side": "left",
       "tick_format": "0.2f",
       "tick_values": {
        "type": null,
        "values": null
       }
      }
     },
     "b2996321a54e477aac49d8820037bf7e": {
      "model_module": "bqplot",
      "model_module_version": "^0.3.6",
      "model_name": "AxisModel",
      "state": {
       "label": "Days of the Year",
       "scale": "IPY_MODEL_016be72110a949519c8cd01f400d7ac9",
       "side": "bottom",
       "tick_values": {
        "type": null,
        "values": null
       }
      }
     },
     "b29a6efd13ef4165bf37e0b7d16615c9": {
      "model_module": "bqplot",
      "model_module_version": "^0.3.6",
      "model_name": "PanZoomModel",
      "state": {
       "scales": {
        "x": [
         "IPY_MODEL_cd20f8ed7a784c5cba0f27d6082860ba"
        ],
        "y": [
         "IPY_MODEL_4c66d36964b4408788d6323ddaed4325"
        ]
       }
      }
     },
     "b2edd49068cb4eea8ddd7fc3d6bfe78e": {
      "model_module": "@jupyter-widgets/controls",
      "model_module_version": "1.2.0",
      "model_name": "VBoxModel",
      "state": {
       "children": [
        "IPY_MODEL_66e356693c6a42b5b4b5d3bc0484e0cb"
       ],
       "layout": "IPY_MODEL_313e23665e9e470581ef9d28fc013812"
      }
     },
     "b2f1f31f22b3481fbbcd34e1be1493de": {
      "model_module": "@jupyter-widgets/base",
      "model_module_version": "1.0.0",
      "model_name": "LayoutModel",
      "state": {}
     },
     "b2f4ff6c43764fb68d912091bc64382e": {
      "model_module": "@jupyter-widgets/base",
      "model_module_version": "1.0.0",
      "model_name": "LayoutModel",
      "state": {}
     },
     "b35fe9f3a38b42c5a786a083fdf8549c": {
      "model_module": "bqplot",
      "model_module_version": "^0.3.6",
      "model_name": "LinearScaleModel",
      "state": {
       "stabilized": false
      }
     },
     "b363eb06514e4defa2fec5bc22770c3e": {
      "model_module": "bqplot",
      "model_module_version": "^0.3.6",
      "model_name": "BarsModel",
      "state": {
       "color": {
        "type": null,
        "values": null
       },
       "colors": [
        "blue"
       ],
       "interactions": {
        "click": "select",
        "hover": "tooltip",
        "legend_hover": "highlight_axes"
       },
       "labels": [
        "Email"
       ],
       "scales": {
        "x": "IPY_MODEL_829753ec36b04c7db7c4849753ed20d7",
        "y": "IPY_MODEL_5ec90142e2a14025b434ab8d971d0bd8"
       },
       "selected": [],
       "tooltip": "IPY_MODEL_6f98b4683c994e598845998c7fd82367",
       "x": {
        "type": "date",
        "values": [
         "2010-02-09T00:00:00.000000",
         "2010-02-10T00:00:00.000000",
         "2010-02-11T00:00:00.000000",
         "2010-02-12T00:00:00.000000"
        ]
       },
       "y": {
        "type": "float",
        "values": [
         12.34769,
         5.936973,
         2.56502,
         0.979065
        ]
       }
      }
     },
     "b37155bd77334c4cbb12b2df5ecc4b8e": {
      "model_module": "@jupyter-widgets/base",
      "model_module_version": "1.0.0",
      "model_name": "LayoutModel",
      "state": {}
     },
     "b3845c1e4fda43f396107cc8275895c7": {
      "model_module": "@jupyter-widgets/controls",
      "model_module_version": "1.2.0",
      "model_name": "VBoxModel",
      "state": {
       "children": [
        "IPY_MODEL_7e9cfa0eedca4d1782b10c3da92cdd8c"
       ],
       "layout": "IPY_MODEL_aa43be62e7164eca84e9414e49350803"
      }
     },
     "b3ab705431204bf8add0a8968e498519": {
      "model_module": "@jupyter-widgets/base",
      "model_module_version": "1.0.0",
      "model_name": "LayoutModel",
      "state": {}
     },
     "b5383a6b84c24b5c852506cb80e14293": {
      "model_module": "bqplot",
      "model_module_version": "^0.3.6",
      "model_name": "AxisModel",
      "state": {
       "label": "Days of the Year",
       "scale": "IPY_MODEL_f37f0acf56ce4465a2af19d741594739",
       "side": "bottom",
       "tick_values": {
        "type": null,
        "values": null
       }
      }
     },
     "b54429353200498da64d2172631aed53": {
      "model_module": "bqplot",
      "model_module_version": "^0.3.6",
      "model_name": "TooltipModel",
      "state": {
       "fields": [
        "x",
        "y"
       ],
       "formats": [
        "",
        "0.2f"
       ],
       "labels": [
        "Date",
        "Email Size"
       ],
       "layout": "IPY_MODEL_20a4698eb51a462a82bfedd53ac22af6"
      }
     },
     "b6958a31aaa843c69f22bb0089c06463": {
      "model_module": "bqplot",
      "model_module_version": "^0.3.6",
      "model_name": "PanZoomModel",
      "state": {
       "scales": {
        "x": [
         "IPY_MODEL_586f79e630a745e8891dc16af227f4b2"
        ],
        "y": [
         "IPY_MODEL_881cee07476d4af69613825c468f63d8"
        ]
       }
      }
     },
     "b6a345f937584da7ace49aff5259a5fb": {
      "model_module": "bqplot",
      "model_module_version": "^0.3.6",
      "model_name": "AxisModel",
      "state": {
       "label": "Days of the Year",
       "scale": "IPY_MODEL_c104cabfa4164a75bbe0e99720695afb",
       "side": "bottom",
       "tick_values": {
        "type": null,
        "values": null
       }
      }
     },
     "b6c477031b9a4deeb8330e876c2c401f": {
      "model_module": "@jupyter-widgets/base",
      "model_module_version": "1.0.0",
      "model_name": "LayoutModel",
      "state": {}
     },
     "b6deec1d216d4864b72c837cc80533f5": {
      "model_module": "bqplot",
      "model_module_version": "^0.3.6",
      "model_name": "AxisModel",
      "state": {
       "label": "Number of Emails",
       "orientation": "vertical",
       "scale": "IPY_MODEL_fe1b95024095437ebcd4331b7a99eca3",
       "side": "left",
       "tick_format": "0.2f",
       "tick_values": {
        "type": null,
        "values": null
       }
      }
     },
     "b75db9916e754a19820f8337a4631948": {
      "model_module": "bqplot",
      "model_module_version": "^0.3.6",
      "model_name": "LinearScaleModel",
      "state": {
       "allow_padding": false,
       "max": 1,
       "min": 0,
       "stabilized": false
      }
     },
     "b765a1d800fe4848ae0e3a47173d850a": {
      "model_module": "bqplot",
      "model_module_version": "^0.3.6",
      "model_name": "LinearScaleModel",
      "state": {
       "allow_padding": false,
       "max": 1,
       "min": 0,
       "stabilized": false
      }
     },
     "b7aadcd8465a4a3ba676977372c97883": {
      "model_module": "bqplot",
      "model_module_version": "^0.3.6",
      "model_name": "LinearScaleModel",
      "state": {
       "allow_padding": false,
       "max": 1,
       "min": 0,
       "stabilized": false
      }
     },
     "b7b9eb34dc9e401f9925ce8ab51dcc58": {
      "model_module": "@jupyter-widgets/base",
      "model_module_version": "1.0.0",
      "model_name": "LayoutModel",
      "state": {}
     },
     "b87bfe7bb199465db85d584ec1d74bf6": {
      "model_module": "bqplot",
      "model_module_version": "^0.3.6",
      "model_name": "FigureModel",
      "state": {
       "_dom_classes": [],
       "animation_duration": 1000,
       "axes": [
        "IPY_MODEL_fb615156ac924d7fb0c491103d076677",
        "IPY_MODEL_1890f641a5c44de7b70740db256476be"
       ],
       "layout": "IPY_MODEL_cef53def6f6243ba9c3e1d89d68543aa",
       "marks": [
        "IPY_MODEL_1853686d019b4179a5aa1a045471fe52"
       ],
       "max_aspect_ratio": 6,
       "scale_x": "IPY_MODEL_825d18b8997e4202af00e3684a193ca9",
       "scale_y": "IPY_MODEL_d4cb0c75f4ac4dbf984a483a5e382a98",
       "title": "Number of Emails sent Daily"
      }
     },
     "b893ea509c0a4498bc4f5a47a708537d": {
      "model_module": "bqplot",
      "model_module_version": "^0.3.6",
      "model_name": "TooltipModel",
      "state": {
       "fields": [
        "x",
        "y"
       ],
       "formats": [
        "",
        "0.2f"
       ],
       "labels": [
        "User ID",
        "Email Size"
       ],
       "layout": "IPY_MODEL_a864eb977dce414b8aaf8c55188add09"
      }
     },
     "b95677c30aea4506a826404791eba6c4": {
      "model_module": "bqplot",
      "model_module_version": "^0.3.6",
      "model_name": "DateScaleModel",
      "state": {}
     },
     "ba06585d2a8d49478135356b828f7064": {
      "model_module": "bqplot",
      "model_module_version": "^0.3.6",
      "model_name": "TooltipModel",
      "state": {
       "fields": [
        "x",
        "y"
       ],
       "formats": [
        "",
        "0.2f"
       ],
       "labels": [
        "User ID",
        "Email Size"
       ],
       "layout": "IPY_MODEL_9a4f6651435f4f73860aa6953ccdd643"
      }
     },
     "ba31defe9f90448bad701ff906ed10d4": {
      "model_module": "bqplot",
      "model_module_version": "^0.3.6",
      "model_name": "LinearScaleModel",
      "state": {
       "allow_padding": false,
       "max": 1,
       "min": 0,
       "stabilized": false
      }
     },
     "bbbf8e6ef80e406d96378f3230c80183": {
      "model_module": "bqplot",
      "model_module_version": "^0.3.6",
      "model_name": "DateScaleModel",
      "state": {}
     },
     "bcdeeb9ccf57411b912c88a0dcb96dde": {
      "model_module": "@jupyter-widgets/base",
      "model_module_version": "1.0.0",
      "model_name": "LayoutModel",
      "state": {
       "height": "auto",
       "width": "auto"
      }
     },
     "bd49c10f0f07426c8f5e9dd60b8a07fe": {
      "model_module": "bqplot",
      "model_module_version": "^0.3.6",
      "model_name": "LinearScaleModel",
      "state": {
       "stabilized": false
      }
     },
     "bd50db4de4fd4d9a92904ba623519726": {
      "model_module": "bqplot",
      "model_module_version": "^0.3.6",
      "model_name": "PanZoomModel",
      "state": {
       "scales": {
        "x": [
         "IPY_MODEL_b95677c30aea4506a826404791eba6c4"
        ],
        "y": [
         "IPY_MODEL_7ea1c24fada54db084201ef9fccc4931"
        ]
       }
      }
     },
     "bd8dbe61a1454054a4a9b9cc17e8d704": {
      "model_module": "bqplot",
      "model_module_version": "^0.3.6",
      "model_name": "TooltipModel",
      "state": {
       "fields": [
        "x",
        "y"
       ],
       "formats": [
        "",
        "0.2f"
       ],
       "labels": [
        "Date",
        "Email Size"
       ],
       "layout": "IPY_MODEL_2f47d5a6ddf141b59c3ab11da0524213"
      }
     },
     "be320893295642158a188d75a3837d32": {
      "model_module": "@jupyter-widgets/base",
      "model_module_version": "1.0.0",
      "model_name": "LayoutModel",
      "state": {}
     },
     "beb92c6b268845b6868369459a2f82f1": {
      "model_module": "bqplot",
      "model_module_version": "^0.3.6",
      "model_name": "AxisModel",
      "state": {
       "label": "Days of the Year",
       "scale": "IPY_MODEL_4b8cd7dd4714421badaa7f38f215dec3",
       "side": "bottom",
       "tick_values": {
        "type": null,
        "values": null
       }
      }
     },
     "bedb909c37954b51a2b073b6d9970d35": {
      "model_module": "bqplot",
      "model_module_version": "^0.3.6",
      "model_name": "FigureModel",
      "state": {
       "_dom_classes": [],
       "animation_duration": 1000,
       "axes": [
        "IPY_MODEL_b6a345f937584da7ace49aff5259a5fb",
        "IPY_MODEL_5ad516f07f0e464eb70900c4bc520234"
       ],
       "background_style": {
        "fill": "lightblue"
       },
       "layout": "IPY_MODEL_cef53def6f6243ba9c3e1d89d68543aa",
       "marks": [
        "IPY_MODEL_ca76c9eb306c47b08d9acd5fd98ce2bf"
       ],
       "max_aspect_ratio": 6,
       "scale_x": "IPY_MODEL_4b551fd776ed4cc4b4be1a8a63287049",
       "scale_y": "IPY_MODEL_b7aadcd8465a4a3ba676977372c97883",
       "title": "Number of Emails sent Daily"
      }
     },
     "c008b8a449774da0836c79ac3ab7c02f": {
      "model_module": "@jupyter-widgets/base",
      "model_module_version": "1.0.0",
      "model_name": "LayoutModel",
      "state": {}
     },
     "c028f6ef4fa740d1a50325658919533a": {
      "model_module": "@jupyter-widgets/base",
      "model_module_version": "1.0.0",
      "model_name": "LayoutModel",
      "state": {}
     },
     "c0333e9c5b8143d2b1fe4137ed9e01f3": {
      "model_module": "bqplot",
      "model_module_version": "^0.3.6",
      "model_name": "AxisModel",
      "state": {
       "label": "Number of Emails",
       "orientation": "vertical",
       "scale": "IPY_MODEL_5af7324b845248dbb9ed8514cf98c6a4",
       "side": "left",
       "tick_format": "0.2f",
       "tick_values": {
        "type": null,
        "values": null
       }
      }
     },
     "c0338c3ddee04ad6961a0255ed56901a": {
      "model_module": "bqplot",
      "model_module_version": "^0.3.6",
      "model_name": "LinearScaleModel",
      "state": {
       "allow_padding": false,
       "max": 1,
       "min": 0,
       "stabilized": false
      }
     },
     "c0725ebe2e914439a12be80c1c3c3fbe": {
      "model_module": "bqplot",
      "model_module_version": "^0.3.6",
      "model_name": "BarsModel",
      "state": {
       "color": {
        "type": null,
        "values": null
       },
       "colors": [
        "blue"
       ],
       "interactions": {
        "click": "select",
        "hover": "tooltip",
        "legend_hover": "highlight_axes"
       },
       "labels": [
        "Email"
       ],
       "scales": {
        "x": "IPY_MODEL_db645cb3f41f4cacab1edb345af08aba",
        "y": "IPY_MODEL_257c02a6681145d0be356935c1b4a05f"
       },
       "selected": [
        2
       ],
       "selected_style": {
        "fill": "red"
       },
       "tooltip": "IPY_MODEL_7c67bf01d8d44858865bb8e1abb654a2",
       "x": {
        "type": "date",
        "values": [
         "2010-02-09T00:00:00.000000",
         "2010-02-10T00:00:00.000000",
         "2010-02-11T00:00:00.000000",
         "2010-02-12T00:00:00.000000"
        ]
       },
       "y": {
        "type": "float",
        "values": [
         12.34769,
         5.936973,
         2.56502,
         0.979065
        ]
       }
      }
     },
     "c07496180bf74b6eba46c49cdcf13019": {
      "model_module": "bqplot",
      "model_module_version": "^0.3.6",
      "model_name": "DateScaleModel",
      "state": {}
     },
     "c104cabfa4164a75bbe0e99720695afb": {
      "model_module": "bqplot",
      "model_module_version": "^0.3.6",
      "model_name": "DateScaleModel",
      "state": {}
     },
     "c1b59f8ec0514826bedc47a67aad104b": {
      "model_module": "@jupyter-widgets/controls",
      "model_module_version": "1.2.0",
      "model_name": "VBoxModel",
      "state": {
       "children": [
        "IPY_MODEL_ea3bef0a332542df831b8d646c9ad5b1"
       ],
       "layout": "IPY_MODEL_62e1f776d5ab4e279079fcf2452c86c7"
      }
     },
     "c1b9de843aeb40259d8500aaf1e749b3": {
      "model_module": "bqplot",
      "model_module_version": "^0.3.6",
      "model_name": "PanZoomModel",
      "state": {
       "scales": {
        "x": [
         "IPY_MODEL_5db51f19bee641f3bdc4d4d2838317b3"
        ],
        "y": [
         "IPY_MODEL_a87e634893954b50b4388ee37070b441"
        ]
       }
      }
     },
     "c1d3f01142ac42e1831f72414d74f2a7": {
      "model_module": "bqplot",
      "model_module_version": "^0.3.6",
      "model_name": "LinearScaleModel",
      "state": {
       "stabilized": false
      }
     },
     "c253deb939ed4861b81f5a195e8b3fde": {
      "model_module": "bqplot",
      "model_module_version": "^0.3.6",
      "model_name": "TooltipModel",
      "state": {
       "fields": [
        "x",
        "y"
       ],
       "formats": [
        "",
        "0.2f"
       ],
       "labels": [
        "Date",
        "Email Size"
       ],
       "layout": "IPY_MODEL_770aedc2330e4be38b9d58fcadf79318"
      }
     },
     "c27bccfc4d9249d5ac0acdc4478de3d2": {
      "model_module": "bqplot",
      "model_module_version": "^0.3.6",
      "model_name": "AxisModel",
      "state": {
       "label": "Days of the Year",
       "scale": "IPY_MODEL_178cf4ee10e0474b816ad18da7558802",
       "side": "bottom",
       "tick_values": {
        "type": null,
        "values": null
       }
      }
     },
     "c29cd9e8d0fa455183718d1ae15ce4f9": {
      "model_module": "bqplot",
      "model_module_version": "^0.3.6",
      "model_name": "LinearScaleModel",
      "state": {
       "stabilized": false
      }
     },
     "c2dd21a9e81c42b3a7f3e4980abfd58e": {
      "model_module": "bqplot",
      "model_module_version": "^0.3.6",
      "model_name": "PanZoomModel",
      "state": {
       "scales": {
        "x": [
         "IPY_MODEL_21c78d54fdce4ebba15dbac7086a59e5"
        ],
        "y": [
         "IPY_MODEL_582ba2652e8a4933aa90340993a2a718"
        ]
       }
      }
     },
     "c31ae8ba4cd249c68e113058b14aaa40": {
      "model_module": "bqplot",
      "model_module_version": "^0.3.6",
      "model_name": "AxisModel",
      "state": {
       "label": "Number of Emails",
       "orientation": "vertical",
       "scale": "IPY_MODEL_eb079ead93c7472db7b6fe83ae6eef77",
       "side": "left",
       "tick_format": "0.2f",
       "tick_values": {
        "type": null,
        "values": null
       }
      }
     },
     "c33ba7fbbe7d425db4a41204e1354a3f": {
      "model_module": "@jupyter-widgets/controls",
      "model_module_version": "1.2.0",
      "model_name": "VBoxModel",
      "state": {
       "children": [
        "IPY_MODEL_31b3f2f479a547139c4dd8278cb0058a"
       ],
       "layout": "IPY_MODEL_f97b8f0c3576400eb6a7445fccd169c1"
      }
     },
     "c36ad73b709a4385bd1c70af90d8f6b3": {
      "model_module": "bqplot",
      "model_module_version": "^0.3.6",
      "model_name": "FigureModel",
      "state": {
       "_dom_classes": [],
       "animation_duration": 1000,
       "axes": [
        "IPY_MODEL_45baa1e766694045b60e9d9a3bd93d14",
        "IPY_MODEL_71c9174c99bb424b9f53e72405674b9e"
       ],
       "background_style": {
        "fill": "aliceblue"
       },
       "layout": "IPY_MODEL_cef53def6f6243ba9c3e1d89d68543aa",
       "marks": [
        "IPY_MODEL_c0725ebe2e914439a12be80c1c3c3fbe"
       ],
       "max_aspect_ratio": 6,
       "scale_x": "IPY_MODEL_0d13a56cee2c4f32a4200ed0a9f0dbe9",
       "scale_y": "IPY_MODEL_a6f8c79b396d4947b6cddc555a5a8df7",
       "title": "Number of Emails sent Daily"
      }
     },
     "c38b6d3011a24218936f754625b2e869": {
      "model_module": "bqplot",
      "model_module_version": "^0.3.6",
      "model_name": "FigureModel",
      "state": {
       "_dom_classes": [],
       "animation_duration": 1000,
       "axes": [
        "IPY_MODEL_8e35cc363f2148e989ddea13268f75a8",
        "IPY_MODEL_54cb6d0d2ed045cc83eecf03b61883c8"
       ],
       "layout": "IPY_MODEL_5c100f7dd36d44e59e05cd9ebbf20419",
       "marks": [
        "IPY_MODEL_53bc0bef2883423f97150cbaf41a8892"
       ],
       "max_aspect_ratio": 6,
       "scale_x": "IPY_MODEL_d5cb90eddab5492fbffbc82cc616916e",
       "scale_y": "IPY_MODEL_e368ff0f4e6b4bffbf796183c17a4332",
       "title": "Number of Emails sent Daily"
      }
     },
     "c42784cb6e65449d8d4b31e88b10e44f": {
      "model_module": "bqplot",
      "model_module_version": "^0.3.6",
      "model_name": "BarsModel",
      "state": {
       "color": {
        "type": null,
        "values": null
       },
       "colors": [
        "blue"
       ],
       "interactions": {
        "click": "select",
        "hover": "tooltip",
        "legend_hover": "highlight_axes"
       },
       "labels": [
        "Email"
       ],
       "scales": {
        "x": "IPY_MODEL_07d3df3c16c741f9b3539ef5c232bcea",
        "y": "IPY_MODEL_42e2882bb58842d9ba901c011d0fba66"
       },
       "selected": [],
       "selected_style": {
        "fill": "red"
       },
       "tooltip": "IPY_MODEL_2cc204c2aee6494c94a56716b320067a",
       "x": {
        "type": "date",
        "values": [
         "2010-02-09T00:00:00.000000",
         "2010-02-10T00:00:00.000000",
         "2010-02-11T00:00:00.000000",
         "2010-02-12T00:00:00.000000"
        ]
       },
       "y": {
        "type": "float",
        "values": [
         12.34769,
         5.936973,
         2.56502,
         0.979065
        ]
       }
      }
     },
     "c450c85002d649418fb959428f01afa5": {
      "model_module": "bqplot",
      "model_module_version": "^0.3.6",
      "model_name": "FigureModel",
      "state": {
       "_dom_classes": [],
       "animation_duration": 1000,
       "axes": [
        "IPY_MODEL_6e8f221ed2e74184ac25aece12f0b9d5",
        "IPY_MODEL_588e7e1546ee49d1a5e29192e661ba7b"
       ],
       "background_style": {
        "fill": "aliceblue"
       },
       "layout": "IPY_MODEL_cef53def6f6243ba9c3e1d89d68543aa",
       "marks": [
        "IPY_MODEL_0647a27b0a0641f3bd639a051674cf0e"
       ],
       "max_aspect_ratio": 6,
       "scale_x": "IPY_MODEL_77d6b83b33074e70be3e0886c090b42e",
       "scale_y": "IPY_MODEL_c83249fe154c410aa1eb5632c330733c",
       "title": "Number of Emails sent Daily"
      }
     },
     "c46a5902844c4067aa935739f8107ae6": {
      "model_module": "bqplot",
      "model_module_version": "^0.3.6",
      "model_name": "LinearScaleModel",
      "state": {
       "stabilized": false
      }
     },
     "c4d18cd095594bfba15cee8a88192467": {
      "model_module": "bqplot",
      "model_module_version": "^0.3.6",
      "model_name": "LinearScaleModel",
      "state": {
       "allow_padding": false,
       "max": 1,
       "min": 0,
       "stabilized": false
      }
     },
     "c59fa0860bac400eb6b17acc63df7df2": {
      "model_module": "bqplot",
      "model_module_version": "^0.3.6",
      "model_name": "BarsModel",
      "state": {
       "color": {
        "type": null,
        "values": null
       },
       "colors": [
        "steelblue"
       ],
       "interactions": {
        "click": "select",
        "hover": "tooltip",
        "legend_hover": "highlight_axes"
       },
       "labels": [
        "Email"
       ],
       "scales": {
        "x": "IPY_MODEL_02144f8e8e634dd1a101c076816f59c8",
        "y": "IPY_MODEL_25606ce003964d3da4284c82996232ea"
       },
       "selected": [],
       "selected_style": {
        "fill": "red"
       },
       "tooltip": "IPY_MODEL_a7e69f7ab1ce49329df639a7303c4c26",
       "x": {
        "type": "date",
        "values": [
         "2010-02-09T00:00:00.000000",
         "2010-02-10T00:00:00.000000",
         "2010-02-11T00:00:00.000000",
         "2010-02-12T00:00:00.000000"
        ]
       },
       "y": {
        "type": "float",
        "values": [
         12.34769,
         5.936973,
         2.56502,
         0.979065
        ]
       }
      }
     },
     "c5a92e6cc4b44c30ba8c617734d368b3": {
      "model_module": "@jupyter-widgets/base",
      "model_module_version": "1.0.0",
      "model_name": "LayoutModel",
      "state": {
       "min_width": "125px"
      }
     },
     "c605cc86f24746ddb21882644adb91fb": {
      "model_module": "bqplot",
      "model_module_version": "^0.3.6",
      "model_name": "LinearScaleModel",
      "state": {
       "allow_padding": false,
       "max": 1,
       "min": 0,
       "stabilized": false
      }
     },
     "c61d0e4146344bf6b6a68c6d0d5915a2": {
      "model_module": "bqplot",
      "model_module_version": "^0.3.6",
      "model_name": "LinearScaleModel",
      "state": {
       "allow_padding": false,
       "max": 1,
       "min": 0,
       "stabilized": false
      }
     },
     "c65d48cb41a24fbb985ef4bf10fcb236": {
      "model_module": "@jupyter-widgets/base",
      "model_module_version": "1.0.0",
      "model_name": "LayoutModel",
      "state": {
       "min_width": "125px"
      }
     },
     "c6825c9dffd145b098af2f1641f51348": {
      "model_module": "bqplot",
      "model_module_version": "^0.3.6",
      "model_name": "FigureModel",
      "state": {
       "_dom_classes": [],
       "animation_duration": 5000,
       "axes": [
        "IPY_MODEL_aede28e074ea4e0e892163e1a9d13822",
        "IPY_MODEL_7e07a9ba7473455c80a85a4759a988e1"
       ],
       "background_style": {
        "fill": "aliceblue"
       },
       "layout": "IPY_MODEL_cef53def6f6243ba9c3e1d89d68543aa",
       "marks": [
        "IPY_MODEL_c42784cb6e65449d8d4b31e88b10e44f"
       ],
       "max_aspect_ratio": 6,
       "scale_x": "IPY_MODEL_937dbedbe67a4f9eb30e311e06ba525a",
       "scale_y": "IPY_MODEL_154814496e934c84a283f6e7b0c6df86",
       "title": "Number of Emails sent Daily"
      }
     },
     "c7065551d7d343bda03ef654dc11d0e0": {
      "model_module": "@jupyter-widgets/base",
      "model_module_version": "1.0.0",
      "model_name": "LayoutModel",
      "state": {}
     },
     "c71d5874fb644d59997e5cdbc6ed034f": {
      "model_module": "bqplot",
      "model_module_version": "^0.3.6",
      "model_name": "FigureModel",
      "state": {
       "_dom_classes": [],
       "animation_duration": 1000,
       "axes": [
        "IPY_MODEL_4ec142b93f9a430dbfe0ef44fa46fd10",
        "IPY_MODEL_b25908cc785e408087f3eba99d0a9666"
       ],
       "layout": "IPY_MODEL_1bf9ac63971f4fc3800a52dc5ca0cf05",
       "marks": [
        "IPY_MODEL_f7a0be9b6dc449518bc891e9bcffb5a2"
       ],
       "max_aspect_ratio": 6,
       "scale_x": "IPY_MODEL_2e9922bfe4cd465e8d62dbd733009100",
       "scale_y": "IPY_MODEL_7e12e59ac6ab47efb851722cd61c52dd",
       "title": "Number of Emails sent Daily"
      }
     },
     "c721b6bc3bb94d1b96fa73cbabdd6c40": {
      "model_module": "@jupyter-widgets/base",
      "model_module_version": "1.0.0",
      "model_name": "LayoutModel",
      "state": {}
     },
     "c741a8dd0dab44c6a3260579ae275b5c": {
      "model_module": "bqplot",
      "model_module_version": "^0.3.6",
      "model_name": "LinearScaleModel",
      "state": {
       "stabilized": false
      }
     },
     "c80002cfad1042b497ed943e1c6ed6d9": {
      "model_module": "bqplot",
      "model_module_version": "^0.3.6",
      "model_name": "BarsModel",
      "state": {
       "color": {
        "type": null,
        "values": null
       },
       "colors": [
        "blue"
       ],
       "labels": [
        "email"
       ],
       "scales": {
        "x": "IPY_MODEL_a597271cc56d47e7b2a400406ed12f12",
        "y": "IPY_MODEL_759311fbb4664c69b9f92ef37a5e4a12"
       },
       "selected": [],
       "tooltip": "IPY_MODEL_68aae5f86caa46c386d9265d04a7a476",
       "x": {
        "type": "object",
        "values": [
         "2010-02-09",
         "2010-02-10",
         "2010-02-11",
         "2010-02-12"
        ]
       },
       "y": {
        "type": "float",
        "values": [
         12.34769,
         5.936973,
         2.56502,
         0.979065
        ]
       }
      }
     },
     "c82095bd5451416e8b3a3ce1c99fd3ca": {
      "model_module": "bqplot",
      "model_module_version": "^0.3.6",
      "model_name": "AxisModel",
      "state": {
       "label": "Days of the Year",
       "scale": "IPY_MODEL_c07496180bf74b6eba46c49cdcf13019",
       "side": "bottom",
       "tick_format": "%Y-%m-%d",
       "tick_values": {
        "type": null,
        "values": null
       }
      }
     },
     "c83249fe154c410aa1eb5632c330733c": {
      "model_module": "bqplot",
      "model_module_version": "^0.3.6",
      "model_name": "LinearScaleModel",
      "state": {
       "allow_padding": false,
       "max": 1,
       "min": 0,
       "stabilized": false
      }
     },
     "c835913bc53140bdba727043bc630aa4": {
      "model_module": "bqplot",
      "model_module_version": "^0.3.6",
      "model_name": "LinearScaleModel",
      "state": {
       "stabilized": false
      }
     },
     "c8da02d32d864d8887087882155b7893": {
      "model_module": "bqplot",
      "model_module_version": "^0.3.6",
      "model_name": "AxisModel",
      "state": {
       "label": "Number of Emails",
       "orientation": "vertical",
       "scale": "IPY_MODEL_f0feba4495b5436db0075a75b60102b3",
       "side": "left",
       "tick_format": "0.2f",
       "tick_values": {
        "type": null,
        "values": null
       }
      }
     },
     "c934ef9d7bae40f7b8b0f0c25b547167": {
      "model_module": "bqplot",
      "model_module_version": "^0.3.6",
      "model_name": "BarsModel",
      "state": {
       "color": {
        "type": null,
        "values": null
       },
       "colors": [
        "blue"
       ],
       "interactions": {
        "click": "select",
        "hover": "tooltip",
        "legend_hover": "highlight_axes"
       },
       "labels": [
        "Email"
       ],
       "scales": {
        "x": "IPY_MODEL_122c63334dd040d4a5f5e4fa7fad119a",
        "y": "IPY_MODEL_74ca02c32b8b45e382fefc82e891f429"
       },
       "selected": [],
       "tooltip": "IPY_MODEL_ba06585d2a8d49478135356b828f7064",
       "x": {
        "type": "object",
        "values": [
         "2010-02-09",
         "2010-02-10",
         "2010-02-11",
         "2010-02-12"
        ]
       },
       "y": {
        "type": "float",
        "values": [
         12.34769,
         5.936973,
         2.56502,
         0.979065
        ]
       }
      }
     },
     "c943b6b047bd4a2ebfc01faf0789294d": {
      "model_module": "bqplot",
      "model_module_version": "^0.3.6",
      "model_name": "LinearScaleModel",
      "state": {
       "allow_padding": false,
       "max": 1,
       "min": 0,
       "stabilized": false
      }
     },
     "c9c008bf26964723ad064c02dda2025f": {
      "model_module": "bqplot",
      "model_module_version": "^0.3.6",
      "model_name": "LinearScaleModel",
      "state": {
       "allow_padding": false,
       "max": 1,
       "min": 0,
       "stabilized": false
      }
     },
     "ca196b836c6b40149b19c41c31ad33a4": {
      "model_module": "bqplot",
      "model_module_version": "^0.3.6",
      "model_name": "AxisModel",
      "state": {
       "label": "Number of Emails",
       "orientation": "vertical",
       "scale": "IPY_MODEL_9335e64acd6a4a81953f597b8fb3aa70",
       "side": "left",
       "tick_format": "0.2f",
       "tick_values": {
        "type": null,
        "values": null
       }
      }
     },
     "ca4b3deeb3df43918f9c0036daae5adf": {
      "model_module": "bqplot",
      "model_module_version": "^0.3.6",
      "model_name": "LinearScaleModel",
      "state": {
       "allow_padding": false,
       "max": 1,
       "min": 0,
       "stabilized": false
      }
     },
     "ca76c9eb306c47b08d9acd5fd98ce2bf": {
      "model_module": "bqplot",
      "model_module_version": "^0.3.6",
      "model_name": "BarsModel",
      "state": {
       "color": {
        "type": null,
        "values": null
       },
       "colors": [
        "blue"
       ],
       "interactions": {
        "click": "select",
        "hover": "tooltip",
        "legend_hover": "highlight_axes"
       },
       "labels": [
        "Email"
       ],
       "scales": {
        "x": "IPY_MODEL_c104cabfa4164a75bbe0e99720695afb",
        "y": "IPY_MODEL_e6587057b58941b19a62374d51a50f1b"
       },
       "selected": [],
       "selected_style": {
        "fill": "red"
       },
       "tooltip": "IPY_MODEL_a13f08e60c414bb3bee9dbbbeffd9bc7",
       "x": {
        "type": "date",
        "values": [
         "2010-02-09T00:00:00.000000",
         "2010-02-10T00:00:00.000000",
         "2010-02-11T00:00:00.000000",
         "2010-02-12T00:00:00.000000"
        ]
       },
       "y": {
        "type": "float",
        "values": [
         12.34769,
         5.936973,
         2.56502,
         0.979065
        ]
       }
      }
     },
     "caa5b6fcdfd0446981bb21bfb3071304": {
      "model_module": "bqplot",
      "model_module_version": "^0.3.6",
      "model_name": "BarsModel",
      "state": {
       "color": {
        "type": null,
        "values": null
       },
       "colors": [
        "blue"
       ],
       "interactions": {
        "click": "select",
        "hover": "tooltip",
        "legend_hover": "highlight_axes"
       },
       "labels": [
        "Email"
       ],
       "scales": {
        "x": "IPY_MODEL_016be72110a949519c8cd01f400d7ac9",
        "y": "IPY_MODEL_3b432f5ca75d4096978d3814442f0670"
       },
       "selected": [
        0
       ],
       "selected_style": {
        "fill": "red"
       },
       "tooltip": "IPY_MODEL_335828ebd4a747868796c0993f8b0fcf",
       "x": {
        "type": "date",
        "values": [
         "2010-02-09T00:00:00.000000",
         "2010-02-10T00:00:00.000000",
         "2010-02-11T00:00:00.000000",
         "2010-02-12T00:00:00.000000"
        ]
       },
       "y": {
        "type": "float",
        "values": [
         12.34769,
         5.936973,
         2.56502,
         0.979065
        ]
       }
      }
     },
     "cab70b43d65f4edea9114c0520e9ff0b": {
      "model_module": "bqplot",
      "model_module_version": "^0.3.6",
      "model_name": "BarsModel",
      "state": {
       "color": {
        "type": null,
        "values": null
       },
       "colors": [
        "blue"
       ],
       "interactions": {
        "click": "select",
        "hover": "tooltip",
        "legend_hover": "highlight_axes"
       },
       "labels": [
        "Email"
       ],
       "scales": {
        "x": "IPY_MODEL_60882ac6e5ba42798a044674c5c0907a",
        "y": "IPY_MODEL_eb079ead93c7472db7b6fe83ae6eef77"
       },
       "selected": [],
       "selected_style": {
        "fill": "red"
       },
       "tooltip": "IPY_MODEL_e08c0062abdc4ef69014b21c0ebac13e",
       "x": {
        "type": "date",
        "values": [
         "2010-02-09T00:00:00.000000",
         "2010-02-10T00:00:00.000000",
         "2010-02-11T00:00:00.000000",
         "2010-02-12T00:00:00.000000"
        ]
       },
       "y": {
        "type": "float",
        "values": [
         12.34769,
         5.936973,
         2.56502,
         0.979065
        ]
       }
      }
     },
     "cb1a8b720ab540a7a7ec9cb752fa9cb7": {
      "model_module": "bqplot",
      "model_module_version": "^0.3.6",
      "model_name": "PanZoomModel",
      "state": {
       "scales": {
        "x": [
         "IPY_MODEL_1d02c4e40b5a45b99d199d8746c25e4c"
        ],
        "y": [
         "IPY_MODEL_07b8638d391b4e85bb4b3fcabdc91ec2"
        ]
       }
      }
     },
     "cb937dd4a2954e9ca16cf78422cfda36": {
      "model_module": "bqplot",
      "model_module_version": "^0.3.6",
      "model_name": "AxisModel",
      "state": {
       "label": "Number of Emails",
       "orientation": "vertical",
       "scale": "IPY_MODEL_3cef738971de4976a328043527b970e2",
       "side": "left",
       "tick_format": "0.2f",
       "tick_values": {
        "type": null,
        "values": null
       }
      }
     },
     "cba1f905058a4a37a69049c1bf6dc242": {
      "model_module": "bqplot",
      "model_module_version": "^0.3.6",
      "model_name": "DateScaleModel",
      "state": {}
     },
     "cbd54ff74ef8436bb8e2ba607cd9e6be": {
      "model_module": "bqplot",
      "model_module_version": "^0.3.6",
      "model_name": "AxisModel",
      "state": {
       "label": "Number of Emails",
       "orientation": "vertical",
       "scale": "IPY_MODEL_8101bc04dbbe4a7ab267e3107a79e541",
       "side": "left",
       "tick_format": "0.2f",
       "tick_values": {
        "type": null,
        "values": null
       }
      }
     },
     "cbd8ce64760c46a98560b3c715b34d8c": {
      "model_module": "bqplot",
      "model_module_version": "^0.3.6",
      "model_name": "LinearScaleModel",
      "state": {
       "allow_padding": false,
       "max": 1,
       "min": 0,
       "stabilized": false
      }
     },
     "cc1938172aca4f30b53943d2b438ab19": {
      "model_module": "bqplot",
      "model_module_version": "^0.3.6",
      "model_name": "BarsModel",
      "state": {
       "color": {
        "type": null,
        "values": null
       },
       "colors": [
        "blue"
       ],
       "interactions": {
        "click": "select",
        "hover": "tooltip",
        "legend_hover": "highlight_axes"
       },
       "labels": [
        "Email"
       ],
       "scales": {
        "x": "IPY_MODEL_9d7b95f811cf4cc097417f04ad4505d5",
        "y": "IPY_MODEL_5af7324b845248dbb9ed8514cf98c6a4"
       },
       "selected": [],
       "selected_style": {
        "fill": "red"
       },
       "tooltip": "IPY_MODEL_57dcb33858a64e2185e03e3efdcf38ba",
       "x": {
        "type": "date",
        "values": [
         "2010-02-09T00:00:00.000000",
         "2010-02-10T00:00:00.000000",
         "2010-02-11T00:00:00.000000",
         "2010-02-12T00:00:00.000000"
        ]
       },
       "y": {
        "type": "float",
        "values": [
         12.34769,
         5.936973,
         2.56502,
         0.979065
        ]
       }
      }
     },
     "cc7249e9ebe34382be34ff796ec8692e": {
      "model_module": "@jupyter-widgets/controls",
      "model_module_version": "1.2.0",
      "model_name": "VBoxModel",
      "state": {
       "children": [
        "IPY_MODEL_6d437d880d89482bbefaf46912c957b2"
       ],
       "layout": "IPY_MODEL_23752d25d5654f59b344e1d918756bab"
      }
     },
     "cc832a58c1044f848442a164d667607d": {
      "model_module": "bqplot",
      "model_module_version": "^0.3.6",
      "model_name": "BarsModel",
      "state": {
       "color": {
        "type": null,
        "values": null
       },
       "colors": [
        "blue"
       ],
       "labels": [
        "email"
       ],
       "scales": {
        "x": "IPY_MODEL_3e3da0d8677a43b0ad19912f0f8f4316",
        "y": "IPY_MODEL_03b511eed15148c5aede48f03ca49908"
       },
       "selected": [],
       "tooltip": "IPY_MODEL_a6bbe369adac4cdc9f8bf595b041284c",
       "x": {
        "type": "object",
        "values": [
         "2010-02-09",
         "2010-02-10",
         "2010-02-11",
         "2010-02-12"
        ]
       },
       "y": {
        "type": "float",
        "values": [
         12.34769,
         5.936973,
         2.56502,
         0.979065
        ]
       }
      }
     },
     "cc9f3e59b51247719576674e30d9c3ec": {
      "model_module": "bqplot",
      "model_module_version": "^0.3.6",
      "model_name": "AxisModel",
      "state": {
       "label": "Days of the Year",
       "scale": "IPY_MODEL_e0110221b9844b6cb2c546d73eb5e465",
       "side": "bottom",
       "tick_values": {
        "type": null,
        "values": null
       }
      }
     },
     "cd0e372238eb4c598dc2066955d3b35c": {
      "model_module": "bqplot",
      "model_module_version": "^0.3.6",
      "model_name": "LinearScaleModel",
      "state": {
       "allow_padding": false,
       "max": 1,
       "min": 0,
       "stabilized": false
      }
     },
     "cd20f8ed7a784c5cba0f27d6082860ba": {
      "model_module": "bqplot",
      "model_module_version": "^0.3.6",
      "model_name": "DateScaleModel",
      "state": {}
     },
     "cd697c2957064f0fa6322377570abb74": {
      "model_module": "@jupyter-widgets/controls",
      "model_module_version": "1.2.0",
      "model_name": "VBoxModel",
      "state": {
       "children": [
        "IPY_MODEL_bedb909c37954b51a2b073b6d9970d35"
       ],
       "layout": "IPY_MODEL_04721345e24b4cd98be1834c314b4a2b"
      }
     },
     "ce8749723127407ca3046e693472fdea": {
      "model_module": "bqplot",
      "model_module_version": "^0.3.6",
      "model_name": "AxisModel",
      "state": {
       "label": "Number of Emails",
       "orientation": "vertical",
       "scale": "IPY_MODEL_7ea1c24fada54db084201ef9fccc4931",
       "side": "left",
       "tick_format": "0.2f",
       "tick_values": {
        "type": null,
        "values": null
       }
      }
     },
     "cec00addc5be4450b34679f9d555a64a": {
      "model_module": "@jupyter-widgets/base",
      "model_module_version": "1.0.0",
      "model_name": "LayoutModel",
      "state": {}
     },
     "ced543179d8145e8a0e2362c9b89f230": {
      "model_module": "@jupyter-widgets/base",
      "model_module_version": "1.0.0",
      "model_name": "LayoutModel",
      "state": {}
     },
     "cef53def6f6243ba9c3e1d89d68543aa": {
      "model_module": "@jupyter-widgets/base",
      "model_module_version": "1.0.0",
      "model_name": "LayoutModel",
      "state": {
       "width": "100%"
      }
     },
     "cf707c6368d14e238c92cbc74ff22a89": {
      "model_module": "bqplot",
      "model_module_version": "^0.3.6",
      "model_name": "LinearScaleModel",
      "state": {
       "stabilized": false
      }
     },
     "cfd4275daddc4a80a16390eed1cf70ef": {
      "model_module": "bqplot",
      "model_module_version": "^0.3.6",
      "model_name": "PanZoomModel",
      "state": {
       "scales": {
        "x": [
         "IPY_MODEL_e2b468c8085b4e139da7f443e05e40e8"
        ],
        "y": [
         "IPY_MODEL_3cef738971de4976a328043527b970e2"
        ]
       }
      }
     },
     "d06f7488e95545259326edd95ae399fe": {
      "model_module": "@jupyter-widgets/controls",
      "model_module_version": "1.2.0",
      "model_name": "VBoxModel",
      "state": {
       "children": [
        "IPY_MODEL_c36ad73b709a4385bd1c70af90d8f6b3"
       ],
       "layout": "IPY_MODEL_452758fad2ab484bb99388afdca1a869"
      }
     },
     "d0bbc9f22ea64be9ba3843a81e27354f": {
      "model_module": "bqplot",
      "model_module_version": "^0.3.6",
      "model_name": "TooltipModel",
      "state": {
       "fields": [
        "x",
        "y"
       ],
       "formats": [
        "",
        "0.2f"
       ],
       "labels": [
        "Date",
        "Email Size"
       ],
       "layout": "IPY_MODEL_2cd591f5379840af95ebe0d0a2b65f7e"
      }
     },
     "d0fbc4545a8149339e8c3305e31d9aff": {
      "model_module": "@jupyter-widgets/controls",
      "model_module_version": "1.2.0",
      "model_name": "VBoxModel",
      "state": {
       "children": [
        "IPY_MODEL_17b50b0948504cfebd06b8cb272d0f6c"
       ],
       "layout": "IPY_MODEL_1e4d0ec00eb84e32ad0d828197108bd1"
      }
     },
     "d10924ac19da4ddfbb5a9166b088308f": {
      "model_module": "@jupyter-widgets/base",
      "model_module_version": "1.0.0",
      "model_name": "LayoutModel",
      "state": {}
     },
     "d109f63aaa124e0080c4924af7a3f2e4": {
      "model_module": "bqplot",
      "model_module_version": "^0.3.6",
      "model_name": "LinearScaleModel",
      "state": {
       "allow_padding": false,
       "max": 1,
       "min": 0,
       "stabilized": false
      }
     },
     "d11e552e0cb64a3fa186d475a7a0f7f2": {
      "model_module": "bqplot",
      "model_module_version": "^0.3.6",
      "model_name": "FigureModel",
      "state": {
       "_dom_classes": [],
       "animation_duration": 1000,
       "axes": [
        "IPY_MODEL_fb8e555271b4429881c15b41bc7cdced",
        "IPY_MODEL_cb937dd4a2954e9ca16cf78422cfda36"
       ],
       "background_style": {
        "fill": "lightskyblue"
       },
       "layout": "IPY_MODEL_cef53def6f6243ba9c3e1d89d68543aa",
       "marks": [
        "IPY_MODEL_28e8da686ae4446a86dd64cdfb9ba483"
       ],
       "max_aspect_ratio": 6,
       "scale_x": "IPY_MODEL_8cecc560a7e5437d9179a622cee07c7b",
       "scale_y": "IPY_MODEL_f61a9115c8624cfd90db6a9365d6d772",
       "title": "Number of Emails sent Daily"
      }
     },
     "d124e6fb508d4b1581f2fcb7a038a9f6": {
      "model_module": "bqplot",
      "model_module_version": "^0.3.6",
      "model_name": "TooltipModel",
      "state": {
       "fields": [
        "index",
        "name"
       ],
       "formats": [
        "",
        "0.2f"
       ],
       "labels": [
        "User ID",
        "Email Size"
       ],
       "layout": "IPY_MODEL_992640145ef74c65a70c9b54fd246de9"
      }
     },
     "d14ee27c47e448de96022a2ca199335e": {
      "model_module": "bqplot",
      "model_module_version": "^0.3.6",
      "model_name": "LinearScaleModel",
      "state": {
       "stabilized": false
      }
     },
     "d1ab963dea104a57bd6a195fa4137f10": {
      "model_module": "bqplot",
      "model_module_version": "^0.3.6",
      "model_name": "TooltipModel",
      "state": {
       "fields": [
        "x",
        "y"
       ],
       "formats": [
        "",
        "0.2f"
       ],
       "labels": [
        "Date",
        "Email Size"
       ],
       "layout": "IPY_MODEL_eee0acee34184c3da860fb90504fd66f"
      }
     },
     "d1baae9c598e4702b35f497832020b63": {
      "model_module": "bqplot",
      "model_module_version": "^0.3.6",
      "model_name": "FigureModel",
      "state": {
       "_dom_classes": [],
       "animation_duration": 1000,
       "axes": [
        "IPY_MODEL_491eb4b3d537415dbc097253106ad7c1",
        "IPY_MODEL_a15bba71400846bbb97546c49f42c352"
       ],
       "layout": "IPY_MODEL_f9d910f47c374d48912c368aa77a3d49",
       "marks": [
        "IPY_MODEL_122f022b160a469b8a844daca0f22702"
       ],
       "max_aspect_ratio": 6,
       "scale_x": "IPY_MODEL_e7d6634e1b1b40df9d8c1c8099cca1b8",
       "scale_y": "IPY_MODEL_97e826747d4e4ccc84164e0102c22ae2",
       "title": "Number of Emails sent Daily"
      }
     },
     "d204dd77311b400a8392cede6f8790cf": {
      "model_module": "bqplot",
      "model_module_version": "^0.3.6",
      "model_name": "LinearScaleModel",
      "state": {
       "allow_padding": false,
       "max": 1,
       "min": 0,
       "stabilized": false
      }
     },
     "d212421ba5b041aa9f10970ae7468df6": {
      "model_module": "@jupyter-widgets/base",
      "model_module_version": "1.0.0",
      "model_name": "LayoutModel",
      "state": {}
     },
     "d2cbb578693b465eb8fa65c0147a763a": {
      "model_module": "bqplot",
      "model_module_version": "^0.3.6",
      "model_name": "AxisModel",
      "state": {
       "label": "Days of the Year",
       "scale": "IPY_MODEL_eff1f1d577884c6b971140035c914b2e",
       "side": "bottom",
       "tick_values": {
        "type": null,
        "values": null
       }
      }
     },
     "d3a548b2d45540649e9e4c4e0ab18c04": {
      "model_module": "bqplot",
      "model_module_version": "^0.3.6",
      "model_name": "BarsModel",
      "state": {
       "color": {
        "type": null,
        "values": null
       },
       "colors": [
        "blue"
       ],
       "interactions": {
        "click": "select",
        "hover": "tooltip",
        "legend_hover": "highlight_axes"
       },
       "labels": [
        "Email"
       ],
       "scales": {
        "x": "IPY_MODEL_cba1f905058a4a37a69049c1bf6dc242",
        "y": "IPY_MODEL_161f99af2e5141bd9f83a2343f9293b3"
       },
       "selected": [],
       "tooltip": "IPY_MODEL_5bcaa37f8eea4d4d9558c24a3f02f197",
       "x": {
        "type": "date",
        "values": [
         "2010-02-09T00:00:00.000000",
         "2010-02-10T00:00:00.000000",
         "2010-02-11T00:00:00.000000",
         "2010-02-12T00:00:00.000000"
        ]
       },
       "y": {
        "type": "float",
        "values": [
         12.34769,
         5.936973,
         2.56502,
         0.979065
        ]
       }
      }
     },
     "d3c9031c3a9c4bd68a83aa2ab8a9d60e": {
      "model_module": "@jupyter-widgets/base",
      "model_module_version": "1.0.0",
      "model_name": "LayoutModel",
      "state": {}
     },
     "d3cf7a12139647af80bf728e406dd78c": {
      "model_module": "@jupyter-widgets/base",
      "model_module_version": "1.0.0",
      "model_name": "LayoutModel",
      "state": {}
     },
     "d41ab4ad57dc462cb1d1c8930bf609fd": {
      "model_module": "bqplot",
      "model_module_version": "^0.3.6",
      "model_name": "AxisModel",
      "state": {
       "label": "Number of Emails",
       "orientation": "vertical",
       "scale": "IPY_MODEL_f28d42952d244766af1004ad08379f10",
       "side": "left",
       "tick_format": "0.2f",
       "tick_values": {
        "type": null,
        "values": null
       }
      }
     },
     "d457189ae9264be7be43d0e50fde0f5a": {
      "model_module": "bqplot",
      "model_module_version": "^0.3.6",
      "model_name": "LinearScaleModel",
      "state": {
       "allow_padding": false,
       "max": 1,
       "min": 0,
       "stabilized": false
      }
     },
     "d4c8c49954c6417b931ef30f03eb8178": {
      "model_module": "bqplot",
      "model_module_version": "^0.3.6",
      "model_name": "AxisModel",
      "state": {
       "label": "Days of the Year",
       "scale": "IPY_MODEL_e793404442144c90868d4097a742620f",
       "side": "bottom",
       "tick_values": {
        "type": null,
        "values": null
       }
      }
     },
     "d4cb0c75f4ac4dbf984a483a5e382a98": {
      "model_module": "bqplot",
      "model_module_version": "^0.3.6",
      "model_name": "LinearScaleModel",
      "state": {
       "allow_padding": false,
       "max": 1,
       "min": 0,
       "stabilized": false
      }
     },
     "d5285ac80b9a4eb2a5e86f7b42738dcd": {
      "model_module": "bqplot",
      "model_module_version": "^0.3.6",
      "model_name": "LinearScaleModel",
      "state": {
       "allow_padding": false,
       "max": 1,
       "min": 0,
       "stabilized": false
      }
     },
     "d5753112a3534b518454c029524068d6": {
      "model_module": "bqplot",
      "model_module_version": "^0.3.6",
      "model_name": "LinearScaleModel",
      "state": {
       "allow_padding": false,
       "max": 1,
       "min": 0,
       "stabilized": false
      }
     },
     "d5cb90eddab5492fbffbc82cc616916e": {
      "model_module": "bqplot",
      "model_module_version": "^0.3.6",
      "model_name": "LinearScaleModel",
      "state": {
       "allow_padding": false,
       "max": 1,
       "min": 0,
       "stabilized": false
      }
     },
     "d60a2f9288244a9db151c486aaa42031": {
      "model_module": "bqplot",
      "model_module_version": "^0.3.6",
      "model_name": "FigureModel",
      "state": {
       "_dom_classes": [],
       "animation_duration": 1000,
       "axes": [
        "IPY_MODEL_4a10de8575754660b481337da241eed9",
        "IPY_MODEL_f1c01253f5f04575afc3d41f18426655"
       ],
       "background_style": {
        "fill": "aliceblue"
       },
       "layout": "IPY_MODEL_cef53def6f6243ba9c3e1d89d68543aa",
       "marks": [
        "IPY_MODEL_c59fa0860bac400eb6b17acc63df7df2"
       ],
       "max_aspect_ratio": 6,
       "scale_x": "IPY_MODEL_ffc62f422cb54a32bc904b903f8f8d53",
       "scale_y": "IPY_MODEL_a277f0bfdaa34ad4ac2192d60851f70e",
       "title": "Number of Emails sent Daily"
      }
     },
     "d60e654ead5c456987f883969bc43cb7": {
      "model_module": "bqplot",
      "model_module_version": "^0.3.6",
      "model_name": "LinearScaleModel",
      "state": {
       "allow_padding": false,
       "max": 1,
       "min": 0,
       "stabilized": false
      }
     },
     "d68305ba235f4012932a6e2034d4accc": {
      "model_module": "bqplot",
      "model_module_version": "^0.3.6",
      "model_name": "PanZoomModel",
      "state": {
       "scales": {
        "x": [
         "IPY_MODEL_60882ac6e5ba42798a044674c5c0907a"
        ],
        "y": [
         "IPY_MODEL_eb079ead93c7472db7b6fe83ae6eef77"
        ]
       }
      }
     },
     "d6cb954f87dc46189683686a3b1f69b4": {
      "model_module": "bqplot",
      "model_module_version": "^0.3.6",
      "model_name": "LinearScaleModel",
      "state": {
       "stabilized": false
      }
     },
     "d765d9e77d214ce487397db19cf4c02e": {
      "model_module": "bqplot",
      "model_module_version": "^0.3.6",
      "model_name": "BarsModel",
      "state": {
       "color": {
        "type": null,
        "values": null
       },
       "colors": [
        "blue"
       ],
       "interactions": {
        "click": "select",
        "hover": "tooltip",
        "legend_hover": "highlight_axes"
       },
       "labels": [
        "Email"
       ],
       "scales": {
        "x": "IPY_MODEL_2b3ccf0b6ca84ee98c49eecf26d9a3be",
        "y": "IPY_MODEL_a32f14b3c92441548d254e893d8e7c7d"
       },
       "selected": [],
       "tooltip": "IPY_MODEL_88de33c9209e4a88bc40056e456b3d24",
       "x": {
        "type": "date",
        "values": [
         "2010-02-09T00:00:00.000000",
         "2010-02-10T00:00:00.000000",
         "2010-02-11T00:00:00.000000",
         "2010-02-12T00:00:00.000000"
        ]
       },
       "y": {
        "type": "float",
        "values": [
         12.34769,
         5.936973,
         2.56502,
         0.979065
        ]
       }
      }
     },
     "d831706189754af08f1220294609da45": {
      "model_module": "bqplot",
      "model_module_version": "^0.3.6",
      "model_name": "AxisModel",
      "state": {
       "label": "Days of the Year",
       "scale": "IPY_MODEL_53cf5c5e9341465ebe2066634511c2db",
       "side": "bottom",
       "tick_values": {
        "type": null,
        "values": null
       }
      }
     },
     "d87a63f8d9fd40e99c3c7cabf7690a8a": {
      "model_module": "bqplot",
      "model_module_version": "^0.3.6",
      "model_name": "LinearScaleModel",
      "state": {
       "stabilized": false
      }
     },
     "d89ea98e4c134c05ac6b16b9277e79b7": {
      "model_module": "@jupyter-widgets/base",
      "model_module_version": "1.0.0",
      "model_name": "LayoutModel",
      "state": {}
     },
     "d928c3920cea4d618fc60ebb7efbe532": {
      "model_module": "bqplot",
      "model_module_version": "^0.3.6",
      "model_name": "LinearScaleModel",
      "state": {
       "allow_padding": false,
       "max": 1,
       "min": 0,
       "stabilized": false
      }
     },
     "d9a52dce18f0452fbbc2ba1c3f3454e3": {
      "model_module": "bqplot",
      "model_module_version": "^0.3.6",
      "model_name": "AxisModel",
      "state": {
       "label": "Number of Emails",
       "orientation": "vertical",
       "scale": "IPY_MODEL_7d6fb5ae655342f49c7672a562e2833d",
       "side": "left",
       "tick_format": "0.2f",
       "tick_values": {
        "type": null,
        "values": null
       }
      }
     },
     "d9aa80f4a358492bb2044085c6573ad2": {
      "model_module": "bqplot",
      "model_module_version": "^0.3.6",
      "model_name": "FigureModel",
      "state": {
       "_dom_classes": [],
       "animation_duration": 1000,
       "axes": [
        "IPY_MODEL_84945f3f20cd4371951441117270c91d",
        "IPY_MODEL_c31ae8ba4cd249c68e113058b14aaa40"
       ],
       "background_style": {
        "fill": "lightgreen"
       },
       "layout": "IPY_MODEL_cef53def6f6243ba9c3e1d89d68543aa",
       "marks": [
        "IPY_MODEL_cab70b43d65f4edea9114c0520e9ff0b"
       ],
       "max_aspect_ratio": 6,
       "scale_x": "IPY_MODEL_7180c03005e24e9fb8da8502d7cd8978",
       "scale_y": "IPY_MODEL_5a6c8ec923ee473b9d53ffbc048543aa",
       "title": "Number of Emails sent Daily"
      }
     },
     "d9d76e35ed374bba98d7a4e29a022e99": {
      "model_module": "bqplot",
      "model_module_version": "^0.3.6",
      "model_name": "AxisModel",
      "state": {
       "label": "Number of Emails",
       "orientation": "vertical",
       "scale": "IPY_MODEL_c741a8dd0dab44c6a3260579ae275b5c",
       "side": "left",
       "tick_format": "0.2f",
       "tick_values": {
        "type": null,
        "values": null
       }
      }
     },
     "d9f5c75d01564eee84224ad7b8d3db2a": {
      "model_module": "bqplot",
      "model_module_version": "^0.3.6",
      "model_name": "PanZoomModel",
      "state": {
       "scales": {
        "x": [
         "IPY_MODEL_08cf3ddad1c84ac6bd03a35a6d974454"
        ],
        "y": [
         "IPY_MODEL_d14ee27c47e448de96022a2ca199335e"
        ]
       }
      }
     },
     "da110db696864e1795f91cc407234026": {
      "model_module": "bqplot",
      "model_module_version": "^0.3.6",
      "model_name": "AxisModel",
      "state": {
       "label": "Number of Emails",
       "orientation": "vertical",
       "scale": "IPY_MODEL_b35fe9f3a38b42c5a786a083fdf8549c",
       "side": "left",
       "tick_format": "0.2f",
       "tick_values": {
        "type": null,
        "values": null
       }
      }
     },
     "da2109ec002144e08ab5f186f1acc104": {
      "model_module": "bqplot",
      "model_module_version": "^0.3.6",
      "model_name": "TooltipModel",
      "state": {
       "fields": [
        "x",
        "y"
       ],
       "formats": [
        "",
        "0.2f"
       ],
       "labels": [
        "Date",
        "Email Size"
       ],
       "layout": "IPY_MODEL_85dea02800c04e78a81f91177e61321d"
      }
     },
     "daac864638db4432bde65f0f86c79c80": {
      "model_module": "bqplot",
      "model_module_version": "^0.3.6",
      "model_name": "LinearScaleModel",
      "state": {
       "allow_padding": false,
       "max": 1,
       "min": 0,
       "stabilized": false
      }
     },
     "daf4ecfdc0fa4c39a14168c22c4cd9d3": {
      "model_module": "@jupyter-widgets/base",
      "model_module_version": "1.0.0",
      "model_name": "LayoutModel",
      "state": {
       "width": "100%"
      }
     },
     "db645cb3f41f4cacab1edb345af08aba": {
      "model_module": "bqplot",
      "model_module_version": "^0.3.6",
      "model_name": "DateScaleModel",
      "state": {}
     },
     "db6de78624724c02ab40cc21650446c1": {
      "model_module": "bqplot",
      "model_module_version": "^0.3.6",
      "model_name": "LinearScaleModel",
      "state": {
       "allow_padding": false,
       "max": 1,
       "min": 0,
       "stabilized": false
      }
     },
     "db9129534d244db1b3ab7e6f7278cafe": {
      "model_module": "bqplot",
      "model_module_version": "^0.3.6",
      "model_name": "LinearScaleModel",
      "state": {
       "allow_padding": false,
       "max": 1,
       "min": 0,
       "stabilized": false
      }
     },
     "dbe19f98086046e49b4deaf14d0c9cba": {
      "model_module": "@jupyter-widgets/controls",
      "model_module_version": "1.2.0",
      "model_name": "VBoxModel",
      "state": {
       "children": [
        "IPY_MODEL_d1baae9c598e4702b35f497832020b63"
       ],
       "layout": "IPY_MODEL_73af96c2c93c49f5abebd948f41ce237"
      }
     },
     "dd28440fbbb44c348a02164ca55dfa90": {
      "model_module": "bqplot",
      "model_module_version": "^0.3.6",
      "model_name": "PanZoomModel",
      "state": {
       "scales": {
        "x": [
         "IPY_MODEL_4b8cd7dd4714421badaa7f38f215dec3"
        ],
        "y": [
         "IPY_MODEL_71aa5ae2471d40de8c1a8e5b0ffd337d"
        ]
       }
      }
     },
     "dd2bfdac25f54d6694865621078d0ea2": {
      "model_module": "@jupyter-widgets/base",
      "model_module_version": "1.0.0",
      "model_name": "LayoutModel",
      "state": {}
     },
     "de06ecf734ab4b6289d74f87f22c2d44": {
      "model_module": "@jupyter-widgets/base",
      "model_module_version": "1.0.0",
      "model_name": "LayoutModel",
      "state": {
       "height": "12inches",
       "width": "100%"
      }
     },
     "de4905a806f4405f87b210fa9794bc4a": {
      "model_module": "bqplot",
      "model_module_version": "^0.3.6",
      "model_name": "TooltipModel",
      "state": {
       "fields": [
        "x",
        "y"
       ],
       "formats": [
        "",
        "0.2f"
       ],
       "labels": [
        "User ID",
        "Email Size"
       ],
       "layout": "IPY_MODEL_7bfceda60c66476586329a51ceaf0de9"
      }
     },
     "ded1b2efd8544508b139a8413c54bdc5": {
      "model_module": "@jupyter-widgets/controls",
      "model_module_version": "1.2.0",
      "model_name": "VBoxModel",
      "state": {
       "children": [
        "IPY_MODEL_a2a98f0f38ab4f18bf762fedcad65301"
       ],
       "layout": "IPY_MODEL_9e11241208ca4acab6b9c088776292a1"
      }
     },
     "df08adbecb6c4e2793261c2323dd9d75": {
      "model_module": "bqplot",
      "model_module_version": "^0.3.6",
      "model_name": "LinearScaleModel",
      "state": {
       "allow_padding": false,
       "max": 1,
       "min": 0,
       "stabilized": false
      }
     },
     "df4b0ace0dee43bb8891eec1305e6581": {
      "model_module": "bqplot",
      "model_module_version": "^0.3.6",
      "model_name": "BarsModel",
      "state": {
       "color": {
        "type": null,
        "values": null
       },
       "colors": [
        "blue"
       ],
       "interactions": {
        "click": "select",
        "hover": "tooltip",
        "legend_hover": "highlight_axes"
       },
       "labels": [
        "Email"
       ],
       "scales": {
        "x": "IPY_MODEL_f688399db4ed48baa5c59dae50047397",
        "y": "IPY_MODEL_36ef6170a5ef440e99fb19c74cd79576"
       },
       "selected": [],
       "tooltip": "IPY_MODEL_de4905a806f4405f87b210fa9794bc4a",
       "x": {
        "type": "object",
        "values": [
         "2010-02-09",
         "2010-02-10",
         "2010-02-11",
         "2010-02-12"
        ]
       },
       "y": {
        "type": "float",
        "values": [
         12.34769,
         5.936973,
         2.56502,
         0.979065
        ]
       }
      }
     },
     "df605b6da3a748ccaf64b5fd402f8681": {
      "model_module": "bqplot",
      "model_module_version": "^0.3.6",
      "model_name": "LinearScaleModel",
      "state": {
       "allow_padding": false,
       "max": 1,
       "min": 0,
       "stabilized": false
      }
     },
     "dfe224d51da9426ca11973972f44390b": {
      "model_module": "@jupyter-widgets/controls",
      "model_module_version": "1.2.0",
      "model_name": "VBoxModel",
      "state": {
       "children": [
        "IPY_MODEL_5d67983d860341429d2307bc8654c66b"
       ],
       "layout": "IPY_MODEL_853356dbc8c94a48a542174b8634b25e"
      }
     },
     "e0110221b9844b6cb2c546d73eb5e465": {
      "model_module": "bqplot",
      "model_module_version": "^0.3.6",
      "model_name": "DateScaleModel",
      "state": {}
     },
     "e0168791528b49f2a8d61f42e8eb39b0": {
      "model_module": "@jupyter-widgets/base",
      "model_module_version": "1.0.0",
      "model_name": "LayoutModel",
      "state": {}
     },
     "e01f5dd2a80b493f89446de7d3a8ee51": {
      "model_module": "@jupyter-widgets/controls",
      "model_module_version": "1.2.0",
      "model_name": "VBoxModel",
      "state": {
       "children": [
        "IPY_MODEL_b87bfe7bb199465db85d584ec1d74bf6"
       ],
       "layout": "IPY_MODEL_37bd235f141640aa9253b14bafd466a9"
      }
     },
     "e08c0062abdc4ef69014b21c0ebac13e": {
      "model_module": "bqplot",
      "model_module_version": "^0.3.6",
      "model_name": "TooltipModel",
      "state": {
       "fields": [
        "x",
        "y"
       ],
       "formats": [
        "",
        "0.2f"
       ],
       "labels": [
        "Date",
        "Email Size"
       ],
       "layout": "IPY_MODEL_188cfe678bb9476eae78f2e5c18e6e31"
      }
     },
     "e121bdbe4f184305983ba28d26f655c5": {
      "model_module": "@jupyter-widgets/base",
      "model_module_version": "1.0.0",
      "model_name": "LayoutModel",
      "state": {}
     },
     "e1457b071ad14cb7b7fd85f0565bbd21": {
      "model_module": "bqplot",
      "model_module_version": "^0.3.6",
      "model_name": "AxisModel",
      "state": {
       "label": "Number of Emails",
       "orientation": "vertical",
       "scale": "IPY_MODEL_74ca02c32b8b45e382fefc82e891f429",
       "side": "left",
       "tick_format": "0.2f",
       "tick_values": {
        "type": null,
        "values": null
       }
      }
     },
     "e15216919669413a9d89a522b9ee1262": {
      "model_module": "bqplot",
      "model_module_version": "^0.3.6",
      "model_name": "LinearScaleModel",
      "state": {
       "allow_padding": false,
       "max": 1,
       "min": 0,
       "stabilized": false
      }
     },
     "e1aa282bca9845b7ac4915a3547e333d": {
      "model_module": "bqplot",
      "model_module_version": "^0.3.6",
      "model_name": "DateScaleModel",
      "state": {}
     },
     "e27ccb83b443492bbb02d7891c1174ac": {
      "model_module": "bqplot",
      "model_module_version": "^0.3.6",
      "model_name": "LinearScaleModel",
      "state": {
       "stabilized": false
      }
     },
     "e281c0dbed9c45d1b0258f739c9d2234": {
      "model_module": "bqplot",
      "model_module_version": "^0.3.6",
      "model_name": "TooltipModel",
      "state": {
       "fields": [
        "x",
        "y"
       ],
       "formats": [
        "",
        "0.2f"
       ],
       "labels": [
        "Date",
        "Email Size"
       ],
       "layout": "IPY_MODEL_95d8c9679adf458187deb088b8aa3c57"
      }
     },
     "e2ad6f17b4ac40e9a1e4c92c79930490": {
      "model_module": "@jupyter-widgets/base",
      "model_module_version": "1.0.0",
      "model_name": "LayoutModel",
      "state": {
       "min_width": "125px"
      }
     },
     "e2b468c8085b4e139da7f443e05e40e8": {
      "model_module": "bqplot",
      "model_module_version": "^0.3.6",
      "model_name": "DateScaleModel",
      "state": {}
     },
     "e368ff0f4e6b4bffbf796183c17a4332": {
      "model_module": "bqplot",
      "model_module_version": "^0.3.6",
      "model_name": "LinearScaleModel",
      "state": {
       "allow_padding": false,
       "max": 1,
       "min": 0,
       "stabilized": false
      }
     },
     "e3b471d916f94bb79a634d53ce746c98": {
      "model_module": "bqplot",
      "model_module_version": "^0.3.6",
      "model_name": "TooltipModel",
      "state": {
       "fields": [
        "index",
        "name"
       ],
       "formats": [
        "",
        "0.2f"
       ],
       "labels": [
        "User ID",
        "Email Size"
       ],
       "layout": "IPY_MODEL_d3cf7a12139647af80bf728e406dd78c"
      }
     },
     "e461ef003efd4227bcf03faef32b66e5": {
      "model_module": "bqplot",
      "model_module_version": "^0.3.6",
      "model_name": "TooltipModel",
      "state": {
       "fields": [
        "index",
        "name"
       ],
       "formats": [
        "",
        "0.2f"
       ],
       "labels": [
        "User ID",
        "Email Size"
       ],
       "layout": "IPY_MODEL_5edbdc37258a426d87596333d8a3272d"
      }
     },
     "e4752e6a887f4b6c8410c01802fe1c76": {
      "model_module": "bqplot",
      "model_module_version": "^0.3.6",
      "model_name": "BarsModel",
      "state": {
       "color": {
        "type": null,
        "values": null
       },
       "colors": [
        "blue"
       ],
       "labels": [
        "email"
       ],
       "scales": {
        "x": "IPY_MODEL_87c3ab5873c3455a9d21cc0627ed6942",
        "y": "IPY_MODEL_78db53bb41a740949345d4e66ebbc0a7"
       },
       "selected": [],
       "tooltip": "IPY_MODEL_f119f040eb454dba86c283814913f440",
       "x": {
        "type": "object",
        "values": [
         "2010-02-09",
         "2010-02-10",
         "2010-02-11",
         "2010-02-12"
        ]
       },
       "y": {
        "type": "float",
        "values": [
         12.34769,
         5.936973,
         2.56502,
         0.979065
        ]
       }
      }
     },
     "e544744703b94e6fbdbc49d0637630d6": {
      "model_module": "bqplot",
      "model_module_version": "^0.3.6",
      "model_name": "TooltipModel",
      "state": {
       "fields": [
        "x",
        "y"
       ],
       "formats": [
        "",
        "0.2f"
       ],
       "labels": [
        "Date",
        "Email Size"
       ],
       "layout": "IPY_MODEL_8dc288063b884c76a9c675f3db2c6a12"
      }
     },
     "e6587057b58941b19a62374d51a50f1b": {
      "model_module": "bqplot",
      "model_module_version": "^0.3.6",
      "model_name": "LinearScaleModel",
      "state": {
       "stabilized": false
      }
     },
     "e676814d6e9e4cfaaec719be18cd265f": {
      "model_module": "bqplot",
      "model_module_version": "^0.3.6",
      "model_name": "LinearScaleModel",
      "state": {
       "stabilized": false
      }
     },
     "e714a89fc20c4fb49e3784b207094e5f": {
      "model_module": "@jupyter-widgets/base",
      "model_module_version": "1.0.0",
      "model_name": "LayoutModel",
      "state": {}
     },
     "e7648c2e1fa84322b63b02ae8f822ee8": {
      "model_module": "@jupyter-widgets/base",
      "model_module_version": "1.0.0",
      "model_name": "LayoutModel",
      "state": {}
     },
     "e793404442144c90868d4097a742620f": {
      "model_module": "bqplot",
      "model_module_version": "^0.3.6",
      "model_name": "DateScaleModel",
      "state": {}
     },
     "e7d6634e1b1b40df9d8c1c8099cca1b8": {
      "model_module": "bqplot",
      "model_module_version": "^0.3.6",
      "model_name": "LinearScaleModel",
      "state": {
       "allow_padding": false,
       "max": 1,
       "min": 0,
       "stabilized": false
      }
     },
     "e94433b990644077832e54ff75e0928b": {
      "model_module": "@jupyter-widgets/base",
      "model_module_version": "1.0.0",
      "model_name": "LayoutModel",
      "state": {}
     },
     "e973b0502dbe46939eb0e09fe9be8e66": {
      "model_module": "bqplot",
      "model_module_version": "^0.3.6",
      "model_name": "TooltipModel",
      "state": {
       "fields": [
        "x",
        "y"
       ],
       "formats": [
        "",
        "0.2f"
       ],
       "labels": [
        "Date",
        "Email Size"
       ],
       "layout": "IPY_MODEL_e714a89fc20c4fb49e3784b207094e5f"
      }
     },
     "ea1aa8d6d86b487894049183e07b3831": {
      "model_module": "bqplot",
      "model_module_version": "^0.3.6",
      "model_name": "LinearScaleModel",
      "state": {
       "allow_padding": false,
       "max": 1,
       "min": 0,
       "stabilized": false
      }
     },
     "ea3bef0a332542df831b8d646c9ad5b1": {
      "model_module": "bqplot",
      "model_module_version": "^0.3.6",
      "model_name": "FigureModel",
      "state": {
       "_dom_classes": [],
       "animation_duration": 1000,
       "axes": [
        "IPY_MODEL_9f5dbdadf8ce4c359e06ae259638f42d",
        "IPY_MODEL_d9d76e35ed374bba98d7a4e29a022e99"
       ],
       "layout": "IPY_MODEL_aaa70999e91c4ed9bcaa2ff4d41d6ef7",
       "marks": [
        "IPY_MODEL_f1786e7fc35a438fbd67506d4b3e77cf"
       ],
       "max_aspect_ratio": 6,
       "scale_x": "IPY_MODEL_1d828c00de81404cb1913f54cbf7ac4d",
       "scale_y": "IPY_MODEL_94b6c12505754e5788b7f0d277f7b4b0",
       "title": "Number of Emails sent Daily"
      }
     },
     "ea50393db3c04be0aaac77edba5bf3b4": {
      "model_module": "bqplot",
      "model_module_version": "^0.3.6",
      "model_name": "BarsModel",
      "state": {
       "color": {
        "type": null,
        "values": null
       },
       "colors": [
        "blue"
       ],
       "interactions": {
        "click": "select",
        "hover": "tooltip",
        "legend_hover": "highlight_axes"
       },
       "labels": [
        "Email"
       ],
       "scales": {
        "x": "IPY_MODEL_a8f6c967ba214893a43485ba49411f81",
        "y": "IPY_MODEL_7c6f48a5f7de45cf98ce080e2b404a9b"
       },
       "selected": [],
       "selected_style": {
        "fill": "red"
       },
       "tooltip": "IPY_MODEL_c253deb939ed4861b81f5a195e8b3fde",
       "x": {
        "type": "date",
        "values": [
         "2010-02-09T00:00:00.000000",
         "2010-02-10T00:00:00.000000",
         "2010-02-11T00:00:00.000000",
         "2010-02-12T00:00:00.000000"
        ]
       },
       "y": {
        "type": "float",
        "values": [
         12.34769,
         5.936973,
         2.56502,
         0.979065
        ]
       }
      }
     },
     "ea5dac3b96e342d5b73f565640664089": {
      "model_module": "bqplot",
      "model_module_version": "^0.3.6",
      "model_name": "BarsModel",
      "state": {
       "color": {
        "type": null,
        "values": null
       },
       "colors": [
        "blue"
       ],
       "interactions": {
        "click": "select",
        "hover": "tooltip",
        "legend_hover": "highlight_axes"
       },
       "labels": [
        "Email"
       ],
       "scales": {
        "x": "IPY_MODEL_9df560b96b3c42c7a195b6115848a0b3",
        "y": "IPY_MODEL_c29cd9e8d0fa455183718d1ae15ce4f9"
       },
       "selected": [],
       "selected_style": {
        "fill": "red"
       },
       "tooltip": "IPY_MODEL_5ddd9d808e094af69be2ebb55c260b1a",
       "x": {
        "type": "date",
        "values": [
         "2010-02-09T00:00:00.000000",
         "2010-02-10T00:00:00.000000",
         "2010-02-11T00:00:00.000000",
         "2010-02-12T00:00:00.000000"
        ]
       },
       "y": {
        "type": "float",
        "values": [
         12.34769,
         5.936973,
         2.56502,
         0.979065
        ]
       }
      }
     },
     "ea735ed49bfe4dce897a36c5ccf109b0": {
      "model_module": "bqplot",
      "model_module_version": "^0.3.6",
      "model_name": "AxisModel",
      "state": {
       "label": "Number of Emails",
       "orientation": "vertical",
       "scale": "IPY_MODEL_36ef6170a5ef440e99fb19c74cd79576",
       "side": "left",
       "tick_format": "0.2f",
       "tick_values": {
        "type": null,
        "values": null
       }
      }
     },
     "eadbd8575f1244cfb36c2ce7c2fb0520": {
      "model_module": "bqplot",
      "model_module_version": "^0.3.6",
      "model_name": "AxisModel",
      "state": {
       "label": "Number of Emails",
       "orientation": "vertical",
       "scale": "IPY_MODEL_049222c77f394901b253679cff90cbca",
       "side": "left",
       "tick_format": "0.2f",
       "tick_values": {
        "type": null,
        "values": null
       }
      }
     },
     "eaee506d8ea242368908fa2c633302d2": {
      "model_module": "bqplot",
      "model_module_version": "^0.3.6",
      "model_name": "LinearScaleModel",
      "state": {
       "allow_padding": false,
       "max": 1,
       "min": 0,
       "stabilized": false
      }
     },
     "eb00dc27ea7045e8bb18c4d98aa36e1d": {
      "model_module": "@jupyter-widgets/base",
      "model_module_version": "1.0.0",
      "model_name": "LayoutModel",
      "state": {
       "width": "75px"
      }
     },
     "eb079ead93c7472db7b6fe83ae6eef77": {
      "model_module": "bqplot",
      "model_module_version": "^0.3.6",
      "model_name": "LinearScaleModel",
      "state": {
       "stabilized": false
      }
     },
     "eb88a8f686f1429ea75eefd7bdc2a7a3": {
      "model_module": "bqplot",
      "model_module_version": "^0.3.6",
      "model_name": "TooltipModel",
      "state": {
       "fields": [
        "x",
        "y"
       ],
       "formats": [
        "",
        "0.2f"
       ],
       "labels": [
        "Date",
        "Email Size"
       ],
       "layout": "IPY_MODEL_4e2bcea68b9f4d28bf0fd5f161922312"
      }
     },
     "eba2ff49a8574fb08da4501f971be535": {
      "model_module": "bqplot",
      "model_module_version": "^0.3.6",
      "model_name": "AxisModel",
      "state": {
       "label": "Days of the Year",
       "scale": "IPY_MODEL_4f44a4d0b2b04d53bd617411baa4e919",
       "side": "bottom",
       "tick_values": {
        "type": null,
        "values": null
       }
      }
     },
     "ec0e0cc58104409ebecf4ef2532f864d": {
      "model_module": "bqplot",
      "model_module_version": "^0.3.6",
      "model_name": "FigureModel",
      "state": {
       "_dom_classes": [],
       "animation_duration": 1000,
       "axes": [
        "IPY_MODEL_5e4a14e1c75d479d9ba1776969d9a5b3",
        "IPY_MODEL_368a82f4b527445994e036295c4ea9a7"
       ],
       "layout": "IPY_MODEL_eb00dc27ea7045e8bb18c4d98aa36e1d",
       "marks": [
        "IPY_MODEL_d765d9e77d214ce487397db19cf4c02e"
       ],
       "max_aspect_ratio": 6,
       "scale_x": "IPY_MODEL_0e74cdb43d47449c895337382e24a359",
       "scale_y": "IPY_MODEL_76dbc8cbf09a439591eb9767be2c0b04",
       "title": "Number of Emails sent Daily"
      }
     },
     "ec951bd8c8c2403eb112842885a5219f": {
      "model_module": "@jupyter-widgets/base",
      "model_module_version": "1.0.0",
      "model_name": "LayoutModel",
      "state": {}
     },
     "ed6cffcae19d48afb56587376c073e6e": {
      "model_module": "bqplot",
      "model_module_version": "^0.3.6",
      "model_name": "LinearScaleModel",
      "state": {
       "allow_padding": false,
       "max": 1,
       "min": 0,
       "stabilized": false
      }
     },
     "edf01b2a5a964e7789f5c06a3dd055b5": {
      "model_module": "@jupyter-widgets/base",
      "model_module_version": "1.0.0",
      "model_name": "LayoutModel",
      "state": {}
     },
     "ee081f7c64034a2b963f5f4f0bbab0ed": {
      "model_module": "bqplot",
      "model_module_version": "^0.3.6",
      "model_name": "PanZoomModel",
      "state": {
       "scales": {
        "x": [
         "IPY_MODEL_9d7b95f811cf4cc097417f04ad4505d5"
        ],
        "y": [
         "IPY_MODEL_5af7324b845248dbb9ed8514cf98c6a4"
        ]
       }
      }
     },
     "eedc914386964475bd3f219fdb6813ba": {
      "model_module": "@jupyter-widgets/base",
      "model_module_version": "1.0.0",
      "model_name": "LayoutModel",
      "state": {}
     },
     "eee0acee34184c3da860fb90504fd66f": {
      "model_module": "@jupyter-widgets/base",
      "model_module_version": "1.0.0",
      "model_name": "LayoutModel",
      "state": {}
     },
     "eeedeb541178452a930a683f230321e0": {
      "model_module": "bqplot",
      "model_module_version": "^0.3.6",
      "model_name": "LinearScaleModel",
      "state": {
       "stabilized": false
      }
     },
     "ef90dc44a59346d6bc0b0edd605450bf": {
      "model_module": "@jupyter-widgets/base",
      "model_module_version": "1.0.0",
      "model_name": "LayoutModel",
      "state": {}
     },
     "eff1f1d577884c6b971140035c914b2e": {
      "model_module": "bqplot",
      "model_module_version": "^0.3.6",
      "model_name": "DateScaleModel",
      "state": {}
     },
     "f0313d19d28040ac9fa86fc0e6d62d3a": {
      "model_module": "bqplot",
      "model_module_version": "^0.3.6",
      "model_name": "AxisModel",
      "state": {
       "label": "Number of Emails",
       "orientation": "vertical",
       "scale": "IPY_MODEL_d87a63f8d9fd40e99c3c7cabf7690a8a",
       "side": "left",
       "tick_format": "0.2f",
       "tick_values": {
        "type": null,
        "values": null
       }
      }
     },
     "f06a985cd98d4ac39c4b7cff5f8d6773": {
      "model_module": "bqplot",
      "model_module_version": "^0.3.6",
      "model_name": "BarsModel",
      "state": {
       "color": {
        "type": null,
        "values": null
       },
       "colors": [
        "blue"
       ],
       "interactions": {
        "click": "select",
        "hover": "tooltip",
        "legend_hover": "highlight_axes"
       },
       "labels": [
        "Email"
       ],
       "scales": {
        "x": "IPY_MODEL_0608fc5cc34240e398cc3fce57517d02",
        "y": "IPY_MODEL_2ae1adc489994905a6a2dae9b5577bc9"
       },
       "selected": [],
       "selected_style": {
        "fill": "red"
       },
       "tooltip": "IPY_MODEL_ac56ba71d9664c0f90dd85e71f9cac3b",
       "x": {
        "type": "date",
        "values": [
         "2010-02-09T00:00:00.000000",
         "2010-02-10T00:00:00.000000",
         "2010-02-11T00:00:00.000000",
         "2010-02-12T00:00:00.000000"
        ]
       },
       "y": {
        "type": "float",
        "values": [
         12.34769,
         5.936973,
         2.56502,
         0.979065
        ]
       }
      }
     },
     "f099450ab2d442c8a2c817280b3533b1": {
      "model_module": "bqplot",
      "model_module_version": "^0.3.6",
      "model_name": "LinearScaleModel",
      "state": {
       "allow_padding": false,
       "max": 1,
       "min": 0,
       "stabilized": false
      }
     },
     "f0feba4495b5436db0075a75b60102b3": {
      "model_module": "bqplot",
      "model_module_version": "^0.3.6",
      "model_name": "LinearScaleModel",
      "state": {
       "stabilized": false
      }
     },
     "f119f040eb454dba86c283814913f440": {
      "model_module": "bqplot",
      "model_module_version": "^0.3.6",
      "model_name": "TooltipModel",
      "state": {
       "fields": [
        "index",
        "name"
       ],
       "formats": [
        "",
        "0.2f"
       ],
       "labels": [
        "User ID",
        "Email Size"
       ],
       "layout": "IPY_MODEL_dd2bfdac25f54d6694865621078d0ea2"
      }
     },
     "f1786e7fc35a438fbd67506d4b3e77cf": {
      "model_module": "bqplot",
      "model_module_version": "^0.3.6",
      "model_name": "BarsModel",
      "state": {
       "color": {
        "type": null,
        "values": null
       },
       "colors": [
        "blue"
       ],
       "interactions": {
        "click": "select",
        "hover": "tooltip",
        "legend_hover": "highlight_axes"
       },
       "labels": [
        "Email"
       ],
       "scales": {
        "x": "IPY_MODEL_318dd30eaaad4848a45db37bf3cac61a",
        "y": "IPY_MODEL_c741a8dd0dab44c6a3260579ae275b5c"
       },
       "selected": [],
       "tooltip": "IPY_MODEL_4dc7e1297fb1470485acda46d1adcf50",
       "x": {
        "type": "date",
        "values": [
         "2010-02-09T00:00:00.000000",
         "2010-02-10T00:00:00.000000",
         "2010-02-11T00:00:00.000000",
         "2010-02-12T00:00:00.000000"
        ]
       },
       "y": {
        "type": "float",
        "values": [
         12.34769,
         5.936973,
         2.56502,
         0.979065
        ]
       }
      }
     },
     "f1c01253f5f04575afc3d41f18426655": {
      "model_module": "bqplot",
      "model_module_version": "^0.3.6",
      "model_name": "AxisModel",
      "state": {
       "label": "Number of Emails",
       "orientation": "vertical",
       "scale": "IPY_MODEL_25606ce003964d3da4284c82996232ea",
       "side": "left",
       "tick_format": "0.2f",
       "tick_values": {
        "type": null,
        "values": null
       }
      }
     },
     "f1f0740fad434af293cadeadc3097af9": {
      "model_module": "@jupyter-widgets/base",
      "model_module_version": "1.0.0",
      "model_name": "LayoutModel",
      "state": {}
     },
     "f20d93f7857f4461964fd088c69949b1": {
      "model_module": "bqplot",
      "model_module_version": "^0.3.6",
      "model_name": "DateScaleModel",
      "state": {}
     },
     "f20e7fc2b3f1422e908371be474bcb0a": {
      "model_module": "bqplot",
      "model_module_version": "^0.3.6",
      "model_name": "BarsModel",
      "state": {
       "color": {
        "type": null,
        "values": null
       },
       "colors": [
        "hotpink"
       ],
       "interactions": {
        "click": "select",
        "hover": "tooltip",
        "legend_hover": "highlight_axes"
       },
       "labels": [
        "Email"
       ],
       "scales": {
        "x": "IPY_MODEL_2123781f604c441797dcdcf2aa6b6044",
        "y": "IPY_MODEL_9ac1acfa2d494f4c976c2ef1347f8535"
       },
       "selected": [
        2
       ],
       "selected_style": {
        "fill": "red"
       },
       "tooltip": "IPY_MODEL_0ed016488da7420f95955daea9221c48",
       "x": {
        "type": "date",
        "values": [
         "2010-02-09T00:00:00.000000",
         "2010-02-10T00:00:00.000000",
         "2010-02-11T00:00:00.000000",
         "2010-02-12T00:00:00.000000"
        ]
       },
       "y": {
        "type": "float",
        "values": [
         12.34769,
         5.936973,
         2.56502,
         0.979065
        ]
       }
      }
     },
     "f23a38229fb14bb4a09e31bfeed103f8": {
      "model_module": "bqplot",
      "model_module_version": "^0.3.6",
      "model_name": "LinearScaleModel",
      "state": {
       "allow_padding": false,
       "max": 1,
       "min": 0,
       "stabilized": false
      }
     },
     "f241c3a0f6a04daeb0a5f149734bf5fe": {
      "model_module": "@jupyter-widgets/base",
      "model_module_version": "1.0.0",
      "model_name": "LayoutModel",
      "state": {}
     },
     "f28d42952d244766af1004ad08379f10": {
      "model_module": "bqplot",
      "model_module_version": "^0.3.6",
      "model_name": "LinearScaleModel",
      "state": {
       "stabilized": false
      }
     },
     "f2b6e8c514dd444ab1b189bde618b18b": {
      "model_module": "@jupyter-widgets/base",
      "model_module_version": "1.0.0",
      "model_name": "LayoutModel",
      "state": {}
     },
     "f37f0acf56ce4465a2af19d741594739": {
      "model_module": "bqplot",
      "model_module_version": "^0.3.6",
      "model_name": "DateScaleModel",
      "state": {}
     },
     "f39010eb5a7e4015bf6dbce4f1afbd03": {
      "model_module": "bqplot",
      "model_module_version": "^0.3.6",
      "model_name": "TooltipModel",
      "state": {
       "fields": [
        "x",
        "y"
       ],
       "formats": [
        "",
        "0.2f"
       ],
       "labels": [
        "Date",
        "Email Size"
       ],
       "layout": "IPY_MODEL_e121bdbe4f184305983ba28d26f655c5"
      }
     },
     "f4ed271e1fed47e183ad01e3dcb436ca": {
      "model_module": "bqplot",
      "model_module_version": "^0.3.6",
      "model_name": "TooltipModel",
      "state": {
       "fields": [
        "x",
        "y"
       ],
       "formats": [
        "",
        "0.2f"
       ],
       "labels": [
        "Date",
        "Email Size"
       ],
       "layout": "IPY_MODEL_06c1ee66c0f4449587914011b978db23"
      }
     },
     "f4f02fe5bc0a40f7bc33d209a6e9c023": {
      "model_module": "bqplot",
      "model_module_version": "^0.3.6",
      "model_name": "LinearScaleModel",
      "state": {
       "allow_padding": false,
       "max": 1,
       "min": 0,
       "stabilized": false
      }
     },
     "f5b78380c7cc4ec2910cd25681ab45bc": {
      "model_module": "bqplot",
      "model_module_version": "^0.3.6",
      "model_name": "LinearScaleModel",
      "state": {
       "stabilized": false
      }
     },
     "f61a9115c8624cfd90db6a9365d6d772": {
      "model_module": "bqplot",
      "model_module_version": "^0.3.6",
      "model_name": "LinearScaleModel",
      "state": {
       "allow_padding": false,
       "max": 1,
       "min": 0,
       "stabilized": false
      }
     },
     "f688399db4ed48baa5c59dae50047397": {
      "model_module": "bqplot",
      "model_module_version": "^0.3.6",
      "model_name": "DateScaleModel",
      "state": {}
     },
     "f6c412090edb4aecb2efceae5ca95ed4": {
      "model_module": "bqplot",
      "model_module_version": "^0.3.6",
      "model_name": "DateScaleModel",
      "state": {}
     },
     "f6d0f5516dad45ee8c2939094234291b": {
      "model_module": "bqplot",
      "model_module_version": "^0.3.6",
      "model_name": "PanZoomModel",
      "state": {
       "scales": {
        "x": [
         "IPY_MODEL_5dc7aab61b7d4b54b5bc77f31e9df51c"
        ],
        "y": [
         "IPY_MODEL_c835913bc53140bdba727043bc630aa4"
        ]
       }
      }
     },
     "f6e1b46dd1aa4bea8849d56e64322a70": {
      "model_module": "bqplot",
      "model_module_version": "^0.3.6",
      "model_name": "AxisModel",
      "state": {
       "label": "Days of the Year",
       "scale": "IPY_MODEL_24eade70691c42fab2a0e71dbeeb27d8",
       "side": "bottom",
       "tick_values": {
        "type": null,
        "values": null
       }
      }
     },
     "f6f188a4b28041e1895777957a91cfb9": {
      "model_module": "bqplot",
      "model_module_version": "^0.3.6",
      "model_name": "AxisModel",
      "state": {
       "label": "Days of the Year",
       "scale": "IPY_MODEL_cba1f905058a4a37a69049c1bf6dc242",
       "side": "bottom",
       "tick_values": {
        "type": null,
        "values": null
       }
      }
     },
     "f710db71cbb34bfc91c0fc6fc923aa9d": {
      "model_module": "@jupyter-widgets/base",
      "model_module_version": "1.0.0",
      "model_name": "LayoutModel",
      "state": {}
     },
     "f7a0be9b6dc449518bc891e9bcffb5a2": {
      "model_module": "bqplot",
      "model_module_version": "^0.3.6",
      "model_name": "BarsModel",
      "state": {
       "color": {
        "type": null,
        "values": null
       },
       "colors": [
        "blue"
       ],
       "interactions": {
        "click": "select",
        "hover": "tooltip",
        "legend_hover": "highlight_axes"
       },
       "labels": [
        "Email"
       ],
       "scales": {
        "x": "IPY_MODEL_a7ef6f74c5b04e20aeb440cefe08d46d",
        "y": "IPY_MODEL_756cd828770c4f9ba0b1603951a85763"
       },
       "selected": [],
       "tooltip": "IPY_MODEL_f4ed271e1fed47e183ad01e3dcb436ca",
       "x": {
        "type": "date",
        "values": [
         "2010-02-09T00:00:00.000000",
         "2010-02-10T00:00:00.000000",
         "2010-02-11T00:00:00.000000",
         "2010-02-12T00:00:00.000000"
        ]
       },
       "y": {
        "type": "float",
        "values": [
         12.34769,
         5.936973,
         2.56502,
         0.979065
        ]
       }
      }
     },
     "f7cfbfd41813489a99b96e9ef85cbe9c": {
      "model_module": "bqplot",
      "model_module_version": "^0.3.6",
      "model_name": "TooltipModel",
      "state": {
       "fields": [
        "x",
        "y"
       ],
       "formats": [
        "",
        "0.2f"
       ],
       "labels": [
        "Date",
        "Email Size"
       ],
       "layout": "IPY_MODEL_29f0852bd47e4b27bca170685f6b4001"
      }
     },
     "f7ed0e1482b14fa28fd05c7435b40e25": {
      "model_module": "bqplot",
      "model_module_version": "^0.3.6",
      "model_name": "DateScaleModel",
      "state": {}
     },
     "f8b126f978804c76a472f72256b0c786": {
      "model_module": "bqplot",
      "model_module_version": "^0.3.6",
      "model_name": "AxisModel",
      "state": {
       "label": "Months of the Year",
       "scale": "IPY_MODEL_3e3da0d8677a43b0ad19912f0f8f4316",
       "side": "bottom",
       "tick_format": "%b-%d",
       "tick_values": {
        "type": null,
        "values": null
       }
      }
     },
     "f90542dc823d4f3cbdf2eac33fa12806": {
      "model_module": "bqplot",
      "model_module_version": "^0.3.6",
      "model_name": "LinearScaleModel",
      "state": {
       "allow_padding": false,
       "max": 1,
       "min": 0,
       "stabilized": false
      }
     },
     "f97b8f0c3576400eb6a7445fccd169c1": {
      "model_module": "@jupyter-widgets/base",
      "model_module_version": "1.0.0",
      "model_name": "LayoutModel",
      "state": {}
     },
     "f9aaa3e81df54c3fa856193457d03350": {
      "model_module": "bqplot",
      "model_module_version": "^0.3.6",
      "model_name": "AxisModel",
      "state": {
       "label": "Days of the Year",
       "scale": "IPY_MODEL_08cf3ddad1c84ac6bd03a35a6d974454",
       "side": "bottom",
       "tick_values": {
        "type": null,
        "values": null
       }
      }
     },
     "f9d910f47c374d48912c368aa77a3d49": {
      "model_module": "@jupyter-widgets/base",
      "model_module_version": "1.0.0",
      "model_name": "LayoutModel",
      "state": {
       "min_width": "125px"
      }
     },
     "fae0f25f496c48ebb036c180edeaceb6": {
      "model_module": "@jupyter-widgets/controls",
      "model_module_version": "1.2.0",
      "model_name": "VBoxModel",
      "state": {
       "children": [
        "IPY_MODEL_8e94843ea3384eceae3f21ebe6caf2b7"
       ],
       "layout": "IPY_MODEL_a3d493a53b9044b090983044a01e227b"
      }
     },
     "fafb622c8c4748898883a87606291133": {
      "model_module": "bqplot",
      "model_module_version": "^0.3.6",
      "model_name": "DateScaleModel",
      "state": {}
     },
     "fb5bee4be58249dc957ee46b672bc73a": {
      "model_module": "bqplot",
      "model_module_version": "^0.3.6",
      "model_name": "FigureModel",
      "state": {
       "_dom_classes": [],
       "animation_duration": 1000,
       "axes": [
        "IPY_MODEL_b5383a6b84c24b5c852506cb80e14293",
        "IPY_MODEL_1182bd4ed9204e82b60d8d92cd0117df"
       ],
       "background_style": {
        "fill": "dark"
       },
       "layout": "IPY_MODEL_cef53def6f6243ba9c3e1d89d68543aa",
       "marks": [
        "IPY_MODEL_41289ab7b7b149d487703db4bddb1a3e"
       ],
       "max_aspect_ratio": 6,
       "scale_x": "IPY_MODEL_f23a38229fb14bb4a09e31bfeed103f8",
       "scale_y": "IPY_MODEL_db9129534d244db1b3ab7e6f7278cafe",
       "title": "Number of Emails sent Daily"
      }
     },
     "fb615156ac924d7fb0c491103d076677": {
      "model_module": "bqplot",
      "model_module_version": "^0.3.6",
      "model_name": "AxisModel",
      "state": {
       "label": "Days of the Year",
       "scale": "IPY_MODEL_092e7e94efbe4da0b7cf73920edaebaa",
       "side": "bottom",
       "tick_values": {
        "type": null,
        "values": null
       }
      }
     },
     "fb8e555271b4429881c15b41bc7cdced": {
      "model_module": "bqplot",
      "model_module_version": "^0.3.6",
      "model_name": "AxisModel",
      "state": {
       "label": "Days of the Year",
       "scale": "IPY_MODEL_e2b468c8085b4e139da7f443e05e40e8",
       "side": "bottom",
       "tick_values": {
        "type": null,
        "values": null
       }
      }
     },
     "fbc0ad32684d48c9aa4cce2eff7089e2": {
      "model_module": "bqplot",
      "model_module_version": "^0.3.6",
      "model_name": "AxisModel",
      "state": {
       "label": "Number of Emails",
       "orientation": "vertical",
       "scale": "IPY_MODEL_e676814d6e9e4cfaaec719be18cd265f",
       "side": "left",
       "tick_format": "0.2f",
       "tick_values": {
        "type": null,
        "values": null
       }
      }
     },
     "fbd0ade4fe224ed1acb11699a75ef71c": {
      "model_module": "bqplot",
      "model_module_version": "^0.3.6",
      "model_name": "TooltipModel",
      "state": {
       "fields": [
        "x",
        "y"
       ],
       "formats": [
        "",
        "0.2f"
       ],
       "labels": [
        "Date",
        "Email Size"
       ],
       "layout": "IPY_MODEL_c7065551d7d343bda03ef654dc11d0e0"
      }
     },
     "fbea87f145f64be4b7f4688815a3f285": {
      "model_module": "bqplot",
      "model_module_version": "^0.3.6",
      "model_name": "PanZoomModel",
      "state": {
       "scales": {
        "x": [
         "IPY_MODEL_a597271cc56d47e7b2a400406ed12f12"
        ],
        "y": [
         "IPY_MODEL_759311fbb4664c69b9f92ef37a5e4a12"
        ]
       }
      }
     },
     "fc6d8c0c908c4da18adba56a7188ed80": {
      "model_module": "bqplot",
      "model_module_version": "^0.3.6",
      "model_name": "FigureModel",
      "state": {
       "_dom_classes": [],
       "animation_duration": 1000,
       "axes": [
        "IPY_MODEL_56d026ae903442f686987327d36304e3",
        "IPY_MODEL_ca196b836c6b40149b19c41c31ad33a4"
       ],
       "layout": "IPY_MODEL_72c36c0e61de4f328a957951c56d4c9b",
       "marks": [
        "IPY_MODEL_52e94c02c3ea4f35bd7cc59d642617ae"
       ],
       "max_aspect_ratio": 6,
       "scale_x": "IPY_MODEL_c9c008bf26964723ad064c02dda2025f",
       "scale_y": "IPY_MODEL_df08adbecb6c4e2793261c2323dd9d75",
       "title": "Number of Emails sent Daily"
      }
     },
     "fcbb77f3e0b04dcda25aff5d4bf88f99": {
      "model_module": "@jupyter-widgets/base",
      "model_module_version": "1.0.0",
      "model_name": "LayoutModel",
      "state": {}
     },
     "fd4127c058d646de80e238f749fe799b": {
      "model_module": "@jupyter-widgets/base",
      "model_module_version": "1.0.0",
      "model_name": "LayoutModel",
      "state": {}
     },
     "fdffc6a7779346578f8e47221eba7a63": {
      "model_module": "@jupyter-widgets/controls",
      "model_module_version": "1.2.0",
      "model_name": "VBoxModel",
      "state": {
       "children": [
        "IPY_MODEL_53c76f86d5ff4106b33b477cf77163fd"
       ],
       "layout": "IPY_MODEL_fcbb77f3e0b04dcda25aff5d4bf88f99"
      }
     },
     "fe1b95024095437ebcd4331b7a99eca3": {
      "model_module": "bqplot",
      "model_module_version": "^0.3.6",
      "model_name": "LinearScaleModel",
      "state": {
       "stabilized": false
      }
     },
     "fe38bc6a66fe42c98acb4f19d0fba459": {
      "model_module": "bqplot",
      "model_module_version": "^0.3.6",
      "model_name": "LinearScaleModel",
      "state": {
       "allow_padding": false,
       "max": 1,
       "min": 0,
       "stabilized": false
      }
     },
     "fe39f7c6f1444d0b8f36f2b5bf60cf43": {
      "model_module": "@jupyter-widgets/base",
      "model_module_version": "1.0.0",
      "model_name": "LayoutModel",
      "state": {}
     },
     "fea79f0b9e3a483d8e6c0590d493aa46": {
      "model_module": "bqplot",
      "model_module_version": "^0.3.6",
      "model_name": "PanZoomModel",
      "state": {
       "scales": {
        "x": [
         "IPY_MODEL_4f44a4d0b2b04d53bd617411baa4e919"
        ],
        "y": [
         "IPY_MODEL_69c5516e6e2e40ceb0970a81d3df1ea4"
        ]
       }
      }
     },
     "ffc62f422cb54a32bc904b903f8f8d53": {
      "model_module": "bqplot",
      "model_module_version": "^0.3.6",
      "model_name": "LinearScaleModel",
      "state": {
       "allow_padding": false,
       "max": 1,
       "min": 0,
       "stabilized": false
      }
     },
     "ffd3966f84c94697a00f6ba5ad25c4c1": {
      "model_module": "bqplot",
      "model_module_version": "^0.3.6",
      "model_name": "PanZoomModel",
      "state": {
       "scales": {
        "x": [
         "IPY_MODEL_3d01c9696db0488ea55613e08d39916c"
        ],
        "y": [
         "IPY_MODEL_349f45bc462c41f5871ce823f35c6a85"
        ]
       }
      }
     }
    },
    "version_major": 2,
    "version_minor": 0
   }
  }
 },
 "nbformat": 4,
 "nbformat_minor": 2
}
