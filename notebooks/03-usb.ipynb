{
 "cells": [
  {
   "cell_type": "markdown",
   "metadata": {
    "slideshow": {
     "slide_type": "slide"
    }
   },
   "source": [
    "# USB Data\n",
    "----"
   ]
  },
  {
   "cell_type": "markdown",
   "metadata": {
    "slideshow": {
     "slide_type": "slide"
    }
   },
   "source": [
    "## Understanding USB Data"
   ]
  },
  {
   "cell_type": "code",
   "execution_count": 1,
   "metadata": {
    "slideshow": {
     "slide_type": "subslide"
    }
   },
   "outputs": [],
   "source": [
    "# %load eda.py\n",
    "%matplotlib inline\n",
    "%config InlineBackend.figure_format = 'retina'\n",
    "import os\n",
    "import numpy as np\n",
    "import pandas as pd\n",
    "import dask.dataframe as dd\n",
    "import pickle\n",
    "import seaborn as sns             # for static plots\n",
    "import matplotlib.pyplot as plt\n",
    "from bqplot import *              # for interactive plots\n",
    "from ipywidgets import interact, interactive, fixed, interact_manual\n",
    "import ipywidgets as widgets\n",
    "fig_layout = widgets.Layout(width = \"100%\")\n",
    "sns.set_context('notebook', font_scale = 1.1)\n",
    "np.random.seed(12345)\n",
    "rc = {'xtick.labelsize': 40, 'ytick.labelsize': 40, 'axes.labelsize': 40, 'font.size': 40, 'lines.linewidth': 4.0, \n",
    "      'lines.markersize': 40, 'font.family': \"serif\", 'font.serif': \"cm\", 'savefig.dpi': 200,\n",
    "      'text.usetex': False, 'legend.fontsize': 40.0, 'axes.titlesize': 40, \"figure.figsize\": [24, 16]}\n",
    "sns.set(rc = rc)\n",
    "sns.set_style(\"ticks\")\n",
    "from IPython.core.interactiveshell import InteractiveShell\n",
    "InteractiveShell.ast_node_interactivity = \"all\"\n",
    "from warnings import filterwarnings\n",
    "filterwarnings(\"ignore\")"
   ]
  },
  {
   "cell_type": "markdown",
   "metadata": {
    "slideshow": {
     "slide_type": "slide"
    }
   },
   "source": [
    "## Import the standardized data"
   ]
  },
  {
   "cell_type": "code",
   "execution_count": 2,
   "metadata": {},
   "outputs": [],
   "source": [
    "# First, specify data source here\n",
    "hard_disk = \"/opt/usb/\"\n",
    "folder = \"cert/standardized/usb\"\n",
    "file_type = \"*.parquet\" # may include csv, hdf, json, text, etc\n",
    "data_path = os.path.join(hard_disk, folder, file_type)"
   ]
  },
  {
   "cell_type": "code",
   "execution_count": 3,
   "metadata": {
    "slideshow": {
     "slide_type": "subslide"
    }
   },
   "outputs": [],
   "source": [
    "def import_data (path):\n",
    "    \"\"\"Import data from the source into a distributed dask dataframe.  \n",
    "    Then check whether data is standardized to Haystax's core-data-dictionary.\n",
    "    Then check whether the data types are correct i.e categorical, int, datetime, string \n",
    "    \"\"\"\n",
    "    try:\n",
    "        ddf = dd.read_parquet(path)\n",
    "    except IOError:\n",
    "        print(\"Cannot find this data source: \"+hard_disk+folder)\n",
    "        print(\"Contact David Jones for the correct data source\")\n",
    "        print(\"Quiting!\")\n",
    "        quit()\n",
    "\n",
    "\n",
    "    # Check if data is standardized to Haystax's core data dictionary    \n",
    "    required_columns = [\"record_id\", \"employee_id\", \"timestamp\", \"computer_id\", \n",
    "                        \"file_tree\", \"connect_activity\"]\n",
    "    try:\n",
    "        if not (ddf.columns == required_columns).all():\n",
    "            raise ValueError\n",
    "    except:\n",
    "        print(\"The columns in the data are not standardized.\")\n",
    "        print(\"Quiting!\")\n",
    "        print(\"Contact David Jones for Haystax's standard-core-data dictionary\")\n",
    "        quit() \n",
    "        \n",
    "    \n",
    "\n",
    "     \n",
    "        #     # Check if the columns are of the right data type i.e categorical, datetime, int, or string    \n",
    "#     required_data_types = [\"category\", \"category\", \"category\",\n",
    "#                         \"str\", \"datetime64[ns]\", \"int64\", \n",
    "#                         \"float\", \"str\", \"datetime64[ns]\"]\n",
    "    \n",
    "#     data_types = [ddf.record_id.dtype == 'category', \n",
    "#                   ddf.sender_employee_id.dtype == 'category',\n",
    "#                   ddf.sender_username.dtype == 'category',\n",
    "#                   ddf.subject.dtype == 'str',\n",
    "#                   ddf.timestamp.dtype == 'datetime64[ns]',\n",
    "#                   ddf.number_of_attachments.dtype == 'int64',\n",
    "#                   ddf.attachment_size.dtype == 'float',\n",
    "#                   ddf.email_text.dtype == 'str',\n",
    "#                   ddf.file_date.dtype == 'datetime64[ns]']\n",
    "#     data_types = [True, True, True, False, True, False, False, False, False]\n",
    "    \n",
    "#     try:\n",
    "#         if not (data_types == required_columns).all():\n",
    "#             raise ValueError\n",
    "#     except:\n",
    "#         print(\"The columns in the data are not of the correct data type.\")\n",
    "#         print(\"Quiting!\")\n",
    "#         print(\"Contact David Jones for Haystax's standard-core-data dictionary\")\n",
    "#         quit() \n",
    "\n",
    "    return ddf"
   ]
  },
  {
   "cell_type": "code",
   "execution_count": 4,
   "metadata": {},
   "outputs": [],
   "source": [
    "ddf = import_data(path = data_path)"
   ]
  },
  {
   "cell_type": "code",
   "execution_count": 5,
   "metadata": {},
   "outputs": [
    {
     "name": "stdout",
     "output_type": "stream",
     "text": [
      "<class 'pandas.core.frame.DataFrame'>\n",
      "RangeIndex: 5 entries, 0 to 4\n",
      "Data columns (total 9 columns):\n",
      "record_id                5 non-null object\n",
      "sender_employee_id       5 non-null object\n",
      "sender_username          5 non-null object\n",
      "subject                  5 non-null object\n",
      "timestamp                5 non-null datetime64[ns]\n",
      "number_of_attachments    1 non-null object\n",
      "attachment_size          5 non-null int64\n",
      "email_text               5 non-null object\n",
      "file_date                5 non-null object\n",
      "dtypes: datetime64[ns](1), int64(1), object(7)\n",
      "memory usage: 440.0+ bytes\n"
     ]
    }
   ],
   "source": [
    "ddf.head().info()"
   ]
  },
  {
   "cell_type": "code",
   "execution_count": 6,
   "metadata": {},
   "outputs": [
    {
     "data": {
      "text/plain": [
       "Index(['record_id', 'sender_employee_id', 'sender_username', 'subject',\n",
       "       'timestamp', 'number_of_attachments', 'attachment_size', 'email_text',\n",
       "       'file_date'],\n",
       "      dtype='object')"
      ]
     },
     "execution_count": 6,
     "metadata": {},
     "output_type": "execute_result"
    }
   ],
   "source": [
    "ddf.columns"
   ]
  },
  {
   "cell_type": "code",
   "execution_count": 7,
   "metadata": {},
   "outputs": [],
   "source": [
    "ddf = ddf.categorize(columns = [\"record_id\", \"employee_id\", \"computer_id\", \"connect_activity\"])"
   ]
  },
  {
   "cell_type": "code",
   "execution_count": 128,
   "metadata": {
    "scrolled": false
   },
   "outputs": [
    {
     "name": "stdout",
     "output_type": "stream",
     "text": [
      "<class 'pandas.core.frame.DataFrame'>\n",
      "RangeIndex: 87291 entries, 0 to 87290\n",
      "Data columns (total 9 columns):\n",
      "record_id                87291 non-null category\n",
      "sender_employee_id       87291 non-null category\n",
      "sender_username          87291 non-null category\n",
      "subject                  87291 non-null object\n",
      "timestamp                87291 non-null datetime64[ns]\n",
      "number_of_attachments    20066 non-null object\n",
      "attachment_size          87291 non-null int64\n",
      "email_text               87291 non-null object\n",
      "file_date                87291 non-null object\n",
      "dtypes: category(3), datetime64[ns](1), int64(1), object(4)\n",
      "memory usage: 409.1+ MB\n"
     ]
    }
   ],
   "source": [
    "df = ddf.get_partition(n = 1).compute()\n",
    "df.info()"
   ]
  },
  {
   "cell_type": "code",
   "execution_count": 129,
   "metadata": {},
   "outputs": [],
   "source": [
    "df.to_csv(os.path.join(hard_disk, folder, \"usb_filtered.csv\"))"
   ]
  },
  {
   "cell_type": "code",
   "execution_count": 130,
   "metadata": {},
   "outputs": [
    {
     "data": {
      "text/plain": [
       "sender_employee_id\n",
       "GKL0006    135\n",
       "DMH0011    125\n",
       "LSL0001    108\n",
       "BOR2387     95\n",
       "WRW2331     92\n",
       "UMB0055     90\n",
       "SRS0129     90\n",
       "MJA2380     89\n",
       "BVC0009     84\n",
       "KAM0005     81\n",
       "Name: sender_employee_id, dtype: int64"
      ]
     },
     "execution_count": 130,
     "metadata": {},
     "output_type": "execute_result"
    }
   ],
   "source": [
    "df.groupby(\"employee_id\").sender_employee_id.count().sort_values(ascending = False).head(n = 10)"
   ]
  },
  {
   "cell_type": "code",
   "execution_count": 131,
   "metadata": {},
   "outputs": [
    {
     "data": {
      "text/plain": [
       "127"
      ]
     },
     "execution_count": 131,
     "metadata": {},
     "output_type": "execute_result"
    }
   ],
   "source": [
    "ddf.npartitions"
   ]
  },
  {
   "cell_type": "markdown",
   "metadata": {},
   "source": [
    "## What is the email attachment size?"
   ]
  },
  {
   "cell_type": "markdown",
   "metadata": {
    "extensions": {
     "jupyter_dashboards": {
      "version": 1,
      "views": {
       "grid_default": {
        "col": 8,
        "height": 4,
        "hidden": false,
        "row": 119,
        "width": 4
       },
       "report_default": {}
      }
     }
    }
   },
   "source": [
    "Let's visualize this data using `matplotlib` and `seaborn`. "
   ]
  },
  {
   "cell_type": "code",
   "execution_count": 115,
   "metadata": {
    "scrolled": true
   },
   "outputs": [
    {
     "data": {
      "text/html": [
       "<div>\n",
       "<style scoped>\n",
       "    .dataframe tbody tr th:only-of-type {\n",
       "        vertical-align: middle;\n",
       "    }\n",
       "\n",
       "    .dataframe tbody tr th {\n",
       "        vertical-align: top;\n",
       "    }\n",
       "\n",
       "    .dataframe thead th {\n",
       "        text-align: right;\n",
       "    }\n",
       "</style>\n",
       "<table border=\"1\" class=\"dataframe\">\n",
       "  <thead>\n",
       "    <tr style=\"text-align: right;\">\n",
       "      <th></th>\n",
       "      <th>timestamp</th>\n",
       "      <th>attachment_size</th>\n",
       "    </tr>\n",
       "  </thead>\n",
       "  <tbody>\n",
       "    <tr>\n",
       "      <th>0</th>\n",
       "      <td>2010-02-09</td>\n",
       "      <td>12.347690</td>\n",
       "    </tr>\n",
       "    <tr>\n",
       "      <th>1</th>\n",
       "      <td>2010-02-10</td>\n",
       "      <td>15.199721</td>\n",
       "    </tr>\n",
       "    <tr>\n",
       "      <th>2</th>\n",
       "      <td>2010-02-11</td>\n",
       "      <td>18.015744</td>\n",
       "    </tr>\n",
       "    <tr>\n",
       "      <th>3</th>\n",
       "      <td>2010-02-12</td>\n",
       "      <td>15.658219</td>\n",
       "    </tr>\n",
       "  </tbody>\n",
       "</table>\n",
       "</div>"
      ],
      "text/plain": [
       "   timestamp  attachment_size\n",
       "0 2010-02-09        12.347690\n",
       "1 2010-02-10        15.199721\n",
       "2 2010-02-11        18.015744\n",
       "3 2010-02-12        15.658219"
      ]
     },
     "execution_count": 115,
     "metadata": {},
     "output_type": "execute_result"
    },
    {
     "name": "stdout",
     "output_type": "stream",
     "text": [
      "<class 'pandas.core.frame.DataFrame'>\n",
      "RangeIndex: 4 entries, 0 to 3\n",
      "Data columns (total 2 columns):\n",
      "timestamp          4 non-null datetime64[ns]\n",
      "attachment_size    4 non-null float64\n",
      "dtypes: datetime64[ns](1), float64(1)\n",
      "memory usage: 144.0 bytes\n"
     ]
    }
   ],
   "source": [
    "df_insider = df[df[\"sender_employee_id\"].isin([\"CDE1846\", \"HDB1666\", \"LIM1718\"])]\n",
    "per_month = df_insider.resample(rule = \"1d\", on = \"timestamp\").sum().reset_index()\n",
    "per_month[\"timestamp\"] = pd.to_datetime(emails_per_month[\"timestamp\"], format = \"%Y-%m-%d\")\n",
    "per_month.attachment_size = emails_per_month.attachment_size\n",
    "per_month[\"timestamp\"] = emails_per_month[\"timestamp\"].apply(lambda x: x.strftime('%Y-%m-%d')).astype(\"datetime64[ns]\")\n",
    "per_month.head()\n",
    "per_month.info()"
   ]
  },
  {
   "cell_type": "code",
   "execution_count": 116,
   "metadata": {},
   "outputs": [
    {
     "data": {
      "application/vnd.jupyter.widget-view+json": {
       "model_id": "a5bb66ead9184bf6a9544fa26b02cead",
       "version_major": 2,
       "version_minor": 0
      },
      "text/plain": [
       "VBox(children=(Figure(animation_duration=5000, axes=[Axis(label='Days of the Year', scale=DateScale()), Axis(l…"
      ]
     },
     "metadata": {},
     "output_type": "display_data"
    }
   ],
   "source": [
    "date_fmt = \"%m-%d-%Y\"\n",
    "xs = DateScale(date_format = date_fmt)\n",
    "ys = LinearScale()\n",
    "x = per_month.timestamp\n",
    "y = per_month.attachment_size\n",
    "\n",
    "bar_chart = Bars(x = x, y = y, scales = {'x': xs, 'y': ys}, colors = [\"blue\"],\n",
    "            display_legend = True, labels = [\"Email\"])\n",
    "\n",
    "tt = Tooltip(fields = [\"x\", \"y\"], formats = [\"\", \"0.2f\"], labels = [\"Date\", \"Email Size\"])\n",
    "bar_chart.tooltip = tt\n",
    "bar_chart.selected_style = {\"fill\" : \"red\"}\n",
    "bar_chart.interactions = {\n",
    "    'legend_hover': 'highlight_axes',\n",
    "    'hover': 'tooltip', \n",
    "    'click': 'select',\n",
    "}\n",
    "\n",
    "x_ax = Axis(scale=xs, label='Days of the Year', grid_lines='solid')\n",
    "y_ax = Axis(scale=ys, orientation='vertical', tick_format='0.2f', label='Number of Emails', grid_lines='solid')\n",
    "\n",
    "\n",
    "panzoom = PanZoom(scales={'x': [xs], 'y': [ys]})\n",
    "\n",
    "fig1 = Figure(marks=[bar_chart], axes=[x_ax, y_ax], animation_duration=5000, layout = fig_layout, \n",
    "              background_style={'fill': 'aliceblue'}, \n",
    "              title = \"Number of Emails sent Daily\", legend_location = \"top-right\")\n",
    "    \n",
    "\n",
    "widgets.VBox([fig1])"
   ]
  },
  {
   "cell_type": "markdown",
   "metadata": {
    "extensions": {
     "jupyter_dashboards": {
      "version": 1,
      "views": {
       "grid_default": {
        "col": 0,
        "height": 4,
        "hidden": false,
        "row": 135,
        "width": 12
       },
       "report_default": {}
      }
     }
    }
   },
   "source": [
    "Now let's look at the case where the insider sent email IP from their employee account to their home account. Visualizing this data shows some interesting trends towards the end of the analysis period. The attachment size increases drastically in March and April of 2011."
   ]
  },
  {
   "cell_type": "code",
   "execution_count": 132,
   "metadata": {
    "extensions": {
     "jupyter_dashboards": {
      "version": 1,
      "views": {
       "grid_default": {
        "hidden": true
       },
       "report_default": {}
      }
     }
    }
   },
   "outputs": [],
   "source": [
    "df_insider_non_org = df_insider[~df_insider['to'].str.contains('dtaa.com')]\n",
    "df_insider_ewing = df_insider_non_org[df_insider_non_org['to'] == 'Ewing_Carlos@comcast.net']\n",
    "df1 = df_insider_ewing.resample('1d', on='timestamp').sum().reset_index()"
   ]
  },
  {
   "cell_type": "code",
   "execution_count": null,
   "metadata": {
    "extensions": {
     "jupyter_dashboards": {
      "version": 1,
      "views": {
       "grid_default": {
        "hidden": true
       },
       "report_default": {}
      }
     }
    }
   },
   "outputs": [],
   "source": [
    "df[\"ds\"] = df[\"ds\"].apply(lambda x: x.strftime('%Y-%m')).astype(str)"
   ]
  },
  {
   "cell_type": "code",
   "execution_count": null,
   "metadata": {
    "extensions": {
     "jupyter_dashboards": {
      "version": 1,
      "views": {
       "grid_default": {
        "col": 0,
        "height": 9,
        "hidden": false,
        "row": 139,
        "width": 4
       },
       "report_default": {}
      }
     }
    }
   },
   "outputs": [],
   "source": [
    "fig, ax = plt.subplots()\n",
    "sns.barplot(data = df, x = \"ds\", y = \"y\", color = \"blue\", saturation = .5)\n",
    "ax.set_xticklabels(labels = df.ds, rotation = 45)\n",
    "ax.set_xlabel('Time')\n",
    "ax.set_ylabel('Total size of emails in GB');"
   ]
  },
  {
   "cell_type": "code",
   "execution_count": null,
   "metadata": {},
   "outputs": [],
   "source": [
    "xs = LinearScale()\n",
    "ys = LinearScale()\n",
    "x = df.index\n",
    "y = df.attachment_size/1e6\n",
    "\n",
    "tt = Tooltip(fields = [\"index\", \"name\"], formats = [\"\", \"0.2f\"], labels = [\"User ID\", \"Email Size\"])\n",
    "\n",
    "scatter_chart = Scatter(x=x, y=y, scales={'x': xs, 'y': ys}, colors=['red'], \n",
    "            tooltip = tt, display_legend = False, labels = [\"email\"], interactions = {\"hover\" : \"tooltip\"})\n",
    "\n",
    "x_ax = Axis(scale=xs, label='x', grid_lines='solid')\n",
    "y_ax = Axis(scale=ys, orientation='vertical', tick_format='0.2f', \n",
    "            label='Email attachment size (GB)', grid_lines='solid')\n",
    "\n",
    "# panzoom = PanZoom(scales={'x': [xs], 'y': [ys]})\n",
    "Figure(marks=[scatter_chart], axes=[x_ax, y_ax], animation_duration=1000, \n",
    "      title = \"Email attachment size\")"
   ]
  },
  {
   "cell_type": "markdown",
   "metadata": {},
   "source": [
    "## What is the email frequency?\n"
   ]
  },
  {
   "cell_type": "code",
   "execution_count": null,
   "metadata": {},
   "outputs": [],
   "source": [
    "xs = DateScale()\n",
    "ys = LinearScale()\n",
    "x = emails_per_month.timestamp\n",
    "y = emails_per_month.attachment_size/1e6\n",
    "\n",
    "bar_chart = Bars(x=x, y=y, scales={'x': xs, 'y': ys}, colors=['red'], \n",
    "            tooltip = tt, display_legend = False, labels = [\"email\"], interactions = {\"hover\" : \"tooltip\"})\n",
    "\n",
    "x_ax = Axis(scale=xs, label='Months of the Year', tick_format='%b-%d', grid_lines='solid')\n",
    "y_ax = Axis(scale=ys, orientation='vertical', tick_format='0.2f', \n",
    "            label='Number of Emails', grid_lines='solid')\n",
    "\n",
    "# tt = Tooltip(fields = [\"index\", \"name\"], formats = [\"\", \"0.2f\"], labels = [\"User ID\", \"Email Size\"])\n",
    "# panzoom = PanZoom(scales={'x': [xs], 'y': [ys]})\n",
    "\n",
    "Figure(marks=[bar_chart], axes=[x_ax, y_ax], animation_duration=1000, \n",
    "      title = \"Number of Emails sent Monthly\")"
   ]
  }
 ],
 "metadata": {
  "kernelspec": {
   "display_name": "Python 3",
   "language": "python",
   "name": "python3"
  },
  "language_info": {
   "codemirror_mode": {
    "name": "ipython",
    "version": 3
   },
   "file_extension": ".py",
   "mimetype": "text/x-python",
   "name": "python",
   "nbconvert_exporter": "python",
   "pygments_lexer": "ipython3",
   "version": "3.6.3"
  },
  "toc": {
   "nav_menu": {},
   "number_sections": true,
   "sideBar": true,
   "skip_h1_title": false,
   "title_cell": "Table of Contents",
   "title_sidebar": "Contents",
   "toc_cell": false,
   "toc_position": {
    "height": "calc(100% - 180px)",
    "left": "10px",
    "top": "150px",
    "width": "233px"
   },
   "toc_section_display": true,
   "toc_window_display": true
  }
 },
 "nbformat": 4,
 "nbformat_minor": 2
}
