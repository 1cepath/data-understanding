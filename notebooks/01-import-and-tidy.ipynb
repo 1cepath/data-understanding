{
 "cells": [
  {
   "cell_type": "code",
   "execution_count": 96,
   "metadata": {},
   "outputs": [
    {
     "data": {
      "text/html": [
       "<script>\n",
       "code_show=true; \n",
       "function code_toggle() {\n",
       " if (code_show){\n",
       " $('div.input').hide();\n",
       " } else {\n",
       " $('div.input').show();\n",
       " }\n",
       " code_show = !code_show\n",
       "} \n",
       "$( document ).ready(code_toggle);\n",
       "</script>\n",
       "The raw code for this IPython notebook is by default hidden for easier reading.\n",
       "To toggle on/off the raw code, click <a href=\"javascript:code_toggle()\">here</a>."
      ],
      "text/plain": [
       "<IPython.core.display.HTML object>"
      ]
     },
     "execution_count": 96,
     "metadata": {},
     "output_type": "execute_result"
    }
   ],
   "source": [
    "\n",
    "from IPython.display import HTML\n",
    "HTML('''<script>\n",
    "code_show=true; \n",
    "function code_toggle() {\n",
    " if (code_show){\n",
    " $('div.input').hide();\n",
    " } else {\n",
    " $('div.input').show();\n",
    " }\n",
    " code_show = !code_show\n",
    "} \n",
    "$( document ).ready(code_toggle);\n",
    "</script>\n",
    "The raw code for this IPython notebook is by default hidden for easier reading.\n",
    "To toggle on/off the raw code, click <a href=\"javascript:code_toggle()\">here</a>.''')"
   ]
  },
  {
   "cell_type": "markdown",
   "metadata": {
    "extensions": {
     "jupyter_dashboards": {
      "version": 1,
      "views": {
       "grid_default": {
        "col": 0,
        "height": 5,
        "hidden": false,
        "row": 0,
        "width": 12
       },
       "report_default": {}
      }
     }
    }
   },
   "source": [
    "# Import and Tidy \n",
    "---------------------------------------------------------------------------------------------------"
   ]
  },
  {
   "cell_type": "markdown",
   "metadata": {
    "extensions": {
     "jupyter_dashboards": {
      "version": 1,
      "views": {
       "grid_default": {
        "col": 0,
        "height": 88,
        "hidden": false,
        "row": 5,
        "width": null
       },
       "report_default": {}
      }
     }
    }
   },
   "source": [
    "The purpose of this notebook is to import data from provided data sources and transform it into the Haystax's standard format. This involves cleaning, and tidying resulting in tidy data that has a consistent format and can be used for exploratory data analysis."
   ]
  },
  {
   "cell_type": "markdown",
   "metadata": {
    "extensions": {
     "jupyter_dashboards": {
      "version": 1,
      "views": {
       "grid_default": {
        "col": 0,
        "height": 4,
        "hidden": false,
        "row": 97,
        "width": 12
       },
       "report_default": {}
      }
     }
    }
   },
   "source": [
    "## The setup\n",
    "Let's first install some packages (python and R) that we shall use for our analysis. We shall also set up our plotting requirements."
   ]
  },
  {
   "cell_type": "code",
   "execution_count": 1,
   "metadata": {
    "extensions": {
     "jupyter_dashboards": {
      "version": 1,
      "views": {
       "grid_default": {
        "hidden": true
       },
       "report_default": {}
      }
     }
    }
   },
   "outputs": [],
   "source": [
    "%matplotlib inline\n",
    "import numpy as np\n",
    "import pandas as pd\n",
    "import dask.dataframe as dd\n",
    "import seaborn as sns\n",
    "import matplotlib.pyplot as plt\n",
    "sns.set_context('notebook', font_scale = 1.1)\n",
    "np.random.seed(12345)\n",
    "rc = {'xtick.labelsize': 40, 'ytick.labelsize': 40, 'axes.labelsize': 40, 'font.size': 40, 'lines.linewidth': 4.0, \n",
    "      'lines.markersize': 40, 'font.family': \"serif\", 'font.serif': \"cm\", 'savefig.dpi': 200,\n",
    "      'text.usetex': False, 'legend.fontsize': 40.0, 'axes.titlesize': 40, \"figure.figsize\": [24, 16]}\n",
    "sns.set(rc = rc)\n",
    "sns.set_style(\"darkgrid\")\n",
    "from IPython.core.interactiveshell import InteractiveShell\n",
    "InteractiveShell.ast_node_interactivity = \"all\"\n",
    "import os"
   ]
  },
  {
   "cell_type": "markdown",
   "metadata": {
    "extensions": {
     "jupyter_dashboards": {
      "version": 1,
      "views": {
       "grid_default": {
        "col": 0,
        "height": 4,
        "hidden": false,
        "row": 93,
        "width": 4
       },
       "report_default": {}
      }
     }
    }
   },
   "source": [
    "## Import"
   ]
  },
  {
   "cell_type": "markdown",
   "metadata": {
    "extensions": {
     "jupyter_dashboards": {
      "version": 1,
      "views": {
       "grid_default": {
        "col": 0,
        "height": 6,
        "hidden": false,
        "row": 101,
        "width": 12
       },
       "report_default": {}
      }
     }
    }
   },
   "source": [
    "Import data from the provided data sources such as:\n",
    "* Flat files e.g csv, json, text files\n",
    "* Databases e.g NoSQL (MongoDB), RDBMS (MS SQL)\n",
    "* Distributed File Systems e.g. Hadoop,\n",
    "* etc.\n",
    "\n",
    "The `pydata` stack provides several packages to read data these data sources. We shall implement these with each clients requirements."
   ]
  },
  {
   "cell_type": "code",
   "execution_count": 7,
   "metadata": {},
   "outputs": [],
   "source": [
    "# # configure working environment\n",
    "# working_dir = \"/Users/demaasit/OneDrive - Haystax Technology/data-understanding/notebooks\"\n",
    "# data_dir  = \"../data\""
   ]
  },
  {
   "cell_type": "markdown",
   "metadata": {},
   "source": [
    "### Import flat files"
   ]
  },
  {
   "cell_type": "markdown",
   "metadata": {},
   "source": [
    "If the data is a flat file, let's read in the data using `dask`."
   ]
  },
  {
   "cell_type": "code",
   "execution_count": 58,
   "metadata": {
    "extensions": {
     "jupyter_dashboards": {
      "version": 1,
      "views": {
       "grid_default": {
        "col": 0,
        "height": 12,
        "hidden": false,
        "row": 107,
        "width": 12
       },
       "report_default": {}
      }
     }
    }
   },
   "outputs": [],
   "source": [
    "# for csv files\n",
    "dask_df = dd.read_csv(\"/Volumes/Samsung_T3/cert/r6.2/email.csv\", parse_dates=[\"date\"])"
   ]
  },
  {
   "cell_type": "markdown",
   "metadata": {},
   "source": [
    "## Tidy"
   ]
  },
  {
   "cell_type": "markdown",
   "metadata": {
    "extensions": {
     "jupyter_dashboards": {
      "version": 1,
      "views": {
       "grid_default": {
        "col": 8,
        "height": 4,
        "hidden": false,
        "row": 93,
        "width": 4
       },
       "report_default": {}
      }
     }
    }
   },
   "source": [
    "Let's clean the data and tidy it into a constient semantic."
   ]
  },
  {
   "cell_type": "markdown",
   "metadata": {},
   "source": [
    "Let's view the first three records and the structure of the resulting `pandas` dataframe."
   ]
  },
  {
   "cell_type": "code",
   "execution_count": 70,
   "metadata": {},
   "outputs": [
    {
     "data": {
      "text/html": [
       "<div>\n",
       "<style>\n",
       "    .dataframe thead tr:only-child th {\n",
       "        text-align: right;\n",
       "    }\n",
       "\n",
       "    .dataframe thead th {\n",
       "        text-align: left;\n",
       "    }\n",
       "\n",
       "    .dataframe tbody tr th {\n",
       "        vertical-align: top;\n",
       "    }\n",
       "</style>\n",
       "<table border=\"1\" class=\"dataframe\">\n",
       "  <thead>\n",
       "    <tr style=\"text-align: right;\">\n",
       "      <th></th>\n",
       "      <th>id</th>\n",
       "      <th>date</th>\n",
       "      <th>user</th>\n",
       "      <th>pc</th>\n",
       "      <th>to</th>\n",
       "      <th>cc</th>\n",
       "      <th>bcc</th>\n",
       "      <th>from</th>\n",
       "      <th>activity</th>\n",
       "      <th>size</th>\n",
       "      <th>attachments</th>\n",
       "      <th>content</th>\n",
       "      <th>subject</th>\n",
       "      <th>file_date</th>\n",
       "    </tr>\n",
       "  </thead>\n",
       "  <tbody>\n",
       "    <tr>\n",
       "      <th>0</th>\n",
       "      <td>{I1O2-B4EB49RW-7379WSQW}</td>\n",
       "      <td>2010-01-02 06:36:41</td>\n",
       "      <td>HDB1666</td>\n",
       "      <td>PC-6793</td>\n",
       "      <td>Louis.Bernard.Garza@dtaa.com</td>\n",
       "      <td>Emery.Ali.Holloway@dtaa.com</td>\n",
       "      <td>Hector.Donovan.Bray@dtaa.com</td>\n",
       "      <td>Hector.Donovan.Bray@dtaa.com</td>\n",
       "      <td>Send</td>\n",
       "      <td>45659</td>\n",
       "      <td>NaN</td>\n",
       "      <td>Now Sylvia, the object of Aminta's desire, arr...</td>\n",
       "      <td>NA</td>\n",
       "      <td>NA</td>\n",
       "    </tr>\n",
       "  </tbody>\n",
       "</table>\n",
       "</div>"
      ],
      "text/plain": [
       "                         id                date     user       pc  \\\n",
       "0  {I1O2-B4EB49RW-7379WSQW} 2010-01-02 06:36:41  HDB1666  PC-6793   \n",
       "\n",
       "                             to                           cc  \\\n",
       "0  Louis.Bernard.Garza@dtaa.com  Emery.Ali.Holloway@dtaa.com   \n",
       "\n",
       "                            bcc                          from activity   size  \\\n",
       "0  Hector.Donovan.Bray@dtaa.com  Hector.Donovan.Bray@dtaa.com     Send  45659   \n",
       "\n",
       "  attachments                                            content subject  \\\n",
       "0         NaN  Now Sylvia, the object of Aminta's desire, arr...      NA   \n",
       "\n",
       "  file_date  \n",
       "0        NA  "
      ]
     },
     "execution_count": 70,
     "metadata": {},
     "output_type": "execute_result"
    }
   ],
   "source": [
    "df = dask_df.head(n = 1)\n",
    "df"
   ]
  },
  {
   "cell_type": "markdown",
   "metadata": {
    "extensions": {
     "jupyter_dashboards": {
      "version": 1,
      "views": {
       "grid_default": {
        "col": 4,
        "height": 4,
        "hidden": false,
        "row": 93,
        "width": 4
       },
       "report_default": {}
      }
     }
    }
   },
   "source": [
    "Our `pandas` dataframe comprises columns that we are interested in such as \"user\" (username), \"date\", \"to\" (the recipient email address) and \"size\" (attachment size) of emails."
   ]
  },
  {
   "cell_type": "code",
   "execution_count": 52,
   "metadata": {},
   "outputs": [
    {
     "name": "stdout",
     "output_type": "stream",
     "text": [
      "<class 'pandas.core.frame.DataFrame'>\n",
      "RangeIndex: 10 entries, 0 to 9\n",
      "Data columns (total 12 columns):\n",
      "id             10 non-null object\n",
      "date           10 non-null datetime64[ns]\n",
      "user           10 non-null object\n",
      "pc             10 non-null object\n",
      "to             10 non-null object\n",
      "cc             4 non-null object\n",
      "bcc            2 non-null object\n",
      "from           10 non-null object\n",
      "activity       10 non-null object\n",
      "size           10 non-null int64\n",
      "attachments    3 non-null object\n",
      "content        10 non-null object\n",
      "dtypes: datetime64[ns](1), int64(1), object(10)\n",
      "memory usage: 1.0+ KB\n"
     ]
    }
   ],
   "source": [
    "df.info()"
   ]
  },
  {
   "cell_type": "code",
   "execution_count": 87,
   "metadata": {},
   "outputs": [],
   "source": [
    "def standardize_columns(df, working_dir):\n",
    "    \n",
    "    required_columns = [\"record_id\", \"sender_employee_id\", \"sender_username\", \n",
    "                        \"subject\", \"timestamp\", \"number_of_attachments\", \"attachment_size\", \"email_text\", \"file_date\"]\n",
    "\n",
    "    df = df.rename(columns = {\"id\" : \"record_id\",\n",
    "                        \"user\" : \"sender_employee_id\",\n",
    "                        \"from\" : \"sender_username\",\n",
    "                        \"date\" : \"timestamp\",\n",
    "                         \"attachments\" : \"number_of_attachments\",\n",
    "                        \"size\" : \"attachment_size\", \n",
    "                        \"content\": \"email_text\"\n",
    "                        })\n",
    "\n",
    "    df[\"subject\"] = \"NA\"\n",
    "    df[\"file_date\"] = \"NA\"\n",
    "    df = df[required_columns]\n",
    "    df.to_parquet(path = working_dir)"
   ]
  },
  {
   "cell_type": "code",
   "execution_count": 99,
   "metadata": {},
   "outputs": [],
   "source": [
    "standardize_columns(df = dask_df, working_dir = \"/Volumes/Samsung_T3/cert/standardized/email/\")"
   ]
  },
  {
   "cell_type": "code",
   "execution_count": 97,
   "metadata": {},
   "outputs": [
    {
     "name": "stdout",
     "output_type": "stream",
     "text": [
      "<class 'dask.dataframe.core.DataFrame'>\n",
      "Columns: 9 entries, record_id to file_date\n",
      "dtypes: datetime64[ns](1), object(7), int64(1)"
     ]
    }
   ],
   "source": [
    "df.info()"
   ]
  },
  {
   "cell_type": "code",
   "execution_count": 98,
   "metadata": {},
   "outputs": [],
   "source": [
    "# # save the clean data to the files 'email.pkl' for later use\n",
    "# import pickle\n",
    "# with open('/Volumes/Samsung_T3/cert/r6.2/email.pkl', 'wb') as eml:\n",
    "#     pickle.dump(df, eml, protocol = pickle.HIGHEST_PROTOCOL)"
   ]
  },
  {
   "cell_type": "markdown",
   "metadata": {
    "extensions": {
     "jupyter_dashboards": {
      "version": 1,
      "views": {
       "grid_default": {
        "col": 0,
        "height": 7,
        "hidden": false,
        "row": 209,
        "width": 12
       },
       "report_default": {}
      }
     }
    }
   },
   "source": [
    "## Final thoughts\n",
    "\n",
    "This study proposed a Bayesian nonparametric framework to capture implicitly hidden structure in time-series having limited data. The proposed framework, a Gaussian process with a spectral mixture kernel, was applied to time-series process for insider-threat data. The proposed framework addresses two current challenges when analyzing quite noisy time-series having limited data whereby the time series are visualized for noticeable structure such as periodicity, growing or decreasing trends and hard coding them into pre-specified functional forms. Experiments demonstrated that results from this framework outperform traditional ARIMA when the time series does not have easily noticeable structure and is quite noisy. Future work will involve evaluating the proposed framework on other different types of insider-threat behavior."
   ]
  },
  {
   "cell_type": "markdown",
   "metadata": {
    "extensions": {
     "jupyter_dashboards": {
      "version": 1,
      "views": {
       "grid_default": {
        "col": 8,
        "height": 4,
        "hidden": false,
        "row": 174,
        "width": 4
       },
       "report_default": {}
      }
     }
    }
   },
   "source": [
    "## Computing Environment"
   ]
  },
  {
   "cell_type": "markdown",
   "metadata": {},
   "source": [
    "The following computing environment was used to generate the above analysis."
   ]
  },
  {
   "cell_type": "code",
   "execution_count": 1,
   "metadata": {
    "extensions": {
     "jupyter_dashboards": {
      "version": 1,
      "views": {
       "grid_default": {
        "col": 4,
        "height": 13,
        "hidden": false,
        "row": 175,
        "width": 4
       },
       "report_default": {}
      }
     }
    }
   },
   "outputs": [
    {
     "name": "stdout",
     "output_type": "stream",
     "text": [
      "CPython 3.6.3\n",
      "IPython 6.2.1\n",
      "\n",
      "numpy 1.13.3\n",
      "pandas 0.20.3\n",
      "matplotlib 2.1.1\n",
      "ipywidgets 7.1.1\n",
      "seaborn 0.8.1\n",
      "\n",
      "compiler   : GCC 4.2.1 Compatible Clang 4.0.1 (tags/RELEASE_401/final)\n",
      "system     : Darwin\n",
      "release    : 17.4.0\n",
      "machine    : x86_64\n",
      "processor  : i386\n",
      "CPU cores  : 8\n",
      "interpreter: 64bit\n",
      "Git hash   : HEAD\n"
     ]
    }
   ],
   "source": [
    "# print system information/setup\n",
    "%reload_ext watermark\n",
    "%watermark -v -m -p numpy,pandas,matplotlib,ipywidgets,seaborn -g"
   ]
  },
  {
   "cell_type": "code",
   "execution_count": 6,
   "metadata": {},
   "outputs": [
    {
     "data": {
      "text/plain": [
       "environ({'TERM_PROGRAM': 'Apple_Terminal', 'TERM': 'xterm-color', 'SHELL': '/bin/bash', 'TMPDIR': '/var/folders/qj/3d11_lpd27s421vdc81vz5d80000gp/T/', 'Apple_PubSub_Socket_Render': '/private/tmp/com.apple.launchd.94vaE2ndti/Render', 'TERM_PROGRAM_VERSION': '400', 'TERM_SESSION_ID': '1E21BE59-1C50-4E39-B8F6-D27F01C08D6E', 'USER': 'demaasit', 'SSH_AUTH_SOCK': '/private/tmp/com.apple.launchd.6aZlqzp24L/Listeners', '__CF_USER_TEXT_ENCODING': '0x1F6:0x0:0x0', 'PATH': '/Users/demaasit/anaconda3/bin:/Library/Frameworks/Python.framework/Versions/2.7/bin:/Users/demaasit/anaconda3/bin:/usr/local/bin:/usr/bin:/bin:/usr/sbin:/sbin:/opt/X11/bin:/usr/local/sbin', 'PWD': '/Users/demaasit/OneDrive - Haystax Technology/data-understanding', 'LANG': 'en_US.UTF-8', 'XPC_FLAGS': '0x0', 'XPC_SERVICE_NAME': '0', 'HOME': '/Users/demaasit', 'SHLVL': '2', 'LOGNAME': 'demaasit', 'DISPLAY': '/private/tmp/com.apple.launchd.WK7OdQsxuO/org.macosforge.xquartz:0', '_': '/Users/demaasit/anaconda3/python.app/Contents/MacOS/python', 'JPY_PARENT_PID': '1853', 'CLICOLOR': '1', 'PAGER': 'cat', 'GIT_PAGER': 'cat', 'MPLBACKEND': 'module://ipykernel.pylab.backend_inline'})"
      ]
     },
     "execution_count": 6,
     "metadata": {},
     "output_type": "execute_result"
    }
   ],
   "source": [
    "os.environ"
   ]
  }
 ],
 "metadata": {
  "extensions": {
   "jupyter_dashboards": {
    "activeView": "grid_default",
    "version": 1,
    "views": {
     "grid_default": {
      "cellMargin": 10,
      "defaultCellHeight": 20,
      "maxColumns": 12,
      "name": "grid",
      "type": "grid"
     },
     "report_default": {
      "name": "report",
      "type": "report"
     }
    }
   }
  },
  "kernelspec": {
   "display_name": "Python 3",
   "language": "python",
   "name": "python3"
  },
  "language_info": {
   "codemirror_mode": {
    "name": "ipython",
    "version": 3
   },
   "file_extension": ".py",
   "mimetype": "text/x-python",
   "name": "python",
   "nbconvert_exporter": "python",
   "pygments_lexer": "ipython3",
   "version": "3.6.3"
  }
 },
 "nbformat": 4,
 "nbformat_minor": 2
}
